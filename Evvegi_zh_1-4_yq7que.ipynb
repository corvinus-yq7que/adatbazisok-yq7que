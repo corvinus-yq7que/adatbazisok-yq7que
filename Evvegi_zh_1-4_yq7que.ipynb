{
    "metadata": {
        "kernelspec": {
            "name": "SQL",
            "display_name": "SQL",
            "language": "sql"
        },
        "language_info": {
            "name": "sql",
            "version": ""
        }
    },
    "nbformat_minor": 2,
    "nbformat": 4,
    "cells": [
        {
            "cell_type": "markdown",
            "source": [
                "1\\. Jelenítsük meg minden egyes szoba esetén, hogy hányszor foglalták le!\n",
                "\n",
                "- Csak a szoba azonosítója és a foglalások darabszáma jelenjen meg\n",
                "- Azok a szobák is jelenjenek meg, ahol nem történt foglalás"
            ],
            "metadata": {
                "azdata_cell_guid": "44eb220d-9936-49fd-9e17-9558ea0663a3"
            },
            "attachments": {}
        },
        {
            "cell_type": "code",
            "source": [
                "SELECT s.szoba_id,\r\n",
                "count(f.FOGLALAS_PK) as Foglalasok_szama\r\n",
                "from Szoba s left join Foglalas f on s.SZOBA_ID = f.SZOBA_FK\r\n",
                "GROUP BY s.SZOBA_ID;"
            ],
            "metadata": {
                "azdata_cell_guid": "05dcb352-0e5f-4f9c-b73c-6e459b853ed3",
                "language": "sql",
                "tags": []
            },
            "outputs": [
                {
                    "output_type": "display_data",
                    "data": {
                        "text/html": "(294 rows affected)"
                    },
                    "metadata": {}
                },
                {
                    "output_type": "display_data",
                    "data": {
                        "text/html": "Total execution time: 00:00:00.047"
                    },
                    "metadata": {}
                },
                {
                    "output_type": "execute_result",
                    "metadata": {},
                    "execution_count": 1,
                    "data": {
                        "application/vnd.dataresource+json": {
                            "schema": {
                                "fields": [
                                    {
                                        "name": "szoba_id"
                                    },
                                    {
                                        "name": "Foglalasok_szama"
                                    }
                                ]
                            },
                            "data": [
                                {
                                    "szoba_id": "1",
                                    "Foglalasok_szama": "8"
                                },
                                {
                                    "szoba_id": "2",
                                    "Foglalasok_szama": "4"
                                },
                                {
                                    "szoba_id": "3",
                                    "Foglalasok_szama": "8"
                                },
                                {
                                    "szoba_id": "4",
                                    "Foglalasok_szama": "6"
                                },
                                {
                                    "szoba_id": "5",
                                    "Foglalasok_szama": "4"
                                },
                                {
                                    "szoba_id": "6",
                                    "Foglalasok_szama": "6"
                                },
                                {
                                    "szoba_id": "7",
                                    "Foglalasok_szama": "6"
                                },
                                {
                                    "szoba_id": "8",
                                    "Foglalasok_szama": "5"
                                },
                                {
                                    "szoba_id": "9",
                                    "Foglalasok_szama": "6"
                                },
                                {
                                    "szoba_id": "10",
                                    "Foglalasok_szama": "4"
                                },
                                {
                                    "szoba_id": "11",
                                    "Foglalasok_szama": "4"
                                },
                                {
                                    "szoba_id": "12",
                                    "Foglalasok_szama": "9"
                                },
                                {
                                    "szoba_id": "13",
                                    "Foglalasok_szama": "4"
                                },
                                {
                                    "szoba_id": "14",
                                    "Foglalasok_szama": "3"
                                },
                                {
                                    "szoba_id": "15",
                                    "Foglalasok_szama": "6"
                                },
                                {
                                    "szoba_id": "16",
                                    "Foglalasok_szama": "5"
                                },
                                {
                                    "szoba_id": "17",
                                    "Foglalasok_szama": "6"
                                },
                                {
                                    "szoba_id": "18",
                                    "Foglalasok_szama": "6"
                                },
                                {
                                    "szoba_id": "19",
                                    "Foglalasok_szama": "6"
                                },
                                {
                                    "szoba_id": "20",
                                    "Foglalasok_szama": "5"
                                },
                                {
                                    "szoba_id": "21",
                                    "Foglalasok_szama": "4"
                                },
                                {
                                    "szoba_id": "22",
                                    "Foglalasok_szama": "6"
                                },
                                {
                                    "szoba_id": "23",
                                    "Foglalasok_szama": "3"
                                },
                                {
                                    "szoba_id": "24",
                                    "Foglalasok_szama": "3"
                                },
                                {
                                    "szoba_id": "25",
                                    "Foglalasok_szama": "2"
                                },
                                {
                                    "szoba_id": "26",
                                    "Foglalasok_szama": "2"
                                },
                                {
                                    "szoba_id": "27",
                                    "Foglalasok_szama": "7"
                                },
                                {
                                    "szoba_id": "28",
                                    "Foglalasok_szama": "6"
                                },
                                {
                                    "szoba_id": "29",
                                    "Foglalasok_szama": "6"
                                },
                                {
                                    "szoba_id": "30",
                                    "Foglalasok_szama": "3"
                                },
                                {
                                    "szoba_id": "31",
                                    "Foglalasok_szama": "3"
                                },
                                {
                                    "szoba_id": "32",
                                    "Foglalasok_szama": "1"
                                },
                                {
                                    "szoba_id": "33",
                                    "Foglalasok_szama": "6"
                                },
                                {
                                    "szoba_id": "34",
                                    "Foglalasok_szama": "4"
                                },
                                {
                                    "szoba_id": "35",
                                    "Foglalasok_szama": "9"
                                },
                                {
                                    "szoba_id": "36",
                                    "Foglalasok_szama": "6"
                                },
                                {
                                    "szoba_id": "37",
                                    "Foglalasok_szama": "3"
                                },
                                {
                                    "szoba_id": "38",
                                    "Foglalasok_szama": "8"
                                },
                                {
                                    "szoba_id": "39",
                                    "Foglalasok_szama": "7"
                                },
                                {
                                    "szoba_id": "40",
                                    "Foglalasok_szama": "4"
                                },
                                {
                                    "szoba_id": "41",
                                    "Foglalasok_szama": "2"
                                },
                                {
                                    "szoba_id": "42",
                                    "Foglalasok_szama": "6"
                                },
                                {
                                    "szoba_id": "43",
                                    "Foglalasok_szama": "8"
                                },
                                {
                                    "szoba_id": "44",
                                    "Foglalasok_szama": "6"
                                },
                                {
                                    "szoba_id": "45",
                                    "Foglalasok_szama": "5"
                                },
                                {
                                    "szoba_id": "46",
                                    "Foglalasok_szama": "4"
                                },
                                {
                                    "szoba_id": "47",
                                    "Foglalasok_szama": "2"
                                },
                                {
                                    "szoba_id": "48",
                                    "Foglalasok_szama": "9"
                                },
                                {
                                    "szoba_id": "49",
                                    "Foglalasok_szama": "7"
                                },
                                {
                                    "szoba_id": "50",
                                    "Foglalasok_szama": "4"
                                },
                                {
                                    "szoba_id": "51",
                                    "Foglalasok_szama": "5"
                                },
                                {
                                    "szoba_id": "52",
                                    "Foglalasok_szama": "5"
                                },
                                {
                                    "szoba_id": "53",
                                    "Foglalasok_szama": "2"
                                },
                                {
                                    "szoba_id": "54",
                                    "Foglalasok_szama": "6"
                                },
                                {
                                    "szoba_id": "55",
                                    "Foglalasok_szama": "8"
                                },
                                {
                                    "szoba_id": "56",
                                    "Foglalasok_szama": "2"
                                },
                                {
                                    "szoba_id": "57",
                                    "Foglalasok_szama": "4"
                                },
                                {
                                    "szoba_id": "58",
                                    "Foglalasok_szama": "13"
                                },
                                {
                                    "szoba_id": "59",
                                    "Foglalasok_szama": "7"
                                },
                                {
                                    "szoba_id": "60",
                                    "Foglalasok_szama": "1"
                                },
                                {
                                    "szoba_id": "61",
                                    "Foglalasok_szama": "5"
                                },
                                {
                                    "szoba_id": "62",
                                    "Foglalasok_szama": "5"
                                },
                                {
                                    "szoba_id": "63",
                                    "Foglalasok_szama": "4"
                                },
                                {
                                    "szoba_id": "64",
                                    "Foglalasok_szama": "6"
                                },
                                {
                                    "szoba_id": "65",
                                    "Foglalasok_szama": "1"
                                },
                                {
                                    "szoba_id": "66",
                                    "Foglalasok_szama": "4"
                                },
                                {
                                    "szoba_id": "67",
                                    "Foglalasok_szama": "6"
                                },
                                {
                                    "szoba_id": "68",
                                    "Foglalasok_szama": "3"
                                },
                                {
                                    "szoba_id": "69",
                                    "Foglalasok_szama": "4"
                                },
                                {
                                    "szoba_id": "70",
                                    "Foglalasok_szama": "11"
                                },
                                {
                                    "szoba_id": "71",
                                    "Foglalasok_szama": "3"
                                },
                                {
                                    "szoba_id": "72",
                                    "Foglalasok_szama": "4"
                                },
                                {
                                    "szoba_id": "73",
                                    "Foglalasok_szama": "4"
                                },
                                {
                                    "szoba_id": "74",
                                    "Foglalasok_szama": "9"
                                },
                                {
                                    "szoba_id": "75",
                                    "Foglalasok_szama": "3"
                                },
                                {
                                    "szoba_id": "76",
                                    "Foglalasok_szama": "3"
                                },
                                {
                                    "szoba_id": "77",
                                    "Foglalasok_szama": "6"
                                },
                                {
                                    "szoba_id": "78",
                                    "Foglalasok_szama": "6"
                                },
                                {
                                    "szoba_id": "79",
                                    "Foglalasok_szama": "5"
                                },
                                {
                                    "szoba_id": "80",
                                    "Foglalasok_szama": "7"
                                },
                                {
                                    "szoba_id": "81",
                                    "Foglalasok_szama": "5"
                                },
                                {
                                    "szoba_id": "82",
                                    "Foglalasok_szama": "6"
                                },
                                {
                                    "szoba_id": "83",
                                    "Foglalasok_szama": "8"
                                },
                                {
                                    "szoba_id": "84",
                                    "Foglalasok_szama": "4"
                                },
                                {
                                    "szoba_id": "85",
                                    "Foglalasok_szama": "4"
                                },
                                {
                                    "szoba_id": "86",
                                    "Foglalasok_szama": "5"
                                },
                                {
                                    "szoba_id": "87",
                                    "Foglalasok_szama": "5"
                                },
                                {
                                    "szoba_id": "88",
                                    "Foglalasok_szama": "8"
                                },
                                {
                                    "szoba_id": "89",
                                    "Foglalasok_szama": "8"
                                },
                                {
                                    "szoba_id": "90",
                                    "Foglalasok_szama": "4"
                                },
                                {
                                    "szoba_id": "91",
                                    "Foglalasok_szama": "4"
                                },
                                {
                                    "szoba_id": "92",
                                    "Foglalasok_szama": "6"
                                },
                                {
                                    "szoba_id": "93",
                                    "Foglalasok_szama": "5"
                                },
                                {
                                    "szoba_id": "94",
                                    "Foglalasok_szama": "10"
                                },
                                {
                                    "szoba_id": "95",
                                    "Foglalasok_szama": "4"
                                },
                                {
                                    "szoba_id": "96",
                                    "Foglalasok_szama": "7"
                                },
                                {
                                    "szoba_id": "97",
                                    "Foglalasok_szama": "7"
                                },
                                {
                                    "szoba_id": "98",
                                    "Foglalasok_szama": "4"
                                },
                                {
                                    "szoba_id": "99",
                                    "Foglalasok_szama": "5"
                                },
                                {
                                    "szoba_id": "100",
                                    "Foglalasok_szama": "4"
                                },
                                {
                                    "szoba_id": "101",
                                    "Foglalasok_szama": "3"
                                },
                                {
                                    "szoba_id": "102",
                                    "Foglalasok_szama": "2"
                                },
                                {
                                    "szoba_id": "103",
                                    "Foglalasok_szama": "4"
                                },
                                {
                                    "szoba_id": "104",
                                    "Foglalasok_szama": "4"
                                },
                                {
                                    "szoba_id": "105",
                                    "Foglalasok_szama": "2"
                                },
                                {
                                    "szoba_id": "106",
                                    "Foglalasok_szama": "6"
                                },
                                {
                                    "szoba_id": "107",
                                    "Foglalasok_szama": "5"
                                },
                                {
                                    "szoba_id": "108",
                                    "Foglalasok_szama": "2"
                                },
                                {
                                    "szoba_id": "109",
                                    "Foglalasok_szama": "7"
                                },
                                {
                                    "szoba_id": "110",
                                    "Foglalasok_szama": "8"
                                },
                                {
                                    "szoba_id": "111",
                                    "Foglalasok_szama": "5"
                                },
                                {
                                    "szoba_id": "112",
                                    "Foglalasok_szama": "5"
                                },
                                {
                                    "szoba_id": "113",
                                    "Foglalasok_szama": "5"
                                },
                                {
                                    "szoba_id": "114",
                                    "Foglalasok_szama": "4"
                                },
                                {
                                    "szoba_id": "115",
                                    "Foglalasok_szama": "7"
                                },
                                {
                                    "szoba_id": "116",
                                    "Foglalasok_szama": "2"
                                },
                                {
                                    "szoba_id": "117",
                                    "Foglalasok_szama": "8"
                                },
                                {
                                    "szoba_id": "118",
                                    "Foglalasok_szama": "7"
                                },
                                {
                                    "szoba_id": "119",
                                    "Foglalasok_szama": "5"
                                },
                                {
                                    "szoba_id": "120",
                                    "Foglalasok_szama": "6"
                                },
                                {
                                    "szoba_id": "121",
                                    "Foglalasok_szama": "8"
                                },
                                {
                                    "szoba_id": "122",
                                    "Foglalasok_szama": "9"
                                },
                                {
                                    "szoba_id": "123",
                                    "Foglalasok_szama": "5"
                                },
                                {
                                    "szoba_id": "124",
                                    "Foglalasok_szama": "6"
                                },
                                {
                                    "szoba_id": "125",
                                    "Foglalasok_szama": "1"
                                },
                                {
                                    "szoba_id": "126",
                                    "Foglalasok_szama": "6"
                                },
                                {
                                    "szoba_id": "127",
                                    "Foglalasok_szama": "7"
                                },
                                {
                                    "szoba_id": "128",
                                    "Foglalasok_szama": "5"
                                },
                                {
                                    "szoba_id": "129",
                                    "Foglalasok_szama": "4"
                                },
                                {
                                    "szoba_id": "130",
                                    "Foglalasok_szama": "6"
                                },
                                {
                                    "szoba_id": "131",
                                    "Foglalasok_szama": "5"
                                },
                                {
                                    "szoba_id": "132",
                                    "Foglalasok_szama": "6"
                                },
                                {
                                    "szoba_id": "133",
                                    "Foglalasok_szama": "6"
                                },
                                {
                                    "szoba_id": "134",
                                    "Foglalasok_szama": "6"
                                },
                                {
                                    "szoba_id": "135",
                                    "Foglalasok_szama": "3"
                                },
                                {
                                    "szoba_id": "136",
                                    "Foglalasok_szama": "3"
                                },
                                {
                                    "szoba_id": "137",
                                    "Foglalasok_szama": "6"
                                },
                                {
                                    "szoba_id": "138",
                                    "Foglalasok_szama": "7"
                                },
                                {
                                    "szoba_id": "139",
                                    "Foglalasok_szama": "7"
                                },
                                {
                                    "szoba_id": "140",
                                    "Foglalasok_szama": "8"
                                },
                                {
                                    "szoba_id": "141",
                                    "Foglalasok_szama": "6"
                                },
                                {
                                    "szoba_id": "142",
                                    "Foglalasok_szama": "2"
                                },
                                {
                                    "szoba_id": "143",
                                    "Foglalasok_szama": "7"
                                },
                                {
                                    "szoba_id": "144",
                                    "Foglalasok_szama": "5"
                                },
                                {
                                    "szoba_id": "145",
                                    "Foglalasok_szama": "6"
                                },
                                {
                                    "szoba_id": "146",
                                    "Foglalasok_szama": "6"
                                },
                                {
                                    "szoba_id": "147",
                                    "Foglalasok_szama": "1"
                                },
                                {
                                    "szoba_id": "148",
                                    "Foglalasok_szama": "6"
                                },
                                {
                                    "szoba_id": "149",
                                    "Foglalasok_szama": "7"
                                },
                                {
                                    "szoba_id": "150",
                                    "Foglalasok_szama": "6"
                                },
                                {
                                    "szoba_id": "151",
                                    "Foglalasok_szama": "3"
                                },
                                {
                                    "szoba_id": "152",
                                    "Foglalasok_szama": "4"
                                },
                                {
                                    "szoba_id": "153",
                                    "Foglalasok_szama": "5"
                                },
                                {
                                    "szoba_id": "154",
                                    "Foglalasok_szama": "5"
                                },
                                {
                                    "szoba_id": "155",
                                    "Foglalasok_szama": "5"
                                },
                                {
                                    "szoba_id": "156",
                                    "Foglalasok_szama": "7"
                                },
                                {
                                    "szoba_id": "157",
                                    "Foglalasok_szama": "5"
                                },
                                {
                                    "szoba_id": "158",
                                    "Foglalasok_szama": "3"
                                },
                                {
                                    "szoba_id": "159",
                                    "Foglalasok_szama": "0"
                                },
                                {
                                    "szoba_id": "160",
                                    "Foglalasok_szama": "5"
                                },
                                {
                                    "szoba_id": "161",
                                    "Foglalasok_szama": "6"
                                },
                                {
                                    "szoba_id": "162",
                                    "Foglalasok_szama": "3"
                                },
                                {
                                    "szoba_id": "163",
                                    "Foglalasok_szama": "7"
                                },
                                {
                                    "szoba_id": "164",
                                    "Foglalasok_szama": "5"
                                },
                                {
                                    "szoba_id": "165",
                                    "Foglalasok_szama": "7"
                                },
                                {
                                    "szoba_id": "166",
                                    "Foglalasok_szama": "3"
                                },
                                {
                                    "szoba_id": "167",
                                    "Foglalasok_szama": "2"
                                },
                                {
                                    "szoba_id": "168",
                                    "Foglalasok_szama": "5"
                                },
                                {
                                    "szoba_id": "169",
                                    "Foglalasok_szama": "6"
                                },
                                {
                                    "szoba_id": "170",
                                    "Foglalasok_szama": "5"
                                },
                                {
                                    "szoba_id": "171",
                                    "Foglalasok_szama": "5"
                                },
                                {
                                    "szoba_id": "172",
                                    "Foglalasok_szama": "9"
                                },
                                {
                                    "szoba_id": "173",
                                    "Foglalasok_szama": "4"
                                },
                                {
                                    "szoba_id": "174",
                                    "Foglalasok_szama": "4"
                                },
                                {
                                    "szoba_id": "175",
                                    "Foglalasok_szama": "5"
                                },
                                {
                                    "szoba_id": "176",
                                    "Foglalasok_szama": "6"
                                },
                                {
                                    "szoba_id": "177",
                                    "Foglalasok_szama": "4"
                                },
                                {
                                    "szoba_id": "178",
                                    "Foglalasok_szama": "4"
                                },
                                {
                                    "szoba_id": "179",
                                    "Foglalasok_szama": "3"
                                },
                                {
                                    "szoba_id": "180",
                                    "Foglalasok_szama": "3"
                                },
                                {
                                    "szoba_id": "181",
                                    "Foglalasok_szama": "6"
                                },
                                {
                                    "szoba_id": "182",
                                    "Foglalasok_szama": "12"
                                },
                                {
                                    "szoba_id": "183",
                                    "Foglalasok_szama": "4"
                                },
                                {
                                    "szoba_id": "184",
                                    "Foglalasok_szama": "4"
                                },
                                {
                                    "szoba_id": "185",
                                    "Foglalasok_szama": "12"
                                },
                                {
                                    "szoba_id": "186",
                                    "Foglalasok_szama": "4"
                                },
                                {
                                    "szoba_id": "187",
                                    "Foglalasok_szama": "7"
                                },
                                {
                                    "szoba_id": "188",
                                    "Foglalasok_szama": "6"
                                },
                                {
                                    "szoba_id": "189",
                                    "Foglalasok_szama": "5"
                                },
                                {
                                    "szoba_id": "190",
                                    "Foglalasok_szama": "5"
                                },
                                {
                                    "szoba_id": "191",
                                    "Foglalasok_szama": "5"
                                },
                                {
                                    "szoba_id": "192",
                                    "Foglalasok_szama": "2"
                                },
                                {
                                    "szoba_id": "193",
                                    "Foglalasok_szama": "7"
                                },
                                {
                                    "szoba_id": "194",
                                    "Foglalasok_szama": "1"
                                },
                                {
                                    "szoba_id": "195",
                                    "Foglalasok_szama": "6"
                                },
                                {
                                    "szoba_id": "196",
                                    "Foglalasok_szama": "4"
                                },
                                {
                                    "szoba_id": "197",
                                    "Foglalasok_szama": "6"
                                },
                                {
                                    "szoba_id": "198",
                                    "Foglalasok_szama": "8"
                                },
                                {
                                    "szoba_id": "199",
                                    "Foglalasok_szama": "0"
                                },
                                {
                                    "szoba_id": "200",
                                    "Foglalasok_szama": "0"
                                },
                                {
                                    "szoba_id": "201",
                                    "Foglalasok_szama": "0"
                                },
                                {
                                    "szoba_id": "202",
                                    "Foglalasok_szama": "0"
                                },
                                {
                                    "szoba_id": "203",
                                    "Foglalasok_szama": "0"
                                },
                                {
                                    "szoba_id": "204",
                                    "Foglalasok_szama": "0"
                                },
                                {
                                    "szoba_id": "205",
                                    "Foglalasok_szama": "0"
                                },
                                {
                                    "szoba_id": "206",
                                    "Foglalasok_szama": "0"
                                },
                                {
                                    "szoba_id": "207",
                                    "Foglalasok_szama": "0"
                                },
                                {
                                    "szoba_id": "208",
                                    "Foglalasok_szama": "0"
                                },
                                {
                                    "szoba_id": "209",
                                    "Foglalasok_szama": "0"
                                },
                                {
                                    "szoba_id": "210",
                                    "Foglalasok_szama": "0"
                                },
                                {
                                    "szoba_id": "211",
                                    "Foglalasok_szama": "0"
                                },
                                {
                                    "szoba_id": "212",
                                    "Foglalasok_szama": "0"
                                },
                                {
                                    "szoba_id": "213",
                                    "Foglalasok_szama": "0"
                                },
                                {
                                    "szoba_id": "214",
                                    "Foglalasok_szama": "0"
                                },
                                {
                                    "szoba_id": "215",
                                    "Foglalasok_szama": "0"
                                },
                                {
                                    "szoba_id": "216",
                                    "Foglalasok_szama": "0"
                                },
                                {
                                    "szoba_id": "217",
                                    "Foglalasok_szama": "0"
                                },
                                {
                                    "szoba_id": "218",
                                    "Foglalasok_szama": "0"
                                },
                                {
                                    "szoba_id": "219",
                                    "Foglalasok_szama": "0"
                                },
                                {
                                    "szoba_id": "220",
                                    "Foglalasok_szama": "0"
                                },
                                {
                                    "szoba_id": "221",
                                    "Foglalasok_szama": "0"
                                },
                                {
                                    "szoba_id": "222",
                                    "Foglalasok_szama": "0"
                                },
                                {
                                    "szoba_id": "223",
                                    "Foglalasok_szama": "0"
                                },
                                {
                                    "szoba_id": "224",
                                    "Foglalasok_szama": "0"
                                },
                                {
                                    "szoba_id": "225",
                                    "Foglalasok_szama": "0"
                                },
                                {
                                    "szoba_id": "226",
                                    "Foglalasok_szama": "0"
                                },
                                {
                                    "szoba_id": "227",
                                    "Foglalasok_szama": "0"
                                },
                                {
                                    "szoba_id": "228",
                                    "Foglalasok_szama": "0"
                                },
                                {
                                    "szoba_id": "229",
                                    "Foglalasok_szama": "0"
                                },
                                {
                                    "szoba_id": "230",
                                    "Foglalasok_szama": "0"
                                },
                                {
                                    "szoba_id": "231",
                                    "Foglalasok_szama": "0"
                                },
                                {
                                    "szoba_id": "232",
                                    "Foglalasok_szama": "0"
                                },
                                {
                                    "szoba_id": "233",
                                    "Foglalasok_szama": "0"
                                },
                                {
                                    "szoba_id": "234",
                                    "Foglalasok_szama": "0"
                                },
                                {
                                    "szoba_id": "235",
                                    "Foglalasok_szama": "0"
                                },
                                {
                                    "szoba_id": "236",
                                    "Foglalasok_szama": "0"
                                },
                                {
                                    "szoba_id": "237",
                                    "Foglalasok_szama": "0"
                                },
                                {
                                    "szoba_id": "238",
                                    "Foglalasok_szama": "0"
                                },
                                {
                                    "szoba_id": "239",
                                    "Foglalasok_szama": "0"
                                },
                                {
                                    "szoba_id": "240",
                                    "Foglalasok_szama": "0"
                                },
                                {
                                    "szoba_id": "241",
                                    "Foglalasok_szama": "0"
                                },
                                {
                                    "szoba_id": "242",
                                    "Foglalasok_szama": "0"
                                },
                                {
                                    "szoba_id": "243",
                                    "Foglalasok_szama": "0"
                                },
                                {
                                    "szoba_id": "244",
                                    "Foglalasok_szama": "0"
                                },
                                {
                                    "szoba_id": "245",
                                    "Foglalasok_szama": "0"
                                },
                                {
                                    "szoba_id": "246",
                                    "Foglalasok_szama": "0"
                                },
                                {
                                    "szoba_id": "247",
                                    "Foglalasok_szama": "0"
                                },
                                {
                                    "szoba_id": "248",
                                    "Foglalasok_szama": "0"
                                },
                                {
                                    "szoba_id": "249",
                                    "Foglalasok_szama": "0"
                                },
                                {
                                    "szoba_id": "250",
                                    "Foglalasok_szama": "0"
                                },
                                {
                                    "szoba_id": "251",
                                    "Foglalasok_szama": "0"
                                },
                                {
                                    "szoba_id": "252",
                                    "Foglalasok_szama": "0"
                                },
                                {
                                    "szoba_id": "253",
                                    "Foglalasok_szama": "0"
                                },
                                {
                                    "szoba_id": "254",
                                    "Foglalasok_szama": "0"
                                },
                                {
                                    "szoba_id": "255",
                                    "Foglalasok_szama": "0"
                                },
                                {
                                    "szoba_id": "256",
                                    "Foglalasok_szama": "0"
                                },
                                {
                                    "szoba_id": "257",
                                    "Foglalasok_szama": "0"
                                },
                                {
                                    "szoba_id": "258",
                                    "Foglalasok_szama": "0"
                                },
                                {
                                    "szoba_id": "259",
                                    "Foglalasok_szama": "0"
                                },
                                {
                                    "szoba_id": "260",
                                    "Foglalasok_szama": "0"
                                },
                                {
                                    "szoba_id": "261",
                                    "Foglalasok_szama": "0"
                                },
                                {
                                    "szoba_id": "262",
                                    "Foglalasok_szama": "0"
                                },
                                {
                                    "szoba_id": "263",
                                    "Foglalasok_szama": "0"
                                },
                                {
                                    "szoba_id": "264",
                                    "Foglalasok_szama": "0"
                                },
                                {
                                    "szoba_id": "265",
                                    "Foglalasok_szama": "0"
                                },
                                {
                                    "szoba_id": "266",
                                    "Foglalasok_szama": "0"
                                },
                                {
                                    "szoba_id": "267",
                                    "Foglalasok_szama": "0"
                                },
                                {
                                    "szoba_id": "268",
                                    "Foglalasok_szama": "0"
                                },
                                {
                                    "szoba_id": "269",
                                    "Foglalasok_szama": "0"
                                },
                                {
                                    "szoba_id": "270",
                                    "Foglalasok_szama": "0"
                                },
                                {
                                    "szoba_id": "271",
                                    "Foglalasok_szama": "0"
                                },
                                {
                                    "szoba_id": "272",
                                    "Foglalasok_szama": "0"
                                },
                                {
                                    "szoba_id": "273",
                                    "Foglalasok_szama": "0"
                                },
                                {
                                    "szoba_id": "274",
                                    "Foglalasok_szama": "0"
                                },
                                {
                                    "szoba_id": "275",
                                    "Foglalasok_szama": "0"
                                },
                                {
                                    "szoba_id": "276",
                                    "Foglalasok_szama": "0"
                                },
                                {
                                    "szoba_id": "277",
                                    "Foglalasok_szama": "0"
                                },
                                {
                                    "szoba_id": "278",
                                    "Foglalasok_szama": "0"
                                },
                                {
                                    "szoba_id": "279",
                                    "Foglalasok_szama": "0"
                                },
                                {
                                    "szoba_id": "280",
                                    "Foglalasok_szama": "0"
                                },
                                {
                                    "szoba_id": "281",
                                    "Foglalasok_szama": "0"
                                },
                                {
                                    "szoba_id": "282",
                                    "Foglalasok_szama": "0"
                                },
                                {
                                    "szoba_id": "283",
                                    "Foglalasok_szama": "0"
                                },
                                {
                                    "szoba_id": "284",
                                    "Foglalasok_szama": "0"
                                },
                                {
                                    "szoba_id": "285",
                                    "Foglalasok_szama": "0"
                                },
                                {
                                    "szoba_id": "286",
                                    "Foglalasok_szama": "0"
                                },
                                {
                                    "szoba_id": "287",
                                    "Foglalasok_szama": "0"
                                },
                                {
                                    "szoba_id": "288",
                                    "Foglalasok_szama": "0"
                                },
                                {
                                    "szoba_id": "289",
                                    "Foglalasok_szama": "0"
                                },
                                {
                                    "szoba_id": "290",
                                    "Foglalasok_szama": "0"
                                },
                                {
                                    "szoba_id": "291",
                                    "Foglalasok_szama": "0"
                                },
                                {
                                    "szoba_id": "292",
                                    "Foglalasok_szama": "0"
                                },
                                {
                                    "szoba_id": "293",
                                    "Foglalasok_szama": "0"
                                },
                                {
                                    "szoba_id": "294",
                                    "Foglalasok_szama": "0"
                                }
                            ]
                        },
                        "text/html": [
                            "<table>",
                            "<tr><th>szoba_id</th><th>Foglalasok_szama</th></tr>",
                            "<tr><td>1</td><td>8</td></tr>",
                            "<tr><td>2</td><td>4</td></tr>",
                            "<tr><td>3</td><td>8</td></tr>",
                            "<tr><td>4</td><td>6</td></tr>",
                            "<tr><td>5</td><td>4</td></tr>",
                            "<tr><td>6</td><td>6</td></tr>",
                            "<tr><td>7</td><td>6</td></tr>",
                            "<tr><td>8</td><td>5</td></tr>",
                            "<tr><td>9</td><td>6</td></tr>",
                            "<tr><td>10</td><td>4</td></tr>",
                            "<tr><td>11</td><td>4</td></tr>",
                            "<tr><td>12</td><td>9</td></tr>",
                            "<tr><td>13</td><td>4</td></tr>",
                            "<tr><td>14</td><td>3</td></tr>",
                            "<tr><td>15</td><td>6</td></tr>",
                            "<tr><td>16</td><td>5</td></tr>",
                            "<tr><td>17</td><td>6</td></tr>",
                            "<tr><td>18</td><td>6</td></tr>",
                            "<tr><td>19</td><td>6</td></tr>",
                            "<tr><td>20</td><td>5</td></tr>",
                            "<tr><td>21</td><td>4</td></tr>",
                            "<tr><td>22</td><td>6</td></tr>",
                            "<tr><td>23</td><td>3</td></tr>",
                            "<tr><td>24</td><td>3</td></tr>",
                            "<tr><td>25</td><td>2</td></tr>",
                            "<tr><td>26</td><td>2</td></tr>",
                            "<tr><td>27</td><td>7</td></tr>",
                            "<tr><td>28</td><td>6</td></tr>",
                            "<tr><td>29</td><td>6</td></tr>",
                            "<tr><td>30</td><td>3</td></tr>",
                            "<tr><td>31</td><td>3</td></tr>",
                            "<tr><td>32</td><td>1</td></tr>",
                            "<tr><td>33</td><td>6</td></tr>",
                            "<tr><td>34</td><td>4</td></tr>",
                            "<tr><td>35</td><td>9</td></tr>",
                            "<tr><td>36</td><td>6</td></tr>",
                            "<tr><td>37</td><td>3</td></tr>",
                            "<tr><td>38</td><td>8</td></tr>",
                            "<tr><td>39</td><td>7</td></tr>",
                            "<tr><td>40</td><td>4</td></tr>",
                            "<tr><td>41</td><td>2</td></tr>",
                            "<tr><td>42</td><td>6</td></tr>",
                            "<tr><td>43</td><td>8</td></tr>",
                            "<tr><td>44</td><td>6</td></tr>",
                            "<tr><td>45</td><td>5</td></tr>",
                            "<tr><td>46</td><td>4</td></tr>",
                            "<tr><td>47</td><td>2</td></tr>",
                            "<tr><td>48</td><td>9</td></tr>",
                            "<tr><td>49</td><td>7</td></tr>",
                            "<tr><td>50</td><td>4</td></tr>",
                            "<tr><td>51</td><td>5</td></tr>",
                            "<tr><td>52</td><td>5</td></tr>",
                            "<tr><td>53</td><td>2</td></tr>",
                            "<tr><td>54</td><td>6</td></tr>",
                            "<tr><td>55</td><td>8</td></tr>",
                            "<tr><td>56</td><td>2</td></tr>",
                            "<tr><td>57</td><td>4</td></tr>",
                            "<tr><td>58</td><td>13</td></tr>",
                            "<tr><td>59</td><td>7</td></tr>",
                            "<tr><td>60</td><td>1</td></tr>",
                            "<tr><td>61</td><td>5</td></tr>",
                            "<tr><td>62</td><td>5</td></tr>",
                            "<tr><td>63</td><td>4</td></tr>",
                            "<tr><td>64</td><td>6</td></tr>",
                            "<tr><td>65</td><td>1</td></tr>",
                            "<tr><td>66</td><td>4</td></tr>",
                            "<tr><td>67</td><td>6</td></tr>",
                            "<tr><td>68</td><td>3</td></tr>",
                            "<tr><td>69</td><td>4</td></tr>",
                            "<tr><td>70</td><td>11</td></tr>",
                            "<tr><td>71</td><td>3</td></tr>",
                            "<tr><td>72</td><td>4</td></tr>",
                            "<tr><td>73</td><td>4</td></tr>",
                            "<tr><td>74</td><td>9</td></tr>",
                            "<tr><td>75</td><td>3</td></tr>",
                            "<tr><td>76</td><td>3</td></tr>",
                            "<tr><td>77</td><td>6</td></tr>",
                            "<tr><td>78</td><td>6</td></tr>",
                            "<tr><td>79</td><td>5</td></tr>",
                            "<tr><td>80</td><td>7</td></tr>",
                            "<tr><td>81</td><td>5</td></tr>",
                            "<tr><td>82</td><td>6</td></tr>",
                            "<tr><td>83</td><td>8</td></tr>",
                            "<tr><td>84</td><td>4</td></tr>",
                            "<tr><td>85</td><td>4</td></tr>",
                            "<tr><td>86</td><td>5</td></tr>",
                            "<tr><td>87</td><td>5</td></tr>",
                            "<tr><td>88</td><td>8</td></tr>",
                            "<tr><td>89</td><td>8</td></tr>",
                            "<tr><td>90</td><td>4</td></tr>",
                            "<tr><td>91</td><td>4</td></tr>",
                            "<tr><td>92</td><td>6</td></tr>",
                            "<tr><td>93</td><td>5</td></tr>",
                            "<tr><td>94</td><td>10</td></tr>",
                            "<tr><td>95</td><td>4</td></tr>",
                            "<tr><td>96</td><td>7</td></tr>",
                            "<tr><td>97</td><td>7</td></tr>",
                            "<tr><td>98</td><td>4</td></tr>",
                            "<tr><td>99</td><td>5</td></tr>",
                            "<tr><td>100</td><td>4</td></tr>",
                            "<tr><td>101</td><td>3</td></tr>",
                            "<tr><td>102</td><td>2</td></tr>",
                            "<tr><td>103</td><td>4</td></tr>",
                            "<tr><td>104</td><td>4</td></tr>",
                            "<tr><td>105</td><td>2</td></tr>",
                            "<tr><td>106</td><td>6</td></tr>",
                            "<tr><td>107</td><td>5</td></tr>",
                            "<tr><td>108</td><td>2</td></tr>",
                            "<tr><td>109</td><td>7</td></tr>",
                            "<tr><td>110</td><td>8</td></tr>",
                            "<tr><td>111</td><td>5</td></tr>",
                            "<tr><td>112</td><td>5</td></tr>",
                            "<tr><td>113</td><td>5</td></tr>",
                            "<tr><td>114</td><td>4</td></tr>",
                            "<tr><td>115</td><td>7</td></tr>",
                            "<tr><td>116</td><td>2</td></tr>",
                            "<tr><td>117</td><td>8</td></tr>",
                            "<tr><td>118</td><td>7</td></tr>",
                            "<tr><td>119</td><td>5</td></tr>",
                            "<tr><td>120</td><td>6</td></tr>",
                            "<tr><td>121</td><td>8</td></tr>",
                            "<tr><td>122</td><td>9</td></tr>",
                            "<tr><td>123</td><td>5</td></tr>",
                            "<tr><td>124</td><td>6</td></tr>",
                            "<tr><td>125</td><td>1</td></tr>",
                            "<tr><td>126</td><td>6</td></tr>",
                            "<tr><td>127</td><td>7</td></tr>",
                            "<tr><td>128</td><td>5</td></tr>",
                            "<tr><td>129</td><td>4</td></tr>",
                            "<tr><td>130</td><td>6</td></tr>",
                            "<tr><td>131</td><td>5</td></tr>",
                            "<tr><td>132</td><td>6</td></tr>",
                            "<tr><td>133</td><td>6</td></tr>",
                            "<tr><td>134</td><td>6</td></tr>",
                            "<tr><td>135</td><td>3</td></tr>",
                            "<tr><td>136</td><td>3</td></tr>",
                            "<tr><td>137</td><td>6</td></tr>",
                            "<tr><td>138</td><td>7</td></tr>",
                            "<tr><td>139</td><td>7</td></tr>",
                            "<tr><td>140</td><td>8</td></tr>",
                            "<tr><td>141</td><td>6</td></tr>",
                            "<tr><td>142</td><td>2</td></tr>",
                            "<tr><td>143</td><td>7</td></tr>",
                            "<tr><td>144</td><td>5</td></tr>",
                            "<tr><td>145</td><td>6</td></tr>",
                            "<tr><td>146</td><td>6</td></tr>",
                            "<tr><td>147</td><td>1</td></tr>",
                            "<tr><td>148</td><td>6</td></tr>",
                            "<tr><td>149</td><td>7</td></tr>",
                            "<tr><td>150</td><td>6</td></tr>",
                            "<tr><td>151</td><td>3</td></tr>",
                            "<tr><td>152</td><td>4</td></tr>",
                            "<tr><td>153</td><td>5</td></tr>",
                            "<tr><td>154</td><td>5</td></tr>",
                            "<tr><td>155</td><td>5</td></tr>",
                            "<tr><td>156</td><td>7</td></tr>",
                            "<tr><td>157</td><td>5</td></tr>",
                            "<tr><td>158</td><td>3</td></tr>",
                            "<tr><td>159</td><td>0</td></tr>",
                            "<tr><td>160</td><td>5</td></tr>",
                            "<tr><td>161</td><td>6</td></tr>",
                            "<tr><td>162</td><td>3</td></tr>",
                            "<tr><td>163</td><td>7</td></tr>",
                            "<tr><td>164</td><td>5</td></tr>",
                            "<tr><td>165</td><td>7</td></tr>",
                            "<tr><td>166</td><td>3</td></tr>",
                            "<tr><td>167</td><td>2</td></tr>",
                            "<tr><td>168</td><td>5</td></tr>",
                            "<tr><td>169</td><td>6</td></tr>",
                            "<tr><td>170</td><td>5</td></tr>",
                            "<tr><td>171</td><td>5</td></tr>",
                            "<tr><td>172</td><td>9</td></tr>",
                            "<tr><td>173</td><td>4</td></tr>",
                            "<tr><td>174</td><td>4</td></tr>",
                            "<tr><td>175</td><td>5</td></tr>",
                            "<tr><td>176</td><td>6</td></tr>",
                            "<tr><td>177</td><td>4</td></tr>",
                            "<tr><td>178</td><td>4</td></tr>",
                            "<tr><td>179</td><td>3</td></tr>",
                            "<tr><td>180</td><td>3</td></tr>",
                            "<tr><td>181</td><td>6</td></tr>",
                            "<tr><td>182</td><td>12</td></tr>",
                            "<tr><td>183</td><td>4</td></tr>",
                            "<tr><td>184</td><td>4</td></tr>",
                            "<tr><td>185</td><td>12</td></tr>",
                            "<tr><td>186</td><td>4</td></tr>",
                            "<tr><td>187</td><td>7</td></tr>",
                            "<tr><td>188</td><td>6</td></tr>",
                            "<tr><td>189</td><td>5</td></tr>",
                            "<tr><td>190</td><td>5</td></tr>",
                            "<tr><td>191</td><td>5</td></tr>",
                            "<tr><td>192</td><td>2</td></tr>",
                            "<tr><td>193</td><td>7</td></tr>",
                            "<tr><td>194</td><td>1</td></tr>",
                            "<tr><td>195</td><td>6</td></tr>",
                            "<tr><td>196</td><td>4</td></tr>",
                            "<tr><td>197</td><td>6</td></tr>",
                            "<tr><td>198</td><td>8</td></tr>",
                            "<tr><td>199</td><td>0</td></tr>",
                            "<tr><td>200</td><td>0</td></tr>",
                            "<tr><td>201</td><td>0</td></tr>",
                            "<tr><td>202</td><td>0</td></tr>",
                            "<tr><td>203</td><td>0</td></tr>",
                            "<tr><td>204</td><td>0</td></tr>",
                            "<tr><td>205</td><td>0</td></tr>",
                            "<tr><td>206</td><td>0</td></tr>",
                            "<tr><td>207</td><td>0</td></tr>",
                            "<tr><td>208</td><td>0</td></tr>",
                            "<tr><td>209</td><td>0</td></tr>",
                            "<tr><td>210</td><td>0</td></tr>",
                            "<tr><td>211</td><td>0</td></tr>",
                            "<tr><td>212</td><td>0</td></tr>",
                            "<tr><td>213</td><td>0</td></tr>",
                            "<tr><td>214</td><td>0</td></tr>",
                            "<tr><td>215</td><td>0</td></tr>",
                            "<tr><td>216</td><td>0</td></tr>",
                            "<tr><td>217</td><td>0</td></tr>",
                            "<tr><td>218</td><td>0</td></tr>",
                            "<tr><td>219</td><td>0</td></tr>",
                            "<tr><td>220</td><td>0</td></tr>",
                            "<tr><td>221</td><td>0</td></tr>",
                            "<tr><td>222</td><td>0</td></tr>",
                            "<tr><td>223</td><td>0</td></tr>",
                            "<tr><td>224</td><td>0</td></tr>",
                            "<tr><td>225</td><td>0</td></tr>",
                            "<tr><td>226</td><td>0</td></tr>",
                            "<tr><td>227</td><td>0</td></tr>",
                            "<tr><td>228</td><td>0</td></tr>",
                            "<tr><td>229</td><td>0</td></tr>",
                            "<tr><td>230</td><td>0</td></tr>",
                            "<tr><td>231</td><td>0</td></tr>",
                            "<tr><td>232</td><td>0</td></tr>",
                            "<tr><td>233</td><td>0</td></tr>",
                            "<tr><td>234</td><td>0</td></tr>",
                            "<tr><td>235</td><td>0</td></tr>",
                            "<tr><td>236</td><td>0</td></tr>",
                            "<tr><td>237</td><td>0</td></tr>",
                            "<tr><td>238</td><td>0</td></tr>",
                            "<tr><td>239</td><td>0</td></tr>",
                            "<tr><td>240</td><td>0</td></tr>",
                            "<tr><td>241</td><td>0</td></tr>",
                            "<tr><td>242</td><td>0</td></tr>",
                            "<tr><td>243</td><td>0</td></tr>",
                            "<tr><td>244</td><td>0</td></tr>",
                            "<tr><td>245</td><td>0</td></tr>",
                            "<tr><td>246</td><td>0</td></tr>",
                            "<tr><td>247</td><td>0</td></tr>",
                            "<tr><td>248</td><td>0</td></tr>",
                            "<tr><td>249</td><td>0</td></tr>",
                            "<tr><td>250</td><td>0</td></tr>",
                            "<tr><td>251</td><td>0</td></tr>",
                            "<tr><td>252</td><td>0</td></tr>",
                            "<tr><td>253</td><td>0</td></tr>",
                            "<tr><td>254</td><td>0</td></tr>",
                            "<tr><td>255</td><td>0</td></tr>",
                            "<tr><td>256</td><td>0</td></tr>",
                            "<tr><td>257</td><td>0</td></tr>",
                            "<tr><td>258</td><td>0</td></tr>",
                            "<tr><td>259</td><td>0</td></tr>",
                            "<tr><td>260</td><td>0</td></tr>",
                            "<tr><td>261</td><td>0</td></tr>",
                            "<tr><td>262</td><td>0</td></tr>",
                            "<tr><td>263</td><td>0</td></tr>",
                            "<tr><td>264</td><td>0</td></tr>",
                            "<tr><td>265</td><td>0</td></tr>",
                            "<tr><td>266</td><td>0</td></tr>",
                            "<tr><td>267</td><td>0</td></tr>",
                            "<tr><td>268</td><td>0</td></tr>",
                            "<tr><td>269</td><td>0</td></tr>",
                            "<tr><td>270</td><td>0</td></tr>",
                            "<tr><td>271</td><td>0</td></tr>",
                            "<tr><td>272</td><td>0</td></tr>",
                            "<tr><td>273</td><td>0</td></tr>",
                            "<tr><td>274</td><td>0</td></tr>",
                            "<tr><td>275</td><td>0</td></tr>",
                            "<tr><td>276</td><td>0</td></tr>",
                            "<tr><td>277</td><td>0</td></tr>",
                            "<tr><td>278</td><td>0</td></tr>",
                            "<tr><td>279</td><td>0</td></tr>",
                            "<tr><td>280</td><td>0</td></tr>",
                            "<tr><td>281</td><td>0</td></tr>",
                            "<tr><td>282</td><td>0</td></tr>",
                            "<tr><td>283</td><td>0</td></tr>",
                            "<tr><td>284</td><td>0</td></tr>",
                            "<tr><td>285</td><td>0</td></tr>",
                            "<tr><td>286</td><td>0</td></tr>",
                            "<tr><td>287</td><td>0</td></tr>",
                            "<tr><td>288</td><td>0</td></tr>",
                            "<tr><td>289</td><td>0</td></tr>",
                            "<tr><td>290</td><td>0</td></tr>",
                            "<tr><td>291</td><td>0</td></tr>",
                            "<tr><td>292</td><td>0</td></tr>",
                            "<tr><td>293</td><td>0</td></tr>",
                            "<tr><td>294</td><td>0</td></tr>",
                            "</table>"
                        ]
                    }
                }
            ],
            "execution_count": 1
        },
        {
            "cell_type": "markdown",
            "source": [
                "2\\. Listázzuk azon vendégek adatait, akik a legtöbb férőhelyes szobát (vagy szobákat) már lefoglalták!\n",
                "\n",
                "- Csak klímás szoba jöhet számításba"
            ],
            "metadata": {
                "azdata_cell_guid": "565571ac-aaf6-45a3-b302-7bdd83fbf2dc"
            },
            "attachments": {}
        },
        {
            "cell_type": "code",
            "source": [
                "select distinct v.USERNEV, v.NEV, v.EMAIL, v.SZAML_CIM, v.SZUL_DAT\r\n",
                "FROM Vendeg v join Foglalas f on v.USERNEV = f.UGYFEL_FK join Szoba s on f.SZOBA_FK = s.SZOBA_ID\r\n",
                "where s.KLIMAS = 'i'\r\n",
                "and s.FEROHELY = (\r\n",
                "    select max(FEROHELY)\r\n",
                "    from Szoba\r\n",
                "    where\r\n",
                "    KLIMAS = 'i'\r\n",
                ");"
            ],
            "metadata": {
                "azdata_cell_guid": "9423df1b-c2ef-46e8-a88a-8488eb6f8c4c",
                "language": "sql"
            },
            "outputs": [
                {
                    "output_type": "display_data",
                    "data": {
                        "text/html": "(3 rows affected)"
                    },
                    "metadata": {}
                },
                {
                    "output_type": "display_data",
                    "data": {
                        "text/html": "Total execution time: 00:00:00.013"
                    },
                    "metadata": {}
                },
                {
                    "output_type": "execute_result",
                    "metadata": {},
                    "execution_count": 2,
                    "data": {
                        "application/vnd.dataresource+json": {
                            "schema": {
                                "fields": [
                                    {
                                        "name": "USERNEV"
                                    },
                                    {
                                        "name": "NEV"
                                    },
                                    {
                                        "name": "EMAIL"
                                    },
                                    {
                                        "name": "SZAML_CIM"
                                    },
                                    {
                                        "name": "SZUL_DAT"
                                    }
                                ]
                            },
                            "data": [
                                {
                                    "USERNEV": "JOZSEFG",
                                    "NEV": "Gyuris József",
                                    "EMAIL": "józsef.gyuris@mail.hu",
                                    "SZAML_CIM": "2660 Balassagyarmat Petőfi utca 1/2.",
                                    "SZUL_DAT": "1975-05-26"
                                },
                                {
                                    "USERNEV": "PETERB",
                                    "NEV": "Berendi Péter",
                                    "EMAIL": "péter.berendi@mail.hu",
                                    "SZAML_CIM": "3980 Sátoraljaújhely Vasút utca 4/10.",
                                    "SZUL_DAT": "1969-01-01"
                                },
                                {
                                    "USERNEV": "tunde",
                                    "NEV": "Turcsik Tünde",
                                    "EMAIL": "tunde@gmail.com",
                                    "SZAML_CIM": "7130 Tolna Fő út 122.",
                                    "SZUL_DAT": "1974-02-12"
                                }
                            ]
                        },
                        "text/html": [
                            "<table>",
                            "<tr><th>USERNEV</th><th>NEV</th><th>EMAIL</th><th>SZAML_CIM</th><th>SZUL_DAT</th></tr>",
                            "<tr><td>JOZSEFG</td><td>Gyuris József</td><td>józsef.gyuris@mail.hu</td><td>2660 Balassagyarmat Petőfi utca 1/2.</td><td>1975-05-26</td></tr>",
                            "<tr><td>PETERB</td><td>Berendi Péter</td><td>péter.berendi@mail.hu</td><td>3980 Sátoraljaújhely Vasút utca 4/10.</td><td>1969-01-01</td></tr>",
                            "<tr><td>tunde</td><td>Turcsik Tünde</td><td>tunde@gmail.com</td><td>7130 Tolna Fő út 122.</td><td>1974-02-12</td></tr>",
                            "</table>"
                        ]
                    }
                }
            ],
            "execution_count": 2
        },
        {
            "cell_type": "markdown",
            "source": [
                "3\\. Listázzuk a vendégek azonosítóját, nevét és születési dátumát!\n",
                "\n",
                "- Vegyünk fel két új oszlopot, amelyben a vendég legelső, illetve legutolsó foglalásának dátuma szerepel\n",
                "- A foglalás dátumánál a METTOL oszlopot használjuk"
            ],
            "metadata": {
                "language": "sql",
                "azdata_cell_guid": "7f91de13-08d9-4814-9e72-c2dcb584ae52"
            },
            "attachments": {}
        },
        {
            "cell_type": "code",
            "source": [
                "select v.USERNEV, v.NEV, v.SZUL_DAT, MIN(f.METTOL) as Elso_foglalas, Max(f.METTOL) as Utolso_foglalas\r\n",
                "from Vendeg v left join Foglalas f on v.USERNEV = f.UGYFEL_FK\r\n",
                "group by v.USERNEV, v.NEV, v.SZUL_DAT;"
            ],
            "metadata": {
                "language": "sql",
                "azdata_cell_guid": "9dbc6b7c-3e19-4c8d-9dfa-165ec4113adb"
            },
            "outputs": [
                {
                    "output_type": "display_data",
                    "data": {
                        "text/html": "(196 rows affected)"
                    },
                    "metadata": {}
                },
                {
                    "output_type": "display_data",
                    "data": {
                        "text/html": "Total execution time: 00:00:00.056"
                    },
                    "metadata": {}
                },
                {
                    "output_type": "execute_result",
                    "metadata": {},
                    "execution_count": 3,
                    "data": {
                        "application/vnd.dataresource+json": {
                            "schema": {
                                "fields": [
                                    {
                                        "name": "USERNEV"
                                    },
                                    {
                                        "name": "NEV"
                                    },
                                    {
                                        "name": "SZUL_DAT"
                                    },
                                    {
                                        "name": "Elso_foglalas"
                                    },
                                    {
                                        "name": "Utolso_foglalas"
                                    }
                                ]
                            },
                            "data": [
                                {
                                    "USERNEV": "adam1",
                                    "NEV": "Kiss Ádám",
                                    "SZUL_DAT": "1991-12-28",
                                    "Elso_foglalas": "2016-05-28",
                                    "Utolso_foglalas": "2016-10-19"
                                },
                                {
                                    "USERNEV": "adam3",
                                    "NEV": "Barkóci Ádám",
                                    "SZUL_DAT": "1970-06-07",
                                    "Elso_foglalas": "2016-09-12",
                                    "Utolso_foglalas": "2017-02-06"
                                },
                                {
                                    "USERNEV": "adam4",
                                    "NEV": "Bieniek Ádám",
                                    "SZUL_DAT": "1976-08-01",
                                    "Elso_foglalas": "2016-08-28",
                                    "Utolso_foglalas": "2017-02-23"
                                },
                                {
                                    "USERNEV": "agnes",
                                    "NEV": "Lengyel Ágnes",
                                    "SZUL_DAT": "1979-12-10",
                                    "Elso_foglalas": "2016-05-09",
                                    "Utolso_foglalas": "2016-11-07"
                                },
                                {
                                    "USERNEV": "agnes3",
                                    "NEV": "Hartyánszky Ágnes",
                                    "SZUL_DAT": "1967-04-11",
                                    "Elso_foglalas": "2016-08-04",
                                    "Utolso_foglalas": "2017-02-16"
                                },
                                {
                                    "USERNEV": "AGNESH",
                                    "NEV": "Horváth Ágnes",
                                    "SZUL_DAT": "1981-12-24",
                                    "Elso_foglalas": "2016-04-10",
                                    "Utolso_foglalas": "2017-01-16"
                                },
                                {
                                    "USERNEV": "AGNESK",
                                    "NEV": "Kovács Ágnes",
                                    "SZUL_DAT": "1988-10-02",
                                    "Elso_foglalas": "2016-07-29",
                                    "Utolso_foglalas": "2016-12-17"
                                },
                                {
                                    "USERNEV": "akos",
                                    "NEV": "Bíró Ákos",
                                    "SZUL_DAT": "1982-04-24",
                                    "Elso_foglalas": "2016-05-18",
                                    "Utolso_foglalas": "2016-12-29"
                                },
                                {
                                    "USERNEV": "aladar",
                                    "NEV": "Dunai Aladár",
                                    "SZUL_DAT": "1980-11-01",
                                    "Elso_foglalas": "2016-05-17",
                                    "Utolso_foglalas": "2016-11-22"
                                },
                                {
                                    "USERNEV": "alexandra",
                                    "NEV": "Bagóczki Alexandra",
                                    "SZUL_DAT": "1992-03-25",
                                    "Elso_foglalas": "2016-05-21",
                                    "Utolso_foglalas": "2017-01-19"
                                },
                                {
                                    "USERNEV": "andi",
                                    "NEV": "Maródi Andrea",
                                    "SZUL_DAT": "1968-05-07",
                                    "Elso_foglalas": "2016-05-08",
                                    "Utolso_foglalas": "2017-01-13"
                                },
                                {
                                    "USERNEV": "andras2",
                                    "NEV": "Tóth András",
                                    "SZUL_DAT": "1997-10-31",
                                    "Elso_foglalas": "2016-05-30",
                                    "Utolso_foglalas": "2017-02-08"
                                },
                                {
                                    "USERNEV": "andras21",
                                    "NEV": "Molnár András",
                                    "SZUL_DAT": "1977-11-16",
                                    "Elso_foglalas": "2016-06-21",
                                    "Utolso_foglalas": "2017-01-28"
                                },
                                {
                                    "USERNEV": "andras3",
                                    "NEV": "Vígh András",
                                    "SZUL_DAT": "1971-04-02",
                                    "Elso_foglalas": "2016-05-01",
                                    "Utolso_foglalas": "2017-02-02"
                                },
                                {
                                    "USERNEV": "andras4",
                                    "NEV": "Back András",
                                    "SZUL_DAT": "1984-04-07",
                                    "Elso_foglalas": "2016-09-17",
                                    "Utolso_foglalas": "2017-01-09"
                                },
                                {
                                    "USERNEV": "andras41",
                                    "NEV": "Komjáti András",
                                    "SZUL_DAT": "1997-10-25",
                                    "Elso_foglalas": "2016-05-14",
                                    "Utolso_foglalas": "2016-11-23"
                                },
                                {
                                    "USERNEV": "ANDRASE",
                                    "NEV": "Erdei András",
                                    "SZUL_DAT": "1997-05-29",
                                    "Elso_foglalas": "2016-04-24",
                                    "Utolso_foglalas": "2016-11-29"
                                },
                                {
                                    "USERNEV": "ANDRASN",
                                    "NEV": "Nagy András",
                                    "SZUL_DAT": "1980-09-05",
                                    "Elso_foglalas": "2016-11-25",
                                    "Utolso_foglalas": "2016-11-25"
                                },
                                {
                                    "USERNEV": "andrea",
                                    "NEV": "Kiss Andrea",
                                    "SZUL_DAT": "1993-03-25",
                                    "Elso_foglalas": "2016-07-27",
                                    "Utolso_foglalas": "2017-02-09"
                                },
                                {
                                    "USERNEV": "andrea3",
                                    "NEV": "Szomor Andrea",
                                    "SZUL_DAT": "1996-05-10",
                                    "Elso_foglalas": "2016-11-19",
                                    "Utolso_foglalas": "2016-11-19"
                                },
                                {
                                    "USERNEV": "andrea4",
                                    "NEV": "Neizer Andrea",
                                    "SZUL_DAT": "1981-05-17",
                                    "Elso_foglalas": "2016-05-27",
                                    "Utolso_foglalas": "2017-01-22"
                                },
                                {
                                    "USERNEV": "ANDREAT",
                                    "NEV": "Tornyos Andrea",
                                    "SZUL_DAT": "1986-11-14",
                                    "Elso_foglalas": "2016-07-27",
                                    "Utolso_foglalas": "2016-10-08"
                                },
                                {
                                    "USERNEV": "anett3",
                                    "NEV": "Pivarcsi Anett",
                                    "SZUL_DAT": "1967-01-03",
                                    "Elso_foglalas": "2016-04-10",
                                    "Utolso_foglalas": "2016-10-16"
                                },
                                {
                                    "USERNEV": "aniko",
                                    "NEV": "Tóth Anikó",
                                    "SZUL_DAT": "1973-06-03",
                                    "Elso_foglalas": "2016-06-25",
                                    "Utolso_foglalas": "2017-02-23"
                                },
                                {
                                    "USERNEV": "aniko4",
                                    "NEV": "Böröcz Anikó",
                                    "SZUL_DAT": "1978-03-26",
                                    "Elso_foglalas": "2016-07-02",
                                    "Utolso_foglalas": "2016-10-16"
                                },
                                {
                                    "USERNEV": "ANIKOS",
                                    "NEV": "Simon Anikó",
                                    "SZUL_DAT": "1988-12-14",
                                    "Elso_foglalas": "2016-04-19",
                                    "Utolso_foglalas": "2016-11-10"
                                },
                                {
                                    "USERNEV": "anita",
                                    "NEV": "Hamvay-Kovács Anita",
                                    "SZUL_DAT": "1971-03-20",
                                    "Elso_foglalas": "2016-09-28",
                                    "Utolso_foglalas": "2017-02-20"
                                },
                                {
                                    "USERNEV": "annamaria1",
                                    "NEV": "Szűcs Annamária",
                                    "SZUL_DAT": "1990-04-27",
                                    "Elso_foglalas": "2016-06-06",
                                    "Utolso_foglalas": "2017-01-30"
                                },
                                {
                                    "USERNEV": "ANNAMARIAR",
                                    "NEV": "Regős Annamária",
                                    "SZUL_DAT": "1977-09-26",
                                    "Elso_foglalas": "2016-06-08",
                                    "Utolso_foglalas": "2017-02-16"
                                },
                                {
                                    "USERNEV": "aron2",
                                    "NEV": "Jakab Áron",
                                    "SZUL_DAT": "1971-04-26",
                                    "Elso_foglalas": "2016-04-11",
                                    "Utolso_foglalas": "2017-02-26"
                                },
                                {
                                    "USERNEV": "ARONK",
                                    "NEV": "Kelemen Áron",
                                    "SZUL_DAT": "1989-08-10",
                                    "Elso_foglalas": "2016-04-06",
                                    "Utolso_foglalas": "2017-02-21"
                                },
                                {
                                    "USERNEV": "arpad2",
                                    "NEV": "Ötvös Árpád",
                                    "SZUL_DAT": "1990-06-08",
                                    "Elso_foglalas": "2016-06-05",
                                    "Utolso_foglalas": "2017-02-18"
                                },
                                {
                                    "USERNEV": "ARPADH",
                                    "NEV": "Horváth Árpád",
                                    "SZUL_DAT": "1990-05-18",
                                    "Elso_foglalas": "2016-06-06",
                                    "Utolso_foglalas": "2017-02-16"
                                },
                                {
                                    "USERNEV": "ARPADM",
                                    "NEV": "Móricz Árpád",
                                    "SZUL_DAT": "1986-04-20",
                                    "Elso_foglalas": "2016-05-29",
                                    "Utolso_foglalas": "2017-02-12"
                                },
                                {
                                    "USERNEV": "attila",
                                    "NEV": "Csóti Attila",
                                    "SZUL_DAT": "1979-12-25",
                                    "Elso_foglalas": "2016-09-30",
                                    "Utolso_foglalas": "2016-12-22"
                                },
                                {
                                    "USERNEV": "attila1",
                                    "NEV": "Gulyás Attila",
                                    "SZUL_DAT": "1982-08-16",
                                    "Elso_foglalas": "2016-05-20",
                                    "Utolso_foglalas": "2017-01-23"
                                },
                                {
                                    "USERNEV": "attila4",
                                    "NEV": "Baróti Attila",
                                    "SZUL_DAT": "1975-11-06",
                                    "Elso_foglalas": "2016-08-18",
                                    "Utolso_foglalas": "2017-02-15"
                                },
                                {
                                    "USERNEV": "ATTILAO",
                                    "NEV": "Opra Attila",
                                    "SZUL_DAT": "1995-05-08",
                                    "Elso_foglalas": "2016-05-21",
                                    "Utolso_foglalas": "2017-02-22"
                                },
                                {
                                    "USERNEV": "balazs1",
                                    "NEV": "Bozsik Balázs",
                                    "SZUL_DAT": "1992-11-03",
                                    "Elso_foglalas": "2016-05-07",
                                    "Utolso_foglalas": "2017-02-12"
                                },
                                {
                                    "USERNEV": "balazs2",
                                    "NEV": "Szűcs Balázs",
                                    "SZUL_DAT": "1984-10-31",
                                    "Elso_foglalas": "2016-04-16",
                                    "Utolso_foglalas": "2017-02-27"
                                },
                                {
                                    "USERNEV": "balazs3",
                                    "NEV": "Bakódy Balázs",
                                    "SZUL_DAT": "1986-09-09",
                                    "Elso_foglalas": "2016-07-17",
                                    "Utolso_foglalas": "2017-01-20"
                                },
                                {
                                    "USERNEV": "balint",
                                    "NEV": "Horváth Bálint",
                                    "SZUL_DAT": "1996-03-17",
                                    "Elso_foglalas": "2016-04-22",
                                    "Utolso_foglalas": "2016-11-24"
                                },
                                {
                                    "USERNEV": "balint1",
                                    "NEV": "Molnár Bálint",
                                    "SZUL_DAT": "1989-08-24",
                                    "Elso_foglalas": "2016-06-07",
                                    "Utolso_foglalas": "2017-01-03"
                                },
                                {
                                    "USERNEV": "balint2",
                                    "NEV": "Vukasinovity Bálint",
                                    "SZUL_DAT": "1997-09-03",
                                    "Elso_foglalas": "2016-07-21",
                                    "Utolso_foglalas": "2016-12-04"
                                },
                                {
                                    "USERNEV": "balu",
                                    "NEV": "Endresz Bálint",
                                    "SZUL_DAT": "1976-08-01",
                                    "Elso_foglalas": "2016-08-06",
                                    "Utolso_foglalas": "2016-12-22"
                                },
                                {
                                    "USERNEV": "beata4",
                                    "NEV": "Bagi Beáta",
                                    "SZUL_DAT": "1994-03-19",
                                    "Elso_foglalas": "2016-04-20",
                                    "Utolso_foglalas": "2016-10-03"
                                },
                                {
                                    "USERNEV": "BEATRIXK",
                                    "NEV": "Kerényi Beatrix",
                                    "SZUL_DAT": "1972-04-06",
                                    "Elso_foglalas": "2016-06-10",
                                    "Utolso_foglalas": "2017-02-08"
                                },
                                {
                                    "USERNEV": "BEATRIXS",
                                    "NEV": "Szekendi Beatrix",
                                    "SZUL_DAT": "1981-04-06",
                                    "Elso_foglalas": "2016-04-18",
                                    "Utolso_foglalas": "2017-02-03"
                                },
                                {
                                    "USERNEV": "BELAF",
                                    "NEV": "Farkas Béla",
                                    "SZUL_DAT": "1995-02-24",
                                    "Elso_foglalas": "2016-07-27",
                                    "Utolso_foglalas": "2016-12-06"
                                },
                                {
                                    "USERNEV": "bence",
                                    "NEV": "Győrffy Bence",
                                    "SZUL_DAT": "1987-07-09",
                                    "Elso_foglalas": "2016-05-08",
                                    "Utolso_foglalas": "2017-02-05"
                                },
                                {
                                    "USERNEV": "BENCEB",
                                    "NEV": "Bajusz Bence",
                                    "SZUL_DAT": "1973-06-21",
                                    "Elso_foglalas": "2016-05-14",
                                    "Utolso_foglalas": "2017-02-12"
                                },
                                {
                                    "USERNEV": "bernadett1",
                                    "NEV": "Simon Bernadett",
                                    "SZUL_DAT": "1984-10-13",
                                    "Elso_foglalas": "2016-06-12",
                                    "Utolso_foglalas": "2017-02-24"
                                },
                                {
                                    "USERNEV": "bernadett2",
                                    "NEV": "Kovács Bernadett",
                                    "SZUL_DAT": "1996-08-20",
                                    "Elso_foglalas": "2016-05-01",
                                    "Utolso_foglalas": "2017-01-24"
                                },
                                {
                                    "USERNEV": "BERNADETTO",
                                    "NEV": "Orbán Bernadett",
                                    "SZUL_DAT": "1987-12-07",
                                    "Elso_foglalas": "2016-04-10",
                                    "Utolso_foglalas": "2017-01-28"
                                },
                                {
                                    "USERNEV": "bertalan",
                                    "NEV": "Csiger Bertalan",
                                    "SZUL_DAT": "1977-10-15",
                                    "Elso_foglalas": "2016-05-18",
                                    "Utolso_foglalas": "2017-02-20"
                                },
                                {
                                    "USERNEV": "brigitta",
                                    "NEV": "Székely Brigitta",
                                    "SZUL_DAT": "1978-09-13",
                                    "Elso_foglalas": "2016-05-30",
                                    "Utolso_foglalas": "2017-01-23"
                                },
                                {
                                    "USERNEV": "brigitta3",
                                    "NEV": "Pataki Brigitta",
                                    "SZUL_DAT": "1991-05-23",
                                    "Elso_foglalas": "2016-06-01",
                                    "Utolso_foglalas": "2017-02-09"
                                },
                                {
                                    "USERNEV": "csongor3",
                                    "NEV": "Nagymihály Csongor",
                                    "SZUL_DAT": "1984-03-05",
                                    "Elso_foglalas": "2016-05-01",
                                    "Utolso_foglalas": "2017-02-13"
                                },
                                {
                                    "USERNEV": "dani",
                                    "NEV": "Vörös Dániel",
                                    "SZUL_DAT": "1986-10-14",
                                    "Elso_foglalas": "2016-06-06",
                                    "Utolso_foglalas": "2017-02-25"
                                },
                                {
                                    "USERNEV": "daniel",
                                    "NEV": "Rácz Dániel",
                                    "SZUL_DAT": "1978-11-28",
                                    "Elso_foglalas": "2016-04-10",
                                    "Utolso_foglalas": "2017-02-20"
                                },
                                {
                                    "USERNEV": "daniel1",
                                    "NEV": "Keszler Dániel",
                                    "SZUL_DAT": "1969-07-16",
                                    "Elso_foglalas": "2016-04-10",
                                    "Utolso_foglalas": "2017-03-01"
                                },
                                {
                                    "USERNEV": "david",
                                    "NEV": "Ambrus Dávid",
                                    "SZUL_DAT": "1974-02-11",
                                    "Elso_foglalas": "2016-05-18",
                                    "Utolso_foglalas": "2017-01-18"
                                },
                                {
                                    "USERNEV": "david1",
                                    "NEV": "Sobják Dávid",
                                    "SZUL_DAT": "1970-08-16",
                                    "Elso_foglalas": "2016-09-20",
                                    "Utolso_foglalas": "2017-02-25"
                                },
                                {
                                    "USERNEV": "david4",
                                    "NEV": "Berta Dávid",
                                    "SZUL_DAT": "1990-10-08",
                                    "Elso_foglalas": "2017-02-16",
                                    "Utolso_foglalas": "2017-02-16"
                                },
                                {
                                    "USERNEV": "debora",
                                    "NEV": "Barna Debóra",
                                    "SZUL_DAT": "1976-10-14",
                                    "Elso_foglalas": "2016-06-22",
                                    "Utolso_foglalas": "2017-02-04"
                                },
                                {
                                    "USERNEV": "denes",
                                    "NEV": "Tömböly Dénes",
                                    "SZUL_DAT": "1975-03-14",
                                    "Elso_foglalas": "2016-05-27",
                                    "Utolso_foglalas": "2016-11-06"
                                },
                                {
                                    "USERNEV": "dora3",
                                    "NEV": "Sarodi Dóra",
                                    "SZUL_DAT": "1995-05-18",
                                    "Elso_foglalas": "2016-08-16",
                                    "Utolso_foglalas": "2016-11-22"
                                },
                                {
                                    "USERNEV": "edit",
                                    "NEV": "Bittmann Edit",
                                    "SZUL_DAT": "1984-04-20",
                                    "Elso_foglalas": "2016-07-14",
                                    "Utolso_foglalas": "2017-02-08"
                                },
                                {
                                    "USERNEV": "emese",
                                    "NEV": "Kuruc Emese",
                                    "SZUL_DAT": "1989-08-10",
                                    "Elso_foglalas": "2016-07-22",
                                    "Utolso_foglalas": "2017-01-30"
                                },
                                {
                                    "USERNEV": "eszter",
                                    "NEV": "Molnár Eszter",
                                    "SZUL_DAT": "1987-05-10",
                                    "Elso_foglalas": "2016-08-12",
                                    "Utolso_foglalas": "2016-12-23"
                                },
                                {
                                    "USERNEV": "eszter2",
                                    "NEV": "Balogh Eszter",
                                    "SZUL_DAT": "1998-01-31",
                                    "Elso_foglalas": "2016-06-30",
                                    "Utolso_foglalas": "2016-12-29"
                                },
                                {
                                    "USERNEV": "eszter4",
                                    "NEV": "Fülöp Eszter",
                                    "SZUL_DAT": "1993-06-28",
                                    "Elso_foglalas": "2017-01-05",
                                    "Utolso_foglalas": "2017-02-26"
                                },
                                {
                                    "USERNEV": "ESZTERE",
                                    "NEV": "Érsek Eszter",
                                    "SZUL_DAT": "1978-08-28",
                                    "Elso_foglalas": "2016-05-30",
                                    "Utolso_foglalas": "2017-02-10"
                                },
                                {
                                    "USERNEV": "eva",
                                    "NEV": "Enyedi Éva",
                                    "SZUL_DAT": "1967-06-30",
                                    "Elso_foglalas": "2016-10-06",
                                    "Utolso_foglalas": "2017-01-14"
                                },
                                {
                                    "USERNEV": "eva2",
                                    "NEV": "Perlinger Éva",
                                    "SZUL_DAT": "1971-08-19",
                                    "Elso_foglalas": "2016-09-02",
                                    "Utolso_foglalas": "2017-01-06"
                                },
                                {
                                    "USERNEV": "EVAV",
                                    "NEV": "Viktor Éva",
                                    "SZUL_DAT": "1980-12-26",
                                    "Elso_foglalas": "2016-05-01",
                                    "Utolso_foglalas": "2017-02-04"
                                },
                                {
                                    "USERNEV": "ferenc1",
                                    "NEV": "Orosz Ferenc",
                                    "SZUL_DAT": "1983-10-08",
                                    "Elso_foglalas": "2016-05-08",
                                    "Utolso_foglalas": "2016-11-07"
                                },
                                {
                                    "USERNEV": "fruzsina4",
                                    "NEV": "Frank Fruzsina",
                                    "SZUL_DAT": "1996-08-16",
                                    "Elso_foglalas": "2016-06-02",
                                    "Utolso_foglalas": "2017-01-22"
                                },
                                {
                                    "USERNEV": "gabor1",
                                    "NEV": "Köves Gábor",
                                    "SZUL_DAT": "1973-07-15",
                                    "Elso_foglalas": "2016-06-20",
                                    "Utolso_foglalas": "2016-11-19"
                                },
                                {
                                    "USERNEV": "gabor4",
                                    "NEV": "Telek Gábor",
                                    "SZUL_DAT": "1987-03-15",
                                    "Elso_foglalas": "2016-04-26",
                                    "Utolso_foglalas": "2016-11-07"
                                },
                                {
                                    "USERNEV": "GABORS",
                                    "NEV": "Szöllősi Gábor",
                                    "SZUL_DAT": "1990-05-31",
                                    "Elso_foglalas": "NULL",
                                    "Utolso_foglalas": "NULL"
                                },
                                {
                                    "USERNEV": "gabriella1",
                                    "NEV": "Nagy Gabriella",
                                    "SZUL_DAT": "1982-11-01",
                                    "Elso_foglalas": "2016-04-21",
                                    "Utolso_foglalas": "2017-02-21"
                                },
                                {
                                    "USERNEV": "gabriella10",
                                    "NEV": "Vida Gabriella",
                                    "SZUL_DAT": "1969-06-18",
                                    "Elso_foglalas": "2016-10-01",
                                    "Utolso_foglalas": "2016-10-01"
                                },
                                {
                                    "USERNEV": "georgij",
                                    "NEV": "Nyíri Georgij",
                                    "SZUL_DAT": "1983-02-23",
                                    "Elso_foglalas": "2016-06-16",
                                    "Utolso_foglalas": "2016-09-18"
                                },
                                {
                                    "USERNEV": "gusztav",
                                    "NEV": "Bárci Gusztáv",
                                    "SZUL_DAT": "1967-02-25",
                                    "Elso_foglalas": "2016-05-06",
                                    "Utolso_foglalas": "2017-02-23"
                                },
                                {
                                    "USERNEV": "GYONGYIK",
                                    "NEV": "Kornseé Gyöngyi",
                                    "SZUL_DAT": "1974-06-07",
                                    "Elso_foglalas": "2016-06-02",
                                    "Utolso_foglalas": "2017-01-22"
                                },
                                {
                                    "USERNEV": "GYORGYO",
                                    "NEV": "Oroszi György",
                                    "SZUL_DAT": "1980-03-23",
                                    "Elso_foglalas": "2016-05-27",
                                    "Utolso_foglalas": "2017-02-24"
                                },
                                {
                                    "USERNEV": "henrik3",
                                    "NEV": "Nádudvari Henrik",
                                    "SZUL_DAT": "1986-12-05",
                                    "Elso_foglalas": "2016-08-24",
                                    "Utolso_foglalas": "2017-01-27"
                                },
                                {
                                    "USERNEV": "IBOLYAA",
                                    "NEV": "Andor Ibolya",
                                    "SZUL_DAT": "1983-11-27",
                                    "Elso_foglalas": "2016-08-29",
                                    "Utolso_foglalas": "2017-01-17"
                                },
                                {
                                    "USERNEV": "ilona3",
                                    "NEV": "Bosnyák Ilona",
                                    "SZUL_DAT": "1990-08-06",
                                    "Elso_foglalas": "2016-07-31",
                                    "Utolso_foglalas": "2016-12-25"
                                },
                                {
                                    "USERNEV": "imre",
                                    "NEV": "Búza Imre",
                                    "SZUL_DAT": "1988-09-30",
                                    "Elso_foglalas": "2016-09-17",
                                    "Utolso_foglalas": "2016-10-28"
                                },
                                {
                                    "USERNEV": "imre1",
                                    "NEV": "Papp Imre",
                                    "SZUL_DAT": "1976-06-25",
                                    "Elso_foglalas": "2016-06-23",
                                    "Utolso_foglalas": "2017-02-05"
                                },
                                {
                                    "USERNEV": "istvan",
                                    "NEV": "Soós István",
                                    "SZUL_DAT": "1986-06-28",
                                    "Elso_foglalas": "2016-10-07",
                                    "Utolso_foglalas": "2017-01-02"
                                },
                                {
                                    "USERNEV": "istvan1",
                                    "NEV": "Vizi István",
                                    "SZUL_DAT": "1997-12-01",
                                    "Elso_foglalas": "2016-04-16",
                                    "Utolso_foglalas": "2017-02-07"
                                },
                                {
                                    "USERNEV": "ISTVANV",
                                    "NEV": "Varga István",
                                    "SZUL_DAT": "1989-04-09",
                                    "Elso_foglalas": "2016-07-01",
                                    "Utolso_foglalas": "2016-09-29"
                                },
                                {
                                    "USERNEV": "janos3",
                                    "NEV": "Harangozó János",
                                    "SZUL_DAT": "1967-11-02",
                                    "Elso_foglalas": "2016-06-04",
                                    "Utolso_foglalas": "2017-02-12"
                                },
                                {
                                    "USERNEV": "JANOSG",
                                    "NEV": "Giliga János",
                                    "SZUL_DAT": "1975-01-03",
                                    "Elso_foglalas": "2016-05-09",
                                    "Utolso_foglalas": "2017-01-31"
                                },
                                {
                                    "USERNEV": "JANOSP",
                                    "NEV": "Pálinkás János",
                                    "SZUL_DAT": "1984-10-12",
                                    "Elso_foglalas": "2016-07-04",
                                    "Utolso_foglalas": "2016-12-18"
                                },
                                {
                                    "USERNEV": "jozsef",
                                    "NEV": "Gergely József",
                                    "SZUL_DAT": "1985-11-01",
                                    "Elso_foglalas": "2016-09-13",
                                    "Utolso_foglalas": "2016-12-06"
                                },
                                {
                                    "USERNEV": "jozsef2",
                                    "NEV": "Vajda József",
                                    "SZUL_DAT": "1978-09-04",
                                    "Elso_foglalas": "2016-07-06",
                                    "Utolso_foglalas": "2016-11-25"
                                },
                                {
                                    "USERNEV": "JOZSEFG",
                                    "NEV": "Gyuris József",
                                    "SZUL_DAT": "1975-05-26",
                                    "Elso_foglalas": "2016-05-02",
                                    "Utolso_foglalas": "2017-02-24"
                                },
                                {
                                    "USERNEV": "JUDITH",
                                    "NEV": "Hídasi Judit",
                                    "SZUL_DAT": "1997-07-12",
                                    "Elso_foglalas": "2016-06-06",
                                    "Utolso_foglalas": "2016-12-19"
                                },
                                {
                                    "USERNEV": "julia",
                                    "NEV": "Tóth Júlia",
                                    "SZUL_DAT": "1993-03-02",
                                    "Elso_foglalas": "2016-04-21",
                                    "Utolso_foglalas": "2017-02-27"
                                },
                                {
                                    "USERNEV": "julia4",
                                    "NEV": "Nagy Júlia",
                                    "SZUL_DAT": "1985-08-11",
                                    "Elso_foglalas": "2016-11-07",
                                    "Utolso_foglalas": "2017-02-04"
                                },
                                {
                                    "USERNEV": "julianna4",
                                    "NEV": "Szabó Julianna",
                                    "SZUL_DAT": "1990-09-29",
                                    "Elso_foglalas": "2016-07-20",
                                    "Utolso_foglalas": "2016-11-27"
                                },
                                {
                                    "USERNEV": "kata",
                                    "NEV": "Gondos Katalin",
                                    "SZUL_DAT": "1968-06-22",
                                    "Elso_foglalas": "2016-04-10",
                                    "Utolso_foglalas": "2017-01-15"
                                },
                                {
                                    "USERNEV": "katalin",
                                    "NEV": "Horváth Katalin",
                                    "SZUL_DAT": "1968-01-01",
                                    "Elso_foglalas": "2016-04-10",
                                    "Utolso_foglalas": "2017-02-24"
                                },
                                {
                                    "USERNEV": "katalin4",
                                    "NEV": "Kertész Katalin",
                                    "SZUL_DAT": "1986-04-13",
                                    "Elso_foglalas": "2016-07-01",
                                    "Utolso_foglalas": "2017-01-24"
                                },
                                {
                                    "USERNEV": "kati",
                                    "NEV": "Zatykó Katalin",
                                    "SZUL_DAT": "1995-05-01",
                                    "Elso_foglalas": "2016-06-06",
                                    "Utolso_foglalas": "2016-10-30"
                                },
                                {
                                    "USERNEV": "katka",
                                    "NEV": "Kovács Katalin",
                                    "SZUL_DAT": "1975-03-31",
                                    "Elso_foglalas": "2016-04-10",
                                    "Utolso_foglalas": "2017-01-19"
                                },
                                {
                                    "USERNEV": "klaudia2",
                                    "NEV": "Bakó Klaudia",
                                    "SZUL_DAT": "1982-04-16",
                                    "Elso_foglalas": "2016-06-06",
                                    "Utolso_foglalas": "2016-10-02"
                                },
                                {
                                    "USERNEV": "kornel4",
                                    "NEV": "Lukács Kornél",
                                    "SZUL_DAT": "1975-09-30",
                                    "Elso_foglalas": "2016-05-08",
                                    "Utolso_foglalas": "2016-09-23"
                                },
                                {
                                    "USERNEV": "kristof4",
                                    "NEV": "Poprádi Kristóf",
                                    "SZUL_DAT": "1984-01-15",
                                    "Elso_foglalas": "2016-04-08",
                                    "Utolso_foglalas": "2016-09-30"
                                },
                                {
                                    "USERNEV": "kriszti",
                                    "NEV": "Horváth Krisztina",
                                    "SZUL_DAT": "1978-06-12",
                                    "Elso_foglalas": "2016-05-19",
                                    "Utolso_foglalas": "2017-03-03"
                                },
                                {
                                    "USERNEV": "krisztian4",
                                    "NEV": "Czérna Krisztián",
                                    "SZUL_DAT": "1970-08-01",
                                    "Elso_foglalas": "2016-06-03",
                                    "Utolso_foglalas": "2017-02-23"
                                },
                                {
                                    "USERNEV": "KRISZTIANM",
                                    "NEV": "Mogyródi Krisztián",
                                    "SZUL_DAT": "1968-05-27",
                                    "Elso_foglalas": "2016-04-09",
                                    "Utolso_foglalas": "2017-01-16"
                                },
                                {
                                    "USERNEV": "krisztina",
                                    "NEV": "Szedlár Krisztina",
                                    "SZUL_DAT": "1979-05-10",
                                    "Elso_foglalas": "2016-05-21",
                                    "Utolso_foglalas": "2017-02-16"
                                },
                                {
                                    "USERNEV": "krisztina1",
                                    "NEV": "Bori Krisztina",
                                    "SZUL_DAT": "1969-10-13",
                                    "Elso_foglalas": "2016-04-28",
                                    "Utolso_foglalas": "2017-01-21"
                                },
                                {
                                    "USERNEV": "KRISZTINAG",
                                    "NEV": "Gyárfás Krisztina",
                                    "SZUL_DAT": "1987-09-19",
                                    "Elso_foglalas": "2016-04-23",
                                    "Utolso_foglalas": "2017-01-25"
                                },
                                {
                                    "USERNEV": "lajos",
                                    "NEV": "Kiss Lajos",
                                    "SZUL_DAT": "1978-10-31",
                                    "Elso_foglalas": "2016-07-18",
                                    "Utolso_foglalas": "2017-02-12"
                                },
                                {
                                    "USERNEV": "lala",
                                    "NEV": "Nagymihály Lajos",
                                    "SZUL_DAT": "1997-02-24",
                                    "Elso_foglalas": "2016-06-16",
                                    "Utolso_foglalas": "2017-01-17"
                                },
                                {
                                    "USERNEV": "laszlo1",
                                    "NEV": "Farkas László",
                                    "SZUL_DAT": "1967-10-30",
                                    "Elso_foglalas": "2016-09-23",
                                    "Utolso_foglalas": "2016-09-23"
                                },
                                {
                                    "USERNEV": "laszlo2",
                                    "NEV": "Móra László",
                                    "SZUL_DAT": "1975-02-19",
                                    "Elso_foglalas": "2016-04-06",
                                    "Utolso_foglalas": "2016-11-25"
                                },
                                {
                                    "USERNEV": "LASZLOA",
                                    "NEV": "Antal László",
                                    "SZUL_DAT": "1969-06-29",
                                    "Elso_foglalas": "2016-06-03",
                                    "Utolso_foglalas": "2017-02-08"
                                },
                                {
                                    "USERNEV": "LASZLON",
                                    "NEV": "Nagy László",
                                    "SZUL_DAT": "1969-04-12",
                                    "Elso_foglalas": "2016-06-03",
                                    "Utolso_foglalas": "2017-02-18"
                                },
                                {
                                    "USERNEV": "maria1",
                                    "NEV": "Baráth Mária",
                                    "SZUL_DAT": "1995-11-19",
                                    "Elso_foglalas": "2016-05-13",
                                    "Utolso_foglalas": "2017-02-24"
                                },
                                {
                                    "USERNEV": "mark",
                                    "NEV": "Kispál Márk",
                                    "SZUL_DAT": "1996-01-23",
                                    "Elso_foglalas": "2016-04-19",
                                    "Utolso_foglalas": "2016-11-19"
                                },
                                {
                                    "USERNEV": "MARKH",
                                    "NEV": "Horváth Márk",
                                    "SZUL_DAT": "1997-09-23",
                                    "Elso_foglalas": "2016-09-14",
                                    "Utolso_foglalas": "2017-01-22"
                                },
                                {
                                    "USERNEV": "marton",
                                    "NEV": "Kalacsi Márton",
                                    "SZUL_DAT": "1989-06-24",
                                    "Elso_foglalas": "2016-04-27",
                                    "Utolso_foglalas": "2017-03-02"
                                },
                                {
                                    "USERNEV": "MATEK",
                                    "NEV": "Koza Máté",
                                    "SZUL_DAT": "1997-02-28",
                                    "Elso_foglalas": "2016-08-17",
                                    "Utolso_foglalas": "2017-01-16"
                                },
                                {
                                    "USERNEV": "matyas2",
                                    "NEV": "Botka Mátyás",
                                    "SZUL_DAT": "1972-07-07",
                                    "Elso_foglalas": "2016-07-13",
                                    "Utolso_foglalas": "2016-12-09"
                                },
                                {
                                    "USERNEV": "MATYASS",
                                    "NEV": "Szilágyi Mátyás",
                                    "SZUL_DAT": "1975-03-22",
                                    "Elso_foglalas": "2016-05-10",
                                    "Utolso_foglalas": "2017-01-09"
                                },
                                {
                                    "USERNEV": "MIHALYJ",
                                    "NEV": "Juhász Mihály",
                                    "SZUL_DAT": "1979-10-12",
                                    "Elso_foglalas": "2016-05-30",
                                    "Utolso_foglalas": "2017-02-06"
                                },
                                {
                                    "USERNEV": "miklos2",
                                    "NEV": "Gondos Miklós",
                                    "SZUL_DAT": "1995-10-07",
                                    "Elso_foglalas": "2016-04-19",
                                    "Utolso_foglalas": "2016-11-16"
                                },
                                {
                                    "USERNEV": "MIKLOSB",
                                    "NEV": "Balla Miklós",
                                    "SZUL_DAT": "1979-02-16",
                                    "Elso_foglalas": "2016-06-26",
                                    "Utolso_foglalas": "2016-12-05"
                                },
                                {
                                    "USERNEV": "MONIKAM",
                                    "NEV": "Mohos Mónika",
                                    "SZUL_DAT": "1974-10-01",
                                    "Elso_foglalas": "2016-04-29",
                                    "Utolso_foglalas": "2017-02-23"
                                },
                                {
                                    "USERNEV": "NANDORF",
                                    "NEV": "Fő Nándor",
                                    "SZUL_DAT": "1968-11-12",
                                    "Elso_foglalas": "2016-04-06",
                                    "Utolso_foglalas": "2017-02-05"
                                },
                                {
                                    "USERNEV": "nikolett3",
                                    "NEV": "Horváth Nikolett",
                                    "SZUL_DAT": "1981-09-29",
                                    "Elso_foglalas": "2016-05-24",
                                    "Utolso_foglalas": "2016-10-22"
                                },
                                {
                                    "USERNEV": "nikoletta4",
                                    "NEV": "Kő Nikoletta",
                                    "SZUL_DAT": "1972-01-10",
                                    "Elso_foglalas": "2016-04-08",
                                    "Utolso_foglalas": "2017-02-01"
                                },
                                {
                                    "USERNEV": "NIKOLETTAT",
                                    "NEV": "Tatár Nikoletta",
                                    "SZUL_DAT": "1997-10-19",
                                    "Elso_foglalas": "2016-05-22",
                                    "Utolso_foglalas": "2016-09-21"
                                },
                                {
                                    "USERNEV": "norbert",
                                    "NEV": "Szűcs Norbert",
                                    "SZUL_DAT": "1969-07-17",
                                    "Elso_foglalas": "2016-07-08",
                                    "Utolso_foglalas": "2017-02-26"
                                },
                                {
                                    "USERNEV": "norbert2",
                                    "NEV": "Hegedűs Norbert",
                                    "SZUL_DAT": "1991-07-17",
                                    "Elso_foglalas": "2016-04-19",
                                    "Utolso_foglalas": "2017-01-29"
                                },
                                {
                                    "USERNEV": "norbert4",
                                    "NEV": "Mile Norbert",
                                    "SZUL_DAT": "1983-06-15",
                                    "Elso_foglalas": "2016-04-10",
                                    "Utolso_foglalas": "2017-03-03"
                                },
                                {
                                    "USERNEV": "norbert5",
                                    "NEV": "Béres Norbert",
                                    "SZUL_DAT": "1975-07-27",
                                    "Elso_foglalas": "2016-06-24",
                                    "Utolso_foglalas": "2016-11-05"
                                },
                                {
                                    "USERNEV": "pal",
                                    "NEV": "Barabás Pál",
                                    "SZUL_DAT": "1968-02-06",
                                    "Elso_foglalas": "2016-08-14",
                                    "Utolso_foglalas": "2017-02-20"
                                },
                                {
                                    "USERNEV": "peter1",
                                    "NEV": "Kozma Péter",
                                    "SZUL_DAT": "1976-03-18",
                                    "Elso_foglalas": "2016-07-14",
                                    "Utolso_foglalas": "2017-02-28"
                                },
                                {
                                    "USERNEV": "peter2",
                                    "NEV": "Bozsó Péter",
                                    "SZUL_DAT": "1976-01-26",
                                    "Elso_foglalas": "2016-07-03",
                                    "Utolso_foglalas": "2016-11-15"
                                },
                                {
                                    "USERNEV": "peter3",
                                    "NEV": "Szalai Péter",
                                    "SZUL_DAT": "1983-07-18",
                                    "Elso_foglalas": "2016-06-30",
                                    "Utolso_foglalas": "2017-02-21"
                                },
                                {
                                    "USERNEV": "peter4",
                                    "NEV": "Bíró Péter",
                                    "SZUL_DAT": "1985-09-01",
                                    "Elso_foglalas": "2016-04-12",
                                    "Utolso_foglalas": "2017-02-05"
                                },
                                {
                                    "USERNEV": "PETERB",
                                    "NEV": "Berendi Péter",
                                    "SZUL_DAT": "1969-01-01",
                                    "Elso_foglalas": "2016-04-06",
                                    "Utolso_foglalas": "2016-11-17"
                                },
                                {
                                    "USERNEV": "polla",
                                    "NEV": "Palágyi Polla",
                                    "SZUL_DAT": "1994-02-04",
                                    "Elso_foglalas": "2016-04-17",
                                    "Utolso_foglalas": "2017-02-11"
                                },
                                {
                                    "USERNEV": "rajmond4",
                                    "NEV": "Rácz Rajmond",
                                    "SZUL_DAT": "1993-09-25",
                                    "Elso_foglalas": "2016-09-05",
                                    "Utolso_foglalas": "2016-11-16"
                                },
                                {
                                    "USERNEV": "reka4",
                                    "NEV": "Szikszai Réka",
                                    "SZUL_DAT": "1969-11-27",
                                    "Elso_foglalas": "2016-07-27",
                                    "Utolso_foglalas": "2017-02-26"
                                },
                                {
                                    "USERNEV": "RENATAK",
                                    "NEV": "Kardos Renáta",
                                    "SZUL_DAT": "1988-05-17",
                                    "Elso_foglalas": "2016-10-27",
                                    "Utolso_foglalas": "2017-03-01"
                                },
                                {
                                    "USERNEV": "RENATAS",
                                    "NEV": "Szirmai Renáta",
                                    "SZUL_DAT": "1991-03-26",
                                    "Elso_foglalas": "2016-05-04",
                                    "Utolso_foglalas": "2017-02-14"
                                },
                                {
                                    "USERNEV": "robert2",
                                    "NEV": "Patay Róbert",
                                    "SZUL_DAT": "1977-01-08",
                                    "Elso_foglalas": "2016-05-15",
                                    "Utolso_foglalas": "2016-12-17"
                                },
                                {
                                    "USERNEV": "ROBERTI",
                                    "NEV": "Iván Róbert",
                                    "SZUL_DAT": "1967-07-02",
                                    "Elso_foglalas": "2016-07-12",
                                    "Utolso_foglalas": "2017-02-17"
                                },
                                {
                                    "USERNEV": "ROBERTP",
                                    "NEV": "Pásztor Róbert",
                                    "SZUL_DAT": "1972-05-16",
                                    "Elso_foglalas": "2016-07-30",
                                    "Utolso_foglalas": "2016-09-08"
                                },
                                {
                                    "USERNEV": "roland",
                                    "NEV": "Tóth Roland",
                                    "SZUL_DAT": "1968-03-21",
                                    "Elso_foglalas": "2016-06-09",
                                    "Utolso_foglalas": "2016-11-19"
                                },
                                {
                                    "USERNEV": "roland1",
                                    "NEV": "Ferencz Roland",
                                    "SZUL_DAT": "1985-12-31",
                                    "Elso_foglalas": "2016-11-05",
                                    "Utolso_foglalas": "2017-01-16"
                                },
                                {
                                    "USERNEV": "roza2",
                                    "NEV": "Bucskó Róza",
                                    "SZUL_DAT": "1988-12-26",
                                    "Elso_foglalas": "2016-09-10",
                                    "Utolso_foglalas": "2017-02-18"
                                },
                                {
                                    "USERNEV": "sandor",
                                    "NEV": "Karasz Sándor",
                                    "SZUL_DAT": "1970-01-27",
                                    "Elso_foglalas": "2016-07-04",
                                    "Utolso_foglalas": "2016-09-19"
                                },
                                {
                                    "USERNEV": "sandor3",
                                    "NEV": "Farkas Sándor",
                                    "SZUL_DAT": "1989-01-27",
                                    "Elso_foglalas": "2016-05-12",
                                    "Utolso_foglalas": "2016-11-10"
                                },
                                {
                                    "USERNEV": "sandor4",
                                    "NEV": "Nagy Sándor",
                                    "SZUL_DAT": "1997-06-11",
                                    "Elso_foglalas": "2016-10-15",
                                    "Utolso_foglalas": "2017-01-22"
                                },
                                {
                                    "USERNEV": "sara",
                                    "NEV": "Farkas Sára",
                                    "SZUL_DAT": "1973-04-05",
                                    "Elso_foglalas": "2016-05-28",
                                    "Utolso_foglalas": "2016-12-25"
                                },
                                {
                                    "USERNEV": "SEBASTIANF",
                                    "NEV": "Foltényi Sebastián",
                                    "SZUL_DAT": "1992-09-09",
                                    "Elso_foglalas": "2016-04-06",
                                    "Utolso_foglalas": "2016-09-17"
                                },
                                {
                                    "USERNEV": "sebestyen",
                                    "NEV": "Rab Sebestyén",
                                    "SZUL_DAT": "1992-03-03",
                                    "Elso_foglalas": "2016-04-07",
                                    "Utolso_foglalas": "2016-10-26"
                                },
                                {
                                    "USERNEV": "szabolcs",
                                    "NEV": "Bodor Szabolcs",
                                    "SZUL_DAT": "1990-07-16",
                                    "Elso_foglalas": "2016-12-05",
                                    "Utolso_foglalas": "2016-12-05"
                                },
                                {
                                    "USERNEV": "SZABOLCSM",
                                    "NEV": "Miklós Szabolcs",
                                    "SZUL_DAT": "1980-08-11",
                                    "Elso_foglalas": "2016-06-18",
                                    "Utolso_foglalas": "2017-02-04"
                                },
                                {
                                    "USERNEV": "SZILARDS",
                                    "NEV": "Szalai Szilárd",
                                    "SZUL_DAT": "1967-09-28",
                                    "Elso_foglalas": "2016-04-23",
                                    "Utolso_foglalas": "2017-02-08"
                                },
                                {
                                    "USERNEV": "szilvia1",
                                    "NEV": "Tari Szilvia",
                                    "SZUL_DAT": "1971-03-09",
                                    "Elso_foglalas": "2016-05-14",
                                    "Utolso_foglalas": "2017-01-28"
                                },
                                {
                                    "USERNEV": "tamara2",
                                    "NEV": "Miklós Tamara",
                                    "SZUL_DAT": "1980-08-11",
                                    "Elso_foglalas": "2016-08-12",
                                    "Utolso_foglalas": "2016-11-15"
                                },
                                {
                                    "USERNEV": "tamas",
                                    "NEV": "Antal Tamás",
                                    "SZUL_DAT": "1984-09-05",
                                    "Elso_foglalas": "2016-05-17",
                                    "Utolso_foglalas": "2017-02-14"
                                },
                                {
                                    "USERNEV": "TAMASF",
                                    "NEV": "Fényes Tamás",
                                    "SZUL_DAT": "1997-11-06",
                                    "Elso_foglalas": "2016-05-03",
                                    "Utolso_foglalas": "2017-02-16"
                                },
                                {
                                    "USERNEV": "tibor",
                                    "NEV": "Gombos Tibor",
                                    "SZUL_DAT": "1993-11-28",
                                    "Elso_foglalas": "2016-10-09",
                                    "Utolso_foglalas": "2016-11-05"
                                },
                                {
                                    "USERNEV": "tibor2",
                                    "NEV": "Dániel Tibor",
                                    "SZUL_DAT": "1985-02-02",
                                    "Elso_foglalas": "2016-10-20",
                                    "Utolso_foglalas": "2016-10-20"
                                },
                                {
                                    "USERNEV": "tihamer",
                                    "NEV": "Kazy Tihamér",
                                    "SZUL_DAT": "1991-07-05",
                                    "Elso_foglalas": "2016-05-30",
                                    "Utolso_foglalas": "2016-12-25"
                                },
                                {
                                    "USERNEV": "timea",
                                    "NEV": "Papós Tímea",
                                    "SZUL_DAT": "1996-01-08",
                                    "Elso_foglalas": "2016-12-26",
                                    "Utolso_foglalas": "2016-12-26"
                                },
                                {
                                    "USERNEV": "timea2",
                                    "NEV": "Dusha Tímea",
                                    "SZUL_DAT": "1975-08-22",
                                    "Elso_foglalas": "2016-06-06",
                                    "Utolso_foglalas": "2016-12-14"
                                },
                                {
                                    "USERNEV": "tunde",
                                    "NEV": "Turcsik Tünde",
                                    "SZUL_DAT": "1974-02-12",
                                    "Elso_foglalas": "2016-06-03",
                                    "Utolso_foglalas": "2017-01-03"
                                },
                                {
                                    "USERNEV": "valentin",
                                    "NEV": "Feró Valentin",
                                    "SZUL_DAT": "1986-01-09",
                                    "Elso_foglalas": "2016-05-24",
                                    "Utolso_foglalas": "2016-12-01"
                                },
                                {
                                    "USERNEV": "veronika4",
                                    "NEV": "Tankó Veronika",
                                    "SZUL_DAT": "1983-08-28",
                                    "Elso_foglalas": "2016-05-30",
                                    "Utolso_foglalas": "2017-02-03"
                                },
                                {
                                    "USERNEV": "VIKTORIAU",
                                    "NEV": "Urbán Viktoria",
                                    "SZUL_DAT": "1996-05-03",
                                    "Elso_foglalas": "2016-04-30",
                                    "Utolso_foglalas": "2016-10-26"
                                },
                                {
                                    "USERNEV": "VIKTORK",
                                    "NEV": "Keresztúri Viktor",
                                    "SZUL_DAT": "1989-05-05",
                                    "Elso_foglalas": "2016-05-30",
                                    "Utolso_foglalas": "2016-06-06"
                                },
                                {
                                    "USERNEV": "vivien3",
                                    "NEV": "Boros Vivien",
                                    "SZUL_DAT": "1991-07-01",
                                    "Elso_foglalas": "2016-05-02",
                                    "Utolso_foglalas": "2016-12-24"
                                },
                                {
                                    "USERNEV": "zoltan",
                                    "NEV": "Fodor Zoltán",
                                    "SZUL_DAT": "1979-11-25",
                                    "Elso_foglalas": "2016-08-24",
                                    "Utolso_foglalas": "2016-09-05"
                                },
                                {
                                    "USERNEV": "zoltan4",
                                    "NEV": "Barna Zoltán",
                                    "SZUL_DAT": "1986-05-20",
                                    "Elso_foglalas": "2016-05-12",
                                    "Utolso_foglalas": "2017-01-01"
                                },
                                {
                                    "USERNEV": "ZOLTANP",
                                    "NEV": "Pintér Zoltán",
                                    "SZUL_DAT": "1977-06-07",
                                    "Elso_foglalas": "2016-06-05",
                                    "Utolso_foglalas": "2016-12-25"
                                },
                                {
                                    "USERNEV": "ZOLTANT",
                                    "NEV": "Tóth Zoltán",
                                    "SZUL_DAT": "1985-12-14",
                                    "Elso_foglalas": "2016-05-01",
                                    "Utolso_foglalas": "2017-01-16"
                                },
                                {
                                    "USERNEV": "zsofi1",
                                    "NEV": "Molnár Zsófi",
                                    "SZUL_DAT": "1983-11-17",
                                    "Elso_foglalas": "2016-06-16",
                                    "Utolso_foglalas": "2017-02-18"
                                },
                                {
                                    "USERNEV": "zsolt1",
                                    "NEV": "Pulai Zsolt",
                                    "SZUL_DAT": "1988-05-27",
                                    "Elso_foglalas": "2016-04-14",
                                    "Utolso_foglalas": "2016-07-31"
                                },
                                {
                                    "USERNEV": "ZSOLTJ",
                                    "NEV": "Józsa Zsolt",
                                    "SZUL_DAT": "1983-09-29",
                                    "Elso_foglalas": "2016-04-24",
                                    "Utolso_foglalas": "2016-10-01"
                                },
                                {
                                    "USERNEV": "zsuzsa",
                                    "NEV": "Pusztai Zsuzsanna",
                                    "SZUL_DAT": "1980-09-17",
                                    "Elso_foglalas": "2016-07-24",
                                    "Utolso_foglalas": "2016-11-28"
                                },
                                {
                                    "USERNEV": "zsuzsa3",
                                    "NEV": "Varsányi Zsuzsa",
                                    "SZUL_DAT": "1979-03-06",
                                    "Elso_foglalas": "2016-07-30",
                                    "Utolso_foglalas": "2016-10-27"
                                },
                                {
                                    "USERNEV": "zsuzsanna",
                                    "NEV": "Barta Zsuzsanna",
                                    "SZUL_DAT": "1994-10-07",
                                    "Elso_foglalas": "2016-05-17",
                                    "Utolso_foglalas": "2017-01-16"
                                },
                                {
                                    "USERNEV": "ZSUZSAV",
                                    "NEV": "Vajda Zsuzsa",
                                    "SZUL_DAT": "1976-12-11",
                                    "Elso_foglalas": "2016-04-14",
                                    "Utolso_foglalas": "2016-11-21"
                                }
                            ]
                        },
                        "text/html": [
                            "<table>",
                            "<tr><th>USERNEV</th><th>NEV</th><th>SZUL_DAT</th><th>Elso_foglalas</th><th>Utolso_foglalas</th></tr>",
                            "<tr><td>adam1</td><td>Kiss Ádám</td><td>1991-12-28</td><td>2016-05-28</td><td>2016-10-19</td></tr>",
                            "<tr><td>adam3</td><td>Barkóci Ádám</td><td>1970-06-07</td><td>2016-09-12</td><td>2017-02-06</td></tr>",
                            "<tr><td>adam4</td><td>Bieniek Ádám</td><td>1976-08-01</td><td>2016-08-28</td><td>2017-02-23</td></tr>",
                            "<tr><td>agnes</td><td>Lengyel Ágnes</td><td>1979-12-10</td><td>2016-05-09</td><td>2016-11-07</td></tr>",
                            "<tr><td>agnes3</td><td>Hartyánszky Ágnes</td><td>1967-04-11</td><td>2016-08-04</td><td>2017-02-16</td></tr>",
                            "<tr><td>AGNESH</td><td>Horváth Ágnes</td><td>1981-12-24</td><td>2016-04-10</td><td>2017-01-16</td></tr>",
                            "<tr><td>AGNESK</td><td>Kovács Ágnes</td><td>1988-10-02</td><td>2016-07-29</td><td>2016-12-17</td></tr>",
                            "<tr><td>akos</td><td>Bíró Ákos</td><td>1982-04-24</td><td>2016-05-18</td><td>2016-12-29</td></tr>",
                            "<tr><td>aladar</td><td>Dunai Aladár</td><td>1980-11-01</td><td>2016-05-17</td><td>2016-11-22</td></tr>",
                            "<tr><td>alexandra</td><td>Bagóczki Alexandra</td><td>1992-03-25</td><td>2016-05-21</td><td>2017-01-19</td></tr>",
                            "<tr><td>andi</td><td>Maródi Andrea</td><td>1968-05-07</td><td>2016-05-08</td><td>2017-01-13</td></tr>",
                            "<tr><td>andras2</td><td>Tóth András</td><td>1997-10-31</td><td>2016-05-30</td><td>2017-02-08</td></tr>",
                            "<tr><td>andras21</td><td>Molnár András</td><td>1977-11-16</td><td>2016-06-21</td><td>2017-01-28</td></tr>",
                            "<tr><td>andras3</td><td>Vígh András</td><td>1971-04-02</td><td>2016-05-01</td><td>2017-02-02</td></tr>",
                            "<tr><td>andras4</td><td>Back András</td><td>1984-04-07</td><td>2016-09-17</td><td>2017-01-09</td></tr>",
                            "<tr><td>andras41</td><td>Komjáti András</td><td>1997-10-25</td><td>2016-05-14</td><td>2016-11-23</td></tr>",
                            "<tr><td>ANDRASE</td><td>Erdei András</td><td>1997-05-29</td><td>2016-04-24</td><td>2016-11-29</td></tr>",
                            "<tr><td>ANDRASN</td><td>Nagy András</td><td>1980-09-05</td><td>2016-11-25</td><td>2016-11-25</td></tr>",
                            "<tr><td>andrea</td><td>Kiss Andrea</td><td>1993-03-25</td><td>2016-07-27</td><td>2017-02-09</td></tr>",
                            "<tr><td>andrea3</td><td>Szomor Andrea</td><td>1996-05-10</td><td>2016-11-19</td><td>2016-11-19</td></tr>",
                            "<tr><td>andrea4</td><td>Neizer Andrea</td><td>1981-05-17</td><td>2016-05-27</td><td>2017-01-22</td></tr>",
                            "<tr><td>ANDREAT</td><td>Tornyos Andrea</td><td>1986-11-14</td><td>2016-07-27</td><td>2016-10-08</td></tr>",
                            "<tr><td>anett3</td><td>Pivarcsi Anett</td><td>1967-01-03</td><td>2016-04-10</td><td>2016-10-16</td></tr>",
                            "<tr><td>aniko</td><td>Tóth Anikó</td><td>1973-06-03</td><td>2016-06-25</td><td>2017-02-23</td></tr>",
                            "<tr><td>aniko4</td><td>Böröcz Anikó</td><td>1978-03-26</td><td>2016-07-02</td><td>2016-10-16</td></tr>",
                            "<tr><td>ANIKOS</td><td>Simon Anikó</td><td>1988-12-14</td><td>2016-04-19</td><td>2016-11-10</td></tr>",
                            "<tr><td>anita</td><td>Hamvay-Kovács Anita</td><td>1971-03-20</td><td>2016-09-28</td><td>2017-02-20</td></tr>",
                            "<tr><td>annamaria1</td><td>Szűcs Annamária</td><td>1990-04-27</td><td>2016-06-06</td><td>2017-01-30</td></tr>",
                            "<tr><td>ANNAMARIAR</td><td>Regős Annamária</td><td>1977-09-26</td><td>2016-06-08</td><td>2017-02-16</td></tr>",
                            "<tr><td>aron2</td><td>Jakab Áron</td><td>1971-04-26</td><td>2016-04-11</td><td>2017-02-26</td></tr>",
                            "<tr><td>ARONK</td><td>Kelemen Áron</td><td>1989-08-10</td><td>2016-04-06</td><td>2017-02-21</td></tr>",
                            "<tr><td>arpad2</td><td>Ötvös Árpád</td><td>1990-06-08</td><td>2016-06-05</td><td>2017-02-18</td></tr>",
                            "<tr><td>ARPADH</td><td>Horváth Árpád</td><td>1990-05-18</td><td>2016-06-06</td><td>2017-02-16</td></tr>",
                            "<tr><td>ARPADM</td><td>Móricz Árpád</td><td>1986-04-20</td><td>2016-05-29</td><td>2017-02-12</td></tr>",
                            "<tr><td>attila</td><td>Csóti Attila</td><td>1979-12-25</td><td>2016-09-30</td><td>2016-12-22</td></tr>",
                            "<tr><td>attila1</td><td>Gulyás Attila</td><td>1982-08-16</td><td>2016-05-20</td><td>2017-01-23</td></tr>",
                            "<tr><td>attila4</td><td>Baróti Attila</td><td>1975-11-06</td><td>2016-08-18</td><td>2017-02-15</td></tr>",
                            "<tr><td>ATTILAO</td><td>Opra Attila</td><td>1995-05-08</td><td>2016-05-21</td><td>2017-02-22</td></tr>",
                            "<tr><td>balazs1</td><td>Bozsik Balázs</td><td>1992-11-03</td><td>2016-05-07</td><td>2017-02-12</td></tr>",
                            "<tr><td>balazs2</td><td>Szűcs Balázs</td><td>1984-10-31</td><td>2016-04-16</td><td>2017-02-27</td></tr>",
                            "<tr><td>balazs3</td><td>Bakódy Balázs</td><td>1986-09-09</td><td>2016-07-17</td><td>2017-01-20</td></tr>",
                            "<tr><td>balint</td><td>Horváth Bálint</td><td>1996-03-17</td><td>2016-04-22</td><td>2016-11-24</td></tr>",
                            "<tr><td>balint1</td><td>Molnár Bálint</td><td>1989-08-24</td><td>2016-06-07</td><td>2017-01-03</td></tr>",
                            "<tr><td>balint2</td><td>Vukasinovity Bálint</td><td>1997-09-03</td><td>2016-07-21</td><td>2016-12-04</td></tr>",
                            "<tr><td>balu</td><td>Endresz Bálint</td><td>1976-08-01</td><td>2016-08-06</td><td>2016-12-22</td></tr>",
                            "<tr><td>beata4</td><td>Bagi Beáta</td><td>1994-03-19</td><td>2016-04-20</td><td>2016-10-03</td></tr>",
                            "<tr><td>BEATRIXK</td><td>Kerényi Beatrix</td><td>1972-04-06</td><td>2016-06-10</td><td>2017-02-08</td></tr>",
                            "<tr><td>BEATRIXS</td><td>Szekendi Beatrix</td><td>1981-04-06</td><td>2016-04-18</td><td>2017-02-03</td></tr>",
                            "<tr><td>BELAF</td><td>Farkas Béla</td><td>1995-02-24</td><td>2016-07-27</td><td>2016-12-06</td></tr>",
                            "<tr><td>bence</td><td>Győrffy Bence</td><td>1987-07-09</td><td>2016-05-08</td><td>2017-02-05</td></tr>",
                            "<tr><td>BENCEB</td><td>Bajusz Bence</td><td>1973-06-21</td><td>2016-05-14</td><td>2017-02-12</td></tr>",
                            "<tr><td>bernadett1</td><td>Simon Bernadett</td><td>1984-10-13</td><td>2016-06-12</td><td>2017-02-24</td></tr>",
                            "<tr><td>bernadett2</td><td>Kovács Bernadett</td><td>1996-08-20</td><td>2016-05-01</td><td>2017-01-24</td></tr>",
                            "<tr><td>BERNADETTO</td><td>Orbán Bernadett</td><td>1987-12-07</td><td>2016-04-10</td><td>2017-01-28</td></tr>",
                            "<tr><td>bertalan</td><td>Csiger Bertalan</td><td>1977-10-15</td><td>2016-05-18</td><td>2017-02-20</td></tr>",
                            "<tr><td>brigitta</td><td>Székely Brigitta</td><td>1978-09-13</td><td>2016-05-30</td><td>2017-01-23</td></tr>",
                            "<tr><td>brigitta3</td><td>Pataki Brigitta</td><td>1991-05-23</td><td>2016-06-01</td><td>2017-02-09</td></tr>",
                            "<tr><td>csongor3</td><td>Nagymihály Csongor</td><td>1984-03-05</td><td>2016-05-01</td><td>2017-02-13</td></tr>",
                            "<tr><td>dani</td><td>Vörös Dániel</td><td>1986-10-14</td><td>2016-06-06</td><td>2017-02-25</td></tr>",
                            "<tr><td>daniel</td><td>Rácz Dániel</td><td>1978-11-28</td><td>2016-04-10</td><td>2017-02-20</td></tr>",
                            "<tr><td>daniel1</td><td>Keszler Dániel</td><td>1969-07-16</td><td>2016-04-10</td><td>2017-03-01</td></tr>",
                            "<tr><td>david</td><td>Ambrus Dávid</td><td>1974-02-11</td><td>2016-05-18</td><td>2017-01-18</td></tr>",
                            "<tr><td>david1</td><td>Sobják Dávid</td><td>1970-08-16</td><td>2016-09-20</td><td>2017-02-25</td></tr>",
                            "<tr><td>david4</td><td>Berta Dávid</td><td>1990-10-08</td><td>2017-02-16</td><td>2017-02-16</td></tr>",
                            "<tr><td>debora</td><td>Barna Debóra</td><td>1976-10-14</td><td>2016-06-22</td><td>2017-02-04</td></tr>",
                            "<tr><td>denes</td><td>Tömböly Dénes</td><td>1975-03-14</td><td>2016-05-27</td><td>2016-11-06</td></tr>",
                            "<tr><td>dora3</td><td>Sarodi Dóra</td><td>1995-05-18</td><td>2016-08-16</td><td>2016-11-22</td></tr>",
                            "<tr><td>edit</td><td>Bittmann Edit</td><td>1984-04-20</td><td>2016-07-14</td><td>2017-02-08</td></tr>",
                            "<tr><td>emese</td><td>Kuruc Emese</td><td>1989-08-10</td><td>2016-07-22</td><td>2017-01-30</td></tr>",
                            "<tr><td>eszter</td><td>Molnár Eszter</td><td>1987-05-10</td><td>2016-08-12</td><td>2016-12-23</td></tr>",
                            "<tr><td>eszter2</td><td>Balogh Eszter</td><td>1998-01-31</td><td>2016-06-30</td><td>2016-12-29</td></tr>",
                            "<tr><td>eszter4</td><td>Fülöp Eszter</td><td>1993-06-28</td><td>2017-01-05</td><td>2017-02-26</td></tr>",
                            "<tr><td>ESZTERE</td><td>Érsek Eszter</td><td>1978-08-28</td><td>2016-05-30</td><td>2017-02-10</td></tr>",
                            "<tr><td>eva</td><td>Enyedi Éva</td><td>1967-06-30</td><td>2016-10-06</td><td>2017-01-14</td></tr>",
                            "<tr><td>eva2</td><td>Perlinger Éva</td><td>1971-08-19</td><td>2016-09-02</td><td>2017-01-06</td></tr>",
                            "<tr><td>EVAV</td><td>Viktor Éva</td><td>1980-12-26</td><td>2016-05-01</td><td>2017-02-04</td></tr>",
                            "<tr><td>ferenc1</td><td>Orosz Ferenc</td><td>1983-10-08</td><td>2016-05-08</td><td>2016-11-07</td></tr>",
                            "<tr><td>fruzsina4</td><td>Frank Fruzsina</td><td>1996-08-16</td><td>2016-06-02</td><td>2017-01-22</td></tr>",
                            "<tr><td>gabor1</td><td>Köves Gábor</td><td>1973-07-15</td><td>2016-06-20</td><td>2016-11-19</td></tr>",
                            "<tr><td>gabor4</td><td>Telek Gábor</td><td>1987-03-15</td><td>2016-04-26</td><td>2016-11-07</td></tr>",
                            "<tr><td>GABORS</td><td>Szöllősi Gábor</td><td>1990-05-31</td><td>NULL</td><td>NULL</td></tr>",
                            "<tr><td>gabriella1</td><td>Nagy Gabriella</td><td>1982-11-01</td><td>2016-04-21</td><td>2017-02-21</td></tr>",
                            "<tr><td>gabriella10</td><td>Vida Gabriella</td><td>1969-06-18</td><td>2016-10-01</td><td>2016-10-01</td></tr>",
                            "<tr><td>georgij</td><td>Nyíri Georgij</td><td>1983-02-23</td><td>2016-06-16</td><td>2016-09-18</td></tr>",
                            "<tr><td>gusztav</td><td>Bárci Gusztáv</td><td>1967-02-25</td><td>2016-05-06</td><td>2017-02-23</td></tr>",
                            "<tr><td>GYONGYIK</td><td>Kornseé Gyöngyi</td><td>1974-06-07</td><td>2016-06-02</td><td>2017-01-22</td></tr>",
                            "<tr><td>GYORGYO</td><td>Oroszi György</td><td>1980-03-23</td><td>2016-05-27</td><td>2017-02-24</td></tr>",
                            "<tr><td>henrik3</td><td>Nádudvari Henrik</td><td>1986-12-05</td><td>2016-08-24</td><td>2017-01-27</td></tr>",
                            "<tr><td>IBOLYAA</td><td>Andor Ibolya</td><td>1983-11-27</td><td>2016-08-29</td><td>2017-01-17</td></tr>",
                            "<tr><td>ilona3</td><td>Bosnyák Ilona</td><td>1990-08-06</td><td>2016-07-31</td><td>2016-12-25</td></tr>",
                            "<tr><td>imre</td><td>Búza Imre</td><td>1988-09-30</td><td>2016-09-17</td><td>2016-10-28</td></tr>",
                            "<tr><td>imre1</td><td>Papp Imre</td><td>1976-06-25</td><td>2016-06-23</td><td>2017-02-05</td></tr>",
                            "<tr><td>istvan</td><td>Soós István</td><td>1986-06-28</td><td>2016-10-07</td><td>2017-01-02</td></tr>",
                            "<tr><td>istvan1</td><td>Vizi István</td><td>1997-12-01</td><td>2016-04-16</td><td>2017-02-07</td></tr>",
                            "<tr><td>ISTVANV</td><td>Varga István</td><td>1989-04-09</td><td>2016-07-01</td><td>2016-09-29</td></tr>",
                            "<tr><td>janos3</td><td>Harangozó János</td><td>1967-11-02</td><td>2016-06-04</td><td>2017-02-12</td></tr>",
                            "<tr><td>JANOSG</td><td>Giliga János</td><td>1975-01-03</td><td>2016-05-09</td><td>2017-01-31</td></tr>",
                            "<tr><td>JANOSP</td><td>Pálinkás János</td><td>1984-10-12</td><td>2016-07-04</td><td>2016-12-18</td></tr>",
                            "<tr><td>jozsef</td><td>Gergely József</td><td>1985-11-01</td><td>2016-09-13</td><td>2016-12-06</td></tr>",
                            "<tr><td>jozsef2</td><td>Vajda József</td><td>1978-09-04</td><td>2016-07-06</td><td>2016-11-25</td></tr>",
                            "<tr><td>JOZSEFG</td><td>Gyuris József</td><td>1975-05-26</td><td>2016-05-02</td><td>2017-02-24</td></tr>",
                            "<tr><td>JUDITH</td><td>Hídasi Judit</td><td>1997-07-12</td><td>2016-06-06</td><td>2016-12-19</td></tr>",
                            "<tr><td>julia</td><td>Tóth Júlia</td><td>1993-03-02</td><td>2016-04-21</td><td>2017-02-27</td></tr>",
                            "<tr><td>julia4</td><td>Nagy Júlia</td><td>1985-08-11</td><td>2016-11-07</td><td>2017-02-04</td></tr>",
                            "<tr><td>julianna4</td><td>Szabó Julianna</td><td>1990-09-29</td><td>2016-07-20</td><td>2016-11-27</td></tr>",
                            "<tr><td>kata</td><td>Gondos Katalin</td><td>1968-06-22</td><td>2016-04-10</td><td>2017-01-15</td></tr>",
                            "<tr><td>katalin</td><td>Horváth Katalin</td><td>1968-01-01</td><td>2016-04-10</td><td>2017-02-24</td></tr>",
                            "<tr><td>katalin4</td><td>Kertész Katalin</td><td>1986-04-13</td><td>2016-07-01</td><td>2017-01-24</td></tr>",
                            "<tr><td>kati</td><td>Zatykó Katalin</td><td>1995-05-01</td><td>2016-06-06</td><td>2016-10-30</td></tr>",
                            "<tr><td>katka</td><td>Kovács Katalin</td><td>1975-03-31</td><td>2016-04-10</td><td>2017-01-19</td></tr>",
                            "<tr><td>klaudia2</td><td>Bakó Klaudia</td><td>1982-04-16</td><td>2016-06-06</td><td>2016-10-02</td></tr>",
                            "<tr><td>kornel4</td><td>Lukács Kornél</td><td>1975-09-30</td><td>2016-05-08</td><td>2016-09-23</td></tr>",
                            "<tr><td>kristof4</td><td>Poprádi Kristóf</td><td>1984-01-15</td><td>2016-04-08</td><td>2016-09-30</td></tr>",
                            "<tr><td>kriszti</td><td>Horváth Krisztina</td><td>1978-06-12</td><td>2016-05-19</td><td>2017-03-03</td></tr>",
                            "<tr><td>krisztian4</td><td>Czérna Krisztián</td><td>1970-08-01</td><td>2016-06-03</td><td>2017-02-23</td></tr>",
                            "<tr><td>KRISZTIANM</td><td>Mogyródi Krisztián</td><td>1968-05-27</td><td>2016-04-09</td><td>2017-01-16</td></tr>",
                            "<tr><td>krisztina</td><td>Szedlár Krisztina</td><td>1979-05-10</td><td>2016-05-21</td><td>2017-02-16</td></tr>",
                            "<tr><td>krisztina1</td><td>Bori Krisztina</td><td>1969-10-13</td><td>2016-04-28</td><td>2017-01-21</td></tr>",
                            "<tr><td>KRISZTINAG</td><td>Gyárfás Krisztina</td><td>1987-09-19</td><td>2016-04-23</td><td>2017-01-25</td></tr>",
                            "<tr><td>lajos</td><td>Kiss Lajos</td><td>1978-10-31</td><td>2016-07-18</td><td>2017-02-12</td></tr>",
                            "<tr><td>lala</td><td>Nagymihály Lajos</td><td>1997-02-24</td><td>2016-06-16</td><td>2017-01-17</td></tr>",
                            "<tr><td>laszlo1</td><td>Farkas László</td><td>1967-10-30</td><td>2016-09-23</td><td>2016-09-23</td></tr>",
                            "<tr><td>laszlo2</td><td>Móra László</td><td>1975-02-19</td><td>2016-04-06</td><td>2016-11-25</td></tr>",
                            "<tr><td>LASZLOA</td><td>Antal László</td><td>1969-06-29</td><td>2016-06-03</td><td>2017-02-08</td></tr>",
                            "<tr><td>LASZLON</td><td>Nagy László</td><td>1969-04-12</td><td>2016-06-03</td><td>2017-02-18</td></tr>",
                            "<tr><td>maria1</td><td>Baráth Mária</td><td>1995-11-19</td><td>2016-05-13</td><td>2017-02-24</td></tr>",
                            "<tr><td>mark</td><td>Kispál Márk</td><td>1996-01-23</td><td>2016-04-19</td><td>2016-11-19</td></tr>",
                            "<tr><td>MARKH</td><td>Horváth Márk</td><td>1997-09-23</td><td>2016-09-14</td><td>2017-01-22</td></tr>",
                            "<tr><td>marton</td><td>Kalacsi Márton</td><td>1989-06-24</td><td>2016-04-27</td><td>2017-03-02</td></tr>",
                            "<tr><td>MATEK</td><td>Koza Máté</td><td>1997-02-28</td><td>2016-08-17</td><td>2017-01-16</td></tr>",
                            "<tr><td>matyas2</td><td>Botka Mátyás</td><td>1972-07-07</td><td>2016-07-13</td><td>2016-12-09</td></tr>",
                            "<tr><td>MATYASS</td><td>Szilágyi Mátyás</td><td>1975-03-22</td><td>2016-05-10</td><td>2017-01-09</td></tr>",
                            "<tr><td>MIHALYJ</td><td>Juhász Mihály</td><td>1979-10-12</td><td>2016-05-30</td><td>2017-02-06</td></tr>",
                            "<tr><td>miklos2</td><td>Gondos Miklós</td><td>1995-10-07</td><td>2016-04-19</td><td>2016-11-16</td></tr>",
                            "<tr><td>MIKLOSB</td><td>Balla Miklós</td><td>1979-02-16</td><td>2016-06-26</td><td>2016-12-05</td></tr>",
                            "<tr><td>MONIKAM</td><td>Mohos Mónika</td><td>1974-10-01</td><td>2016-04-29</td><td>2017-02-23</td></tr>",
                            "<tr><td>NANDORF</td><td>Fő Nándor</td><td>1968-11-12</td><td>2016-04-06</td><td>2017-02-05</td></tr>",
                            "<tr><td>nikolett3</td><td>Horváth Nikolett</td><td>1981-09-29</td><td>2016-05-24</td><td>2016-10-22</td></tr>",
                            "<tr><td>nikoletta4</td><td>Kő Nikoletta</td><td>1972-01-10</td><td>2016-04-08</td><td>2017-02-01</td></tr>",
                            "<tr><td>NIKOLETTAT</td><td>Tatár Nikoletta</td><td>1997-10-19</td><td>2016-05-22</td><td>2016-09-21</td></tr>",
                            "<tr><td>norbert</td><td>Szűcs Norbert</td><td>1969-07-17</td><td>2016-07-08</td><td>2017-02-26</td></tr>",
                            "<tr><td>norbert2</td><td>Hegedűs Norbert</td><td>1991-07-17</td><td>2016-04-19</td><td>2017-01-29</td></tr>",
                            "<tr><td>norbert4</td><td>Mile Norbert</td><td>1983-06-15</td><td>2016-04-10</td><td>2017-03-03</td></tr>",
                            "<tr><td>norbert5</td><td>Béres Norbert</td><td>1975-07-27</td><td>2016-06-24</td><td>2016-11-05</td></tr>",
                            "<tr><td>pal</td><td>Barabás Pál</td><td>1968-02-06</td><td>2016-08-14</td><td>2017-02-20</td></tr>",
                            "<tr><td>peter1</td><td>Kozma Péter</td><td>1976-03-18</td><td>2016-07-14</td><td>2017-02-28</td></tr>",
                            "<tr><td>peter2</td><td>Bozsó Péter</td><td>1976-01-26</td><td>2016-07-03</td><td>2016-11-15</td></tr>",
                            "<tr><td>peter3</td><td>Szalai Péter</td><td>1983-07-18</td><td>2016-06-30</td><td>2017-02-21</td></tr>",
                            "<tr><td>peter4</td><td>Bíró Péter</td><td>1985-09-01</td><td>2016-04-12</td><td>2017-02-05</td></tr>",
                            "<tr><td>PETERB</td><td>Berendi Péter</td><td>1969-01-01</td><td>2016-04-06</td><td>2016-11-17</td></tr>",
                            "<tr><td>polla</td><td>Palágyi Polla</td><td>1994-02-04</td><td>2016-04-17</td><td>2017-02-11</td></tr>",
                            "<tr><td>rajmond4</td><td>Rácz Rajmond</td><td>1993-09-25</td><td>2016-09-05</td><td>2016-11-16</td></tr>",
                            "<tr><td>reka4</td><td>Szikszai Réka</td><td>1969-11-27</td><td>2016-07-27</td><td>2017-02-26</td></tr>",
                            "<tr><td>RENATAK</td><td>Kardos Renáta</td><td>1988-05-17</td><td>2016-10-27</td><td>2017-03-01</td></tr>",
                            "<tr><td>RENATAS</td><td>Szirmai Renáta</td><td>1991-03-26</td><td>2016-05-04</td><td>2017-02-14</td></tr>",
                            "<tr><td>robert2</td><td>Patay Róbert</td><td>1977-01-08</td><td>2016-05-15</td><td>2016-12-17</td></tr>",
                            "<tr><td>ROBERTI</td><td>Iván Róbert</td><td>1967-07-02</td><td>2016-07-12</td><td>2017-02-17</td></tr>",
                            "<tr><td>ROBERTP</td><td>Pásztor Róbert</td><td>1972-05-16</td><td>2016-07-30</td><td>2016-09-08</td></tr>",
                            "<tr><td>roland</td><td>Tóth Roland</td><td>1968-03-21</td><td>2016-06-09</td><td>2016-11-19</td></tr>",
                            "<tr><td>roland1</td><td>Ferencz Roland</td><td>1985-12-31</td><td>2016-11-05</td><td>2017-01-16</td></tr>",
                            "<tr><td>roza2</td><td>Bucskó Róza</td><td>1988-12-26</td><td>2016-09-10</td><td>2017-02-18</td></tr>",
                            "<tr><td>sandor</td><td>Karasz Sándor</td><td>1970-01-27</td><td>2016-07-04</td><td>2016-09-19</td></tr>",
                            "<tr><td>sandor3</td><td>Farkas Sándor</td><td>1989-01-27</td><td>2016-05-12</td><td>2016-11-10</td></tr>",
                            "<tr><td>sandor4</td><td>Nagy Sándor</td><td>1997-06-11</td><td>2016-10-15</td><td>2017-01-22</td></tr>",
                            "<tr><td>sara</td><td>Farkas Sára</td><td>1973-04-05</td><td>2016-05-28</td><td>2016-12-25</td></tr>",
                            "<tr><td>SEBASTIANF</td><td>Foltényi Sebastián</td><td>1992-09-09</td><td>2016-04-06</td><td>2016-09-17</td></tr>",
                            "<tr><td>sebestyen</td><td>Rab Sebestyén</td><td>1992-03-03</td><td>2016-04-07</td><td>2016-10-26</td></tr>",
                            "<tr><td>szabolcs</td><td>Bodor Szabolcs</td><td>1990-07-16</td><td>2016-12-05</td><td>2016-12-05</td></tr>",
                            "<tr><td>SZABOLCSM</td><td>Miklós Szabolcs</td><td>1980-08-11</td><td>2016-06-18</td><td>2017-02-04</td></tr>",
                            "<tr><td>SZILARDS</td><td>Szalai Szilárd</td><td>1967-09-28</td><td>2016-04-23</td><td>2017-02-08</td></tr>",
                            "<tr><td>szilvia1</td><td>Tari Szilvia</td><td>1971-03-09</td><td>2016-05-14</td><td>2017-01-28</td></tr>",
                            "<tr><td>tamara2</td><td>Miklós Tamara</td><td>1980-08-11</td><td>2016-08-12</td><td>2016-11-15</td></tr>",
                            "<tr><td>tamas</td><td>Antal Tamás</td><td>1984-09-05</td><td>2016-05-17</td><td>2017-02-14</td></tr>",
                            "<tr><td>TAMASF</td><td>Fényes Tamás</td><td>1997-11-06</td><td>2016-05-03</td><td>2017-02-16</td></tr>",
                            "<tr><td>tibor</td><td>Gombos Tibor</td><td>1993-11-28</td><td>2016-10-09</td><td>2016-11-05</td></tr>",
                            "<tr><td>tibor2</td><td>Dániel Tibor</td><td>1985-02-02</td><td>2016-10-20</td><td>2016-10-20</td></tr>",
                            "<tr><td>tihamer</td><td>Kazy Tihamér</td><td>1991-07-05</td><td>2016-05-30</td><td>2016-12-25</td></tr>",
                            "<tr><td>timea</td><td>Papós Tímea</td><td>1996-01-08</td><td>2016-12-26</td><td>2016-12-26</td></tr>",
                            "<tr><td>timea2</td><td>Dusha Tímea</td><td>1975-08-22</td><td>2016-06-06</td><td>2016-12-14</td></tr>",
                            "<tr><td>tunde</td><td>Turcsik Tünde</td><td>1974-02-12</td><td>2016-06-03</td><td>2017-01-03</td></tr>",
                            "<tr><td>valentin</td><td>Feró Valentin</td><td>1986-01-09</td><td>2016-05-24</td><td>2016-12-01</td></tr>",
                            "<tr><td>veronika4</td><td>Tankó Veronika</td><td>1983-08-28</td><td>2016-05-30</td><td>2017-02-03</td></tr>",
                            "<tr><td>VIKTORIAU</td><td>Urbán Viktoria</td><td>1996-05-03</td><td>2016-04-30</td><td>2016-10-26</td></tr>",
                            "<tr><td>VIKTORK</td><td>Keresztúri Viktor</td><td>1989-05-05</td><td>2016-05-30</td><td>2016-06-06</td></tr>",
                            "<tr><td>vivien3</td><td>Boros Vivien</td><td>1991-07-01</td><td>2016-05-02</td><td>2016-12-24</td></tr>",
                            "<tr><td>zoltan</td><td>Fodor Zoltán</td><td>1979-11-25</td><td>2016-08-24</td><td>2016-09-05</td></tr>",
                            "<tr><td>zoltan4</td><td>Barna Zoltán</td><td>1986-05-20</td><td>2016-05-12</td><td>2017-01-01</td></tr>",
                            "<tr><td>ZOLTANP</td><td>Pintér Zoltán</td><td>1977-06-07</td><td>2016-06-05</td><td>2016-12-25</td></tr>",
                            "<tr><td>ZOLTANT</td><td>Tóth Zoltán</td><td>1985-12-14</td><td>2016-05-01</td><td>2017-01-16</td></tr>",
                            "<tr><td>zsofi1</td><td>Molnár Zsófi</td><td>1983-11-17</td><td>2016-06-16</td><td>2017-02-18</td></tr>",
                            "<tr><td>zsolt1</td><td>Pulai Zsolt</td><td>1988-05-27</td><td>2016-04-14</td><td>2016-07-31</td></tr>",
                            "<tr><td>ZSOLTJ</td><td>Józsa Zsolt</td><td>1983-09-29</td><td>2016-04-24</td><td>2016-10-01</td></tr>",
                            "<tr><td>zsuzsa</td><td>Pusztai Zsuzsanna</td><td>1980-09-17</td><td>2016-07-24</td><td>2016-11-28</td></tr>",
                            "<tr><td>zsuzsa3</td><td>Varsányi Zsuzsa</td><td>1979-03-06</td><td>2016-07-30</td><td>2016-10-27</td></tr>",
                            "<tr><td>zsuzsanna</td><td>Barta Zsuzsanna</td><td>1994-10-07</td><td>2016-05-17</td><td>2017-01-16</td></tr>",
                            "<tr><td>ZSUZSAV</td><td>Vajda Zsuzsa</td><td>1976-12-11</td><td>2016-04-14</td><td>2016-11-21</td></tr>",
                            "</table>"
                        ]
                    }
                }
            ],
            "execution_count": 3
        },
        {
            "cell_type": "markdown",
            "source": [
                "4\\. Jelenítsük meg, hogy hány foglalás történt szobánként, naponta (METTOL), valamint szobánként, azon belül naponta \n",
                "\n",
                "- Szempontonként külön-külön számoljuk a foglalásokat\n",
                "- A foglalások száma minden esetben legalább 2 legyen"
            ],
            "metadata": {
                "language": "sql",
                "azdata_cell_guid": "d460a441-6970-444f-8a58-47de4b7f756f"
            },
            "attachments": {}
        },
        {
            "cell_type": "code",
            "source": [
                "select SZOBA_FK, COUNT(*) as Foglalasok_szama\r\n",
                "FROM Foglalas\r\n",
                "GROUP BY SZOBA_FK\r\n",
                "HAVING COUNT(*) >= 2;"
            ],
            "metadata": {
                "language": "sql",
                "azdata_cell_guid": "c9ba1e6d-48ad-42f8-90be-8737eb3bd63c",
                "tags": []
            },
            "outputs": [
                {
                    "output_type": "display_data",
                    "data": {
                        "text/html": "(191 rows affected)"
                    },
                    "metadata": {}
                },
                {
                    "output_type": "display_data",
                    "data": {
                        "text/html": "Total execution time: 00:00:00.009"
                    },
                    "metadata": {}
                },
                {
                    "output_type": "execute_result",
                    "metadata": {},
                    "execution_count": 5,
                    "data": {
                        "application/vnd.dataresource+json": {
                            "schema": {
                                "fields": [
                                    {
                                        "name": "SZOBA_FK"
                                    },
                                    {
                                        "name": "Foglalasok_szama"
                                    }
                                ]
                            },
                            "data": [
                                {
                                    "SZOBA_FK": "23",
                                    "Foglalasok_szama": "3"
                                },
                                {
                                    "SZOBA_FK": "46",
                                    "Foglalasok_szama": "4"
                                },
                                {
                                    "SZOBA_FK": "192",
                                    "Foglalasok_szama": "2"
                                },
                                {
                                    "SZOBA_FK": "69",
                                    "Foglalasok_szama": "4"
                                },
                                {
                                    "SZOBA_FK": "92",
                                    "Foglalasok_szama": "6"
                                },
                                {
                                    "SZOBA_FK": "115",
                                    "Foglalasok_szama": "7"
                                },
                                {
                                    "SZOBA_FK": "138",
                                    "Foglalasok_szama": "7"
                                },
                                {
                                    "SZOBA_FK": "161",
                                    "Foglalasok_szama": "6"
                                },
                                {
                                    "SZOBA_FK": "29",
                                    "Foglalasok_szama": "6"
                                },
                                {
                                    "SZOBA_FK": "169",
                                    "Foglalasok_szama": "6"
                                },
                                {
                                    "SZOBA_FK": "175",
                                    "Foglalasok_szama": "5"
                                },
                                {
                                    "SZOBA_FK": "75",
                                    "Foglalasok_szama": "3"
                                },
                                {
                                    "SZOBA_FK": "132",
                                    "Foglalasok_szama": "6"
                                },
                                {
                                    "SZOBA_FK": "9",
                                    "Foglalasok_szama": "6"
                                },
                                {
                                    "SZOBA_FK": "181",
                                    "Foglalasok_szama": "6"
                                },
                                {
                                    "SZOBA_FK": "15",
                                    "Foglalasok_szama": "6"
                                },
                                {
                                    "SZOBA_FK": "109",
                                    "Foglalasok_szama": "7"
                                },
                                {
                                    "SZOBA_FK": "158",
                                    "Foglalasok_szama": "3"
                                },
                                {
                                    "SZOBA_FK": "89",
                                    "Foglalasok_szama": "8"
                                },
                                {
                                    "SZOBA_FK": "195",
                                    "Foglalasok_szama": "6"
                                },
                                {
                                    "SZOBA_FK": "3",
                                    "Foglalasok_szama": "8"
                                },
                                {
                                    "SZOBA_FK": "146",
                                    "Foglalasok_szama": "6"
                                },
                                {
                                    "SZOBA_FK": "152",
                                    "Foglalasok_szama": "4"
                                },
                                {
                                    "SZOBA_FK": "52",
                                    "Foglalasok_szama": "5"
                                },
                                {
                                    "SZOBA_FK": "95",
                                    "Foglalasok_szama": "4"
                                },
                                {
                                    "SZOBA_FK": "189",
                                    "Foglalasok_szama": "5"
                                },
                                {
                                    "SZOBA_FK": "72",
                                    "Foglalasok_szama": "4"
                                },
                                {
                                    "SZOBA_FK": "118",
                                    "Foglalasok_szama": "7"
                                },
                                {
                                    "SZOBA_FK": "172",
                                    "Foglalasok_szama": "9"
                                },
                                {
                                    "SZOBA_FK": "78",
                                    "Foglalasok_szama": "6"
                                },
                                {
                                    "SZOBA_FK": "66",
                                    "Foglalasok_szama": "4"
                                },
                                {
                                    "SZOBA_FK": "126",
                                    "Foglalasok_szama": "6"
                                },
                                {
                                    "SZOBA_FK": "26",
                                    "Foglalasok_szama": "2"
                                },
                                {
                                    "SZOBA_FK": "12",
                                    "Foglalasok_szama": "9"
                                },
                                {
                                    "SZOBA_FK": "178",
                                    "Foglalasok_szama": "4"
                                },
                                {
                                    "SZOBA_FK": "35",
                                    "Foglalasok_szama": "9"
                                },
                                {
                                    "SZOBA_FK": "129",
                                    "Foglalasok_szama": "4"
                                },
                                {
                                    "SZOBA_FK": "155",
                                    "Foglalasok_szama": "5"
                                },
                                {
                                    "SZOBA_FK": "106",
                                    "Foglalasok_szama": "6"
                                },
                                {
                                    "SZOBA_FK": "86",
                                    "Foglalasok_szama": "5"
                                },
                                {
                                    "SZOBA_FK": "135",
                                    "Foglalasok_szama": "3"
                                },
                                {
                                    "SZOBA_FK": "63",
                                    "Foglalasok_szama": "4"
                                },
                                {
                                    "SZOBA_FK": "112",
                                    "Foglalasok_szama": "5"
                                },
                                {
                                    "SZOBA_FK": "6",
                                    "Foglalasok_szama": "6"
                                },
                                {
                                    "SZOBA_FK": "43",
                                    "Foglalasok_szama": "8"
                                },
                                {
                                    "SZOBA_FK": "55",
                                    "Foglalasok_szama": "8"
                                },
                                {
                                    "SZOBA_FK": "98",
                                    "Foglalasok_szama": "4"
                                },
                                {
                                    "SZOBA_FK": "49",
                                    "Foglalasok_szama": "7"
                                },
                                {
                                    "SZOBA_FK": "149",
                                    "Foglalasok_szama": "7"
                                },
                                {
                                    "SZOBA_FK": "198",
                                    "Foglalasok_szama": "8"
                                },
                                {
                                    "SZOBA_FK": "190",
                                    "Foglalasok_szama": "5"
                                },
                                {
                                    "SZOBA_FK": "144",
                                    "Foglalasok_szama": "5"
                                },
                                {
                                    "SZOBA_FK": "167",
                                    "Foglalasok_szama": "2"
                                },
                                {
                                    "SZOBA_FK": "184",
                                    "Foglalasok_szama": "4"
                                },
                                {
                                    "SZOBA_FK": "113",
                                    "Foglalasok_szama": "5"
                                },
                                {
                                    "SZOBA_FK": "67",
                                    "Foglalasok_szama": "6"
                                },
                                {
                                    "SZOBA_FK": "21",
                                    "Foglalasok_szama": "4"
                                },
                                {
                                    "SZOBA_FK": "27",
                                    "Foglalasok_szama": "7"
                                },
                                {
                                    "SZOBA_FK": "127",
                                    "Foglalasok_szama": "7"
                                },
                                {
                                    "SZOBA_FK": "121",
                                    "Foglalasok_szama": "8"
                                },
                                {
                                    "SZOBA_FK": "173",
                                    "Foglalasok_szama": "4"
                                },
                                {
                                    "SZOBA_FK": "107",
                                    "Foglalasok_szama": "5"
                                },
                                {
                                    "SZOBA_FK": "156",
                                    "Foglalasok_szama": "7"
                                },
                                {
                                    "SZOBA_FK": "58",
                                    "Foglalasok_szama": "13"
                                },
                                {
                                    "SZOBA_FK": "130",
                                    "Foglalasok_szama": "6"
                                },
                                {
                                    "SZOBA_FK": "81",
                                    "Foglalasok_szama": "5"
                                },
                                {
                                    "SZOBA_FK": "64",
                                    "Foglalasok_szama": "6"
                                },
                                {
                                    "SZOBA_FK": "87",
                                    "Foglalasok_szama": "5"
                                },
                                {
                                    "SZOBA_FK": "38",
                                    "Foglalasok_szama": "8"
                                },
                                {
                                    "SZOBA_FK": "101",
                                    "Foglalasok_szama": "3"
                                },
                                {
                                    "SZOBA_FK": "7",
                                    "Foglalasok_szama": "6"
                                },
                                {
                                    "SZOBA_FK": "44",
                                    "Foglalasok_szama": "6"
                                },
                                {
                                    "SZOBA_FK": "193",
                                    "Foglalasok_szama": "7"
                                },
                                {
                                    "SZOBA_FK": "150",
                                    "Foglalasok_szama": "6"
                                },
                                {
                                    "SZOBA_FK": "1",
                                    "Foglalasok_szama": "8"
                                },
                                {
                                    "SZOBA_FK": "50",
                                    "Foglalasok_szama": "4"
                                },
                                {
                                    "SZOBA_FK": "24",
                                    "Foglalasok_szama": "3"
                                },
                                {
                                    "SZOBA_FK": "47",
                                    "Foglalasok_szama": "2"
                                },
                                {
                                    "SZOBA_FK": "141",
                                    "Foglalasok_szama": "6"
                                },
                                {
                                    "SZOBA_FK": "70",
                                    "Foglalasok_szama": "11"
                                },
                                {
                                    "SZOBA_FK": "93",
                                    "Foglalasok_szama": "5"
                                },
                                {
                                    "SZOBA_FK": "187",
                                    "Foglalasok_szama": "7"
                                },
                                {
                                    "SZOBA_FK": "164",
                                    "Foglalasok_szama": "5"
                                },
                                {
                                    "SZOBA_FK": "30",
                                    "Foglalasok_szama": "3"
                                },
                                {
                                    "SZOBA_FK": "18",
                                    "Foglalasok_szama": "6"
                                },
                                {
                                    "SZOBA_FK": "170",
                                    "Foglalasok_szama": "5"
                                },
                                {
                                    "SZOBA_FK": "176",
                                    "Foglalasok_szama": "6"
                                },
                                {
                                    "SZOBA_FK": "124",
                                    "Foglalasok_szama": "6"
                                },
                                {
                                    "SZOBA_FK": "84",
                                    "Foglalasok_szama": "4"
                                },
                                {
                                    "SZOBA_FK": "153",
                                    "Foglalasok_szama": "5"
                                },
                                {
                                    "SZOBA_FK": "110",
                                    "Foglalasok_szama": "8"
                                },
                                {
                                    "SZOBA_FK": "10",
                                    "Foglalasok_szama": "4"
                                },
                                {
                                    "SZOBA_FK": "133",
                                    "Foglalasok_szama": "6"
                                },
                                {
                                    "SZOBA_FK": "61",
                                    "Foglalasok_szama": "5"
                                },
                                {
                                    "SZOBA_FK": "196",
                                    "Foglalasok_szama": "4"
                                },
                                {
                                    "SZOBA_FK": "90",
                                    "Foglalasok_szama": "4"
                                },
                                {
                                    "SZOBA_FK": "41",
                                    "Foglalasok_szama": "2"
                                },
                                {
                                    "SZOBA_FK": "104",
                                    "Foglalasok_szama": "4"
                                },
                                {
                                    "SZOBA_FK": "4",
                                    "Foglalasok_szama": "6"
                                },
                                {
                                    "SZOBA_FK": "119",
                                    "Foglalasok_szama": "5"
                                },
                                {
                                    "SZOBA_FK": "96",
                                    "Foglalasok_szama": "7"
                                },
                                {
                                    "SZOBA_FK": "165",
                                    "Foglalasok_szama": "7"
                                },
                                {
                                    "SZOBA_FK": "142",
                                    "Foglalasok_szama": "2"
                                },
                                {
                                    "SZOBA_FK": "188",
                                    "Foglalasok_szama": "6"
                                },
                                {
                                    "SZOBA_FK": "79",
                                    "Foglalasok_szama": "5"
                                },
                                {
                                    "SZOBA_FK": "19",
                                    "Foglalasok_szama": "6"
                                },
                                {
                                    "SZOBA_FK": "171",
                                    "Foglalasok_szama": "5"
                                },
                                {
                                    "SZOBA_FK": "73",
                                    "Foglalasok_szama": "4"
                                },
                                {
                                    "SZOBA_FK": "25",
                                    "Foglalasok_szama": "2"
                                },
                                {
                                    "SZOBA_FK": "36",
                                    "Foglalasok_szama": "6"
                                },
                                {
                                    "SZOBA_FK": "105",
                                    "Foglalasok_szama": "2"
                                },
                                {
                                    "SZOBA_FK": "179",
                                    "Foglalasok_szama": "3"
                                },
                                {
                                    "SZOBA_FK": "85",
                                    "Foglalasok_szama": "4"
                                },
                                {
                                    "SZOBA_FK": "136",
                                    "Foglalasok_szama": "3"
                                },
                                {
                                    "SZOBA_FK": "62",
                                    "Foglalasok_szama": "5"
                                },
                                {
                                    "SZOBA_FK": "13",
                                    "Foglalasok_szama": "4"
                                },
                                {
                                    "SZOBA_FK": "42",
                                    "Foglalasok_szama": "6"
                                },
                                {
                                    "SZOBA_FK": "5",
                                    "Foglalasok_szama": "4"
                                },
                                {
                                    "SZOBA_FK": "56",
                                    "Foglalasok_szama": "2"
                                },
                                {
                                    "SZOBA_FK": "99",
                                    "Foglalasok_szama": "5"
                                },
                                {
                                    "SZOBA_FK": "148",
                                    "Foglalasok_szama": "6"
                                },
                                {
                                    "SZOBA_FK": "168",
                                    "Foglalasok_szama": "5"
                                },
                                {
                                    "SZOBA_FK": "191",
                                    "Foglalasok_szama": "5"
                                },
                                {
                                    "SZOBA_FK": "116",
                                    "Foglalasok_szama": "2"
                                },
                                {
                                    "SZOBA_FK": "139",
                                    "Foglalasok_szama": "7"
                                },
                                {
                                    "SZOBA_FK": "162",
                                    "Foglalasok_szama": "3"
                                },
                                {
                                    "SZOBA_FK": "185",
                                    "Foglalasok_szama": "12"
                                },
                                {
                                    "SZOBA_FK": "128",
                                    "Foglalasok_szama": "5"
                                },
                                {
                                    "SZOBA_FK": "122",
                                    "Foglalasok_szama": "9"
                                },
                                {
                                    "SZOBA_FK": "22",
                                    "Foglalasok_szama": "6"
                                },
                                {
                                    "SZOBA_FK": "76",
                                    "Foglalasok_szama": "3"
                                },
                                {
                                    "SZOBA_FK": "59",
                                    "Foglalasok_szama": "7"
                                },
                                {
                                    "SZOBA_FK": "108",
                                    "Foglalasok_szama": "2"
                                },
                                {
                                    "SZOBA_FK": "82",
                                    "Foglalasok_szama": "6"
                                },
                                {
                                    "SZOBA_FK": "39",
                                    "Foglalasok_szama": "7"
                                },
                                {
                                    "SZOBA_FK": "33",
                                    "Foglalasok_szama": "6"
                                },
                                {
                                    "SZOBA_FK": "182",
                                    "Foglalasok_szama": "12"
                                },
                                {
                                    "SZOBA_FK": "16",
                                    "Foglalasok_szama": "5"
                                },
                                {
                                    "SZOBA_FK": "88",
                                    "Foglalasok_szama": "8"
                                },
                                {
                                    "SZOBA_FK": "102",
                                    "Foglalasok_szama": "2"
                                },
                                {
                                    "SZOBA_FK": "53",
                                    "Foglalasok_szama": "2"
                                },
                                {
                                    "SZOBA_FK": "45",
                                    "Foglalasok_szama": "5"
                                },
                                {
                                    "SZOBA_FK": "145",
                                    "Foglalasok_szama": "6"
                                },
                                {
                                    "SZOBA_FK": "2",
                                    "Foglalasok_szama": "4"
                                },
                                {
                                    "SZOBA_FK": "48",
                                    "Foglalasok_szama": "9"
                                },
                                {
                                    "SZOBA_FK": "71",
                                    "Foglalasok_szama": "3"
                                },
                                {
                                    "SZOBA_FK": "94",
                                    "Foglalasok_szama": "10"
                                },
                                {
                                    "SZOBA_FK": "117",
                                    "Foglalasok_szama": "8"
                                },
                                {
                                    "SZOBA_FK": "140",
                                    "Foglalasok_szama": "8"
                                },
                                {
                                    "SZOBA_FK": "163",
                                    "Foglalasok_szama": "7"
                                },
                                {
                                    "SZOBA_FK": "186",
                                    "Foglalasok_szama": "4"
                                },
                                {
                                    "SZOBA_FK": "77",
                                    "Foglalasok_szama": "6"
                                },
                                {
                                    "SZOBA_FK": "17",
                                    "Foglalasok_szama": "6"
                                },
                                {
                                    "SZOBA_FK": "31",
                                    "Foglalasok_szama": "3"
                                },
                                {
                                    "SZOBA_FK": "123",
                                    "Foglalasok_szama": "5"
                                },
                                {
                                    "SZOBA_FK": "83",
                                    "Foglalasok_szama": "8"
                                },
                                {
                                    "SZOBA_FK": "177",
                                    "Foglalasok_szama": "4"
                                },
                                {
                                    "SZOBA_FK": "154",
                                    "Foglalasok_szama": "5"
                                },
                                {
                                    "SZOBA_FK": "134",
                                    "Foglalasok_szama": "6"
                                },
                                {
                                    "SZOBA_FK": "34",
                                    "Foglalasok_szama": "4"
                                },
                                {
                                    "SZOBA_FK": "40",
                                    "Foglalasok_szama": "4"
                                },
                                {
                                    "SZOBA_FK": "11",
                                    "Foglalasok_szama": "4"
                                },
                                {
                                    "SZOBA_FK": "183",
                                    "Foglalasok_szama": "4"
                                },
                                {
                                    "SZOBA_FK": "111",
                                    "Foglalasok_szama": "5"
                                },
                                {
                                    "SZOBA_FK": "160",
                                    "Foglalasok_szama": "5"
                                },
                                {
                                    "SZOBA_FK": "54",
                                    "Foglalasok_szama": "6"
                                },
                                {
                                    "SZOBA_FK": "91",
                                    "Foglalasok_szama": "4"
                                },
                                {
                                    "SZOBA_FK": "103",
                                    "Foglalasok_szama": "4"
                                },
                                {
                                    "SZOBA_FK": "97",
                                    "Foglalasok_szama": "7"
                                },
                                {
                                    "SZOBA_FK": "197",
                                    "Foglalasok_szama": "6"
                                },
                                {
                                    "SZOBA_FK": "143",
                                    "Foglalasok_szama": "7"
                                },
                                {
                                    "SZOBA_FK": "120",
                                    "Foglalasok_szama": "6"
                                },
                                {
                                    "SZOBA_FK": "166",
                                    "Foglalasok_szama": "3"
                                },
                                {
                                    "SZOBA_FK": "114",
                                    "Foglalasok_szama": "4"
                                },
                                {
                                    "SZOBA_FK": "20",
                                    "Foglalasok_szama": "5"
                                },
                                {
                                    "SZOBA_FK": "68",
                                    "Foglalasok_szama": "3"
                                },
                                {
                                    "SZOBA_FK": "80",
                                    "Foglalasok_szama": "7"
                                },
                                {
                                    "SZOBA_FK": "28",
                                    "Foglalasok_szama": "6"
                                },
                                {
                                    "SZOBA_FK": "174",
                                    "Foglalasok_szama": "4"
                                },
                                {
                                    "SZOBA_FK": "74",
                                    "Foglalasok_szama": "9"
                                },
                                {
                                    "SZOBA_FK": "131",
                                    "Foglalasok_szama": "5"
                                },
                                {
                                    "SZOBA_FK": "180",
                                    "Foglalasok_szama": "3"
                                },
                                {
                                    "SZOBA_FK": "57",
                                    "Foglalasok_szama": "4"
                                },
                                {
                                    "SZOBA_FK": "157",
                                    "Foglalasok_szama": "5"
                                },
                                {
                                    "SZOBA_FK": "14",
                                    "Foglalasok_szama": "3"
                                },
                                {
                                    "SZOBA_FK": "37",
                                    "Foglalasok_szama": "3"
                                },
                                {
                                    "SZOBA_FK": "137",
                                    "Foglalasok_szama": "6"
                                },
                                {
                                    "SZOBA_FK": "8",
                                    "Foglalasok_szama": "5"
                                },
                                {
                                    "SZOBA_FK": "51",
                                    "Foglalasok_szama": "5"
                                },
                                {
                                    "SZOBA_FK": "151",
                                    "Foglalasok_szama": "3"
                                },
                                {
                                    "SZOBA_FK": "100",
                                    "Foglalasok_szama": "4"
                                }
                            ]
                        },
                        "text/html": [
                            "<table>",
                            "<tr><th>SZOBA_FK</th><th>Foglalasok_szama</th></tr>",
                            "<tr><td>23</td><td>3</td></tr>",
                            "<tr><td>46</td><td>4</td></tr>",
                            "<tr><td>192</td><td>2</td></tr>",
                            "<tr><td>69</td><td>4</td></tr>",
                            "<tr><td>92</td><td>6</td></tr>",
                            "<tr><td>115</td><td>7</td></tr>",
                            "<tr><td>138</td><td>7</td></tr>",
                            "<tr><td>161</td><td>6</td></tr>",
                            "<tr><td>29</td><td>6</td></tr>",
                            "<tr><td>169</td><td>6</td></tr>",
                            "<tr><td>175</td><td>5</td></tr>",
                            "<tr><td>75</td><td>3</td></tr>",
                            "<tr><td>132</td><td>6</td></tr>",
                            "<tr><td>9</td><td>6</td></tr>",
                            "<tr><td>181</td><td>6</td></tr>",
                            "<tr><td>15</td><td>6</td></tr>",
                            "<tr><td>109</td><td>7</td></tr>",
                            "<tr><td>158</td><td>3</td></tr>",
                            "<tr><td>89</td><td>8</td></tr>",
                            "<tr><td>195</td><td>6</td></tr>",
                            "<tr><td>3</td><td>8</td></tr>",
                            "<tr><td>146</td><td>6</td></tr>",
                            "<tr><td>152</td><td>4</td></tr>",
                            "<tr><td>52</td><td>5</td></tr>",
                            "<tr><td>95</td><td>4</td></tr>",
                            "<tr><td>189</td><td>5</td></tr>",
                            "<tr><td>72</td><td>4</td></tr>",
                            "<tr><td>118</td><td>7</td></tr>",
                            "<tr><td>172</td><td>9</td></tr>",
                            "<tr><td>78</td><td>6</td></tr>",
                            "<tr><td>66</td><td>4</td></tr>",
                            "<tr><td>126</td><td>6</td></tr>",
                            "<tr><td>26</td><td>2</td></tr>",
                            "<tr><td>12</td><td>9</td></tr>",
                            "<tr><td>178</td><td>4</td></tr>",
                            "<tr><td>35</td><td>9</td></tr>",
                            "<tr><td>129</td><td>4</td></tr>",
                            "<tr><td>155</td><td>5</td></tr>",
                            "<tr><td>106</td><td>6</td></tr>",
                            "<tr><td>86</td><td>5</td></tr>",
                            "<tr><td>135</td><td>3</td></tr>",
                            "<tr><td>63</td><td>4</td></tr>",
                            "<tr><td>112</td><td>5</td></tr>",
                            "<tr><td>6</td><td>6</td></tr>",
                            "<tr><td>43</td><td>8</td></tr>",
                            "<tr><td>55</td><td>8</td></tr>",
                            "<tr><td>98</td><td>4</td></tr>",
                            "<tr><td>49</td><td>7</td></tr>",
                            "<tr><td>149</td><td>7</td></tr>",
                            "<tr><td>198</td><td>8</td></tr>",
                            "<tr><td>190</td><td>5</td></tr>",
                            "<tr><td>144</td><td>5</td></tr>",
                            "<tr><td>167</td><td>2</td></tr>",
                            "<tr><td>184</td><td>4</td></tr>",
                            "<tr><td>113</td><td>5</td></tr>",
                            "<tr><td>67</td><td>6</td></tr>",
                            "<tr><td>21</td><td>4</td></tr>",
                            "<tr><td>27</td><td>7</td></tr>",
                            "<tr><td>127</td><td>7</td></tr>",
                            "<tr><td>121</td><td>8</td></tr>",
                            "<tr><td>173</td><td>4</td></tr>",
                            "<tr><td>107</td><td>5</td></tr>",
                            "<tr><td>156</td><td>7</td></tr>",
                            "<tr><td>58</td><td>13</td></tr>",
                            "<tr><td>130</td><td>6</td></tr>",
                            "<tr><td>81</td><td>5</td></tr>",
                            "<tr><td>64</td><td>6</td></tr>",
                            "<tr><td>87</td><td>5</td></tr>",
                            "<tr><td>38</td><td>8</td></tr>",
                            "<tr><td>101</td><td>3</td></tr>",
                            "<tr><td>7</td><td>6</td></tr>",
                            "<tr><td>44</td><td>6</td></tr>",
                            "<tr><td>193</td><td>7</td></tr>",
                            "<tr><td>150</td><td>6</td></tr>",
                            "<tr><td>1</td><td>8</td></tr>",
                            "<tr><td>50</td><td>4</td></tr>",
                            "<tr><td>24</td><td>3</td></tr>",
                            "<tr><td>47</td><td>2</td></tr>",
                            "<tr><td>141</td><td>6</td></tr>",
                            "<tr><td>70</td><td>11</td></tr>",
                            "<tr><td>93</td><td>5</td></tr>",
                            "<tr><td>187</td><td>7</td></tr>",
                            "<tr><td>164</td><td>5</td></tr>",
                            "<tr><td>30</td><td>3</td></tr>",
                            "<tr><td>18</td><td>6</td></tr>",
                            "<tr><td>170</td><td>5</td></tr>",
                            "<tr><td>176</td><td>6</td></tr>",
                            "<tr><td>124</td><td>6</td></tr>",
                            "<tr><td>84</td><td>4</td></tr>",
                            "<tr><td>153</td><td>5</td></tr>",
                            "<tr><td>110</td><td>8</td></tr>",
                            "<tr><td>10</td><td>4</td></tr>",
                            "<tr><td>133</td><td>6</td></tr>",
                            "<tr><td>61</td><td>5</td></tr>",
                            "<tr><td>196</td><td>4</td></tr>",
                            "<tr><td>90</td><td>4</td></tr>",
                            "<tr><td>41</td><td>2</td></tr>",
                            "<tr><td>104</td><td>4</td></tr>",
                            "<tr><td>4</td><td>6</td></tr>",
                            "<tr><td>119</td><td>5</td></tr>",
                            "<tr><td>96</td><td>7</td></tr>",
                            "<tr><td>165</td><td>7</td></tr>",
                            "<tr><td>142</td><td>2</td></tr>",
                            "<tr><td>188</td><td>6</td></tr>",
                            "<tr><td>79</td><td>5</td></tr>",
                            "<tr><td>19</td><td>6</td></tr>",
                            "<tr><td>171</td><td>5</td></tr>",
                            "<tr><td>73</td><td>4</td></tr>",
                            "<tr><td>25</td><td>2</td></tr>",
                            "<tr><td>36</td><td>6</td></tr>",
                            "<tr><td>105</td><td>2</td></tr>",
                            "<tr><td>179</td><td>3</td></tr>",
                            "<tr><td>85</td><td>4</td></tr>",
                            "<tr><td>136</td><td>3</td></tr>",
                            "<tr><td>62</td><td>5</td></tr>",
                            "<tr><td>13</td><td>4</td></tr>",
                            "<tr><td>42</td><td>6</td></tr>",
                            "<tr><td>5</td><td>4</td></tr>",
                            "<tr><td>56</td><td>2</td></tr>",
                            "<tr><td>99</td><td>5</td></tr>",
                            "<tr><td>148</td><td>6</td></tr>",
                            "<tr><td>168</td><td>5</td></tr>",
                            "<tr><td>191</td><td>5</td></tr>",
                            "<tr><td>116</td><td>2</td></tr>",
                            "<tr><td>139</td><td>7</td></tr>",
                            "<tr><td>162</td><td>3</td></tr>",
                            "<tr><td>185</td><td>12</td></tr>",
                            "<tr><td>128</td><td>5</td></tr>",
                            "<tr><td>122</td><td>9</td></tr>",
                            "<tr><td>22</td><td>6</td></tr>",
                            "<tr><td>76</td><td>3</td></tr>",
                            "<tr><td>59</td><td>7</td></tr>",
                            "<tr><td>108</td><td>2</td></tr>",
                            "<tr><td>82</td><td>6</td></tr>",
                            "<tr><td>39</td><td>7</td></tr>",
                            "<tr><td>33</td><td>6</td></tr>",
                            "<tr><td>182</td><td>12</td></tr>",
                            "<tr><td>16</td><td>5</td></tr>",
                            "<tr><td>88</td><td>8</td></tr>",
                            "<tr><td>102</td><td>2</td></tr>",
                            "<tr><td>53</td><td>2</td></tr>",
                            "<tr><td>45</td><td>5</td></tr>",
                            "<tr><td>145</td><td>6</td></tr>",
                            "<tr><td>2</td><td>4</td></tr>",
                            "<tr><td>48</td><td>9</td></tr>",
                            "<tr><td>71</td><td>3</td></tr>",
                            "<tr><td>94</td><td>10</td></tr>",
                            "<tr><td>117</td><td>8</td></tr>",
                            "<tr><td>140</td><td>8</td></tr>",
                            "<tr><td>163</td><td>7</td></tr>",
                            "<tr><td>186</td><td>4</td></tr>",
                            "<tr><td>77</td><td>6</td></tr>",
                            "<tr><td>17</td><td>6</td></tr>",
                            "<tr><td>31</td><td>3</td></tr>",
                            "<tr><td>123</td><td>5</td></tr>",
                            "<tr><td>83</td><td>8</td></tr>",
                            "<tr><td>177</td><td>4</td></tr>",
                            "<tr><td>154</td><td>5</td></tr>",
                            "<tr><td>134</td><td>6</td></tr>",
                            "<tr><td>34</td><td>4</td></tr>",
                            "<tr><td>40</td><td>4</td></tr>",
                            "<tr><td>11</td><td>4</td></tr>",
                            "<tr><td>183</td><td>4</td></tr>",
                            "<tr><td>111</td><td>5</td></tr>",
                            "<tr><td>160</td><td>5</td></tr>",
                            "<tr><td>54</td><td>6</td></tr>",
                            "<tr><td>91</td><td>4</td></tr>",
                            "<tr><td>103</td><td>4</td></tr>",
                            "<tr><td>97</td><td>7</td></tr>",
                            "<tr><td>197</td><td>6</td></tr>",
                            "<tr><td>143</td><td>7</td></tr>",
                            "<tr><td>120</td><td>6</td></tr>",
                            "<tr><td>166</td><td>3</td></tr>",
                            "<tr><td>114</td><td>4</td></tr>",
                            "<tr><td>20</td><td>5</td></tr>",
                            "<tr><td>68</td><td>3</td></tr>",
                            "<tr><td>80</td><td>7</td></tr>",
                            "<tr><td>28</td><td>6</td></tr>",
                            "<tr><td>174</td><td>4</td></tr>",
                            "<tr><td>74</td><td>9</td></tr>",
                            "<tr><td>131</td><td>5</td></tr>",
                            "<tr><td>180</td><td>3</td></tr>",
                            "<tr><td>57</td><td>4</td></tr>",
                            "<tr><td>157</td><td>5</td></tr>",
                            "<tr><td>14</td><td>3</td></tr>",
                            "<tr><td>37</td><td>3</td></tr>",
                            "<tr><td>137</td><td>6</td></tr>",
                            "<tr><td>8</td><td>5</td></tr>",
                            "<tr><td>51</td><td>5</td></tr>",
                            "<tr><td>151</td><td>3</td></tr>",
                            "<tr><td>100</td><td>4</td></tr>",
                            "</table>"
                        ]
                    }
                }
            ],
            "execution_count": 5
        },
        {
            "cell_type": "code",
            "source": [
                "select METTOL as Foglalasi_nap, COUNT(*) as Foglalasok_szama \r\n",
                "from Foglalas\r\n",
                "GROUP by METTOL\r\n",
                "having count (*) >= 2;"
            ],
            "metadata": {
                "language": "sql",
                "azdata_cell_guid": "95011c4d-08a4-4178-becf-0634e9164294"
            },
            "outputs": [
                {
                    "output_type": "display_data",
                    "data": {
                        "text/html": "(223 rows affected)"
                    },
                    "metadata": {}
                },
                {
                    "output_type": "display_data",
                    "data": {
                        "text/html": "Total execution time: 00:00:00.006"
                    },
                    "metadata": {}
                },
                {
                    "output_type": "execute_result",
                    "metadata": {},
                    "execution_count": 6,
                    "data": {
                        "application/vnd.dataresource+json": {
                            "schema": {
                                "fields": [
                                    {
                                        "name": "Foglalasi_nap"
                                    },
                                    {
                                        "name": "Foglalasok_szama"
                                    }
                                ]
                            },
                            "data": [
                                {
                                    "Foglalasi_nap": "2016-11-16",
                                    "Foglalasok_szama": "4"
                                },
                                {
                                    "Foglalasi_nap": "2017-01-24",
                                    "Foglalasok_szama": "2"
                                },
                                {
                                    "Foglalasi_nap": "2017-01-01",
                                    "Foglalasok_szama": "4"
                                },
                                {
                                    "Foglalasi_nap": "2017-02-16",
                                    "Foglalasok_szama": "9"
                                },
                                {
                                    "Foglalasi_nap": "2016-12-15",
                                    "Foglalasok_szama": "3"
                                },
                                {
                                    "Foglalasi_nap": "2016-04-21",
                                    "Foglalasok_szama": "2"
                                },
                                {
                                    "Foglalasi_nap": "2016-10-30",
                                    "Foglalasok_szama": "14"
                                },
                                {
                                    "Foglalasi_nap": "2016-08-31",
                                    "Foglalasok_szama": "2"
                                },
                                {
                                    "Foglalasi_nap": "2016-06-06",
                                    "Foglalasok_szama": "14"
                                },
                                {
                                    "Foglalasi_nap": "2016-07-16",
                                    "Foglalasok_szama": "2"
                                },
                                {
                                    "Foglalasi_nap": "2016-07-22",
                                    "Foglalasok_szama": "4"
                                },
                                {
                                    "Foglalasi_nap": "2016-10-24",
                                    "Foglalasok_szama": "3"
                                },
                                {
                                    "Foglalasi_nap": "2016-09-17",
                                    "Foglalasok_szama": "4"
                                },
                                {
                                    "Foglalasi_nap": "2016-04-27",
                                    "Foglalasok_szama": "3"
                                },
                                {
                                    "Foglalasi_nap": "2017-01-15",
                                    "Foglalasok_szama": "2"
                                },
                                {
                                    "Foglalasi_nap": "2016-11-25",
                                    "Foglalasok_szama": "6"
                                },
                                {
                                    "Foglalasi_nap": "2016-05-17",
                                    "Foglalasok_szama": "3"
                                },
                                {
                                    "Foglalasi_nap": "2016-07-30",
                                    "Foglalasok_szama": "4"
                                },
                                {
                                    "Foglalasi_nap": "2016-11-05",
                                    "Foglalasok_szama": "8"
                                },
                                {
                                    "Foglalasi_nap": "2016-08-25",
                                    "Foglalasok_szama": "3"
                                },
                                {
                                    "Foglalasi_nap": "2016-12-26",
                                    "Foglalasok_szama": "3"
                                },
                                {
                                    "Foglalasi_nap": "2016-09-23",
                                    "Foglalasok_szama": "4"
                                },
                                {
                                    "Foglalasi_nap": "2016-08-05",
                                    "Foglalasok_szama": "3"
                                },
                                {
                                    "Foglalasi_nap": "2016-10-07",
                                    "Foglalasok_szama": "2"
                                },
                                {
                                    "Foglalasi_nap": "2016-06-23",
                                    "Foglalasok_szama": "4"
                                },
                                {
                                    "Foglalasi_nap": "2017-02-27",
                                    "Foglalasok_szama": "2"
                                },
                                {
                                    "Foglalasi_nap": "2016-10-01",
                                    "Foglalasok_szama": "18"
                                },
                                {
                                    "Foglalasi_nap": "2016-11-19",
                                    "Foglalasok_szama": "8"
                                },
                                {
                                    "Foglalasi_nap": "2016-06-03",
                                    "Foglalasok_szama": "9"
                                },
                                {
                                    "Foglalasi_nap": "2016-10-21",
                                    "Foglalasok_szama": "4"
                                },
                                {
                                    "Foglalasi_nap": "2016-12-06",
                                    "Foglalasok_szama": "5"
                                },
                                {
                                    "Foglalasi_nap": "2016-12-29",
                                    "Foglalasok_szama": "5"
                                },
                                {
                                    "Foglalasi_nap": "2017-02-13",
                                    "Foglalasok_szama": "5"
                                },
                                {
                                    "Foglalasi_nap": "2016-04-10",
                                    "Foglalasok_szama": "9"
                                },
                                {
                                    "Foglalasi_nap": "2016-06-09",
                                    "Foglalasok_szama": "3"
                                },
                                {
                                    "Foglalasi_nap": "2016-07-13",
                                    "Foglalasok_szama": "5"
                                },
                                {
                                    "Foglalasi_nap": "2017-02-04",
                                    "Foglalasok_szama": "6"
                                },
                                {
                                    "Foglalasi_nap": "2016-10-27",
                                    "Foglalasok_szama": "4"
                                },
                                {
                                    "Foglalasi_nap": "2016-07-19",
                                    "Foglalasok_szama": "3"
                                },
                                {
                                    "Foglalasi_nap": "2016-10-10",
                                    "Foglalasok_szama": "2"
                                },
                                {
                                    "Foglalasi_nap": "2017-01-12",
                                    "Foglalasok_szama": "2"
                                },
                                {
                                    "Foglalasi_nap": "2016-09-14",
                                    "Foglalasok_szama": "2"
                                },
                                {
                                    "Foglalasi_nap": "2016-09-20",
                                    "Foglalasok_szama": "2"
                                },
                                {
                                    "Foglalasi_nap": "2016-08-28",
                                    "Foglalasok_szama": "5"
                                },
                                {
                                    "Foglalasi_nap": "2016-07-10",
                                    "Foglalasok_szama": "2"
                                },
                                {
                                    "Foglalasi_nap": "2017-02-10",
                                    "Foglalasok_szama": "2"
                                },
                                {
                                    "Foglalasi_nap": "2016-08-02",
                                    "Foglalasok_szama": "2"
                                },
                                {
                                    "Foglalasi_nap": "2017-01-18",
                                    "Foglalasok_szama": "2"
                                },
                                {
                                    "Foglalasi_nap": "2016-04-24",
                                    "Foglalasok_szama": "3"
                                },
                                {
                                    "Foglalasi_nap": "2016-06-20",
                                    "Foglalasok_szama": "2"
                                },
                                {
                                    "Foglalasi_nap": "2017-02-24",
                                    "Foglalasok_szama": "5"
                                },
                                {
                                    "Foglalasi_nap": "2016-10-04",
                                    "Foglalasok_szama": "3"
                                },
                                {
                                    "Foglalasi_nap": "2016-11-22",
                                    "Foglalasok_szama": "6"
                                },
                                {
                                    "Foglalasi_nap": "2016-05-14",
                                    "Foglalasok_szama": "4"
                                },
                                {
                                    "Foglalasi_nap": "2016-05-08",
                                    "Foglalasok_szama": "5"
                                },
                                {
                                    "Foglalasi_nap": "2016-08-14",
                                    "Foglalasok_szama": "3"
                                },
                                {
                                    "Foglalasi_nap": "2016-09-29",
                                    "Foglalasok_szama": "2"
                                },
                                {
                                    "Foglalasi_nap": "2016-06-27",
                                    "Foglalasok_szama": "3"
                                },
                                {
                                    "Foglalasi_nap": "2016-10-22",
                                    "Foglalasok_szama": "4"
                                },
                                {
                                    "Foglalasi_nap": "2016-06-04",
                                    "Foglalasok_szama": "6"
                                },
                                {
                                    "Foglalasi_nap": "2016-05-12",
                                    "Foglalasok_szama": "3"
                                },
                                {
                                    "Foglalasi_nap": "2016-12-07",
                                    "Foglalasok_szama": "3"
                                },
                                {
                                    "Foglalasi_nap": "2016-04-19",
                                    "Foglalasok_szama": "4"
                                },
                                {
                                    "Foglalasi_nap": "2017-01-22",
                                    "Foglalasok_szama": "7"
                                },
                                {
                                    "Foglalasi_nap": "2016-07-14",
                                    "Foglalasok_szama": "6"
                                },
                                {
                                    "Foglalasi_nap": "2016-10-16",
                                    "Foglalasok_szama": "3"
                                },
                                {
                                    "Foglalasi_nap": "2016-10-28",
                                    "Foglalasok_szama": "6"
                                },
                                {
                                    "Foglalasi_nap": "2016-08-29",
                                    "Foglalasok_szama": "6"
                                },
                                {
                                    "Foglalasi_nap": "2016-09-12",
                                    "Foglalasok_szama": "3"
                                },
                                {
                                    "Foglalasi_nap": "2016-05-29",
                                    "Foglalasok_szama": "3"
                                },
                                {
                                    "Foglalasi_nap": "2017-01-30",
                                    "Foglalasok_szama": "3"
                                },
                                {
                                    "Foglalasi_nap": "2017-02-05",
                                    "Foglalasok_szama": "5"
                                },
                                {
                                    "Foglalasi_nap": "2017-01-13",
                                    "Foglalasok_szama": "2"
                                },
                                {
                                    "Foglalasi_nap": "2017-03-03",
                                    "Foglalasok_szama": "2"
                                },
                                {
                                    "Foglalasi_nap": "2016-12-24",
                                    "Foglalasok_szama": "3"
                                },
                                {
                                    "Foglalasi_nap": "2016-07-28",
                                    "Foglalasok_szama": "7"
                                },
                                {
                                    "Foglalasi_nap": "2016-08-03",
                                    "Foglalasok_szama": "4"
                                },
                                {
                                    "Foglalasi_nap": "2016-09-15",
                                    "Foglalasok_szama": "3"
                                },
                                {
                                    "Foglalasi_nap": "2016-08-23",
                                    "Foglalasok_szama": "5"
                                },
                                {
                                    "Foglalasi_nap": "2016-12-01",
                                    "Foglalasok_szama": "2"
                                },
                                {
                                    "Foglalasi_nap": "2017-01-19",
                                    "Foglalasok_szama": "3"
                                },
                                {
                                    "Foglalasi_nap": "2016-10-05",
                                    "Foglalasok_szama": "2"
                                },
                                {
                                    "Foglalasi_nap": "2016-08-17",
                                    "Foglalasok_szama": "4"
                                },
                                {
                                    "Foglalasi_nap": "2016-11-11",
                                    "Foglalasok_szama": "2"
                                },
                                {
                                    "Foglalasi_nap": "2016-11-17",
                                    "Foglalasok_szama": "2"
                                },
                                {
                                    "Foglalasi_nap": "2017-02-25",
                                    "Foglalasok_szama": "2"
                                },
                                {
                                    "Foglalasi_nap": "2016-04-16",
                                    "Foglalasok_szama": "2"
                                },
                                {
                                    "Foglalasi_nap": "2016-05-09",
                                    "Foglalasok_szama": "7"
                                },
                                {
                                    "Foglalasi_nap": "2016-04-22",
                                    "Foglalasok_szama": "2"
                                },
                                {
                                    "Foglalasi_nap": "2016-12-04",
                                    "Foglalasok_szama": "3"
                                },
                                {
                                    "Foglalasi_nap": "2016-06-07",
                                    "Foglalasok_szama": "11"
                                },
                                {
                                    "Foglalasi_nap": "2016-07-25",
                                    "Foglalasok_szama": "2"
                                },
                                {
                                    "Foglalasi_nap": "2016-10-19",
                                    "Foglalasok_szama": "4"
                                },
                                {
                                    "Foglalasi_nap": "2016-07-17",
                                    "Foglalasok_szama": "3"
                                },
                                {
                                    "Foglalasi_nap": "2016-12-18",
                                    "Foglalasok_szama": "2"
                                },
                                {
                                    "Foglalasi_nap": "2016-09-09",
                                    "Foglalasok_szama": "2"
                                },
                                {
                                    "Foglalasi_nap": "2016-06-01",
                                    "Foglalasok_szama": "2"
                                },
                                {
                                    "Foglalasi_nap": "2016-07-08",
                                    "Foglalasok_szama": "3"
                                },
                                {
                                    "Foglalasi_nap": "2016-11-28",
                                    "Foglalasok_szama": "3"
                                },
                                {
                                    "Foglalasi_nap": "2017-02-08",
                                    "Foglalasok_szama": "5"
                                },
                                {
                                    "Foglalasi_nap": "2016-10-08",
                                    "Foglalasok_szama": "7"
                                },
                                {
                                    "Foglalasi_nap": "2017-01-16",
                                    "Foglalasok_szama": "8"
                                },
                                {
                                    "Foglalasi_nap": "2016-08-26",
                                    "Foglalasok_szama": "2"
                                },
                                {
                                    "Foglalasi_nap": "2016-11-08",
                                    "Foglalasok_szama": "4"
                                },
                                {
                                    "Foglalasi_nap": "2016-07-31",
                                    "Foglalasok_szama": "2"
                                },
                                {
                                    "Foglalasi_nap": "2016-09-18",
                                    "Foglalasok_szama": "4"
                                },
                                {
                                    "Foglalasi_nap": "2016-08-20",
                                    "Foglalasok_szama": "5"
                                },
                                {
                                    "Foglalasi_nap": "2016-08-06",
                                    "Foglalasok_szama": "3"
                                },
                                {
                                    "Foglalasi_nap": "2016-09-26",
                                    "Foglalasok_szama": "2"
                                },
                                {
                                    "Foglalasi_nap": "2017-01-10",
                                    "Foglalasok_szama": "2"
                                },
                                {
                                    "Foglalasi_nap": "2016-06-24",
                                    "Foglalasok_szama": "2"
                                },
                                {
                                    "Foglalasi_nap": "2016-05-10",
                                    "Foglalasok_szama": "2"
                                },
                                {
                                    "Foglalasi_nap": "2016-07-20",
                                    "Foglalasok_szama": "10"
                                },
                                {
                                    "Foglalasi_nap": "2016-06-02",
                                    "Foglalasok_szama": "4"
                                },
                                {
                                    "Foglalasi_nap": "2017-02-20",
                                    "Foglalasok_szama": "4"
                                },
                                {
                                    "Foglalasi_nap": "2016-04-17",
                                    "Foglalasok_szama": "2"
                                },
                                {
                                    "Foglalasi_nap": "2017-02-14",
                                    "Foglalasok_szama": "3"
                                },
                                {
                                    "Foglalasi_nap": "2016-07-26",
                                    "Foglalasok_szama": "2"
                                },
                                {
                                    "Foglalasi_nap": "2016-05-27",
                                    "Foglalasok_szama": "3"
                                },
                                {
                                    "Foglalasi_nap": "2016-09-10",
                                    "Foglalasok_szama": "2"
                                },
                                {
                                    "Foglalasi_nap": "2016-12-05",
                                    "Foglalasok_szama": "4"
                                },
                                {
                                    "Foglalasi_nap": "2016-07-12",
                                    "Foglalasok_szama": "3"
                                },
                                {
                                    "Foglalasi_nap": "2016-10-20",
                                    "Foglalasok_szama": "4"
                                },
                                {
                                    "Foglalasi_nap": "2017-01-28",
                                    "Foglalasok_szama": "3"
                                },
                                {
                                    "Foglalasi_nap": "2017-02-03",
                                    "Foglalasok_szama": "3"
                                },
                                {
                                    "Foglalasi_nap": "2016-08-01",
                                    "Foglalasok_szama": "4"
                                },
                                {
                                    "Foglalasi_nap": "2016-05-21",
                                    "Foglalasok_szama": "5"
                                },
                                {
                                    "Foglalasi_nap": "2016-07-09",
                                    "Foglalasok_szama": "2"
                                },
                                {
                                    "Foglalasi_nap": "2016-11-03",
                                    "Foglalasok_szama": "7"
                                },
                                {
                                    "Foglalasi_nap": "2016-12-22",
                                    "Foglalasok_szama": "3"
                                },
                                {
                                    "Foglalasi_nap": "2017-01-17",
                                    "Foglalasok_szama": "5"
                                },
                                {
                                    "Foglalasi_nap": "2016-08-21",
                                    "Foglalasok_szama": "2"
                                },
                                {
                                    "Foglalasi_nap": "2016-06-13",
                                    "Foglalasok_szama": "5"
                                },
                                {
                                    "Foglalasi_nap": "2016-11-29",
                                    "Foglalasok_szama": "4"
                                },
                                {
                                    "Foglalasi_nap": "2016-07-03",
                                    "Foglalasok_szama": "5"
                                },
                                {
                                    "Foglalasi_nap": "2016-11-09",
                                    "Foglalasok_szama": "3"
                                },
                                {
                                    "Foglalasi_nap": "2016-11-23",
                                    "Foglalasok_szama": "8"
                                },
                                {
                                    "Foglalasi_nap": "2016-05-01",
                                    "Foglalasok_szama": "5"
                                },
                                {
                                    "Foglalasi_nap": "2017-01-05",
                                    "Foglalasok_szama": "3"
                                },
                                {
                                    "Foglalasi_nap": "2016-08-09",
                                    "Foglalasok_szama": "2"
                                },
                                {
                                    "Foglalasi_nap": "2016-08-15",
                                    "Foglalasok_szama": "2"
                                },
                                {
                                    "Foglalasi_nap": "2016-10-03",
                                    "Foglalasok_szama": "3"
                                },
                                {
                                    "Foglalasi_nap": "2017-02-23",
                                    "Foglalasok_szama": "6"
                                },
                                {
                                    "Foglalasi_nap": "2016-10-23",
                                    "Foglalasok_szama": "7"
                                },
                                {
                                    "Foglalasi_nap": "2017-01-02",
                                    "Foglalasok_szama": "2"
                                },
                                {
                                    "Foglalasi_nap": "2016-11-15",
                                    "Foglalasok_szama": "3"
                                },
                                {
                                    "Foglalasi_nap": "2017-02-17",
                                    "Foglalasok_szama": "2"
                                },
                                {
                                    "Foglalasi_nap": "2016-10-17",
                                    "Foglalasok_szama": "3"
                                },
                                {
                                    "Foglalasi_nap": "2016-09-13",
                                    "Foglalasok_szama": "4"
                                },
                                {
                                    "Foglalasi_nap": "2016-07-23",
                                    "Foglalasok_szama": "2"
                                },
                                {
                                    "Foglalasi_nap": "2016-04-08",
                                    "Foglalasok_szama": "2"
                                },
                                {
                                    "Foglalasi_nap": "2016-04-14",
                                    "Foglalasok_szama": "2"
                                },
                                {
                                    "Foglalasi_nap": "2016-05-30",
                                    "Foglalasok_szama": "11"
                                },
                                {
                                    "Foglalasi_nap": "2016-04-28",
                                    "Foglalasok_szama": "2"
                                },
                                {
                                    "Foglalasi_nap": "2016-06-16",
                                    "Foglalasok_szama": "8"
                                },
                                {
                                    "Foglalasi_nap": "2016-05-24",
                                    "Foglalasok_szama": "4"
                                },
                                {
                                    "Foglalasi_nap": "2017-02-06",
                                    "Foglalasok_szama": "3"
                                },
                                {
                                    "Foglalasi_nap": "2016-07-29",
                                    "Foglalasok_szama": "2"
                                },
                                {
                                    "Foglalasi_nap": "2016-06-10",
                                    "Foglalasok_szama": "10"
                                },
                                {
                                    "Foglalasi_nap": "2016-12-02",
                                    "Foglalasok_szama": "3"
                                },
                                {
                                    "Foglalasi_nap": "2016-05-18",
                                    "Foglalasok_szama": "4"
                                },
                                {
                                    "Foglalasi_nap": "2016-08-24",
                                    "Foglalasok_szama": "10"
                                },
                                {
                                    "Foglalasi_nap": "2016-07-06",
                                    "Foglalasok_szama": "3"
                                },
                                {
                                    "Foglalasi_nap": "2016-11-06",
                                    "Foglalasok_szama": "3"
                                },
                                {
                                    "Foglalasi_nap": "2016-12-25",
                                    "Foglalasok_szama": "9"
                                },
                                {
                                    "Foglalasi_nap": "2016-08-18",
                                    "Foglalasok_szama": "2"
                                },
                                {
                                    "Foglalasi_nap": "2016-06-30",
                                    "Foglalasok_szama": "3"
                                },
                                {
                                    "Foglalasi_nap": "2016-11-12",
                                    "Foglalasok_szama": "2"
                                },
                                {
                                    "Foglalasi_nap": "2016-06-22",
                                    "Foglalasok_szama": "4"
                                },
                                {
                                    "Foglalasi_nap": "2017-02-26",
                                    "Foglalasok_szama": "4"
                                },
                                {
                                    "Foglalasi_nap": "2016-08-12",
                                    "Foglalasok_szama": "6"
                                },
                                {
                                    "Foglalasi_nap": "2016-09-30",
                                    "Foglalasok_szama": "8"
                                },
                                {
                                    "Foglalasi_nap": "2017-01-03",
                                    "Foglalasok_szama": "3"
                                },
                                {
                                    "Foglalasi_nap": "2017-02-18",
                                    "Foglalasok_szama": "4"
                                },
                                {
                                    "Foglalasi_nap": "2017-02-01",
                                    "Foglalasok_szama": "2"
                                },
                                {
                                    "Foglalasi_nap": "2016-06-08",
                                    "Foglalasok_szama": "4"
                                },
                                {
                                    "Foglalasi_nap": "2016-12-17",
                                    "Foglalasok_szama": "10"
                                },
                                {
                                    "Foglalasi_nap": "2016-07-24",
                                    "Foglalasok_szama": "5"
                                },
                                {
                                    "Foglalasi_nap": "2016-05-25",
                                    "Foglalasok_szama": "2"
                                },
                                {
                                    "Foglalasi_nap": "2016-10-26",
                                    "Foglalasok_szama": "12"
                                },
                                {
                                    "Foglalasi_nap": "2016-09-02",
                                    "Foglalasok_szama": "3"
                                },
                                {
                                    "Foglalasi_nap": "2016-09-08",
                                    "Foglalasok_szama": "3"
                                },
                                {
                                    "Foglalasi_nap": "2016-07-18",
                                    "Foglalasok_szama": "7"
                                },
                                {
                                    "Foglalasi_nap": "2016-11-27",
                                    "Foglalasok_szama": "3"
                                },
                                {
                                    "Foglalasi_nap": "2016-04-06",
                                    "Foglalasok_szama": "5"
                                },
                                {
                                    "Foglalasi_nap": "2017-03-01",
                                    "Foglalasok_szama": "2"
                                },
                                {
                                    "Foglalasi_nap": "2016-06-17",
                                    "Foglalasok_szama": "2"
                                },
                                {
                                    "Foglalasi_nap": "2016-11-01",
                                    "Foglalasok_szama": "3"
                                },
                                {
                                    "Foglalasi_nap": "2016-11-07",
                                    "Foglalasok_szama": "6"
                                },
                                {
                                    "Foglalasi_nap": "2016-10-09",
                                    "Foglalasok_szama": "11"
                                },
                                {
                                    "Foglalasi_nap": "2016-10-15",
                                    "Foglalasok_szama": "6"
                                },
                                {
                                    "Foglalasi_nap": "2017-02-09",
                                    "Foglalasok_szama": "2"
                                },
                                {
                                    "Foglalasi_nap": "2016-09-19",
                                    "Foglalasok_szama": "4"
                                },
                                {
                                    "Foglalasi_nap": "2016-04-23",
                                    "Foglalasok_szama": "2"
                                },
                                {
                                    "Foglalasi_nap": "2016-06-11",
                                    "Foglalasok_szama": "2"
                                },
                                {
                                    "Foglalasi_nap": "2016-11-21",
                                    "Foglalasok_szama": "2"
                                },
                                {
                                    "Foglalasi_nap": "2017-01-09",
                                    "Foglalasok_szama": "5"
                                },
                                {
                                    "Foglalasi_nap": "2016-07-01",
                                    "Foglalasok_szama": "5"
                                },
                                {
                                    "Foglalasi_nap": "2017-02-21",
                                    "Foglalasok_szama": "3"
                                },
                                {
                                    "Foglalasi_nap": "2016-08-13",
                                    "Foglalasok_szama": "2"
                                },
                                {
                                    "Foglalasi_nap": "2016-07-21",
                                    "Foglalasok_szama": "2"
                                },
                                {
                                    "Foglalasi_nap": "2016-06-05",
                                    "Foglalasok_szama": "2"
                                },
                                {
                                    "Foglalasi_nap": "2016-05-13",
                                    "Foglalasok_szama": "2"
                                },
                                {
                                    "Foglalasi_nap": "2017-01-23",
                                    "Foglalasok_szama": "4"
                                },
                                {
                                    "Foglalasi_nap": "2016-05-28",
                                    "Foglalasok_szama": "8"
                                },
                                {
                                    "Foglalasi_nap": "2016-10-29",
                                    "Foglalasok_szama": "5"
                                },
                                {
                                    "Foglalasi_nap": "2016-07-15",
                                    "Foglalasok_szama": "2"
                                },
                                {
                                    "Foglalasi_nap": "2016-07-27",
                                    "Foglalasok_szama": "11"
                                },
                                {
                                    "Foglalasi_nap": "2017-01-29",
                                    "Foglalasok_szama": "2"
                                },
                                {
                                    "Foglalasi_nap": "2016-12-14",
                                    "Foglalasok_szama": "2"
                                },
                                {
                                    "Foglalasi_nap": "2016-09-05",
                                    "Foglalasok_szama": "7"
                                },
                                {
                                    "Foglalasi_nap": "2016-05-22",
                                    "Foglalasok_szama": "2"
                                },
                                {
                                    "Foglalasi_nap": "2016-08-04",
                                    "Foglalasok_szama": "2"
                                },
                                {
                                    "Foglalasi_nap": "2016-04-26",
                                    "Foglalasok_szama": "2"
                                },
                                {
                                    "Foglalasi_nap": "2016-07-04",
                                    "Foglalasok_szama": "5"
                                },
                                {
                                    "Foglalasi_nap": "2016-09-16",
                                    "Foglalasok_szama": "3"
                                },
                                {
                                    "Foglalasi_nap": "2017-02-12",
                                    "Foglalasok_szama": "9"
                                },
                                {
                                    "Foglalasi_nap": "2016-11-10",
                                    "Foglalasok_szama": "4"
                                },
                                {
                                    "Foglalasi_nap": "2016-10-06",
                                    "Foglalasok_szama": "2"
                                },
                                {
                                    "Foglalasi_nap": "2016-08-16",
                                    "Foglalasok_szama": "12"
                                },
                                {
                                    "Foglalasi_nap": "2016-05-02",
                                    "Foglalasok_szama": "2"
                                },
                                {
                                    "Foglalasi_nap": "2016-09-28",
                                    "Foglalasok_szama": "3"
                                },
                                {
                                    "Foglalasi_nap": "2017-01-06",
                                    "Foglalasok_szama": "2"
                                }
                            ]
                        },
                        "text/html": [
                            "<table>",
                            "<tr><th>Foglalasi_nap</th><th>Foglalasok_szama</th></tr>",
                            "<tr><td>2016-11-16</td><td>4</td></tr>",
                            "<tr><td>2017-01-24</td><td>2</td></tr>",
                            "<tr><td>2017-01-01</td><td>4</td></tr>",
                            "<tr><td>2017-02-16</td><td>9</td></tr>",
                            "<tr><td>2016-12-15</td><td>3</td></tr>",
                            "<tr><td>2016-04-21</td><td>2</td></tr>",
                            "<tr><td>2016-10-30</td><td>14</td></tr>",
                            "<tr><td>2016-08-31</td><td>2</td></tr>",
                            "<tr><td>2016-06-06</td><td>14</td></tr>",
                            "<tr><td>2016-07-16</td><td>2</td></tr>",
                            "<tr><td>2016-07-22</td><td>4</td></tr>",
                            "<tr><td>2016-10-24</td><td>3</td></tr>",
                            "<tr><td>2016-09-17</td><td>4</td></tr>",
                            "<tr><td>2016-04-27</td><td>3</td></tr>",
                            "<tr><td>2017-01-15</td><td>2</td></tr>",
                            "<tr><td>2016-11-25</td><td>6</td></tr>",
                            "<tr><td>2016-05-17</td><td>3</td></tr>",
                            "<tr><td>2016-07-30</td><td>4</td></tr>",
                            "<tr><td>2016-11-05</td><td>8</td></tr>",
                            "<tr><td>2016-08-25</td><td>3</td></tr>",
                            "<tr><td>2016-12-26</td><td>3</td></tr>",
                            "<tr><td>2016-09-23</td><td>4</td></tr>",
                            "<tr><td>2016-08-05</td><td>3</td></tr>",
                            "<tr><td>2016-10-07</td><td>2</td></tr>",
                            "<tr><td>2016-06-23</td><td>4</td></tr>",
                            "<tr><td>2017-02-27</td><td>2</td></tr>",
                            "<tr><td>2016-10-01</td><td>18</td></tr>",
                            "<tr><td>2016-11-19</td><td>8</td></tr>",
                            "<tr><td>2016-06-03</td><td>9</td></tr>",
                            "<tr><td>2016-10-21</td><td>4</td></tr>",
                            "<tr><td>2016-12-06</td><td>5</td></tr>",
                            "<tr><td>2016-12-29</td><td>5</td></tr>",
                            "<tr><td>2017-02-13</td><td>5</td></tr>",
                            "<tr><td>2016-04-10</td><td>9</td></tr>",
                            "<tr><td>2016-06-09</td><td>3</td></tr>",
                            "<tr><td>2016-07-13</td><td>5</td></tr>",
                            "<tr><td>2017-02-04</td><td>6</td></tr>",
                            "<tr><td>2016-10-27</td><td>4</td></tr>",
                            "<tr><td>2016-07-19</td><td>3</td></tr>",
                            "<tr><td>2016-10-10</td><td>2</td></tr>",
                            "<tr><td>2017-01-12</td><td>2</td></tr>",
                            "<tr><td>2016-09-14</td><td>2</td></tr>",
                            "<tr><td>2016-09-20</td><td>2</td></tr>",
                            "<tr><td>2016-08-28</td><td>5</td></tr>",
                            "<tr><td>2016-07-10</td><td>2</td></tr>",
                            "<tr><td>2017-02-10</td><td>2</td></tr>",
                            "<tr><td>2016-08-02</td><td>2</td></tr>",
                            "<tr><td>2017-01-18</td><td>2</td></tr>",
                            "<tr><td>2016-04-24</td><td>3</td></tr>",
                            "<tr><td>2016-06-20</td><td>2</td></tr>",
                            "<tr><td>2017-02-24</td><td>5</td></tr>",
                            "<tr><td>2016-10-04</td><td>3</td></tr>",
                            "<tr><td>2016-11-22</td><td>6</td></tr>",
                            "<tr><td>2016-05-14</td><td>4</td></tr>",
                            "<tr><td>2016-05-08</td><td>5</td></tr>",
                            "<tr><td>2016-08-14</td><td>3</td></tr>",
                            "<tr><td>2016-09-29</td><td>2</td></tr>",
                            "<tr><td>2016-06-27</td><td>3</td></tr>",
                            "<tr><td>2016-10-22</td><td>4</td></tr>",
                            "<tr><td>2016-06-04</td><td>6</td></tr>",
                            "<tr><td>2016-05-12</td><td>3</td></tr>",
                            "<tr><td>2016-12-07</td><td>3</td></tr>",
                            "<tr><td>2016-04-19</td><td>4</td></tr>",
                            "<tr><td>2017-01-22</td><td>7</td></tr>",
                            "<tr><td>2016-07-14</td><td>6</td></tr>",
                            "<tr><td>2016-10-16</td><td>3</td></tr>",
                            "<tr><td>2016-10-28</td><td>6</td></tr>",
                            "<tr><td>2016-08-29</td><td>6</td></tr>",
                            "<tr><td>2016-09-12</td><td>3</td></tr>",
                            "<tr><td>2016-05-29</td><td>3</td></tr>",
                            "<tr><td>2017-01-30</td><td>3</td></tr>",
                            "<tr><td>2017-02-05</td><td>5</td></tr>",
                            "<tr><td>2017-01-13</td><td>2</td></tr>",
                            "<tr><td>2017-03-03</td><td>2</td></tr>",
                            "<tr><td>2016-12-24</td><td>3</td></tr>",
                            "<tr><td>2016-07-28</td><td>7</td></tr>",
                            "<tr><td>2016-08-03</td><td>4</td></tr>",
                            "<tr><td>2016-09-15</td><td>3</td></tr>",
                            "<tr><td>2016-08-23</td><td>5</td></tr>",
                            "<tr><td>2016-12-01</td><td>2</td></tr>",
                            "<tr><td>2017-01-19</td><td>3</td></tr>",
                            "<tr><td>2016-10-05</td><td>2</td></tr>",
                            "<tr><td>2016-08-17</td><td>4</td></tr>",
                            "<tr><td>2016-11-11</td><td>2</td></tr>",
                            "<tr><td>2016-11-17</td><td>2</td></tr>",
                            "<tr><td>2017-02-25</td><td>2</td></tr>",
                            "<tr><td>2016-04-16</td><td>2</td></tr>",
                            "<tr><td>2016-05-09</td><td>7</td></tr>",
                            "<tr><td>2016-04-22</td><td>2</td></tr>",
                            "<tr><td>2016-12-04</td><td>3</td></tr>",
                            "<tr><td>2016-06-07</td><td>11</td></tr>",
                            "<tr><td>2016-07-25</td><td>2</td></tr>",
                            "<tr><td>2016-10-19</td><td>4</td></tr>",
                            "<tr><td>2016-07-17</td><td>3</td></tr>",
                            "<tr><td>2016-12-18</td><td>2</td></tr>",
                            "<tr><td>2016-09-09</td><td>2</td></tr>",
                            "<tr><td>2016-06-01</td><td>2</td></tr>",
                            "<tr><td>2016-07-08</td><td>3</td></tr>",
                            "<tr><td>2016-11-28</td><td>3</td></tr>",
                            "<tr><td>2017-02-08</td><td>5</td></tr>",
                            "<tr><td>2016-10-08</td><td>7</td></tr>",
                            "<tr><td>2017-01-16</td><td>8</td></tr>",
                            "<tr><td>2016-08-26</td><td>2</td></tr>",
                            "<tr><td>2016-11-08</td><td>4</td></tr>",
                            "<tr><td>2016-07-31</td><td>2</td></tr>",
                            "<tr><td>2016-09-18</td><td>4</td></tr>",
                            "<tr><td>2016-08-20</td><td>5</td></tr>",
                            "<tr><td>2016-08-06</td><td>3</td></tr>",
                            "<tr><td>2016-09-26</td><td>2</td></tr>",
                            "<tr><td>2017-01-10</td><td>2</td></tr>",
                            "<tr><td>2016-06-24</td><td>2</td></tr>",
                            "<tr><td>2016-05-10</td><td>2</td></tr>",
                            "<tr><td>2016-07-20</td><td>10</td></tr>",
                            "<tr><td>2016-06-02</td><td>4</td></tr>",
                            "<tr><td>2017-02-20</td><td>4</td></tr>",
                            "<tr><td>2016-04-17</td><td>2</td></tr>",
                            "<tr><td>2017-02-14</td><td>3</td></tr>",
                            "<tr><td>2016-07-26</td><td>2</td></tr>",
                            "<tr><td>2016-05-27</td><td>3</td></tr>",
                            "<tr><td>2016-09-10</td><td>2</td></tr>",
                            "<tr><td>2016-12-05</td><td>4</td></tr>",
                            "<tr><td>2016-07-12</td><td>3</td></tr>",
                            "<tr><td>2016-10-20</td><td>4</td></tr>",
                            "<tr><td>2017-01-28</td><td>3</td></tr>",
                            "<tr><td>2017-02-03</td><td>3</td></tr>",
                            "<tr><td>2016-08-01</td><td>4</td></tr>",
                            "<tr><td>2016-05-21</td><td>5</td></tr>",
                            "<tr><td>2016-07-09</td><td>2</td></tr>",
                            "<tr><td>2016-11-03</td><td>7</td></tr>",
                            "<tr><td>2016-12-22</td><td>3</td></tr>",
                            "<tr><td>2017-01-17</td><td>5</td></tr>",
                            "<tr><td>2016-08-21</td><td>2</td></tr>",
                            "<tr><td>2016-06-13</td><td>5</td></tr>",
                            "<tr><td>2016-11-29</td><td>4</td></tr>",
                            "<tr><td>2016-07-03</td><td>5</td></tr>",
                            "<tr><td>2016-11-09</td><td>3</td></tr>",
                            "<tr><td>2016-11-23</td><td>8</td></tr>",
                            "<tr><td>2016-05-01</td><td>5</td></tr>",
                            "<tr><td>2017-01-05</td><td>3</td></tr>",
                            "<tr><td>2016-08-09</td><td>2</td></tr>",
                            "<tr><td>2016-08-15</td><td>2</td></tr>",
                            "<tr><td>2016-10-03</td><td>3</td></tr>",
                            "<tr><td>2017-02-23</td><td>6</td></tr>",
                            "<tr><td>2016-10-23</td><td>7</td></tr>",
                            "<tr><td>2017-01-02</td><td>2</td></tr>",
                            "<tr><td>2016-11-15</td><td>3</td></tr>",
                            "<tr><td>2017-02-17</td><td>2</td></tr>",
                            "<tr><td>2016-10-17</td><td>3</td></tr>",
                            "<tr><td>2016-09-13</td><td>4</td></tr>",
                            "<tr><td>2016-07-23</td><td>2</td></tr>",
                            "<tr><td>2016-04-08</td><td>2</td></tr>",
                            "<tr><td>2016-04-14</td><td>2</td></tr>",
                            "<tr><td>2016-05-30</td><td>11</td></tr>",
                            "<tr><td>2016-04-28</td><td>2</td></tr>",
                            "<tr><td>2016-06-16</td><td>8</td></tr>",
                            "<tr><td>2016-05-24</td><td>4</td></tr>",
                            "<tr><td>2017-02-06</td><td>3</td></tr>",
                            "<tr><td>2016-07-29</td><td>2</td></tr>",
                            "<tr><td>2016-06-10</td><td>10</td></tr>",
                            "<tr><td>2016-12-02</td><td>3</td></tr>",
                            "<tr><td>2016-05-18</td><td>4</td></tr>",
                            "<tr><td>2016-08-24</td><td>10</td></tr>",
                            "<tr><td>2016-07-06</td><td>3</td></tr>",
                            "<tr><td>2016-11-06</td><td>3</td></tr>",
                            "<tr><td>2016-12-25</td><td>9</td></tr>",
                            "<tr><td>2016-08-18</td><td>2</td></tr>",
                            "<tr><td>2016-06-30</td><td>3</td></tr>",
                            "<tr><td>2016-11-12</td><td>2</td></tr>",
                            "<tr><td>2016-06-22</td><td>4</td></tr>",
                            "<tr><td>2017-02-26</td><td>4</td></tr>",
                            "<tr><td>2016-08-12</td><td>6</td></tr>",
                            "<tr><td>2016-09-30</td><td>8</td></tr>",
                            "<tr><td>2017-01-03</td><td>3</td></tr>",
                            "<tr><td>2017-02-18</td><td>4</td></tr>",
                            "<tr><td>2017-02-01</td><td>2</td></tr>",
                            "<tr><td>2016-06-08</td><td>4</td></tr>",
                            "<tr><td>2016-12-17</td><td>10</td></tr>",
                            "<tr><td>2016-07-24</td><td>5</td></tr>",
                            "<tr><td>2016-05-25</td><td>2</td></tr>",
                            "<tr><td>2016-10-26</td><td>12</td></tr>",
                            "<tr><td>2016-09-02</td><td>3</td></tr>",
                            "<tr><td>2016-09-08</td><td>3</td></tr>",
                            "<tr><td>2016-07-18</td><td>7</td></tr>",
                            "<tr><td>2016-11-27</td><td>3</td></tr>",
                            "<tr><td>2016-04-06</td><td>5</td></tr>",
                            "<tr><td>2017-03-01</td><td>2</td></tr>",
                            "<tr><td>2016-06-17</td><td>2</td></tr>",
                            "<tr><td>2016-11-01</td><td>3</td></tr>",
                            "<tr><td>2016-11-07</td><td>6</td></tr>",
                            "<tr><td>2016-10-09</td><td>11</td></tr>",
                            "<tr><td>2016-10-15</td><td>6</td></tr>",
                            "<tr><td>2017-02-09</td><td>2</td></tr>",
                            "<tr><td>2016-09-19</td><td>4</td></tr>",
                            "<tr><td>2016-04-23</td><td>2</td></tr>",
                            "<tr><td>2016-06-11</td><td>2</td></tr>",
                            "<tr><td>2016-11-21</td><td>2</td></tr>",
                            "<tr><td>2017-01-09</td><td>5</td></tr>",
                            "<tr><td>2016-07-01</td><td>5</td></tr>",
                            "<tr><td>2017-02-21</td><td>3</td></tr>",
                            "<tr><td>2016-08-13</td><td>2</td></tr>",
                            "<tr><td>2016-07-21</td><td>2</td></tr>",
                            "<tr><td>2016-06-05</td><td>2</td></tr>",
                            "<tr><td>2016-05-13</td><td>2</td></tr>",
                            "<tr><td>2017-01-23</td><td>4</td></tr>",
                            "<tr><td>2016-05-28</td><td>8</td></tr>",
                            "<tr><td>2016-10-29</td><td>5</td></tr>",
                            "<tr><td>2016-07-15</td><td>2</td></tr>",
                            "<tr><td>2016-07-27</td><td>11</td></tr>",
                            "<tr><td>2017-01-29</td><td>2</td></tr>",
                            "<tr><td>2016-12-14</td><td>2</td></tr>",
                            "<tr><td>2016-09-05</td><td>7</td></tr>",
                            "<tr><td>2016-05-22</td><td>2</td></tr>",
                            "<tr><td>2016-08-04</td><td>2</td></tr>",
                            "<tr><td>2016-04-26</td><td>2</td></tr>",
                            "<tr><td>2016-07-04</td><td>5</td></tr>",
                            "<tr><td>2016-09-16</td><td>3</td></tr>",
                            "<tr><td>2017-02-12</td><td>9</td></tr>",
                            "<tr><td>2016-11-10</td><td>4</td></tr>",
                            "<tr><td>2016-10-06</td><td>2</td></tr>",
                            "<tr><td>2016-08-16</td><td>12</td></tr>",
                            "<tr><td>2016-05-02</td><td>2</td></tr>",
                            "<tr><td>2016-09-28</td><td>3</td></tr>",
                            "<tr><td>2017-01-06</td><td>2</td></tr>",
                            "</table>"
                        ]
                    }
                }
            ],
            "execution_count": 6
        },
        {
            "cell_type": "code",
            "source": [
                "SELECT SZOBA_FK, METTOL as Foglalasi_nap, COUNT(*) as Foglalasok_szama\r\n",
                "FROM Foglalas\r\n",
                "group BY SZOBA_FK, METTOL\r\n",
                "HAVING COUNT(*) >= 2;"
            ],
            "metadata": {
                "language": "sql",
                "azdata_cell_guid": "45e3a885-f223-47df-af4f-7c3a5a26a2a6"
            },
            "outputs": [
                {
                    "output_type": "display_data",
                    "data": {
                        "text/html": "(9 rows affected)"
                    },
                    "metadata": {}
                },
                {
                    "output_type": "display_data",
                    "data": {
                        "text/html": "Total execution time: 00:00:00.010"
                    },
                    "metadata": {}
                },
                {
                    "output_type": "execute_result",
                    "metadata": {},
                    "execution_count": 7,
                    "data": {
                        "application/vnd.dataresource+json": {
                            "schema": {
                                "fields": [
                                    {
                                        "name": "SZOBA_FK"
                                    },
                                    {
                                        "name": "Foglalasi_nap"
                                    },
                                    {
                                        "name": "Foglalasok_szama"
                                    }
                                ]
                            },
                            "data": [
                                {
                                    "SZOBA_FK": "165",
                                    "Foglalasi_nap": "2016-06-03",
                                    "Foglalasok_szama": "3"
                                },
                                {
                                    "SZOBA_FK": "40",
                                    "Foglalasi_nap": "2016-06-07",
                                    "Foglalasok_szama": "2"
                                },
                                {
                                    "SZOBA_FK": "160",
                                    "Foglalasi_nap": "2016-06-07",
                                    "Foglalasok_szama": "2"
                                },
                                {
                                    "SZOBA_FK": "97",
                                    "Foglalasi_nap": "2016-07-27",
                                    "Foglalasok_szama": "2"
                                },
                                {
                                    "SZOBA_FK": "45",
                                    "Foglalasi_nap": "2016-08-20",
                                    "Foglalasok_szama": "2"
                                },
                                {
                                    "SZOBA_FK": "148",
                                    "Foglalasi_nap": "2016-08-23",
                                    "Foglalasok_szama": "2"
                                },
                                {
                                    "SZOBA_FK": "20",
                                    "Foglalasi_nap": "2016-10-01",
                                    "Foglalasok_szama": "2"
                                },
                                {
                                    "SZOBA_FK": "150",
                                    "Foglalasi_nap": "2016-10-01",
                                    "Foglalasok_szama": "2"
                                },
                                {
                                    "SZOBA_FK": "182",
                                    "Foglalasi_nap": "2016-10-30",
                                    "Foglalasok_szama": "2"
                                }
                            ]
                        },
                        "text/html": [
                            "<table>",
                            "<tr><th>SZOBA_FK</th><th>Foglalasi_nap</th><th>Foglalasok_szama</th></tr>",
                            "<tr><td>165</td><td>2016-06-03</td><td>3</td></tr>",
                            "<tr><td>40</td><td>2016-06-07</td><td>2</td></tr>",
                            "<tr><td>160</td><td>2016-06-07</td><td>2</td></tr>",
                            "<tr><td>97</td><td>2016-07-27</td><td>2</td></tr>",
                            "<tr><td>45</td><td>2016-08-20</td><td>2</td></tr>",
                            "<tr><td>148</td><td>2016-08-23</td><td>2</td></tr>",
                            "<tr><td>20</td><td>2016-10-01</td><td>2</td></tr>",
                            "<tr><td>150</td><td>2016-10-01</td><td>2</td></tr>",
                            "<tr><td>182</td><td>2016-10-30</td><td>2</td></tr>",
                            "</table>"
                        ]
                    }
                }
            ],
            "execution_count": 7
        }
    ]
}
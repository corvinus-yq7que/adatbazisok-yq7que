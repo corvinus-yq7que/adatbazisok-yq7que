{
    "metadata": {
        "kernelspec": {
            "name": "SQL",
            "display_name": "SQL",
            "language": "sql"
        },
        "language_info": {
            "name": "sql",
            "version": ""
        }
    },
    "nbformat_minor": 2,
    "nbformat": 4,
    "cells": [
        {
            "cell_type": "markdown",
            "source": [
                "Listázzuk a foglalások számát szobánként, azon belül a foglalás éve szerint csoportosítva!\n",
                "\n",
                "- Az évnél a Mettől oszlopot használjuk\n",
                "- Jelenítsük meg a részösszegeket és a végösszeget is úgy, hogy ne jelenjen meg minden Oszlop/NULL kombináció!\n",
                "- A részösszegeket jelöljük megfelelően, pl. Részösszeg vagy Szoba összesen"
            ],
            "metadata": {
                "azdata_cell_guid": "04b1deeb-40dc-4aaf-b6f6-d371dd2927e8"
            },
            "attachments": {}
        },
        {
            "cell_type": "code",
            "source": [
                "SELECT SZOBA_FK, YEAR(METTOL) AS 'Foglalás éve'\r\n",
                "FROM Foglalas\r\n",
                "GROUP BY ROLLUP(SZOBA_FK, YEAR(METTOL))"
            ],
            "metadata": {
                "azdata_cell_guid": "c093bc1d-4bdd-4a2f-9d8b-f16141629b05",
                "language": "sql"
            },
            "outputs": [
                {
                    "output_type": "display_data",
                    "data": {
                        "text/html": "(513 rows affected)"
                    },
                    "metadata": {}
                },
                {
                    "output_type": "display_data",
                    "data": {
                        "text/html": "Total execution time: 00:00:00.025"
                    },
                    "metadata": {}
                },
                {
                    "output_type": "execute_result",
                    "execution_count": 2,
                    "data": {
                        "application/vnd.dataresource+json": {
                            "schema": {
                                "fields": [
                                    {
                                        "name": "SZOBA_FK"
                                    },
                                    {
                                        "name": "Foglalás éve"
                                    }
                                ]
                            },
                            "data": [
                                {
                                    "SZOBA_FK": "1",
                                    "Foglalás éve": "2016"
                                },
                                {
                                    "SZOBA_FK": "1",
                                    "Foglalás éve": "NULL"
                                },
                                {
                                    "SZOBA_FK": "2",
                                    "Foglalás éve": "2016"
                                },
                                {
                                    "SZOBA_FK": "2",
                                    "Foglalás éve": "NULL"
                                },
                                {
                                    "SZOBA_FK": "3",
                                    "Foglalás éve": "2016"
                                },
                                {
                                    "SZOBA_FK": "3",
                                    "Foglalás éve": "2017"
                                },
                                {
                                    "SZOBA_FK": "3",
                                    "Foglalás éve": "NULL"
                                },
                                {
                                    "SZOBA_FK": "4",
                                    "Foglalás éve": "2016"
                                },
                                {
                                    "SZOBA_FK": "4",
                                    "Foglalás éve": "2017"
                                },
                                {
                                    "SZOBA_FK": "4",
                                    "Foglalás éve": "NULL"
                                },
                                {
                                    "SZOBA_FK": "5",
                                    "Foglalás éve": "2016"
                                },
                                {
                                    "SZOBA_FK": "5",
                                    "Foglalás éve": "NULL"
                                },
                                {
                                    "SZOBA_FK": "6",
                                    "Foglalás éve": "2016"
                                },
                                {
                                    "SZOBA_FK": "6",
                                    "Foglalás éve": "NULL"
                                },
                                {
                                    "SZOBA_FK": "7",
                                    "Foglalás éve": "2016"
                                },
                                {
                                    "SZOBA_FK": "7",
                                    "Foglalás éve": "NULL"
                                },
                                {
                                    "SZOBA_FK": "8",
                                    "Foglalás éve": "2016"
                                },
                                {
                                    "SZOBA_FK": "8",
                                    "Foglalás éve": "NULL"
                                },
                                {
                                    "SZOBA_FK": "9",
                                    "Foglalás éve": "2016"
                                },
                                {
                                    "SZOBA_FK": "9",
                                    "Foglalás éve": "2017"
                                },
                                {
                                    "SZOBA_FK": "9",
                                    "Foglalás éve": "NULL"
                                },
                                {
                                    "SZOBA_FK": "10",
                                    "Foglalás éve": "2016"
                                },
                                {
                                    "SZOBA_FK": "10",
                                    "Foglalás éve": "NULL"
                                },
                                {
                                    "SZOBA_FK": "11",
                                    "Foglalás éve": "2016"
                                },
                                {
                                    "SZOBA_FK": "11",
                                    "Foglalás éve": "2017"
                                },
                                {
                                    "SZOBA_FK": "11",
                                    "Foglalás éve": "NULL"
                                },
                                {
                                    "SZOBA_FK": "12",
                                    "Foglalás éve": "2016"
                                },
                                {
                                    "SZOBA_FK": "12",
                                    "Foglalás éve": "2017"
                                },
                                {
                                    "SZOBA_FK": "12",
                                    "Foglalás éve": "NULL"
                                },
                                {
                                    "SZOBA_FK": "13",
                                    "Foglalás éve": "2016"
                                },
                                {
                                    "SZOBA_FK": "13",
                                    "Foglalás éve": "2017"
                                },
                                {
                                    "SZOBA_FK": "13",
                                    "Foglalás éve": "NULL"
                                },
                                {
                                    "SZOBA_FK": "14",
                                    "Foglalás éve": "2016"
                                },
                                {
                                    "SZOBA_FK": "14",
                                    "Foglalás éve": "2017"
                                },
                                {
                                    "SZOBA_FK": "14",
                                    "Foglalás éve": "NULL"
                                },
                                {
                                    "SZOBA_FK": "15",
                                    "Foglalás éve": "2016"
                                },
                                {
                                    "SZOBA_FK": "15",
                                    "Foglalás éve": "2017"
                                },
                                {
                                    "SZOBA_FK": "15",
                                    "Foglalás éve": "NULL"
                                },
                                {
                                    "SZOBA_FK": "16",
                                    "Foglalás éve": "2016"
                                },
                                {
                                    "SZOBA_FK": "16",
                                    "Foglalás éve": "2017"
                                },
                                {
                                    "SZOBA_FK": "16",
                                    "Foglalás éve": "NULL"
                                },
                                {
                                    "SZOBA_FK": "17",
                                    "Foglalás éve": "2016"
                                },
                                {
                                    "SZOBA_FK": "17",
                                    "Foglalás éve": "2017"
                                },
                                {
                                    "SZOBA_FK": "17",
                                    "Foglalás éve": "NULL"
                                },
                                {
                                    "SZOBA_FK": "18",
                                    "Foglalás éve": "2016"
                                },
                                {
                                    "SZOBA_FK": "18",
                                    "Foglalás éve": "2017"
                                },
                                {
                                    "SZOBA_FK": "18",
                                    "Foglalás éve": "NULL"
                                },
                                {
                                    "SZOBA_FK": "19",
                                    "Foglalás éve": "2016"
                                },
                                {
                                    "SZOBA_FK": "19",
                                    "Foglalás éve": "2017"
                                },
                                {
                                    "SZOBA_FK": "19",
                                    "Foglalás éve": "NULL"
                                },
                                {
                                    "SZOBA_FK": "20",
                                    "Foglalás éve": "2016"
                                },
                                {
                                    "SZOBA_FK": "20",
                                    "Foglalás éve": "NULL"
                                },
                                {
                                    "SZOBA_FK": "21",
                                    "Foglalás éve": "2016"
                                },
                                {
                                    "SZOBA_FK": "21",
                                    "Foglalás éve": "NULL"
                                },
                                {
                                    "SZOBA_FK": "22",
                                    "Foglalás éve": "2016"
                                },
                                {
                                    "SZOBA_FK": "22",
                                    "Foglalás éve": "NULL"
                                },
                                {
                                    "SZOBA_FK": "23",
                                    "Foglalás éve": "2016"
                                },
                                {
                                    "SZOBA_FK": "23",
                                    "Foglalás éve": "NULL"
                                },
                                {
                                    "SZOBA_FK": "24",
                                    "Foglalás éve": "2016"
                                },
                                {
                                    "SZOBA_FK": "24",
                                    "Foglalás éve": "2017"
                                },
                                {
                                    "SZOBA_FK": "24",
                                    "Foglalás éve": "NULL"
                                },
                                {
                                    "SZOBA_FK": "25",
                                    "Foglalás éve": "2016"
                                },
                                {
                                    "SZOBA_FK": "25",
                                    "Foglalás éve": "NULL"
                                },
                                {
                                    "SZOBA_FK": "26",
                                    "Foglalás éve": "2016"
                                },
                                {
                                    "SZOBA_FK": "26",
                                    "Foglalás éve": "NULL"
                                },
                                {
                                    "SZOBA_FK": "27",
                                    "Foglalás éve": "2016"
                                },
                                {
                                    "SZOBA_FK": "27",
                                    "Foglalás éve": "2017"
                                },
                                {
                                    "SZOBA_FK": "27",
                                    "Foglalás éve": "NULL"
                                },
                                {
                                    "SZOBA_FK": "28",
                                    "Foglalás éve": "2016"
                                },
                                {
                                    "SZOBA_FK": "28",
                                    "Foglalás éve": "2017"
                                },
                                {
                                    "SZOBA_FK": "28",
                                    "Foglalás éve": "NULL"
                                },
                                {
                                    "SZOBA_FK": "29",
                                    "Foglalás éve": "2016"
                                },
                                {
                                    "SZOBA_FK": "29",
                                    "Foglalás éve": "2017"
                                },
                                {
                                    "SZOBA_FK": "29",
                                    "Foglalás éve": "NULL"
                                },
                                {
                                    "SZOBA_FK": "30",
                                    "Foglalás éve": "2016"
                                },
                                {
                                    "SZOBA_FK": "30",
                                    "Foglalás éve": "NULL"
                                },
                                {
                                    "SZOBA_FK": "31",
                                    "Foglalás éve": "2016"
                                },
                                {
                                    "SZOBA_FK": "31",
                                    "Foglalás éve": "NULL"
                                },
                                {
                                    "SZOBA_FK": "32",
                                    "Foglalás éve": "2016"
                                },
                                {
                                    "SZOBA_FK": "32",
                                    "Foglalás éve": "NULL"
                                },
                                {
                                    "SZOBA_FK": "33",
                                    "Foglalás éve": "2016"
                                },
                                {
                                    "SZOBA_FK": "33",
                                    "Foglalás éve": "NULL"
                                },
                                {
                                    "SZOBA_FK": "34",
                                    "Foglalás éve": "2016"
                                },
                                {
                                    "SZOBA_FK": "34",
                                    "Foglalás éve": "NULL"
                                },
                                {
                                    "SZOBA_FK": "35",
                                    "Foglalás éve": "2016"
                                },
                                {
                                    "SZOBA_FK": "35",
                                    "Foglalás éve": "2017"
                                },
                                {
                                    "SZOBA_FK": "35",
                                    "Foglalás éve": "NULL"
                                },
                                {
                                    "SZOBA_FK": "36",
                                    "Foglalás éve": "2016"
                                },
                                {
                                    "SZOBA_FK": "36",
                                    "Foglalás éve": "NULL"
                                },
                                {
                                    "SZOBA_FK": "37",
                                    "Foglalás éve": "2016"
                                },
                                {
                                    "SZOBA_FK": "37",
                                    "Foglalás éve": "NULL"
                                },
                                {
                                    "SZOBA_FK": "38",
                                    "Foglalás éve": "2016"
                                },
                                {
                                    "SZOBA_FK": "38",
                                    "Foglalás éve": "2017"
                                },
                                {
                                    "SZOBA_FK": "38",
                                    "Foglalás éve": "NULL"
                                },
                                {
                                    "SZOBA_FK": "39",
                                    "Foglalás éve": "2016"
                                },
                                {
                                    "SZOBA_FK": "39",
                                    "Foglalás éve": "2017"
                                },
                                {
                                    "SZOBA_FK": "39",
                                    "Foglalás éve": "NULL"
                                },
                                {
                                    "SZOBA_FK": "40",
                                    "Foglalás éve": "2016"
                                },
                                {
                                    "SZOBA_FK": "40",
                                    "Foglalás éve": "NULL"
                                },
                                {
                                    "SZOBA_FK": "41",
                                    "Foglalás éve": "2016"
                                },
                                {
                                    "SZOBA_FK": "41",
                                    "Foglalás éve": "NULL"
                                },
                                {
                                    "SZOBA_FK": "42",
                                    "Foglalás éve": "2016"
                                },
                                {
                                    "SZOBA_FK": "42",
                                    "Foglalás éve": "2017"
                                },
                                {
                                    "SZOBA_FK": "42",
                                    "Foglalás éve": "NULL"
                                },
                                {
                                    "SZOBA_FK": "43",
                                    "Foglalás éve": "2016"
                                },
                                {
                                    "SZOBA_FK": "43",
                                    "Foglalás éve": "2017"
                                },
                                {
                                    "SZOBA_FK": "43",
                                    "Foglalás éve": "NULL"
                                },
                                {
                                    "SZOBA_FK": "44",
                                    "Foglalás éve": "2016"
                                },
                                {
                                    "SZOBA_FK": "44",
                                    "Foglalás éve": "2017"
                                },
                                {
                                    "SZOBA_FK": "44",
                                    "Foglalás éve": "NULL"
                                },
                                {
                                    "SZOBA_FK": "45",
                                    "Foglalás éve": "2016"
                                },
                                {
                                    "SZOBA_FK": "45",
                                    "Foglalás éve": "NULL"
                                },
                                {
                                    "SZOBA_FK": "46",
                                    "Foglalás éve": "2016"
                                },
                                {
                                    "SZOBA_FK": "46",
                                    "Foglalás éve": "2017"
                                },
                                {
                                    "SZOBA_FK": "46",
                                    "Foglalás éve": "NULL"
                                },
                                {
                                    "SZOBA_FK": "47",
                                    "Foglalás éve": "2016"
                                },
                                {
                                    "SZOBA_FK": "47",
                                    "Foglalás éve": "NULL"
                                },
                                {
                                    "SZOBA_FK": "48",
                                    "Foglalás éve": "2016"
                                },
                                {
                                    "SZOBA_FK": "48",
                                    "Foglalás éve": "2017"
                                },
                                {
                                    "SZOBA_FK": "48",
                                    "Foglalás éve": "NULL"
                                },
                                {
                                    "SZOBA_FK": "49",
                                    "Foglalás éve": "2016"
                                },
                                {
                                    "SZOBA_FK": "49",
                                    "Foglalás éve": "2017"
                                },
                                {
                                    "SZOBA_FK": "49",
                                    "Foglalás éve": "NULL"
                                },
                                {
                                    "SZOBA_FK": "50",
                                    "Foglalás éve": "2016"
                                },
                                {
                                    "SZOBA_FK": "50",
                                    "Foglalás éve": "NULL"
                                },
                                {
                                    "SZOBA_FK": "51",
                                    "Foglalás éve": "2016"
                                },
                                {
                                    "SZOBA_FK": "51",
                                    "Foglalás éve": "2017"
                                },
                                {
                                    "SZOBA_FK": "51",
                                    "Foglalás éve": "NULL"
                                },
                                {
                                    "SZOBA_FK": "52",
                                    "Foglalás éve": "2016"
                                },
                                {
                                    "SZOBA_FK": "52",
                                    "Foglalás éve": "2017"
                                },
                                {
                                    "SZOBA_FK": "52",
                                    "Foglalás éve": "NULL"
                                },
                                {
                                    "SZOBA_FK": "53",
                                    "Foglalás éve": "2016"
                                },
                                {
                                    "SZOBA_FK": "53",
                                    "Foglalás éve": "NULL"
                                },
                                {
                                    "SZOBA_FK": "54",
                                    "Foglalás éve": "2016"
                                },
                                {
                                    "SZOBA_FK": "54",
                                    "Foglalás éve": "NULL"
                                },
                                {
                                    "SZOBA_FK": "55",
                                    "Foglalás éve": "2016"
                                },
                                {
                                    "SZOBA_FK": "55",
                                    "Foglalás éve": "2017"
                                },
                                {
                                    "SZOBA_FK": "55",
                                    "Foglalás éve": "NULL"
                                },
                                {
                                    "SZOBA_FK": "56",
                                    "Foglalás éve": "2016"
                                },
                                {
                                    "SZOBA_FK": "56",
                                    "Foglalás éve": "NULL"
                                },
                                {
                                    "SZOBA_FK": "57",
                                    "Foglalás éve": "2016"
                                },
                                {
                                    "SZOBA_FK": "57",
                                    "Foglalás éve": "2017"
                                },
                                {
                                    "SZOBA_FK": "57",
                                    "Foglalás éve": "NULL"
                                },
                                {
                                    "SZOBA_FK": "58",
                                    "Foglalás éve": "2016"
                                },
                                {
                                    "SZOBA_FK": "58",
                                    "Foglalás éve": "2017"
                                },
                                {
                                    "SZOBA_FK": "58",
                                    "Foglalás éve": "NULL"
                                },
                                {
                                    "SZOBA_FK": "59",
                                    "Foglalás éve": "2016"
                                },
                                {
                                    "SZOBA_FK": "59",
                                    "Foglalás éve": "2017"
                                },
                                {
                                    "SZOBA_FK": "59",
                                    "Foglalás éve": "NULL"
                                },
                                {
                                    "SZOBA_FK": "60",
                                    "Foglalás éve": "2016"
                                },
                                {
                                    "SZOBA_FK": "60",
                                    "Foglalás éve": "NULL"
                                },
                                {
                                    "SZOBA_FK": "61",
                                    "Foglalás éve": "2016"
                                },
                                {
                                    "SZOBA_FK": "61",
                                    "Foglalás éve": "2017"
                                },
                                {
                                    "SZOBA_FK": "61",
                                    "Foglalás éve": "NULL"
                                },
                                {
                                    "SZOBA_FK": "62",
                                    "Foglalás éve": "2016"
                                },
                                {
                                    "SZOBA_FK": "62",
                                    "Foglalás éve": "2017"
                                },
                                {
                                    "SZOBA_FK": "62",
                                    "Foglalás éve": "NULL"
                                },
                                {
                                    "SZOBA_FK": "63",
                                    "Foglalás éve": "2016"
                                },
                                {
                                    "SZOBA_FK": "63",
                                    "Foglalás éve": "NULL"
                                },
                                {
                                    "SZOBA_FK": "64",
                                    "Foglalás éve": "2016"
                                },
                                {
                                    "SZOBA_FK": "64",
                                    "Foglalás éve": "2017"
                                },
                                {
                                    "SZOBA_FK": "64",
                                    "Foglalás éve": "NULL"
                                },
                                {
                                    "SZOBA_FK": "65",
                                    "Foglalás éve": "2016"
                                },
                                {
                                    "SZOBA_FK": "65",
                                    "Foglalás éve": "NULL"
                                },
                                {
                                    "SZOBA_FK": "66",
                                    "Foglalás éve": "2016"
                                },
                                {
                                    "SZOBA_FK": "66",
                                    "Foglalás éve": "NULL"
                                },
                                {
                                    "SZOBA_FK": "67",
                                    "Foglalás éve": "2016"
                                },
                                {
                                    "SZOBA_FK": "67",
                                    "Foglalás éve": "2017"
                                },
                                {
                                    "SZOBA_FK": "67",
                                    "Foglalás éve": "NULL"
                                },
                                {
                                    "SZOBA_FK": "68",
                                    "Foglalás éve": "2016"
                                },
                                {
                                    "SZOBA_FK": "68",
                                    "Foglalás éve": "NULL"
                                },
                                {
                                    "SZOBA_FK": "69",
                                    "Foglalás éve": "2016"
                                },
                                {
                                    "SZOBA_FK": "69",
                                    "Foglalás éve": "NULL"
                                },
                                {
                                    "SZOBA_FK": "70",
                                    "Foglalás éve": "2016"
                                },
                                {
                                    "SZOBA_FK": "70",
                                    "Foglalás éve": "2017"
                                },
                                {
                                    "SZOBA_FK": "70",
                                    "Foglalás éve": "NULL"
                                },
                                {
                                    "SZOBA_FK": "71",
                                    "Foglalás éve": "2016"
                                },
                                {
                                    "SZOBA_FK": "71",
                                    "Foglalás éve": "NULL"
                                },
                                {
                                    "SZOBA_FK": "72",
                                    "Foglalás éve": "2016"
                                },
                                {
                                    "SZOBA_FK": "72",
                                    "Foglalás éve": "NULL"
                                },
                                {
                                    "SZOBA_FK": "73",
                                    "Foglalás éve": "2016"
                                },
                                {
                                    "SZOBA_FK": "73",
                                    "Foglalás éve": "NULL"
                                },
                                {
                                    "SZOBA_FK": "74",
                                    "Foglalás éve": "2016"
                                },
                                {
                                    "SZOBA_FK": "74",
                                    "Foglalás éve": "NULL"
                                },
                                {
                                    "SZOBA_FK": "75",
                                    "Foglalás éve": "2016"
                                },
                                {
                                    "SZOBA_FK": "75",
                                    "Foglalás éve": "2017"
                                },
                                {
                                    "SZOBA_FK": "75",
                                    "Foglalás éve": "NULL"
                                },
                                {
                                    "SZOBA_FK": "76",
                                    "Foglalás éve": "2016"
                                },
                                {
                                    "SZOBA_FK": "76",
                                    "Foglalás éve": "2017"
                                },
                                {
                                    "SZOBA_FK": "76",
                                    "Foglalás éve": "NULL"
                                },
                                {
                                    "SZOBA_FK": "77",
                                    "Foglalás éve": "2016"
                                },
                                {
                                    "SZOBA_FK": "77",
                                    "Foglalás éve": "2017"
                                },
                                {
                                    "SZOBA_FK": "77",
                                    "Foglalás éve": "NULL"
                                },
                                {
                                    "SZOBA_FK": "78",
                                    "Foglalás éve": "2016"
                                },
                                {
                                    "SZOBA_FK": "78",
                                    "Foglalás éve": "2017"
                                },
                                {
                                    "SZOBA_FK": "78",
                                    "Foglalás éve": "NULL"
                                },
                                {
                                    "SZOBA_FK": "79",
                                    "Foglalás éve": "2016"
                                },
                                {
                                    "SZOBA_FK": "79",
                                    "Foglalás éve": "2017"
                                },
                                {
                                    "SZOBA_FK": "79",
                                    "Foglalás éve": "NULL"
                                },
                                {
                                    "SZOBA_FK": "80",
                                    "Foglalás éve": "2016"
                                },
                                {
                                    "SZOBA_FK": "80",
                                    "Foglalás éve": "NULL"
                                },
                                {
                                    "SZOBA_FK": "81",
                                    "Foglalás éve": "2016"
                                },
                                {
                                    "SZOBA_FK": "81",
                                    "Foglalás éve": "2017"
                                },
                                {
                                    "SZOBA_FK": "81",
                                    "Foglalás éve": "NULL"
                                },
                                {
                                    "SZOBA_FK": "82",
                                    "Foglalás éve": "2016"
                                },
                                {
                                    "SZOBA_FK": "82",
                                    "Foglalás éve": "NULL"
                                },
                                {
                                    "SZOBA_FK": "83",
                                    "Foglalás éve": "2016"
                                },
                                {
                                    "SZOBA_FK": "83",
                                    "Foglalás éve": "NULL"
                                },
                                {
                                    "SZOBA_FK": "84",
                                    "Foglalás éve": "2016"
                                },
                                {
                                    "SZOBA_FK": "84",
                                    "Foglalás éve": "NULL"
                                },
                                {
                                    "SZOBA_FK": "85",
                                    "Foglalás éve": "2016"
                                },
                                {
                                    "SZOBA_FK": "85",
                                    "Foglalás éve": "2017"
                                },
                                {
                                    "SZOBA_FK": "85",
                                    "Foglalás éve": "NULL"
                                },
                                {
                                    "SZOBA_FK": "86",
                                    "Foglalás éve": "2016"
                                },
                                {
                                    "SZOBA_FK": "86",
                                    "Foglalás éve": "2017"
                                },
                                {
                                    "SZOBA_FK": "86",
                                    "Foglalás éve": "NULL"
                                },
                                {
                                    "SZOBA_FK": "87",
                                    "Foglalás éve": "2016"
                                },
                                {
                                    "SZOBA_FK": "87",
                                    "Foglalás éve": "2017"
                                },
                                {
                                    "SZOBA_FK": "87",
                                    "Foglalás éve": "NULL"
                                },
                                {
                                    "SZOBA_FK": "88",
                                    "Foglalás éve": "2016"
                                },
                                {
                                    "SZOBA_FK": "88",
                                    "Foglalás éve": "2017"
                                },
                                {
                                    "SZOBA_FK": "88",
                                    "Foglalás éve": "NULL"
                                },
                                {
                                    "SZOBA_FK": "89",
                                    "Foglalás éve": "2016"
                                },
                                {
                                    "SZOBA_FK": "89",
                                    "Foglalás éve": "2017"
                                },
                                {
                                    "SZOBA_FK": "89",
                                    "Foglalás éve": "NULL"
                                },
                                {
                                    "SZOBA_FK": "90",
                                    "Foglalás éve": "2016"
                                },
                                {
                                    "SZOBA_FK": "90",
                                    "Foglalás éve": "NULL"
                                },
                                {
                                    "SZOBA_FK": "91",
                                    "Foglalás éve": "2016"
                                },
                                {
                                    "SZOBA_FK": "91",
                                    "Foglalás éve": "NULL"
                                },
                                {
                                    "SZOBA_FK": "92",
                                    "Foglalás éve": "2016"
                                },
                                {
                                    "SZOBA_FK": "92",
                                    "Foglalás éve": "2017"
                                },
                                {
                                    "SZOBA_FK": "92",
                                    "Foglalás éve": "NULL"
                                },
                                {
                                    "SZOBA_FK": "93",
                                    "Foglalás éve": "2016"
                                },
                                {
                                    "SZOBA_FK": "93",
                                    "Foglalás éve": "NULL"
                                },
                                {
                                    "SZOBA_FK": "94",
                                    "Foglalás éve": "2016"
                                },
                                {
                                    "SZOBA_FK": "94",
                                    "Foglalás éve": "2017"
                                },
                                {
                                    "SZOBA_FK": "94",
                                    "Foglalás éve": "NULL"
                                },
                                {
                                    "SZOBA_FK": "95",
                                    "Foglalás éve": "2016"
                                },
                                {
                                    "SZOBA_FK": "95",
                                    "Foglalás éve": "2017"
                                },
                                {
                                    "SZOBA_FK": "95",
                                    "Foglalás éve": "NULL"
                                },
                                {
                                    "SZOBA_FK": "96",
                                    "Foglalás éve": "2016"
                                },
                                {
                                    "SZOBA_FK": "96",
                                    "Foglalás éve": "2017"
                                },
                                {
                                    "SZOBA_FK": "96",
                                    "Foglalás éve": "NULL"
                                },
                                {
                                    "SZOBA_FK": "97",
                                    "Foglalás éve": "2016"
                                },
                                {
                                    "SZOBA_FK": "97",
                                    "Foglalás éve": "2017"
                                },
                                {
                                    "SZOBA_FK": "97",
                                    "Foglalás éve": "NULL"
                                },
                                {
                                    "SZOBA_FK": "98",
                                    "Foglalás éve": "2016"
                                },
                                {
                                    "SZOBA_FK": "98",
                                    "Foglalás éve": "NULL"
                                },
                                {
                                    "SZOBA_FK": "99",
                                    "Foglalás éve": "2016"
                                },
                                {
                                    "SZOBA_FK": "99",
                                    "Foglalás éve": "2017"
                                },
                                {
                                    "SZOBA_FK": "99",
                                    "Foglalás éve": "NULL"
                                },
                                {
                                    "SZOBA_FK": "100",
                                    "Foglalás éve": "2016"
                                },
                                {
                                    "SZOBA_FK": "100",
                                    "Foglalás éve": "2017"
                                },
                                {
                                    "SZOBA_FK": "100",
                                    "Foglalás éve": "NULL"
                                },
                                {
                                    "SZOBA_FK": "101",
                                    "Foglalás éve": "2016"
                                },
                                {
                                    "SZOBA_FK": "101",
                                    "Foglalás éve": "2017"
                                },
                                {
                                    "SZOBA_FK": "101",
                                    "Foglalás éve": "NULL"
                                },
                                {
                                    "SZOBA_FK": "102",
                                    "Foglalás éve": "2016"
                                },
                                {
                                    "SZOBA_FK": "102",
                                    "Foglalás éve": "NULL"
                                },
                                {
                                    "SZOBA_FK": "103",
                                    "Foglalás éve": "2016"
                                },
                                {
                                    "SZOBA_FK": "103",
                                    "Foglalás éve": "2017"
                                },
                                {
                                    "SZOBA_FK": "103",
                                    "Foglalás éve": "NULL"
                                },
                                {
                                    "SZOBA_FK": "104",
                                    "Foglalás éve": "2016"
                                },
                                {
                                    "SZOBA_FK": "104",
                                    "Foglalás éve": "2017"
                                },
                                {
                                    "SZOBA_FK": "104",
                                    "Foglalás éve": "NULL"
                                },
                                {
                                    "SZOBA_FK": "105",
                                    "Foglalás éve": "2016"
                                },
                                {
                                    "SZOBA_FK": "105",
                                    "Foglalás éve": "2017"
                                },
                                {
                                    "SZOBA_FK": "105",
                                    "Foglalás éve": "NULL"
                                },
                                {
                                    "SZOBA_FK": "106",
                                    "Foglalás éve": "2016"
                                },
                                {
                                    "SZOBA_FK": "106",
                                    "Foglalás éve": "2017"
                                },
                                {
                                    "SZOBA_FK": "106",
                                    "Foglalás éve": "NULL"
                                },
                                {
                                    "SZOBA_FK": "107",
                                    "Foglalás éve": "2016"
                                },
                                {
                                    "SZOBA_FK": "107",
                                    "Foglalás éve": "2017"
                                },
                                {
                                    "SZOBA_FK": "107",
                                    "Foglalás éve": "NULL"
                                },
                                {
                                    "SZOBA_FK": "108",
                                    "Foglalás éve": "2016"
                                },
                                {
                                    "SZOBA_FK": "108",
                                    "Foglalás éve": "NULL"
                                },
                                {
                                    "SZOBA_FK": "109",
                                    "Foglalás éve": "2016"
                                },
                                {
                                    "SZOBA_FK": "109",
                                    "Foglalás éve": "2017"
                                },
                                {
                                    "SZOBA_FK": "109",
                                    "Foglalás éve": "NULL"
                                },
                                {
                                    "SZOBA_FK": "110",
                                    "Foglalás éve": "2016"
                                },
                                {
                                    "SZOBA_FK": "110",
                                    "Foglalás éve": "2017"
                                },
                                {
                                    "SZOBA_FK": "110",
                                    "Foglalás éve": "NULL"
                                },
                                {
                                    "SZOBA_FK": "111",
                                    "Foglalás éve": "2016"
                                },
                                {
                                    "SZOBA_FK": "111",
                                    "Foglalás éve": "NULL"
                                },
                                {
                                    "SZOBA_FK": "112",
                                    "Foglalás éve": "2016"
                                },
                                {
                                    "SZOBA_FK": "112",
                                    "Foglalás éve": "2017"
                                },
                                {
                                    "SZOBA_FK": "112",
                                    "Foglalás éve": "NULL"
                                },
                                {
                                    "SZOBA_FK": "113",
                                    "Foglalás éve": "2016"
                                },
                                {
                                    "SZOBA_FK": "113",
                                    "Foglalás éve": "2017"
                                },
                                {
                                    "SZOBA_FK": "113",
                                    "Foglalás éve": "NULL"
                                },
                                {
                                    "SZOBA_FK": "114",
                                    "Foglalás éve": "2016"
                                },
                                {
                                    "SZOBA_FK": "114",
                                    "Foglalás éve": "2017"
                                },
                                {
                                    "SZOBA_FK": "114",
                                    "Foglalás éve": "NULL"
                                },
                                {
                                    "SZOBA_FK": "115",
                                    "Foglalás éve": "2016"
                                },
                                {
                                    "SZOBA_FK": "115",
                                    "Foglalás éve": "2017"
                                },
                                {
                                    "SZOBA_FK": "115",
                                    "Foglalás éve": "NULL"
                                },
                                {
                                    "SZOBA_FK": "116",
                                    "Foglalás éve": "2017"
                                },
                                {
                                    "SZOBA_FK": "116",
                                    "Foglalás éve": "NULL"
                                },
                                {
                                    "SZOBA_FK": "117",
                                    "Foglalás éve": "2016"
                                },
                                {
                                    "SZOBA_FK": "117",
                                    "Foglalás éve": "2017"
                                },
                                {
                                    "SZOBA_FK": "117",
                                    "Foglalás éve": "NULL"
                                },
                                {
                                    "SZOBA_FK": "118",
                                    "Foglalás éve": "2016"
                                },
                                {
                                    "SZOBA_FK": "118",
                                    "Foglalás éve": "2017"
                                },
                                {
                                    "SZOBA_FK": "118",
                                    "Foglalás éve": "NULL"
                                },
                                {
                                    "SZOBA_FK": "119",
                                    "Foglalás éve": "2016"
                                },
                                {
                                    "SZOBA_FK": "119",
                                    "Foglalás éve": "2017"
                                },
                                {
                                    "SZOBA_FK": "119",
                                    "Foglalás éve": "NULL"
                                },
                                {
                                    "SZOBA_FK": "120",
                                    "Foglalás éve": "2016"
                                },
                                {
                                    "SZOBA_FK": "120",
                                    "Foglalás éve": "2017"
                                },
                                {
                                    "SZOBA_FK": "120",
                                    "Foglalás éve": "NULL"
                                },
                                {
                                    "SZOBA_FK": "121",
                                    "Foglalás éve": "2016"
                                },
                                {
                                    "SZOBA_FK": "121",
                                    "Foglalás éve": "NULL"
                                },
                                {
                                    "SZOBA_FK": "122",
                                    "Foglalás éve": "2016"
                                },
                                {
                                    "SZOBA_FK": "122",
                                    "Foglalás éve": "2017"
                                },
                                {
                                    "SZOBA_FK": "122",
                                    "Foglalás éve": "NULL"
                                },
                                {
                                    "SZOBA_FK": "123",
                                    "Foglalás éve": "2016"
                                },
                                {
                                    "SZOBA_FK": "123",
                                    "Foglalás éve": "NULL"
                                },
                                {
                                    "SZOBA_FK": "124",
                                    "Foglalás éve": "2016"
                                },
                                {
                                    "SZOBA_FK": "124",
                                    "Foglalás éve": "2017"
                                },
                                {
                                    "SZOBA_FK": "124",
                                    "Foglalás éve": "NULL"
                                },
                                {
                                    "SZOBA_FK": "125",
                                    "Foglalás éve": "2016"
                                },
                                {
                                    "SZOBA_FK": "125",
                                    "Foglalás éve": "NULL"
                                },
                                {
                                    "SZOBA_FK": "126",
                                    "Foglalás éve": "2016"
                                },
                                {
                                    "SZOBA_FK": "126",
                                    "Foglalás éve": "2017"
                                },
                                {
                                    "SZOBA_FK": "126",
                                    "Foglalás éve": "NULL"
                                },
                                {
                                    "SZOBA_FK": "127",
                                    "Foglalás éve": "2016"
                                },
                                {
                                    "SZOBA_FK": "127",
                                    "Foglalás éve": "2017"
                                },
                                {
                                    "SZOBA_FK": "127",
                                    "Foglalás éve": "NULL"
                                },
                                {
                                    "SZOBA_FK": "128",
                                    "Foglalás éve": "2016"
                                },
                                {
                                    "SZOBA_FK": "128",
                                    "Foglalás éve": "2017"
                                },
                                {
                                    "SZOBA_FK": "128",
                                    "Foglalás éve": "NULL"
                                },
                                {
                                    "SZOBA_FK": "129",
                                    "Foglalás éve": "2016"
                                },
                                {
                                    "SZOBA_FK": "129",
                                    "Foglalás éve": "2017"
                                },
                                {
                                    "SZOBA_FK": "129",
                                    "Foglalás éve": "NULL"
                                },
                                {
                                    "SZOBA_FK": "130",
                                    "Foglalás éve": "2016"
                                },
                                {
                                    "SZOBA_FK": "130",
                                    "Foglalás éve": "2017"
                                },
                                {
                                    "SZOBA_FK": "130",
                                    "Foglalás éve": "NULL"
                                },
                                {
                                    "SZOBA_FK": "131",
                                    "Foglalás éve": "2016"
                                },
                                {
                                    "SZOBA_FK": "131",
                                    "Foglalás éve": "2017"
                                },
                                {
                                    "SZOBA_FK": "131",
                                    "Foglalás éve": "NULL"
                                },
                                {
                                    "SZOBA_FK": "132",
                                    "Foglalás éve": "2016"
                                },
                                {
                                    "SZOBA_FK": "132",
                                    "Foglalás éve": "2017"
                                },
                                {
                                    "SZOBA_FK": "132",
                                    "Foglalás éve": "NULL"
                                },
                                {
                                    "SZOBA_FK": "133",
                                    "Foglalás éve": "2016"
                                },
                                {
                                    "SZOBA_FK": "133",
                                    "Foglalás éve": "2017"
                                },
                                {
                                    "SZOBA_FK": "133",
                                    "Foglalás éve": "NULL"
                                },
                                {
                                    "SZOBA_FK": "134",
                                    "Foglalás éve": "2016"
                                },
                                {
                                    "SZOBA_FK": "134",
                                    "Foglalás éve": "2017"
                                },
                                {
                                    "SZOBA_FK": "134",
                                    "Foglalás éve": "NULL"
                                },
                                {
                                    "SZOBA_FK": "135",
                                    "Foglalás éve": "2016"
                                },
                                {
                                    "SZOBA_FK": "135",
                                    "Foglalás éve": "NULL"
                                },
                                {
                                    "SZOBA_FK": "136",
                                    "Foglalás éve": "2016"
                                },
                                {
                                    "SZOBA_FK": "136",
                                    "Foglalás éve": "NULL"
                                },
                                {
                                    "SZOBA_FK": "137",
                                    "Foglalás éve": "2016"
                                },
                                {
                                    "SZOBA_FK": "137",
                                    "Foglalás éve": "NULL"
                                },
                                {
                                    "SZOBA_FK": "138",
                                    "Foglalás éve": "2016"
                                },
                                {
                                    "SZOBA_FK": "138",
                                    "Foglalás éve": "NULL"
                                },
                                {
                                    "SZOBA_FK": "139",
                                    "Foglalás éve": "2016"
                                },
                                {
                                    "SZOBA_FK": "139",
                                    "Foglalás éve": "2017"
                                },
                                {
                                    "SZOBA_FK": "139",
                                    "Foglalás éve": "NULL"
                                },
                                {
                                    "SZOBA_FK": "140",
                                    "Foglalás éve": "2016"
                                },
                                {
                                    "SZOBA_FK": "140",
                                    "Foglalás éve": "NULL"
                                },
                                {
                                    "SZOBA_FK": "141",
                                    "Foglalás éve": "2016"
                                },
                                {
                                    "SZOBA_FK": "141",
                                    "Foglalás éve": "NULL"
                                },
                                {
                                    "SZOBA_FK": "142",
                                    "Foglalás éve": "2016"
                                },
                                {
                                    "SZOBA_FK": "142",
                                    "Foglalás éve": "2017"
                                },
                                {
                                    "SZOBA_FK": "142",
                                    "Foglalás éve": "NULL"
                                },
                                {
                                    "SZOBA_FK": "143",
                                    "Foglalás éve": "2016"
                                },
                                {
                                    "SZOBA_FK": "143",
                                    "Foglalás éve": "2017"
                                },
                                {
                                    "SZOBA_FK": "143",
                                    "Foglalás éve": "NULL"
                                },
                                {
                                    "SZOBA_FK": "144",
                                    "Foglalás éve": "2016"
                                },
                                {
                                    "SZOBA_FK": "144",
                                    "Foglalás éve": "2017"
                                },
                                {
                                    "SZOBA_FK": "144",
                                    "Foglalás éve": "NULL"
                                },
                                {
                                    "SZOBA_FK": "145",
                                    "Foglalás éve": "2016"
                                },
                                {
                                    "SZOBA_FK": "145",
                                    "Foglalás éve": "2017"
                                },
                                {
                                    "SZOBA_FK": "145",
                                    "Foglalás éve": "NULL"
                                },
                                {
                                    "SZOBA_FK": "146",
                                    "Foglalás éve": "2016"
                                },
                                {
                                    "SZOBA_FK": "146",
                                    "Foglalás éve": "2017"
                                },
                                {
                                    "SZOBA_FK": "146",
                                    "Foglalás éve": "NULL"
                                },
                                {
                                    "SZOBA_FK": "147",
                                    "Foglalás éve": "2016"
                                },
                                {
                                    "SZOBA_FK": "147",
                                    "Foglalás éve": "NULL"
                                },
                                {
                                    "SZOBA_FK": "148",
                                    "Foglalás éve": "2016"
                                },
                                {
                                    "SZOBA_FK": "148",
                                    "Foglalás éve": "2017"
                                },
                                {
                                    "SZOBA_FK": "148",
                                    "Foglalás éve": "NULL"
                                },
                                {
                                    "SZOBA_FK": "149",
                                    "Foglalás éve": "2016"
                                },
                                {
                                    "SZOBA_FK": "149",
                                    "Foglalás éve": "2017"
                                },
                                {
                                    "SZOBA_FK": "149",
                                    "Foglalás éve": "NULL"
                                },
                                {
                                    "SZOBA_FK": "150",
                                    "Foglalás éve": "2016"
                                },
                                {
                                    "SZOBA_FK": "150",
                                    "Foglalás éve": "2017"
                                },
                                {
                                    "SZOBA_FK": "150",
                                    "Foglalás éve": "NULL"
                                },
                                {
                                    "SZOBA_FK": "151",
                                    "Foglalás éve": "2016"
                                },
                                {
                                    "SZOBA_FK": "151",
                                    "Foglalás éve": "NULL"
                                },
                                {
                                    "SZOBA_FK": "152",
                                    "Foglalás éve": "2016"
                                },
                                {
                                    "SZOBA_FK": "152",
                                    "Foglalás éve": "2017"
                                },
                                {
                                    "SZOBA_FK": "152",
                                    "Foglalás éve": "NULL"
                                },
                                {
                                    "SZOBA_FK": "153",
                                    "Foglalás éve": "2016"
                                },
                                {
                                    "SZOBA_FK": "153",
                                    "Foglalás éve": "2017"
                                },
                                {
                                    "SZOBA_FK": "153",
                                    "Foglalás éve": "NULL"
                                },
                                {
                                    "SZOBA_FK": "154",
                                    "Foglalás éve": "2016"
                                },
                                {
                                    "SZOBA_FK": "154",
                                    "Foglalás éve": "2017"
                                },
                                {
                                    "SZOBA_FK": "154",
                                    "Foglalás éve": "NULL"
                                },
                                {
                                    "SZOBA_FK": "155",
                                    "Foglalás éve": "2016"
                                },
                                {
                                    "SZOBA_FK": "155",
                                    "Foglalás éve": "2017"
                                },
                                {
                                    "SZOBA_FK": "155",
                                    "Foglalás éve": "NULL"
                                },
                                {
                                    "SZOBA_FK": "156",
                                    "Foglalás éve": "2016"
                                },
                                {
                                    "SZOBA_FK": "156",
                                    "Foglalás éve": "2017"
                                },
                                {
                                    "SZOBA_FK": "156",
                                    "Foglalás éve": "NULL"
                                },
                                {
                                    "SZOBA_FK": "157",
                                    "Foglalás éve": "2016"
                                },
                                {
                                    "SZOBA_FK": "157",
                                    "Foglalás éve": "2017"
                                },
                                {
                                    "SZOBA_FK": "157",
                                    "Foglalás éve": "NULL"
                                },
                                {
                                    "SZOBA_FK": "158",
                                    "Foglalás éve": "2016"
                                },
                                {
                                    "SZOBA_FK": "158",
                                    "Foglalás éve": "NULL"
                                },
                                {
                                    "SZOBA_FK": "160",
                                    "Foglalás éve": "2016"
                                },
                                {
                                    "SZOBA_FK": "160",
                                    "Foglalás éve": "2017"
                                },
                                {
                                    "SZOBA_FK": "160",
                                    "Foglalás éve": "NULL"
                                },
                                {
                                    "SZOBA_FK": "161",
                                    "Foglalás éve": "2016"
                                },
                                {
                                    "SZOBA_FK": "161",
                                    "Foglalás éve": "2017"
                                },
                                {
                                    "SZOBA_FK": "161",
                                    "Foglalás éve": "NULL"
                                },
                                {
                                    "SZOBA_FK": "162",
                                    "Foglalás éve": "2016"
                                },
                                {
                                    "SZOBA_FK": "162",
                                    "Foglalás éve": "NULL"
                                },
                                {
                                    "SZOBA_FK": "163",
                                    "Foglalás éve": "2016"
                                },
                                {
                                    "SZOBA_FK": "163",
                                    "Foglalás éve": "2017"
                                },
                                {
                                    "SZOBA_FK": "163",
                                    "Foglalás éve": "NULL"
                                },
                                {
                                    "SZOBA_FK": "164",
                                    "Foglalás éve": "2016"
                                },
                                {
                                    "SZOBA_FK": "164",
                                    "Foglalás éve": "NULL"
                                },
                                {
                                    "SZOBA_FK": "165",
                                    "Foglalás éve": "2016"
                                },
                                {
                                    "SZOBA_FK": "165",
                                    "Foglalás éve": "NULL"
                                },
                                {
                                    "SZOBA_FK": "166",
                                    "Foglalás éve": "2016"
                                },
                                {
                                    "SZOBA_FK": "166",
                                    "Foglalás éve": "2017"
                                },
                                {
                                    "SZOBA_FK": "166",
                                    "Foglalás éve": "NULL"
                                },
                                {
                                    "SZOBA_FK": "167",
                                    "Foglalás éve": "2016"
                                },
                                {
                                    "SZOBA_FK": "167",
                                    "Foglalás éve": "2017"
                                },
                                {
                                    "SZOBA_FK": "167",
                                    "Foglalás éve": "NULL"
                                },
                                {
                                    "SZOBA_FK": "168",
                                    "Foglalás éve": "2016"
                                },
                                {
                                    "SZOBA_FK": "168",
                                    "Foglalás éve": "NULL"
                                },
                                {
                                    "SZOBA_FK": "169",
                                    "Foglalás éve": "2016"
                                },
                                {
                                    "SZOBA_FK": "169",
                                    "Foglalás éve": "2017"
                                },
                                {
                                    "SZOBA_FK": "169",
                                    "Foglalás éve": "NULL"
                                },
                                {
                                    "SZOBA_FK": "170",
                                    "Foglalás éve": "2016"
                                },
                                {
                                    "SZOBA_FK": "170",
                                    "Foglalás éve": "NULL"
                                },
                                {
                                    "SZOBA_FK": "171",
                                    "Foglalás éve": "2016"
                                },
                                {
                                    "SZOBA_FK": "171",
                                    "Foglalás éve": "2017"
                                },
                                {
                                    "SZOBA_FK": "171",
                                    "Foglalás éve": "NULL"
                                },
                                {
                                    "SZOBA_FK": "172",
                                    "Foglalás éve": "2016"
                                },
                                {
                                    "SZOBA_FK": "172",
                                    "Foglalás éve": "2017"
                                },
                                {
                                    "SZOBA_FK": "172",
                                    "Foglalás éve": "NULL"
                                },
                                {
                                    "SZOBA_FK": "173",
                                    "Foglalás éve": "2016"
                                },
                                {
                                    "SZOBA_FK": "173",
                                    "Foglalás éve": "2017"
                                },
                                {
                                    "SZOBA_FK": "173",
                                    "Foglalás éve": "NULL"
                                },
                                {
                                    "SZOBA_FK": "174",
                                    "Foglalás éve": "2016"
                                },
                                {
                                    "SZOBA_FK": "174",
                                    "Foglalás éve": "NULL"
                                },
                                {
                                    "SZOBA_FK": "175",
                                    "Foglalás éve": "2016"
                                },
                                {
                                    "SZOBA_FK": "175",
                                    "Foglalás éve": "NULL"
                                },
                                {
                                    "SZOBA_FK": "176",
                                    "Foglalás éve": "2016"
                                },
                                {
                                    "SZOBA_FK": "176",
                                    "Foglalás éve": "2017"
                                },
                                {
                                    "SZOBA_FK": "176",
                                    "Foglalás éve": "NULL"
                                },
                                {
                                    "SZOBA_FK": "177",
                                    "Foglalás éve": "2016"
                                },
                                {
                                    "SZOBA_FK": "177",
                                    "Foglalás éve": "2017"
                                },
                                {
                                    "SZOBA_FK": "177",
                                    "Foglalás éve": "NULL"
                                },
                                {
                                    "SZOBA_FK": "178",
                                    "Foglalás éve": "2016"
                                },
                                {
                                    "SZOBA_FK": "178",
                                    "Foglalás éve": "NULL"
                                },
                                {
                                    "SZOBA_FK": "179",
                                    "Foglalás éve": "2016"
                                },
                                {
                                    "SZOBA_FK": "179",
                                    "Foglalás éve": "2017"
                                },
                                {
                                    "SZOBA_FK": "179",
                                    "Foglalás éve": "NULL"
                                },
                                {
                                    "SZOBA_FK": "180",
                                    "Foglalás éve": "2016"
                                },
                                {
                                    "SZOBA_FK": "180",
                                    "Foglalás éve": "2017"
                                },
                                {
                                    "SZOBA_FK": "180",
                                    "Foglalás éve": "NULL"
                                },
                                {
                                    "SZOBA_FK": "181",
                                    "Foglalás éve": "2016"
                                },
                                {
                                    "SZOBA_FK": "181",
                                    "Foglalás éve": "NULL"
                                },
                                {
                                    "SZOBA_FK": "182",
                                    "Foglalás éve": "2016"
                                },
                                {
                                    "SZOBA_FK": "182",
                                    "Foglalás éve": "2017"
                                },
                                {
                                    "SZOBA_FK": "182",
                                    "Foglalás éve": "NULL"
                                },
                                {
                                    "SZOBA_FK": "183",
                                    "Foglalás éve": "2016"
                                },
                                {
                                    "SZOBA_FK": "183",
                                    "Foglalás éve": "2017"
                                },
                                {
                                    "SZOBA_FK": "183",
                                    "Foglalás éve": "NULL"
                                },
                                {
                                    "SZOBA_FK": "184",
                                    "Foglalás éve": "2016"
                                },
                                {
                                    "SZOBA_FK": "184",
                                    "Foglalás éve": "NULL"
                                },
                                {
                                    "SZOBA_FK": "185",
                                    "Foglalás éve": "2016"
                                },
                                {
                                    "SZOBA_FK": "185",
                                    "Foglalás éve": "2017"
                                },
                                {
                                    "SZOBA_FK": "185",
                                    "Foglalás éve": "NULL"
                                },
                                {
                                    "SZOBA_FK": "186",
                                    "Foglalás éve": "2016"
                                },
                                {
                                    "SZOBA_FK": "186",
                                    "Foglalás éve": "2017"
                                },
                                {
                                    "SZOBA_FK": "186",
                                    "Foglalás éve": "NULL"
                                },
                                {
                                    "SZOBA_FK": "187",
                                    "Foglalás éve": "2016"
                                },
                                {
                                    "SZOBA_FK": "187",
                                    "Foglalás éve": "NULL"
                                },
                                {
                                    "SZOBA_FK": "188",
                                    "Foglalás éve": "2016"
                                },
                                {
                                    "SZOBA_FK": "188",
                                    "Foglalás éve": "NULL"
                                },
                                {
                                    "SZOBA_FK": "189",
                                    "Foglalás éve": "2016"
                                },
                                {
                                    "SZOBA_FK": "189",
                                    "Foglalás éve": "2017"
                                },
                                {
                                    "SZOBA_FK": "189",
                                    "Foglalás éve": "NULL"
                                },
                                {
                                    "SZOBA_FK": "190",
                                    "Foglalás éve": "2016"
                                },
                                {
                                    "SZOBA_FK": "190",
                                    "Foglalás éve": "2017"
                                },
                                {
                                    "SZOBA_FK": "190",
                                    "Foglalás éve": "NULL"
                                },
                                {
                                    "SZOBA_FK": "191",
                                    "Foglalás éve": "2016"
                                },
                                {
                                    "SZOBA_FK": "191",
                                    "Foglalás éve": "2017"
                                },
                                {
                                    "SZOBA_FK": "191",
                                    "Foglalás éve": "NULL"
                                },
                                {
                                    "SZOBA_FK": "192",
                                    "Foglalás éve": "2016"
                                },
                                {
                                    "SZOBA_FK": "192",
                                    "Foglalás éve": "NULL"
                                },
                                {
                                    "SZOBA_FK": "193",
                                    "Foglalás éve": "2016"
                                },
                                {
                                    "SZOBA_FK": "193",
                                    "Foglalás éve": "NULL"
                                },
                                {
                                    "SZOBA_FK": "194",
                                    "Foglalás éve": "2016"
                                },
                                {
                                    "SZOBA_FK": "194",
                                    "Foglalás éve": "NULL"
                                },
                                {
                                    "SZOBA_FK": "195",
                                    "Foglalás éve": "2016"
                                },
                                {
                                    "SZOBA_FK": "195",
                                    "Foglalás éve": "2017"
                                },
                                {
                                    "SZOBA_FK": "195",
                                    "Foglalás éve": "NULL"
                                },
                                {
                                    "SZOBA_FK": "196",
                                    "Foglalás éve": "2016"
                                },
                                {
                                    "SZOBA_FK": "196",
                                    "Foglalás éve": "NULL"
                                },
                                {
                                    "SZOBA_FK": "197",
                                    "Foglalás éve": "2016"
                                },
                                {
                                    "SZOBA_FK": "197",
                                    "Foglalás éve": "NULL"
                                },
                                {
                                    "SZOBA_FK": "198",
                                    "Foglalás éve": "2016"
                                },
                                {
                                    "SZOBA_FK": "198",
                                    "Foglalás éve": "2017"
                                },
                                {
                                    "SZOBA_FK": "198",
                                    "Foglalás éve": "NULL"
                                },
                                {
                                    "SZOBA_FK": "NULL",
                                    "Foglalás éve": "NULL"
                                }
                            ]
                        },
                        "text/html": "<table><tr><th>SZOBA_FK</th><th>Foglalás éve</th></tr><tr><td>1</td><td>2016</td></tr><tr><td>1</td><td>NULL</td></tr><tr><td>2</td><td>2016</td></tr><tr><td>2</td><td>NULL</td></tr><tr><td>3</td><td>2016</td></tr><tr><td>3</td><td>2017</td></tr><tr><td>3</td><td>NULL</td></tr><tr><td>4</td><td>2016</td></tr><tr><td>4</td><td>2017</td></tr><tr><td>4</td><td>NULL</td></tr><tr><td>5</td><td>2016</td></tr><tr><td>5</td><td>NULL</td></tr><tr><td>6</td><td>2016</td></tr><tr><td>6</td><td>NULL</td></tr><tr><td>7</td><td>2016</td></tr><tr><td>7</td><td>NULL</td></tr><tr><td>8</td><td>2016</td></tr><tr><td>8</td><td>NULL</td></tr><tr><td>9</td><td>2016</td></tr><tr><td>9</td><td>2017</td></tr><tr><td>9</td><td>NULL</td></tr><tr><td>10</td><td>2016</td></tr><tr><td>10</td><td>NULL</td></tr><tr><td>11</td><td>2016</td></tr><tr><td>11</td><td>2017</td></tr><tr><td>11</td><td>NULL</td></tr><tr><td>12</td><td>2016</td></tr><tr><td>12</td><td>2017</td></tr><tr><td>12</td><td>NULL</td></tr><tr><td>13</td><td>2016</td></tr><tr><td>13</td><td>2017</td></tr><tr><td>13</td><td>NULL</td></tr><tr><td>14</td><td>2016</td></tr><tr><td>14</td><td>2017</td></tr><tr><td>14</td><td>NULL</td></tr><tr><td>15</td><td>2016</td></tr><tr><td>15</td><td>2017</td></tr><tr><td>15</td><td>NULL</td></tr><tr><td>16</td><td>2016</td></tr><tr><td>16</td><td>2017</td></tr><tr><td>16</td><td>NULL</td></tr><tr><td>17</td><td>2016</td></tr><tr><td>17</td><td>2017</td></tr><tr><td>17</td><td>NULL</td></tr><tr><td>18</td><td>2016</td></tr><tr><td>18</td><td>2017</td></tr><tr><td>18</td><td>NULL</td></tr><tr><td>19</td><td>2016</td></tr><tr><td>19</td><td>2017</td></tr><tr><td>19</td><td>NULL</td></tr><tr><td>20</td><td>2016</td></tr><tr><td>20</td><td>NULL</td></tr><tr><td>21</td><td>2016</td></tr><tr><td>21</td><td>NULL</td></tr><tr><td>22</td><td>2016</td></tr><tr><td>22</td><td>NULL</td></tr><tr><td>23</td><td>2016</td></tr><tr><td>23</td><td>NULL</td></tr><tr><td>24</td><td>2016</td></tr><tr><td>24</td><td>2017</td></tr><tr><td>24</td><td>NULL</td></tr><tr><td>25</td><td>2016</td></tr><tr><td>25</td><td>NULL</td></tr><tr><td>26</td><td>2016</td></tr><tr><td>26</td><td>NULL</td></tr><tr><td>27</td><td>2016</td></tr><tr><td>27</td><td>2017</td></tr><tr><td>27</td><td>NULL</td></tr><tr><td>28</td><td>2016</td></tr><tr><td>28</td><td>2017</td></tr><tr><td>28</td><td>NULL</td></tr><tr><td>29</td><td>2016</td></tr><tr><td>29</td><td>2017</td></tr><tr><td>29</td><td>NULL</td></tr><tr><td>30</td><td>2016</td></tr><tr><td>30</td><td>NULL</td></tr><tr><td>31</td><td>2016</td></tr><tr><td>31</td><td>NULL</td></tr><tr><td>32</td><td>2016</td></tr><tr><td>32</td><td>NULL</td></tr><tr><td>33</td><td>2016</td></tr><tr><td>33</td><td>NULL</td></tr><tr><td>34</td><td>2016</td></tr><tr><td>34</td><td>NULL</td></tr><tr><td>35</td><td>2016</td></tr><tr><td>35</td><td>2017</td></tr><tr><td>35</td><td>NULL</td></tr><tr><td>36</td><td>2016</td></tr><tr><td>36</td><td>NULL</td></tr><tr><td>37</td><td>2016</td></tr><tr><td>37</td><td>NULL</td></tr><tr><td>38</td><td>2016</td></tr><tr><td>38</td><td>2017</td></tr><tr><td>38</td><td>NULL</td></tr><tr><td>39</td><td>2016</td></tr><tr><td>39</td><td>2017</td></tr><tr><td>39</td><td>NULL</td></tr><tr><td>40</td><td>2016</td></tr><tr><td>40</td><td>NULL</td></tr><tr><td>41</td><td>2016</td></tr><tr><td>41</td><td>NULL</td></tr><tr><td>42</td><td>2016</td></tr><tr><td>42</td><td>2017</td></tr><tr><td>42</td><td>NULL</td></tr><tr><td>43</td><td>2016</td></tr><tr><td>43</td><td>2017</td></tr><tr><td>43</td><td>NULL</td></tr><tr><td>44</td><td>2016</td></tr><tr><td>44</td><td>2017</td></tr><tr><td>44</td><td>NULL</td></tr><tr><td>45</td><td>2016</td></tr><tr><td>45</td><td>NULL</td></tr><tr><td>46</td><td>2016</td></tr><tr><td>46</td><td>2017</td></tr><tr><td>46</td><td>NULL</td></tr><tr><td>47</td><td>2016</td></tr><tr><td>47</td><td>NULL</td></tr><tr><td>48</td><td>2016</td></tr><tr><td>48</td><td>2017</td></tr><tr><td>48</td><td>NULL</td></tr><tr><td>49</td><td>2016</td></tr><tr><td>49</td><td>2017</td></tr><tr><td>49</td><td>NULL</td></tr><tr><td>50</td><td>2016</td></tr><tr><td>50</td><td>NULL</td></tr><tr><td>51</td><td>2016</td></tr><tr><td>51</td><td>2017</td></tr><tr><td>51</td><td>NULL</td></tr><tr><td>52</td><td>2016</td></tr><tr><td>52</td><td>2017</td></tr><tr><td>52</td><td>NULL</td></tr><tr><td>53</td><td>2016</td></tr><tr><td>53</td><td>NULL</td></tr><tr><td>54</td><td>2016</td></tr><tr><td>54</td><td>NULL</td></tr><tr><td>55</td><td>2016</td></tr><tr><td>55</td><td>2017</td></tr><tr><td>55</td><td>NULL</td></tr><tr><td>56</td><td>2016</td></tr><tr><td>56</td><td>NULL</td></tr><tr><td>57</td><td>2016</td></tr><tr><td>57</td><td>2017</td></tr><tr><td>57</td><td>NULL</td></tr><tr><td>58</td><td>2016</td></tr><tr><td>58</td><td>2017</td></tr><tr><td>58</td><td>NULL</td></tr><tr><td>59</td><td>2016</td></tr><tr><td>59</td><td>2017</td></tr><tr><td>59</td><td>NULL</td></tr><tr><td>60</td><td>2016</td></tr><tr><td>60</td><td>NULL</td></tr><tr><td>61</td><td>2016</td></tr><tr><td>61</td><td>2017</td></tr><tr><td>61</td><td>NULL</td></tr><tr><td>62</td><td>2016</td></tr><tr><td>62</td><td>2017</td></tr><tr><td>62</td><td>NULL</td></tr><tr><td>63</td><td>2016</td></tr><tr><td>63</td><td>NULL</td></tr><tr><td>64</td><td>2016</td></tr><tr><td>64</td><td>2017</td></tr><tr><td>64</td><td>NULL</td></tr><tr><td>65</td><td>2016</td></tr><tr><td>65</td><td>NULL</td></tr><tr><td>66</td><td>2016</td></tr><tr><td>66</td><td>NULL</td></tr><tr><td>67</td><td>2016</td></tr><tr><td>67</td><td>2017</td></tr><tr><td>67</td><td>NULL</td></tr><tr><td>68</td><td>2016</td></tr><tr><td>68</td><td>NULL</td></tr><tr><td>69</td><td>2016</td></tr><tr><td>69</td><td>NULL</td></tr><tr><td>70</td><td>2016</td></tr><tr><td>70</td><td>2017</td></tr><tr><td>70</td><td>NULL</td></tr><tr><td>71</td><td>2016</td></tr><tr><td>71</td><td>NULL</td></tr><tr><td>72</td><td>2016</td></tr><tr><td>72</td><td>NULL</td></tr><tr><td>73</td><td>2016</td></tr><tr><td>73</td><td>NULL</td></tr><tr><td>74</td><td>2016</td></tr><tr><td>74</td><td>NULL</td></tr><tr><td>75</td><td>2016</td></tr><tr><td>75</td><td>2017</td></tr><tr><td>75</td><td>NULL</td></tr><tr><td>76</td><td>2016</td></tr><tr><td>76</td><td>2017</td></tr><tr><td>76</td><td>NULL</td></tr><tr><td>77</td><td>2016</td></tr><tr><td>77</td><td>2017</td></tr><tr><td>77</td><td>NULL</td></tr><tr><td>78</td><td>2016</td></tr><tr><td>78</td><td>2017</td></tr><tr><td>78</td><td>NULL</td></tr><tr><td>79</td><td>2016</td></tr><tr><td>79</td><td>2017</td></tr><tr><td>79</td><td>NULL</td></tr><tr><td>80</td><td>2016</td></tr><tr><td>80</td><td>NULL</td></tr><tr><td>81</td><td>2016</td></tr><tr><td>81</td><td>2017</td></tr><tr><td>81</td><td>NULL</td></tr><tr><td>82</td><td>2016</td></tr><tr><td>82</td><td>NULL</td></tr><tr><td>83</td><td>2016</td></tr><tr><td>83</td><td>NULL</td></tr><tr><td>84</td><td>2016</td></tr><tr><td>84</td><td>NULL</td></tr><tr><td>85</td><td>2016</td></tr><tr><td>85</td><td>2017</td></tr><tr><td>85</td><td>NULL</td></tr><tr><td>86</td><td>2016</td></tr><tr><td>86</td><td>2017</td></tr><tr><td>86</td><td>NULL</td></tr><tr><td>87</td><td>2016</td></tr><tr><td>87</td><td>2017</td></tr><tr><td>87</td><td>NULL</td></tr><tr><td>88</td><td>2016</td></tr><tr><td>88</td><td>2017</td></tr><tr><td>88</td><td>NULL</td></tr><tr><td>89</td><td>2016</td></tr><tr><td>89</td><td>2017</td></tr><tr><td>89</td><td>NULL</td></tr><tr><td>90</td><td>2016</td></tr><tr><td>90</td><td>NULL</td></tr><tr><td>91</td><td>2016</td></tr><tr><td>91</td><td>NULL</td></tr><tr><td>92</td><td>2016</td></tr><tr><td>92</td><td>2017</td></tr><tr><td>92</td><td>NULL</td></tr><tr><td>93</td><td>2016</td></tr><tr><td>93</td><td>NULL</td></tr><tr><td>94</td><td>2016</td></tr><tr><td>94</td><td>2017</td></tr><tr><td>94</td><td>NULL</td></tr><tr><td>95</td><td>2016</td></tr><tr><td>95</td><td>2017</td></tr><tr><td>95</td><td>NULL</td></tr><tr><td>96</td><td>2016</td></tr><tr><td>96</td><td>2017</td></tr><tr><td>96</td><td>NULL</td></tr><tr><td>97</td><td>2016</td></tr><tr><td>97</td><td>2017</td></tr><tr><td>97</td><td>NULL</td></tr><tr><td>98</td><td>2016</td></tr><tr><td>98</td><td>NULL</td></tr><tr><td>99</td><td>2016</td></tr><tr><td>99</td><td>2017</td></tr><tr><td>99</td><td>NULL</td></tr><tr><td>100</td><td>2016</td></tr><tr><td>100</td><td>2017</td></tr><tr><td>100</td><td>NULL</td></tr><tr><td>101</td><td>2016</td></tr><tr><td>101</td><td>2017</td></tr><tr><td>101</td><td>NULL</td></tr><tr><td>102</td><td>2016</td></tr><tr><td>102</td><td>NULL</td></tr><tr><td>103</td><td>2016</td></tr><tr><td>103</td><td>2017</td></tr><tr><td>103</td><td>NULL</td></tr><tr><td>104</td><td>2016</td></tr><tr><td>104</td><td>2017</td></tr><tr><td>104</td><td>NULL</td></tr><tr><td>105</td><td>2016</td></tr><tr><td>105</td><td>2017</td></tr><tr><td>105</td><td>NULL</td></tr><tr><td>106</td><td>2016</td></tr><tr><td>106</td><td>2017</td></tr><tr><td>106</td><td>NULL</td></tr><tr><td>107</td><td>2016</td></tr><tr><td>107</td><td>2017</td></tr><tr><td>107</td><td>NULL</td></tr><tr><td>108</td><td>2016</td></tr><tr><td>108</td><td>NULL</td></tr><tr><td>109</td><td>2016</td></tr><tr><td>109</td><td>2017</td></tr><tr><td>109</td><td>NULL</td></tr><tr><td>110</td><td>2016</td></tr><tr><td>110</td><td>2017</td></tr><tr><td>110</td><td>NULL</td></tr><tr><td>111</td><td>2016</td></tr><tr><td>111</td><td>NULL</td></tr><tr><td>112</td><td>2016</td></tr><tr><td>112</td><td>2017</td></tr><tr><td>112</td><td>NULL</td></tr><tr><td>113</td><td>2016</td></tr><tr><td>113</td><td>2017</td></tr><tr><td>113</td><td>NULL</td></tr><tr><td>114</td><td>2016</td></tr><tr><td>114</td><td>2017</td></tr><tr><td>114</td><td>NULL</td></tr><tr><td>115</td><td>2016</td></tr><tr><td>115</td><td>2017</td></tr><tr><td>115</td><td>NULL</td></tr><tr><td>116</td><td>2017</td></tr><tr><td>116</td><td>NULL</td></tr><tr><td>117</td><td>2016</td></tr><tr><td>117</td><td>2017</td></tr><tr><td>117</td><td>NULL</td></tr><tr><td>118</td><td>2016</td></tr><tr><td>118</td><td>2017</td></tr><tr><td>118</td><td>NULL</td></tr><tr><td>119</td><td>2016</td></tr><tr><td>119</td><td>2017</td></tr><tr><td>119</td><td>NULL</td></tr><tr><td>120</td><td>2016</td></tr><tr><td>120</td><td>2017</td></tr><tr><td>120</td><td>NULL</td></tr><tr><td>121</td><td>2016</td></tr><tr><td>121</td><td>NULL</td></tr><tr><td>122</td><td>2016</td></tr><tr><td>122</td><td>2017</td></tr><tr><td>122</td><td>NULL</td></tr><tr><td>123</td><td>2016</td></tr><tr><td>123</td><td>NULL</td></tr><tr><td>124</td><td>2016</td></tr><tr><td>124</td><td>2017</td></tr><tr><td>124</td><td>NULL</td></tr><tr><td>125</td><td>2016</td></tr><tr><td>125</td><td>NULL</td></tr><tr><td>126</td><td>2016</td></tr><tr><td>126</td><td>2017</td></tr><tr><td>126</td><td>NULL</td></tr><tr><td>127</td><td>2016</td></tr><tr><td>127</td><td>2017</td></tr><tr><td>127</td><td>NULL</td></tr><tr><td>128</td><td>2016</td></tr><tr><td>128</td><td>2017</td></tr><tr><td>128</td><td>NULL</td></tr><tr><td>129</td><td>2016</td></tr><tr><td>129</td><td>2017</td></tr><tr><td>129</td><td>NULL</td></tr><tr><td>130</td><td>2016</td></tr><tr><td>130</td><td>2017</td></tr><tr><td>130</td><td>NULL</td></tr><tr><td>131</td><td>2016</td></tr><tr><td>131</td><td>2017</td></tr><tr><td>131</td><td>NULL</td></tr><tr><td>132</td><td>2016</td></tr><tr><td>132</td><td>2017</td></tr><tr><td>132</td><td>NULL</td></tr><tr><td>133</td><td>2016</td></tr><tr><td>133</td><td>2017</td></tr><tr><td>133</td><td>NULL</td></tr><tr><td>134</td><td>2016</td></tr><tr><td>134</td><td>2017</td></tr><tr><td>134</td><td>NULL</td></tr><tr><td>135</td><td>2016</td></tr><tr><td>135</td><td>NULL</td></tr><tr><td>136</td><td>2016</td></tr><tr><td>136</td><td>NULL</td></tr><tr><td>137</td><td>2016</td></tr><tr><td>137</td><td>NULL</td></tr><tr><td>138</td><td>2016</td></tr><tr><td>138</td><td>NULL</td></tr><tr><td>139</td><td>2016</td></tr><tr><td>139</td><td>2017</td></tr><tr><td>139</td><td>NULL</td></tr><tr><td>140</td><td>2016</td></tr><tr><td>140</td><td>NULL</td></tr><tr><td>141</td><td>2016</td></tr><tr><td>141</td><td>NULL</td></tr><tr><td>142</td><td>2016</td></tr><tr><td>142</td><td>2017</td></tr><tr><td>142</td><td>NULL</td></tr><tr><td>143</td><td>2016</td></tr><tr><td>143</td><td>2017</td></tr><tr><td>143</td><td>NULL</td></tr><tr><td>144</td><td>2016</td></tr><tr><td>144</td><td>2017</td></tr><tr><td>144</td><td>NULL</td></tr><tr><td>145</td><td>2016</td></tr><tr><td>145</td><td>2017</td></tr><tr><td>145</td><td>NULL</td></tr><tr><td>146</td><td>2016</td></tr><tr><td>146</td><td>2017</td></tr><tr><td>146</td><td>NULL</td></tr><tr><td>147</td><td>2016</td></tr><tr><td>147</td><td>NULL</td></tr><tr><td>148</td><td>2016</td></tr><tr><td>148</td><td>2017</td></tr><tr><td>148</td><td>NULL</td></tr><tr><td>149</td><td>2016</td></tr><tr><td>149</td><td>2017</td></tr><tr><td>149</td><td>NULL</td></tr><tr><td>150</td><td>2016</td></tr><tr><td>150</td><td>2017</td></tr><tr><td>150</td><td>NULL</td></tr><tr><td>151</td><td>2016</td></tr><tr><td>151</td><td>NULL</td></tr><tr><td>152</td><td>2016</td></tr><tr><td>152</td><td>2017</td></tr><tr><td>152</td><td>NULL</td></tr><tr><td>153</td><td>2016</td></tr><tr><td>153</td><td>2017</td></tr><tr><td>153</td><td>NULL</td></tr><tr><td>154</td><td>2016</td></tr><tr><td>154</td><td>2017</td></tr><tr><td>154</td><td>NULL</td></tr><tr><td>155</td><td>2016</td></tr><tr><td>155</td><td>2017</td></tr><tr><td>155</td><td>NULL</td></tr><tr><td>156</td><td>2016</td></tr><tr><td>156</td><td>2017</td></tr><tr><td>156</td><td>NULL</td></tr><tr><td>157</td><td>2016</td></tr><tr><td>157</td><td>2017</td></tr><tr><td>157</td><td>NULL</td></tr><tr><td>158</td><td>2016</td></tr><tr><td>158</td><td>NULL</td></tr><tr><td>160</td><td>2016</td></tr><tr><td>160</td><td>2017</td></tr><tr><td>160</td><td>NULL</td></tr><tr><td>161</td><td>2016</td></tr><tr><td>161</td><td>2017</td></tr><tr><td>161</td><td>NULL</td></tr><tr><td>162</td><td>2016</td></tr><tr><td>162</td><td>NULL</td></tr><tr><td>163</td><td>2016</td></tr><tr><td>163</td><td>2017</td></tr><tr><td>163</td><td>NULL</td></tr><tr><td>164</td><td>2016</td></tr><tr><td>164</td><td>NULL</td></tr><tr><td>165</td><td>2016</td></tr><tr><td>165</td><td>NULL</td></tr><tr><td>166</td><td>2016</td></tr><tr><td>166</td><td>2017</td></tr><tr><td>166</td><td>NULL</td></tr><tr><td>167</td><td>2016</td></tr><tr><td>167</td><td>2017</td></tr><tr><td>167</td><td>NULL</td></tr><tr><td>168</td><td>2016</td></tr><tr><td>168</td><td>NULL</td></tr><tr><td>169</td><td>2016</td></tr><tr><td>169</td><td>2017</td></tr><tr><td>169</td><td>NULL</td></tr><tr><td>170</td><td>2016</td></tr><tr><td>170</td><td>NULL</td></tr><tr><td>171</td><td>2016</td></tr><tr><td>171</td><td>2017</td></tr><tr><td>171</td><td>NULL</td></tr><tr><td>172</td><td>2016</td></tr><tr><td>172</td><td>2017</td></tr><tr><td>172</td><td>NULL</td></tr><tr><td>173</td><td>2016</td></tr><tr><td>173</td><td>2017</td></tr><tr><td>173</td><td>NULL</td></tr><tr><td>174</td><td>2016</td></tr><tr><td>174</td><td>NULL</td></tr><tr><td>175</td><td>2016</td></tr><tr><td>175</td><td>NULL</td></tr><tr><td>176</td><td>2016</td></tr><tr><td>176</td><td>2017</td></tr><tr><td>176</td><td>NULL</td></tr><tr><td>177</td><td>2016</td></tr><tr><td>177</td><td>2017</td></tr><tr><td>177</td><td>NULL</td></tr><tr><td>178</td><td>2016</td></tr><tr><td>178</td><td>NULL</td></tr><tr><td>179</td><td>2016</td></tr><tr><td>179</td><td>2017</td></tr><tr><td>179</td><td>NULL</td></tr><tr><td>180</td><td>2016</td></tr><tr><td>180</td><td>2017</td></tr><tr><td>180</td><td>NULL</td></tr><tr><td>181</td><td>2016</td></tr><tr><td>181</td><td>NULL</td></tr><tr><td>182</td><td>2016</td></tr><tr><td>182</td><td>2017</td></tr><tr><td>182</td><td>NULL</td></tr><tr><td>183</td><td>2016</td></tr><tr><td>183</td><td>2017</td></tr><tr><td>183</td><td>NULL</td></tr><tr><td>184</td><td>2016</td></tr><tr><td>184</td><td>NULL</td></tr><tr><td>185</td><td>2016</td></tr><tr><td>185</td><td>2017</td></tr><tr><td>185</td><td>NULL</td></tr><tr><td>186</td><td>2016</td></tr><tr><td>186</td><td>2017</td></tr><tr><td>186</td><td>NULL</td></tr><tr><td>187</td><td>2016</td></tr><tr><td>187</td><td>NULL</td></tr><tr><td>188</td><td>2016</td></tr><tr><td>188</td><td>NULL</td></tr><tr><td>189</td><td>2016</td></tr><tr><td>189</td><td>2017</td></tr><tr><td>189</td><td>NULL</td></tr><tr><td>190</td><td>2016</td></tr><tr><td>190</td><td>2017</td></tr><tr><td>190</td><td>NULL</td></tr><tr><td>191</td><td>2016</td></tr><tr><td>191</td><td>2017</td></tr><tr><td>191</td><td>NULL</td></tr><tr><td>192</td><td>2016</td></tr><tr><td>192</td><td>NULL</td></tr><tr><td>193</td><td>2016</td></tr><tr><td>193</td><td>NULL</td></tr><tr><td>194</td><td>2016</td></tr><tr><td>194</td><td>NULL</td></tr><tr><td>195</td><td>2016</td></tr><tr><td>195</td><td>2017</td></tr><tr><td>195</td><td>NULL</td></tr><tr><td>196</td><td>2016</td></tr><tr><td>196</td><td>NULL</td></tr><tr><td>197</td><td>2016</td></tr><tr><td>197</td><td>NULL</td></tr><tr><td>198</td><td>2016</td></tr><tr><td>198</td><td>2017</td></tr><tr><td>198</td><td>NULL</td></tr><tr><td>NULL</td><td>NULL</td></tr></table>"
                    },
                    "metadata": {}
                }
            ],
            "execution_count": 2
        },
        {
            "cell_type": "markdown",
            "source": [
                "Készítsük listát, amely a szobák azonosítóit és a hozzájuk tartozó foglalások azonosítóját és időtartalmát (napokban) jeleníti meg!\n",
                "\n",
                "- Egy új oszlopban jelenítsük meg az adott szoba időben előző foglalásának időtartamát is!\n",
                "- Ha nincs előző, akkor 0 jelenjen meg"
            ],
            "metadata": {
                "azdata_cell_guid": "701b2aba-f905-44e9-a5ca-338c0efe7e94"
            },
            "attachments": {}
        },
        {
            "cell_type": "code",
            "source": [
                "SELECT SZOBA_FK, FOGLALAS_PK, DATEDIFF(day, METTOL, MEDDIG), LAG(METTOL,1,0) OVER(PARTITION BY FOGLALAS_PK ORDER BY METTOL)\r\n",
                "FROM Foglalas"
            ],
            "metadata": {
                "azdata_cell_guid": "e8c3bba1-5aad-4cb9-b6b6-93ecd821b78c",
                "language": "sql"
            },
            "outputs": [
                {
                    "output_type": "error",
                    "evalue": "Msg 206, Level 16, State 2, Line 1\r\nOperand type clash: int is incompatible with date",
                    "ename": "",
                    "traceback": []
                },
                {
                    "output_type": "display_data",
                    "data": {
                        "text/html": "Total execution time: 00:00:00.001"
                    },
                    "metadata": {}
                }
            ],
            "execution_count": 14
        },
        {
            "cell_type": "markdown",
            "source": [
                "Kérdezzük le az átlagosnál kevesebb főre történt foglalások adatait!\n",
                "\n",
                "a. Egy új oszlopban jelenjen meg az ügyfél neve is!\n",
                "\n",
                "b. Egy másik új oszlop mutassa meg, hogy az ügyfél előző három foglalása átlagosan hány főre történt! Az oszlop neve legyen 'Előző három foglalás átlaga'\n",
                "\n",
                "c. A listában azon vendégek is jelenjenek meg, akik még nem foglaltak!"
            ],
            "metadata": {
                "azdata_cell_guid": "7aa0d19d-6501-449e-98a4-97091a0da9c6"
            },
            "attachments": {}
        },
        {
            "cell_type": "code",
            "source": [
                "SELECT *, v.NEV AS 'Ügyfél neve', \r\n",
                "AVG(FELNOTT_SZAM+GYERMEK_SZAM) OVER(PARTITION BY UGYFEL_FK ORDER BY FOGLALAS_PK ROWS BETWEEN 3 PRECEDING AND 1 PRECEDING) AS 'Előző három foglalás átlaga'\r\n",
                "\r\n",
                "FROM Foglalas f JOIN Vendeg v ON f.UGYFEL_FK = v.USERNEV\r\n",
                "\r\n",
                "WHERE (f.FELNOTT_SZAM + f.GYERMEK_SZAM) < \r\n",
                "(\r\n",
                "    SELECT AVG(FELNOTT_SZAM + GYERMEK_SZAM)\r\n",
                "    FROM Foglalas\r\n",
                ")"
            ],
            "metadata": {
                "azdata_cell_guid": "67cc91a9-3e8e-4105-8624-c21d0f121ba5",
                "language": "sql"
            },
            "outputs": [
                {
                    "output_type": "display_data",
                    "data": {
                        "text/html": "(147 rows affected)"
                    },
                    "metadata": {}
                },
                {
                    "output_type": "display_data",
                    "data": {
                        "text/html": "Total execution time: 00:00:00.012"
                    },
                    "metadata": {}
                },
                {
                    "output_type": "execute_result",
                    "metadata": {},
                    "execution_count": 6,
                    "data": {
                        "application/vnd.dataresource+json": {
                            "schema": {
                                "fields": [
                                    {
                                        "name": "FOGLALAS_PK"
                                    },
                                    {
                                        "name": "UGYFEL_FK"
                                    },
                                    {
                                        "name": "SZOBA_FK"
                                    },
                                    {
                                        "name": "METTOL"
                                    },
                                    {
                                        "name": "MEDDIG"
                                    },
                                    {
                                        "name": "FELNOTT_SZAM"
                                    },
                                    {
                                        "name": "GYERMEK_SZAM"
                                    },
                                    {
                                        "name": "USERNEV"
                                    },
                                    {
                                        "name": "NEV"
                                    },
                                    {
                                        "name": "EMAIL"
                                    },
                                    {
                                        "name": "SZAML_CIM"
                                    },
                                    {
                                        "name": "SZUL_DAT"
                                    },
                                    {
                                        "name": "Ügyfél neve"
                                    },
                                    {
                                        "name": "Előző három foglalás átlaga"
                                    }
                                ]
                            },
                            "data": [
                                {
                                    "FOGLALAS_PK": "803",
                                    "UGYFEL_FK": "adam1",
                                    "SZOBA_FK": "1",
                                    "METTOL": "2016-08-20",
                                    "MEDDIG": "2016-08-24",
                                    "FELNOTT_SZAM": "1",
                                    "GYERMEK_SZAM": "0",
                                    "USERNEV": "adam1",
                                    "NEV": "Kiss Ádám",
                                    "EMAIL": "ádám.kiss@mail.hu",
                                    "SZAML_CIM": "5630 Békés Szolnoki út 8.",
                                    "SZUL_DAT": "1991-12-28",
                                    "Ügyfél neve": "Kiss Ádám",
                                    "Előző három foglalás átlaga": "NULL"
                                },
                                {
                                    "FOGLALAS_PK": "1504",
                                    "UGYFEL_FK": "adam3",
                                    "SZOBA_FK": "57",
                                    "METTOL": "2017-02-06",
                                    "MEDDIG": "2017-02-10",
                                    "FELNOTT_SZAM": "1",
                                    "GYERMEK_SZAM": "0",
                                    "USERNEV": "adam3",
                                    "NEV": "Barkóci Ádám",
                                    "EMAIL": "adam3@gmail.com",
                                    "SZAML_CIM": "3910 Tokaj Dózsa György utca 37.",
                                    "SZUL_DAT": "1970-06-07",
                                    "Ügyfél neve": "Barkóci Ádám",
                                    "Előző három foglalás átlaga": "NULL"
                                },
                                {
                                    "FOGLALAS_PK": "857",
                                    "UGYFEL_FK": "agnes",
                                    "SZOBA_FK": "165",
                                    "METTOL": "2016-05-25",
                                    "MEDDIG": "2016-05-30",
                                    "FELNOTT_SZAM": "1",
                                    "GYERMEK_SZAM": "0",
                                    "USERNEV": "agnes",
                                    "NEV": "Lengyel Ágnes",
                                    "EMAIL": "agnes@gmail.com",
                                    "SZAML_CIM": "5200 Törökszentmiklós Deák Ferenc út 5.",
                                    "SZUL_DAT": "1979-12-10",
                                    "Ügyfél neve": "Lengyel Ágnes",
                                    "Előző három foglalás átlaga": "NULL"
                                },
                                {
                                    "FOGLALAS_PK": "755",
                                    "UGYFEL_FK": "agnes3",
                                    "SZOBA_FK": "20",
                                    "METTOL": "2016-08-04",
                                    "MEDDIG": "2016-08-10",
                                    "FELNOTT_SZAM": "1",
                                    "GYERMEK_SZAM": "0",
                                    "USERNEV": "agnes3",
                                    "NEV": "Hartyánszky Ágnes",
                                    "EMAIL": "agnes3@gmail.com",
                                    "SZAML_CIM": "6430 Bácsalmás Posta köz 2.",
                                    "SZUL_DAT": "1967-04-11",
                                    "Ügyfél neve": "Hartyánszky Ágnes",
                                    "Előző három foglalás átlaga": "NULL"
                                },
                                {
                                    "FOGLALAS_PK": "980",
                                    "UGYFEL_FK": "AGNESH",
                                    "SZOBA_FK": "143",
                                    "METTOL": "2016-06-23",
                                    "MEDDIG": "2016-06-26",
                                    "FELNOTT_SZAM": "1",
                                    "GYERMEK_SZAM": "0",
                                    "USERNEV": "AGNESH",
                                    "NEV": "Horváth Ágnes",
                                    "EMAIL": "AGNESH@gmail.com",
                                    "SZAML_CIM": "8200 Veszprém Rákóczi utca 21.",
                                    "SZUL_DAT": "1981-12-24",
                                    "Ügyfél neve": "Horváth Ágnes",
                                    "Előző három foglalás átlaga": "NULL"
                                },
                                {
                                    "FOGLALAS_PK": "1225",
                                    "UGYFEL_FK": "AGNESH",
                                    "SZOBA_FK": "69",
                                    "METTOL": "2016-10-30",
                                    "MEDDIG": "2016-11-04",
                                    "FELNOTT_SZAM": "1",
                                    "GYERMEK_SZAM": "0",
                                    "USERNEV": "AGNESH",
                                    "NEV": "Horváth Ágnes",
                                    "EMAIL": "AGNESH@gmail.com",
                                    "SZAML_CIM": "8200 Veszprém Rákóczi utca 21.",
                                    "SZUL_DAT": "1981-12-24",
                                    "Ügyfél neve": "Horváth Ágnes",
                                    "Előző három foglalás átlaga": "1"
                                },
                                {
                                    "FOGLALAS_PK": "705",
                                    "UGYFEL_FK": "akos",
                                    "SZOBA_FK": "37",
                                    "METTOL": "2016-07-22",
                                    "MEDDIG": "2016-07-26",
                                    "FELNOTT_SZAM": "1",
                                    "GYERMEK_SZAM": "0",
                                    "USERNEV": "akos",
                                    "NEV": "Bíró Ákos",
                                    "EMAIL": "ákos.bíró@mail.hu",
                                    "SZAML_CIM": "9023 Győr Kossuth Lajos utca 47/b.",
                                    "SZUL_DAT": "1982-04-24",
                                    "Ügyfél neve": "Bíró Ákos",
                                    "Előző három foglalás átlaga": "NULL"
                                },
                                {
                                    "FOGLALAS_PK": "1034",
                                    "UGYFEL_FK": "akos",
                                    "SZOBA_FK": "127",
                                    "METTOL": "2016-09-06",
                                    "MEDDIG": "2016-09-12",
                                    "FELNOTT_SZAM": "1",
                                    "GYERMEK_SZAM": "0",
                                    "USERNEV": "akos",
                                    "NEV": "Bíró Ákos",
                                    "EMAIL": "ákos.bíró@mail.hu",
                                    "SZAML_CIM": "9023 Győr Kossuth Lajos utca 47/b.",
                                    "SZUL_DAT": "1982-04-24",
                                    "Ügyfél neve": "Bíró Ákos",
                                    "Előző három foglalás átlaga": "1"
                                },
                                {
                                    "FOGLALAS_PK": "651",
                                    "UGYFEL_FK": "aladar",
                                    "SZOBA_FK": "4",
                                    "METTOL": "2016-05-17",
                                    "MEDDIG": "2016-05-24",
                                    "FELNOTT_SZAM": "1",
                                    "GYERMEK_SZAM": "0",
                                    "USERNEV": "aladar",
                                    "NEV": "Dunai Aladár",
                                    "EMAIL": "aladár.dunai@mail.hu",
                                    "SZAML_CIM": "5931 Nagyszénás Árpád utca 23.",
                                    "SZUL_DAT": "1980-11-01",
                                    "Ügyfél neve": "Dunai Aladár",
                                    "Előző három foglalás átlaga": "NULL"
                                },
                                {
                                    "FOGLALAS_PK": "1079",
                                    "UGYFEL_FK": "aladar",
                                    "SZOBA_FK": "86",
                                    "METTOL": "2016-09-24",
                                    "MEDDIG": "2016-09-28",
                                    "FELNOTT_SZAM": "1",
                                    "GYERMEK_SZAM": "0",
                                    "USERNEV": "aladar",
                                    "NEV": "Dunai Aladár",
                                    "EMAIL": "aladár.dunai@mail.hu",
                                    "SZAML_CIM": "5931 Nagyszénás Árpád utca 23.",
                                    "SZUL_DAT": "1980-11-01",
                                    "Ügyfél neve": "Dunai Aladár",
                                    "Előző három foglalás átlaga": "1"
                                },
                                {
                                    "FOGLALAS_PK": "1436",
                                    "UGYFEL_FK": "alexandra",
                                    "SZOBA_FK": "35",
                                    "METTOL": "2017-01-13",
                                    "MEDDIG": "2017-01-14",
                                    "FELNOTT_SZAM": "1",
                                    "GYERMEK_SZAM": "0",
                                    "USERNEV": "alexandra",
                                    "NEV": "Bagóczki Alexandra",
                                    "EMAIL": "alexandra.bagóczki@mail.hu",
                                    "SZAML_CIM": "2381 Táborfalva Petőfi utca 1/2.",
                                    "SZUL_DAT": "1992-03-25",
                                    "Ügyfél neve": "Bagóczki Alexandra",
                                    "Előző három foglalás átlaga": "NULL"
                                },
                                {
                                    "FOGLALAS_PK": "955",
                                    "UGYFEL_FK": "andi",
                                    "SZOBA_FK": "47",
                                    "METTOL": "2016-06-13",
                                    "MEDDIG": "2016-06-14",
                                    "FELNOTT_SZAM": "1",
                                    "GYERMEK_SZAM": "0",
                                    "USERNEV": "andi",
                                    "NEV": "Maródi Andrea",
                                    "EMAIL": "andrea.maródi@mail.hu",
                                    "SZAML_CIM": "5465 Cserkeszőlő Árpád utca 4.",
                                    "SZUL_DAT": "1968-05-07",
                                    "Ügyfél neve": "Maródi Andrea",
                                    "Előző három foglalás átlaga": "NULL"
                                },
                                {
                                    "FOGLALAS_PK": "884",
                                    "UGYFEL_FK": "andras2",
                                    "SZOBA_FK": "98",
                                    "METTOL": "2016-05-30",
                                    "MEDDIG": "2016-06-04",
                                    "FELNOTT_SZAM": "1",
                                    "GYERMEK_SZAM": "0",
                                    "USERNEV": "andras2",
                                    "NEV": "Tóth András",
                                    "EMAIL": "andrás.tóth@mail.hu",
                                    "SZAML_CIM": "4071 Egyek Petőfi utca 30.",
                                    "SZUL_DAT": "1997-10-31",
                                    "Ügyfél neve": "Tóth András",
                                    "Előző három foglalás átlaga": "NULL"
                                },
                                {
                                    "FOGLALAS_PK": "697",
                                    "UGYFEL_FK": "andras21",
                                    "SZOBA_FK": "12",
                                    "METTOL": "2016-07-20",
                                    "MEDDIG": "2016-07-22",
                                    "FELNOTT_SZAM": "1",
                                    "GYERMEK_SZAM": "0",
                                    "USERNEV": "andras21",
                                    "NEV": "Molnár András",
                                    "EMAIL": "andrás.molnár@mail.hu",
                                    "SZAML_CIM": "7900 Szigetvár Rákóczi utca 67.",
                                    "SZUL_DAT": "1977-11-16",
                                    "Ügyfél neve": "Molnár András",
                                    "Előző három foglalás átlaga": "NULL"
                                },
                                {
                                    "FOGLALAS_PK": "880",
                                    "UGYFEL_FK": "andras3",
                                    "SZOBA_FK": "184",
                                    "METTOL": "2016-05-30",
                                    "MEDDIG": "2016-06-03",
                                    "FELNOTT_SZAM": "1",
                                    "GYERMEK_SZAM": "0",
                                    "USERNEV": "andras3",
                                    "NEV": "Vígh András",
                                    "EMAIL": "andrás.vígh@mail.hu",
                                    "SZAML_CIM": "1118 Budapest Arany János utca 1.",
                                    "SZUL_DAT": "1971-04-02",
                                    "Ügyfél neve": "Vígh András",
                                    "Előző három foglalás átlaga": "NULL"
                                },
                                {
                                    "FOGLALAS_PK": "949",
                                    "UGYFEL_FK": "andras3",
                                    "SZOBA_FK": "1",
                                    "METTOL": "2016-06-10",
                                    "MEDDIG": "2016-06-11",
                                    "FELNOTT_SZAM": "1",
                                    "GYERMEK_SZAM": "0",
                                    "USERNEV": "andras3",
                                    "NEV": "Vígh András",
                                    "EMAIL": "andrás.vígh@mail.hu",
                                    "SZAML_CIM": "1118 Budapest Arany János utca 1.",
                                    "SZUL_DAT": "1971-04-02",
                                    "Ügyfél neve": "Vígh András",
                                    "Előző három foglalás átlaga": "1"
                                },
                                {
                                    "FOGLALAS_PK": "799",
                                    "UGYFEL_FK": "andras41",
                                    "SZOBA_FK": "175",
                                    "METTOL": "2016-08-19",
                                    "MEDDIG": "2016-08-23",
                                    "FELNOTT_SZAM": "1",
                                    "GYERMEK_SZAM": "0",
                                    "USERNEV": "andras41",
                                    "NEV": "Komjáti András",
                                    "EMAIL": "andras41@gmail.com",
                                    "SZAML_CIM": "5065 Nagykörű Kossuth út 24.",
                                    "SZUL_DAT": "1997-10-25",
                                    "Ügyfél neve": "Komjáti András",
                                    "Előző három foglalás átlaga": "NULL"
                                },
                                {
                                    "FOGLALAS_PK": "1074",
                                    "UGYFEL_FK": "andras41",
                                    "SZOBA_FK": "195",
                                    "METTOL": "2016-09-22",
                                    "MEDDIG": "2016-09-29",
                                    "FELNOTT_SZAM": "1",
                                    "GYERMEK_SZAM": "0",
                                    "USERNEV": "andras41",
                                    "NEV": "Komjáti András",
                                    "EMAIL": "andras41@gmail.com",
                                    "SZAML_CIM": "5065 Nagykörű Kossuth út 24.",
                                    "SZUL_DAT": "1997-10-25",
                                    "Ügyfél neve": "Komjáti András",
                                    "Előző három foglalás átlaga": "1"
                                },
                                {
                                    "FOGLALAS_PK": "1308",
                                    "UGYFEL_FK": "andras41",
                                    "SZOBA_FK": "182",
                                    "METTOL": "2016-11-23",
                                    "MEDDIG": "2016-11-24",
                                    "FELNOTT_SZAM": "1",
                                    "GYERMEK_SZAM": "0",
                                    "USERNEV": "andras41",
                                    "NEV": "Komjáti András",
                                    "EMAIL": "andras41@gmail.com",
                                    "SZAML_CIM": "5065 Nagykörű Kossuth út 24.",
                                    "SZUL_DAT": "1997-10-25",
                                    "Ügyfél neve": "Komjáti András",
                                    "Előző három foglalás átlaga": "1"
                                },
                                {
                                    "FOGLALAS_PK": "600",
                                    "UGYFEL_FK": "ANDRASE",
                                    "SZOBA_FK": "190",
                                    "METTOL": "2016-04-24",
                                    "MEDDIG": "2016-05-01",
                                    "FELNOTT_SZAM": "1",
                                    "GYERMEK_SZAM": "0",
                                    "USERNEV": "ANDRASE",
                                    "NEV": "Erdei András",
                                    "EMAIL": "ANDRASE@gmail.com",
                                    "SZAML_CIM": "5071 Besenyszög Szolnoki út 8.",
                                    "SZUL_DAT": "1997-05-29",
                                    "Ügyfél neve": "Erdei András",
                                    "Előző három foglalás átlaga": "NULL"
                                },
                                {
                                    "FOGLALAS_PK": "860",
                                    "UGYFEL_FK": "andrea4",
                                    "SZOBA_FK": "70",
                                    "METTOL": "2016-05-27",
                                    "MEDDIG": "2016-05-29",
                                    "FELNOTT_SZAM": "1",
                                    "GYERMEK_SZAM": "0",
                                    "USERNEV": "andrea4",
                                    "NEV": "Neizer Andrea",
                                    "EMAIL": "andrea4@gmail.com",
                                    "SZAML_CIM": "1124 Budapest Kiss u. 8.",
                                    "SZUL_DAT": "1981-05-17",
                                    "Ügyfél neve": "Neizer Andrea",
                                    "Előző három foglalás átlaga": "NULL"
                                },
                                {
                                    "FOGLALAS_PK": "567",
                                    "UGYFEL_FK": "anett3",
                                    "SZOBA_FK": "170",
                                    "METTOL": "2016-04-10",
                                    "MEDDIG": "2016-04-17",
                                    "FELNOTT_SZAM": "1",
                                    "GYERMEK_SZAM": "0",
                                    "USERNEV": "anett3",
                                    "NEV": "Pivarcsi Anett",
                                    "EMAIL": "anett.pivarcsi@mail.hu",
                                    "SZAML_CIM": "1149 Budapest Fő út 60.",
                                    "SZUL_DAT": "1967-01-03",
                                    "Ügyfél neve": "Pivarcsi Anett",
                                    "Előző három foglalás átlaga": "NULL"
                                },
                                {
                                    "FOGLALAS_PK": "1159",
                                    "UGYFEL_FK": "anett3",
                                    "SZOBA_FK": "73",
                                    "METTOL": "2016-10-16",
                                    "MEDDIG": "2016-10-21",
                                    "FELNOTT_SZAM": "1",
                                    "GYERMEK_SZAM": "0",
                                    "USERNEV": "anett3",
                                    "NEV": "Pivarcsi Anett",
                                    "EMAIL": "anett.pivarcsi@mail.hu",
                                    "SZAML_CIM": "1149 Budapest Fő út 60.",
                                    "SZUL_DAT": "1967-01-03",
                                    "Ügyfél neve": "Pivarcsi Anett",
                                    "Előző három foglalás átlaga": "1"
                                },
                                {
                                    "FOGLALAS_PK": "1001",
                                    "UGYFEL_FK": "aniko4",
                                    "SZOBA_FK": "4",
                                    "METTOL": "2016-07-02",
                                    "MEDDIG": "2016-07-09",
                                    "FELNOTT_SZAM": "1",
                                    "GYERMEK_SZAM": "0",
                                    "USERNEV": "aniko4",
                                    "NEV": "Böröcz Anikó",
                                    "EMAIL": "aniko4@gmail.com",
                                    "SZAML_CIM": "2484 Agárd Petőfi Sándor tér 1.",
                                    "SZUL_DAT": "1978-03-26",
                                    "Ügyfél neve": "Böröcz Anikó",
                                    "Előző három foglalás átlaga": "NULL"
                                },
                                {
                                    "FOGLALAS_PK": "965",
                                    "UGYFEL_FK": "ANIKOS",
                                    "SZOBA_FK": "5",
                                    "METTOL": "2016-06-16",
                                    "MEDDIG": "2016-06-23",
                                    "FELNOTT_SZAM": "1",
                                    "GYERMEK_SZAM": "0",
                                    "USERNEV": "ANIKOS",
                                    "NEV": "Simon Anikó",
                                    "EMAIL": "ANIKOS@gmail.com",
                                    "SZAML_CIM": "5137 Jászkisér Bécsi utca 82.",
                                    "SZUL_DAT": "1988-12-14",
                                    "Ügyfél neve": "Simon Anikó",
                                    "Előző három foglalás átlaga": "NULL"
                                },
                                {
                                    "FOGLALAS_PK": "684",
                                    "UGYFEL_FK": "ANNAMARIAR",
                                    "SZOBA_FK": "184",
                                    "METTOL": "2016-07-18",
                                    "MEDDIG": "2016-07-21",
                                    "FELNOTT_SZAM": "1",
                                    "GYERMEK_SZAM": "0",
                                    "USERNEV": "ANNAMARIAR",
                                    "NEV": "Regős Annamária",
                                    "EMAIL": "ANNAMARIAR@gmail.com",
                                    "SZAML_CIM": "8283 Káptalantóti Petőfi Sándor tér 1.",
                                    "SZUL_DAT": "1977-09-26",
                                    "Ügyfél neve": "Regős Annamária",
                                    "Előző három foglalás átlaga": "NULL"
                                },
                                {
                                    "FOGLALAS_PK": "1056",
                                    "UGYFEL_FK": "ARPADH",
                                    "SZOBA_FK": "47",
                                    "METTOL": "2016-09-16",
                                    "MEDDIG": "2016-09-23",
                                    "FELNOTT_SZAM": "1",
                                    "GYERMEK_SZAM": "0",
                                    "USERNEV": "ARPADH",
                                    "NEV": "Horváth Árpád",
                                    "EMAIL": "árpád.horváth@mail.hu",
                                    "SZAML_CIM": "7349 Szászvár Dózsa György u. 1.",
                                    "SZUL_DAT": "1990-05-18",
                                    "Ügyfél neve": "Horváth Árpád",
                                    "Előző három foglalás átlaga": "NULL"
                                },
                                {
                                    "FOGLALAS_PK": "1066",
                                    "UGYFEL_FK": "ARPADH",
                                    "SZOBA_FK": "49",
                                    "METTOL": "2016-09-18",
                                    "MEDDIG": "2016-09-25",
                                    "FELNOTT_SZAM": "1",
                                    "GYERMEK_SZAM": "0",
                                    "USERNEV": "ARPADH",
                                    "NEV": "Horváth Árpád",
                                    "EMAIL": "árpád.horváth@mail.hu",
                                    "SZAML_CIM": "7349 Szászvár Dózsa György u. 1.",
                                    "SZUL_DAT": "1990-05-18",
                                    "Ügyfél neve": "Horváth Árpád",
                                    "Előző három foglalás átlaga": "1"
                                },
                                {
                                    "FOGLALAS_PK": "1342",
                                    "UGYFEL_FK": "ARPADH",
                                    "SZOBA_FK": "170",
                                    "METTOL": "2016-12-04",
                                    "MEDDIG": "2016-12-10",
                                    "FELNOTT_SZAM": "1",
                                    "GYERMEK_SZAM": "0",
                                    "USERNEV": "ARPADH",
                                    "NEV": "Horváth Árpád",
                                    "EMAIL": "árpád.horváth@mail.hu",
                                    "SZAML_CIM": "7349 Szászvár Dózsa György u. 1.",
                                    "SZUL_DAT": "1990-05-18",
                                    "Ügyfél neve": "Horváth Árpád",
                                    "Előző három foglalás átlaga": "1"
                                },
                                {
                                    "FOGLALAS_PK": "1420",
                                    "UGYFEL_FK": "ARPADM",
                                    "SZOBA_FK": "198",
                                    "METTOL": "2017-01-05",
                                    "MEDDIG": "2017-01-10",
                                    "FELNOTT_SZAM": "1",
                                    "GYERMEK_SZAM": "0",
                                    "USERNEV": "ARPADM",
                                    "NEV": "Móricz Árpád",
                                    "EMAIL": "árpád.móricz@mail.hu",
                                    "SZAML_CIM": "3910 Tokaj Rákóczi utca 67.",
                                    "SZUL_DAT": "1986-04-20",
                                    "Ügyfél neve": "Móricz Árpád",
                                    "Előző három foglalás átlaga": "NULL"
                                },
                                {
                                    "FOGLALAS_PK": "1154",
                                    "UGYFEL_FK": "attila",
                                    "SZOBA_FK": "115",
                                    "METTOL": "2016-10-15",
                                    "MEDDIG": "2016-10-19",
                                    "FELNOTT_SZAM": "1",
                                    "GYERMEK_SZAM": "0",
                                    "USERNEV": "attila",
                                    "NEV": "Csóti Attila",
                                    "EMAIL": "attila@gmail.com",
                                    "SZAML_CIM": "3000 Hatvan Bajcsy-Zsilinszky utca 4.",
                                    "SZUL_DAT": "1979-12-25",
                                    "Ügyfél neve": "Csóti Attila",
                                    "Előző három foglalás átlaga": "NULL"
                                },
                                {
                                    "FOGLALAS_PK": "657",
                                    "UGYFEL_FK": "attila1",
                                    "SZOBA_FK": "137",
                                    "METTOL": "2016-05-20",
                                    "MEDDIG": "2016-05-26",
                                    "FELNOTT_SZAM": "1",
                                    "GYERMEK_SZAM": "0",
                                    "USERNEV": "attila1",
                                    "NEV": "Gulyás Attila",
                                    "EMAIL": "attila.gulyás@mail.hu",
                                    "SZAML_CIM": "3881 Abaújszántó Szolnoki út 8.",
                                    "SZUL_DAT": "1982-08-16",
                                    "Ügyfél neve": "Gulyás Attila",
                                    "Előző három foglalás átlaga": "NULL"
                                },
                                {
                                    "FOGLALAS_PK": "1578",
                                    "UGYFEL_FK": "balazs2",
                                    "SZOBA_FK": "148",
                                    "METTOL": "2017-02-27",
                                    "MEDDIG": "2017-03-06",
                                    "FELNOTT_SZAM": "1",
                                    "GYERMEK_SZAM": "0",
                                    "USERNEV": "balazs2",
                                    "NEV": "Szűcs Balázs",
                                    "EMAIL": "balázs.szűcs@mail.hu",
                                    "SZAML_CIM": "3170 Szécsény Szabadság utca 95.",
                                    "SZUL_DAT": "1984-10-31",
                                    "Ügyfél neve": "Szűcs Balázs",
                                    "Előző három foglalás átlaga": "NULL"
                                },
                                {
                                    "FOGLALAS_PK": "948",
                                    "UGYFEL_FK": "balint1",
                                    "SZOBA_FK": "19",
                                    "METTOL": "2016-06-10",
                                    "MEDDIG": "2016-06-12",
                                    "FELNOTT_SZAM": "1",
                                    "GYERMEK_SZAM": "0",
                                    "USERNEV": "balint1",
                                    "NEV": "Molnár Bálint",
                                    "EMAIL": "balint1@gmail.com",
                                    "SZAML_CIM": "9181 Kimle Fő út 169.",
                                    "SZUL_DAT": "1989-08-24",
                                    "Ügyfél neve": "Molnár Bálint",
                                    "Előző három foglalás átlaga": "NULL"
                                },
                                {
                                    "FOGLALAS_PK": "1057",
                                    "UGYFEL_FK": "balint1",
                                    "SZOBA_FK": "86",
                                    "METTOL": "2016-09-16",
                                    "MEDDIG": "2016-09-21",
                                    "FELNOTT_SZAM": "1",
                                    "GYERMEK_SZAM": "0",
                                    "USERNEV": "balint1",
                                    "NEV": "Molnár Bálint",
                                    "EMAIL": "balint1@gmail.com",
                                    "SZAML_CIM": "9181 Kimle Fő út 169.",
                                    "SZUL_DAT": "1989-08-24",
                                    "Ügyfél neve": "Molnár Bálint",
                                    "Előző három foglalás átlaga": "1"
                                },
                                {
                                    "FOGLALAS_PK": "702",
                                    "UGYFEL_FK": "balint2",
                                    "SZOBA_FK": "62",
                                    "METTOL": "2016-07-21",
                                    "MEDDIG": "2016-07-26",
                                    "FELNOTT_SZAM": "1",
                                    "GYERMEK_SZAM": "0",
                                    "USERNEV": "balint2",
                                    "NEV": "Vukasinovity Bálint",
                                    "EMAIL": "balint2@gmail.com",
                                    "SZAML_CIM": "2330 Dunaharaszti Béke utca 7.",
                                    "SZUL_DAT": "1997-09-03",
                                    "Ügyfél neve": "Vukasinovity Bálint",
                                    "Előző három foglalás átlaga": "NULL"
                                },
                                {
                                    "FOGLALAS_PK": "1005",
                                    "UGYFEL_FK": "beata4",
                                    "SZOBA_FK": "22",
                                    "METTOL": "2016-07-03",
                                    "MEDDIG": "2016-07-06",
                                    "FELNOTT_SZAM": "1",
                                    "GYERMEK_SZAM": "0",
                                    "USERNEV": "beata4",
                                    "NEV": "Bagi Beáta",
                                    "EMAIL": "beáta.bagi@mail.hu",
                                    "SZAML_CIM": "8477 Tüskevár Felszabadulás utca 32.",
                                    "SZUL_DAT": "1994-03-19",
                                    "Ügyfél neve": "Bagi Beáta",
                                    "Előző három foglalás átlaga": "NULL"
                                },
                                {
                                    "FOGLALAS_PK": "1112",
                                    "UGYFEL_FK": "beata4",
                                    "SZOBA_FK": "155",
                                    "METTOL": "2016-10-01",
                                    "MEDDIG": "2016-10-05",
                                    "FELNOTT_SZAM": "1",
                                    "GYERMEK_SZAM": "0",
                                    "USERNEV": "beata4",
                                    "NEV": "Bagi Beáta",
                                    "EMAIL": "beáta.bagi@mail.hu",
                                    "SZAML_CIM": "8477 Tüskevár Felszabadulás utca 32.",
                                    "SZUL_DAT": "1994-03-19",
                                    "Ügyfél neve": "Bagi Beáta",
                                    "Előző három foglalás átlaga": "1"
                                },
                                {
                                    "FOGLALAS_PK": "586",
                                    "UGYFEL_FK": "BEATRIXS",
                                    "SZOBA_FK": "107",
                                    "METTOL": "2016-04-18",
                                    "MEDDIG": "2016-04-24",
                                    "FELNOTT_SZAM": "1",
                                    "GYERMEK_SZAM": "0",
                                    "USERNEV": "BEATRIXS",
                                    "NEV": "Szekendi Beatrix",
                                    "EMAIL": "beatrix.szekendi@mail.hu",
                                    "SZAML_CIM": "4060 Balmazújváros Jászai tér 21.",
                                    "SZUL_DAT": "1981-04-06",
                                    "Ügyfél neve": "Szekendi Beatrix",
                                    "Előző három foglalás átlaga": "NULL"
                                },
                                {
                                    "FOGLALAS_PK": "1350",
                                    "UGYFEL_FK": "BELAF",
                                    "SZOBA_FK": "173",
                                    "METTOL": "2016-12-06",
                                    "MEDDIG": "2016-12-09",
                                    "FELNOTT_SZAM": "1",
                                    "GYERMEK_SZAM": "0",
                                    "USERNEV": "BELAF",
                                    "NEV": "Farkas Béla",
                                    "EMAIL": "BELAF@gmail.com",
                                    "SZAML_CIM": "5530 Vésztő Petőfi Sándor utca 3.",
                                    "SZUL_DAT": "1995-02-24",
                                    "Ügyfél neve": "Farkas Béla",
                                    "Előző három foglalás átlaga": "NULL"
                                },
                                {
                                    "FOGLALAS_PK": "872",
                                    "UGYFEL_FK": "bence",
                                    "SZOBA_FK": "28",
                                    "METTOL": "2016-05-29",
                                    "MEDDIG": "2016-06-03",
                                    "FELNOTT_SZAM": "1",
                                    "GYERMEK_SZAM": "0",
                                    "USERNEV": "bence",
                                    "NEV": "Győrffy Bence",
                                    "EMAIL": "bence@gmail.com",
                                    "SZAML_CIM": "6900 Makó Árpád utca 23.",
                                    "SZUL_DAT": "1987-07-09",
                                    "Ügyfél neve": "Győrffy Bence",
                                    "Előző három foglalás átlaga": "NULL"
                                },
                                {
                                    "FOGLALAS_PK": "1568",
                                    "UGYFEL_FK": "bernadett1",
                                    "SZOBA_FK": "29",
                                    "METTOL": "2017-02-24",
                                    "MEDDIG": "2017-03-03",
                                    "FELNOTT_SZAM": "1",
                                    "GYERMEK_SZAM": "0",
                                    "USERNEV": "bernadett1",
                                    "NEV": "Simon Bernadett",
                                    "EMAIL": "bernadett1@gmail.com",
                                    "SZAML_CIM": "2300 Ráckeve Fő utca 108.",
                                    "SZUL_DAT": "1984-10-13",
                                    "Ügyfél neve": "Simon Bernadett",
                                    "Előző három foglalás átlaga": "NULL"
                                },
                                {
                                    "FOGLALAS_PK": "1367",
                                    "UGYFEL_FK": "bernadett2",
                                    "SZOBA_FK": "80",
                                    "METTOL": "2016-12-17",
                                    "MEDDIG": "2016-12-20",
                                    "FELNOTT_SZAM": "1",
                                    "GYERMEK_SZAM": "0",
                                    "USERNEV": "bernadett2",
                                    "NEV": "Kovács Bernadett",
                                    "EMAIL": "bernadett.kovács@mail.hu",
                                    "SZAML_CIM": "4200 Hajdúszoboszló Fő út 122.",
                                    "SZUL_DAT": "1996-08-20",
                                    "Ügyfél neve": "Kovács Bernadett",
                                    "Előző három foglalás átlaga": "NULL"
                                },
                                {
                                    "FOGLALAS_PK": "974",
                                    "UGYFEL_FK": "bertalan",
                                    "SZOBA_FK": "169",
                                    "METTOL": "2016-06-20",
                                    "MEDDIG": "2016-06-21",
                                    "FELNOTT_SZAM": "1",
                                    "GYERMEK_SZAM": "0",
                                    "USERNEV": "bertalan",
                                    "NEV": "Csiger Bertalan",
                                    "EMAIL": "bertalan@gmail.com",
                                    "SZAML_CIM": "1192 Budapest Fő út 169.",
                                    "SZUL_DAT": "1977-10-15",
                                    "Ügyfél neve": "Csiger Bertalan",
                                    "Előző három foglalás átlaga": "NULL"
                                },
                                {
                                    "FOGLALAS_PK": "1469",
                                    "UGYFEL_FK": "brigitta",
                                    "SZOBA_FK": "13",
                                    "METTOL": "2017-01-23",
                                    "MEDDIG": "2017-01-25",
                                    "FELNOTT_SZAM": "1",
                                    "GYERMEK_SZAM": "0",
                                    "USERNEV": "brigitta",
                                    "NEV": "Székely Brigitta",
                                    "EMAIL": "brigitta.székely@mail.hu",
                                    "SZAML_CIM": "2462 Martonvásár Fő utca 47.",
                                    "SZUL_DAT": "1978-09-13",
                                    "Ügyfél neve": "Székely Brigitta",
                                    "Előző három foglalás átlaga": "NULL"
                                },
                                {
                                    "FOGLALAS_PK": "1102",
                                    "UGYFEL_FK": "dani",
                                    "SZOBA_FK": "108",
                                    "METTOL": "2016-10-01",
                                    "MEDDIG": "2016-10-02",
                                    "FELNOTT_SZAM": "1",
                                    "GYERMEK_SZAM": "0",
                                    "USERNEV": "dani",
                                    "NEV": "Vörös Dániel",
                                    "EMAIL": "daniel@gmail.com",
                                    "SZAML_CIM": "7150 Bonyhád Dózsa György u. 1.",
                                    "SZUL_DAT": "1986-10-14",
                                    "Ügyfél neve": "Vörös Dániel",
                                    "Előző három foglalás átlaga": "NULL"
                                },
                                {
                                    "FOGLALAS_PK": "1466",
                                    "UGYFEL_FK": "dani",
                                    "SZOBA_FK": "57",
                                    "METTOL": "2017-01-22",
                                    "MEDDIG": "2017-01-29",
                                    "FELNOTT_SZAM": "1",
                                    "GYERMEK_SZAM": "0",
                                    "USERNEV": "dani",
                                    "NEV": "Vörös Dániel",
                                    "EMAIL": "daniel@gmail.com",
                                    "SZAML_CIM": "7150 Bonyhád Dózsa György u. 1.",
                                    "SZUL_DAT": "1986-10-14",
                                    "Ügyfél neve": "Vörös Dániel",
                                    "Előző három foglalás átlaga": "1"
                                },
                                {
                                    "FOGLALAS_PK": "1430",
                                    "UGYFEL_FK": "daniel",
                                    "SZOBA_FK": "12",
                                    "METTOL": "2017-01-09",
                                    "MEDDIG": "2017-01-11",
                                    "FELNOTT_SZAM": "1",
                                    "GYERMEK_SZAM": "0",
                                    "USERNEV": "daniel",
                                    "NEV": "Rácz Dániel",
                                    "EMAIL": "dániel.rácz@mail.hu",
                                    "SZAML_CIM": "9181 Kimle Szabadság tér 9.",
                                    "SZUL_DAT": "1978-11-28",
                                    "Ügyfél neve": "Rácz Dániel",
                                    "Előző három foglalás átlaga": "NULL"
                                },
                                {
                                    "FOGLALAS_PK": "757",
                                    "UGYFEL_FK": "david",
                                    "SZOBA_FK": "88",
                                    "METTOL": "2016-08-05",
                                    "MEDDIG": "2016-08-12",
                                    "FELNOTT_SZAM": "1",
                                    "GYERMEK_SZAM": "0",
                                    "USERNEV": "david",
                                    "NEV": "Ambrus Dávid",
                                    "EMAIL": "david@gmail.com",
                                    "SZAML_CIM": "1149 Budapest Fő út 18.",
                                    "SZUL_DAT": "1974-02-11",
                                    "Ügyfél neve": "Ambrus Dávid",
                                    "Előző három foglalás átlaga": "NULL"
                                },
                                {
                                    "FOGLALAS_PK": "1250",
                                    "UGYFEL_FK": "emese",
                                    "SZOBA_FK": "107",
                                    "METTOL": "2016-11-05",
                                    "MEDDIG": "2016-11-09",
                                    "FELNOTT_SZAM": "1",
                                    "GYERMEK_SZAM": "0",
                                    "USERNEV": "emese",
                                    "NEV": "Kuruc Emese",
                                    "EMAIL": "emese.kuruc@mail.hu",
                                    "SZAML_CIM": "6700 Szeged Rákóczi utca 67.",
                                    "SZUL_DAT": "1989-08-10",
                                    "Ügyfél neve": "Kuruc Emese",
                                    "Előző három foglalás átlaga": "NULL"
                                },
                                {
                                    "FOGLALAS_PK": "1017",
                                    "UGYFEL_FK": "eszter2",
                                    "SZOBA_FK": "190",
                                    "METTOL": "2016-07-08",
                                    "MEDDIG": "2016-07-09",
                                    "FELNOTT_SZAM": "1",
                                    "GYERMEK_SZAM": "0",
                                    "USERNEV": "eszter2",
                                    "NEV": "Balogh Eszter",
                                    "EMAIL": "eszter.balogh@mail.hu",
                                    "SZAML_CIM": "6760 Kistelek Kossuth utca 11.",
                                    "SZUL_DAT": "1998-01-31",
                                    "Ügyfél neve": "Balogh Eszter",
                                    "Előző három foglalás átlaga": "NULL"
                                },
                                {
                                    "FOGLALAS_PK": "1109",
                                    "UGYFEL_FK": "eszter2",
                                    "SZOBA_FK": "110",
                                    "METTOL": "2016-10-01",
                                    "MEDDIG": "2016-10-06",
                                    "FELNOTT_SZAM": "1",
                                    "GYERMEK_SZAM": "0",
                                    "USERNEV": "eszter2",
                                    "NEV": "Balogh Eszter",
                                    "EMAIL": "eszter.balogh@mail.hu",
                                    "SZAML_CIM": "6760 Kistelek Kossuth utca 11.",
                                    "SZUL_DAT": "1998-01-31",
                                    "Ügyfél neve": "Balogh Eszter",
                                    "Előző három foglalás átlaga": "1"
                                },
                                {
                                    "FOGLALAS_PK": "1171",
                                    "UGYFEL_FK": "eszter2",
                                    "SZOBA_FK": "172",
                                    "METTOL": "2016-10-20",
                                    "MEDDIG": "2016-10-25",
                                    "FELNOTT_SZAM": "1",
                                    "GYERMEK_SZAM": "0",
                                    "USERNEV": "eszter2",
                                    "NEV": "Balogh Eszter",
                                    "EMAIL": "eszter.balogh@mail.hu",
                                    "SZAML_CIM": "6760 Kistelek Kossuth utca 11.",
                                    "SZUL_DAT": "1998-01-31",
                                    "Ügyfél neve": "Balogh Eszter",
                                    "Előző három foglalás átlaga": "1"
                                },
                                {
                                    "FOGLALAS_PK": "1187",
                                    "UGYFEL_FK": "eszter2",
                                    "SZOBA_FK": "46",
                                    "METTOL": "2016-10-23",
                                    "MEDDIG": "2016-10-30",
                                    "FELNOTT_SZAM": "1",
                                    "GYERMEK_SZAM": "0",
                                    "USERNEV": "eszter2",
                                    "NEV": "Balogh Eszter",
                                    "EMAIL": "eszter.balogh@mail.hu",
                                    "SZAML_CIM": "6760 Kistelek Kossuth utca 11.",
                                    "SZUL_DAT": "1998-01-31",
                                    "Ügyfél neve": "Balogh Eszter",
                                    "Előző három foglalás átlaga": "1"
                                },
                                {
                                    "FOGLALAS_PK": "1336",
                                    "UGYFEL_FK": "eszter2",
                                    "SZOBA_FK": "172",
                                    "METTOL": "2016-12-02",
                                    "MEDDIG": "2016-12-07",
                                    "FELNOTT_SZAM": "1",
                                    "GYERMEK_SZAM": "0",
                                    "USERNEV": "eszter2",
                                    "NEV": "Balogh Eszter",
                                    "EMAIL": "eszter.balogh@mail.hu",
                                    "SZAML_CIM": "6760 Kistelek Kossuth utca 11.",
                                    "SZUL_DAT": "1998-01-31",
                                    "Ügyfél neve": "Balogh Eszter",
                                    "Előző három foglalás átlaga": "1"
                                },
                                {
                                    "FOGLALAS_PK": "1480",
                                    "UGYFEL_FK": "eszter2",
                                    "SZOBA_FK": "35",
                                    "METTOL": "2016-12-29",
                                    "MEDDIG": "2017-02-04",
                                    "FELNOTT_SZAM": "1",
                                    "GYERMEK_SZAM": "0",
                                    "USERNEV": "eszter2",
                                    "NEV": "Balogh Eszter",
                                    "EMAIL": "eszter.balogh@mail.hu",
                                    "SZAML_CIM": "6760 Kistelek Kossuth utca 11.",
                                    "SZUL_DAT": "1998-01-31",
                                    "Ügyfél neve": "Balogh Eszter",
                                    "Előző három foglalás átlaga": "1"
                                },
                                {
                                    "FOGLALAS_PK": "845",
                                    "UGYFEL_FK": "eva2",
                                    "SZOBA_FK": "63",
                                    "METTOL": "2016-09-02",
                                    "MEDDIG": "2016-09-03",
                                    "FELNOTT_SZAM": "1",
                                    "GYERMEK_SZAM": "0",
                                    "USERNEV": "eva2",
                                    "NEV": "Perlinger Éva",
                                    "EMAIL": "eva2@gmail.com",
                                    "SZAML_CIM": "9653 Répcelak Bécsi utca 82.",
                                    "SZUL_DAT": "1971-08-19",
                                    "Ügyfél neve": "Perlinger Éva",
                                    "Előző három foglalás átlaga": "NULL"
                                },
                                {
                                    "FOGLALAS_PK": "1366",
                                    "UGYFEL_FK": "fruzsina4",
                                    "SZOBA_FK": "81",
                                    "METTOL": "2016-12-16",
                                    "MEDDIG": "2016-12-21",
                                    "FELNOTT_SZAM": "1",
                                    "GYERMEK_SZAM": "0",
                                    "USERNEV": "fruzsina4",
                                    "NEV": "Frank Fruzsina",
                                    "EMAIL": "fruzsina4@gmail.com",
                                    "SZAML_CIM": "9700 Szombathely Szabadság utca 95.",
                                    "SZUL_DAT": "1996-08-16",
                                    "Ügyfél neve": "Frank Fruzsina",
                                    "Előző három foglalás átlaga": "NULL"
                                },
                                {
                                    "FOGLALAS_PK": "1026",
                                    "UGYFEL_FK": "gabor1",
                                    "SZOBA_FK": "119",
                                    "METTOL": "2016-07-12",
                                    "MEDDIG": "2016-07-15",
                                    "FELNOTT_SZAM": "1",
                                    "GYERMEK_SZAM": "0",
                                    "USERNEV": "gabor1",
                                    "NEV": "Köves Gábor",
                                    "EMAIL": "gabor1@gmail.com",
                                    "SZAML_CIM": "6762 Sándorfalva Árpád utca 23.",
                                    "SZUL_DAT": "1973-07-15",
                                    "Ügyfél neve": "Köves Gábor",
                                    "Előző három foglalás átlaga": "NULL"
                                },
                                {
                                    "FOGLALAS_PK": "1169",
                                    "UGYFEL_FK": "gabor1",
                                    "SZOBA_FK": "93",
                                    "METTOL": "2016-10-20",
                                    "MEDDIG": "2016-10-24",
                                    "FELNOTT_SZAM": "1",
                                    "GYERMEK_SZAM": "0",
                                    "USERNEV": "gabor1",
                                    "NEV": "Köves Gábor",
                                    "EMAIL": "gabor1@gmail.com",
                                    "SZAML_CIM": "6762 Sándorfalva Árpád utca 23.",
                                    "SZUL_DAT": "1973-07-15",
                                    "Ügyfél neve": "Köves Gábor",
                                    "Előző három foglalás átlaga": "1"
                                },
                                {
                                    "FOGLALAS_PK": "878",
                                    "UGYFEL_FK": "gabor4",
                                    "SZOBA_FK": "83",
                                    "METTOL": "2016-05-30",
                                    "MEDDIG": "2016-06-05",
                                    "FELNOTT_SZAM": "1",
                                    "GYERMEK_SZAM": "0",
                                    "USERNEV": "gabor4",
                                    "NEV": "Telek Gábor",
                                    "EMAIL": "gábor.telek@mail.hu",
                                    "SZAML_CIM": "9071 Görbeháza Fő út 169.",
                                    "SZUL_DAT": "1987-03-15",
                                    "Ügyfél neve": "Telek Gábor",
                                    "Előző három foglalás átlaga": "NULL"
                                },
                                {
                                    "FOGLALAS_PK": "945",
                                    "UGYFEL_FK": "GYONGYIK",
                                    "SZOBA_FK": "23",
                                    "METTOL": "2016-06-10",
                                    "MEDDIG": "2016-06-17",
                                    "FELNOTT_SZAM": "1",
                                    "GYERMEK_SZAM": "0",
                                    "USERNEV": "GYONGYIK",
                                    "NEV": "Kornseé Gyöngyi",
                                    "EMAIL": "gyöngyi.kornseé@mail.hu",
                                    "SZAML_CIM": "8800 Nagykanizsa Fő út 60.",
                                    "SZUL_DAT": "1974-06-07",
                                    "Ügyfél neve": "Kornseé Gyöngyi",
                                    "Előző három foglalás átlaga": "NULL"
                                },
                                {
                                    "FOGLALAS_PK": "1213",
                                    "UGYFEL_FK": "GYORGYO",
                                    "SZOBA_FK": "91",
                                    "METTOL": "2016-10-28",
                                    "MEDDIG": "2016-10-31",
                                    "FELNOTT_SZAM": "1",
                                    "GYERMEK_SZAM": "0",
                                    "USERNEV": "GYORGYO",
                                    "NEV": "Oroszi György",
                                    "EMAIL": "GYORGYO@gmail.com",
                                    "SZAML_CIM": "7220 Sarkad Dózsa György u. 1.",
                                    "SZUL_DAT": "1980-03-23",
                                    "Ügyfél neve": "Oroszi György",
                                    "Előző három foglalás átlaga": "NULL"
                                },
                                {
                                    "FOGLALAS_PK": "818",
                                    "UGYFEL_FK": "henrik3",
                                    "SZOBA_FK": "8",
                                    "METTOL": "2016-08-24",
                                    "MEDDIG": "2016-08-28",
                                    "FELNOTT_SZAM": "1",
                                    "GYERMEK_SZAM": "0",
                                    "USERNEV": "henrik3",
                                    "NEV": "Nádudvari Henrik",
                                    "EMAIL": "henrik.nádudvari@mail.hu",
                                    "SZAML_CIM": "1077 Budapest Tanácsköztársaság tér 1.",
                                    "SZUL_DAT": "1986-12-05",
                                    "Ügyfél neve": "Nádudvari Henrik",
                                    "Előző három foglalás átlaga": "NULL"
                                },
                                {
                                    "FOGLALAS_PK": "689",
                                    "UGYFEL_FK": "istvan1",
                                    "SZOBA_FK": "102",
                                    "METTOL": "2016-07-19",
                                    "MEDDIG": "2016-07-24",
                                    "FELNOTT_SZAM": "1",
                                    "GYERMEK_SZAM": "0",
                                    "USERNEV": "istvan1",
                                    "NEV": "Vizi István",
                                    "EMAIL": "istván.vizi@mail.hu",
                                    "SZAML_CIM": "7086 Ozora Rákóczi utca 1.",
                                    "SZUL_DAT": "1997-12-01",
                                    "Ügyfél neve": "Vizi István",
                                    "Előző három foglalás átlaga": "NULL"
                                },
                                {
                                    "FOGLALAS_PK": "904",
                                    "UGYFEL_FK": "janos3",
                                    "SZOBA_FK": "34",
                                    "METTOL": "2016-06-04",
                                    "MEDDIG": "2016-06-06",
                                    "FELNOTT_SZAM": "1",
                                    "GYERMEK_SZAM": "0",
                                    "USERNEV": "janos3",
                                    "NEV": "Harangozó János",
                                    "EMAIL": "janos3@gmail.com",
                                    "SZAML_CIM": "8700 Marcali Petőfi Sándor tér 1.",
                                    "SZUL_DAT": "1967-11-02",
                                    "Ügyfél neve": "Harangozó János",
                                    "Előző három foglalás átlaga": "NULL"
                                },
                                {
                                    "FOGLALAS_PK": "1177",
                                    "UGYFEL_FK": "janos3",
                                    "SZOBA_FK": "150",
                                    "METTOL": "2016-10-22",
                                    "MEDDIG": "2016-10-23",
                                    "FELNOTT_SZAM": "1",
                                    "GYERMEK_SZAM": "0",
                                    "USERNEV": "janos3",
                                    "NEV": "Harangozó János",
                                    "EMAIL": "janos3@gmail.com",
                                    "SZAML_CIM": "8700 Marcali Petőfi Sándor tér 1.",
                                    "SZUL_DAT": "1967-11-02",
                                    "Ügyfél neve": "Harangozó János",
                                    "Előző három foglalás átlaga": "1"
                                },
                                {
                                    "FOGLALAS_PK": "631",
                                    "UGYFEL_FK": "JANOSG",
                                    "SZOBA_FK": "98",
                                    "METTOL": "2016-05-09",
                                    "MEDDIG": "2016-05-15",
                                    "FELNOTT_SZAM": "1",
                                    "GYERMEK_SZAM": "0",
                                    "USERNEV": "JANOSG",
                                    "NEV": "Giliga János",
                                    "EMAIL": "JANOSG@gmail.com",
                                    "SZAML_CIM": "3300 Eger Deák Ferenc út 5.",
                                    "SZUL_DAT": "1975-01-03",
                                    "Ügyfél neve": "Giliga János",
                                    "Előző három foglalás átlaga": "NULL"
                                },
                                {
                                    "FOGLALAS_PK": "852",
                                    "UGYFEL_FK": "JOZSEFG",
                                    "SZOBA_FK": "24",
                                    "METTOL": "2016-05-23",
                                    "MEDDIG": "2016-05-25",
                                    "FELNOTT_SZAM": "1",
                                    "GYERMEK_SZAM": "0",
                                    "USERNEV": "JOZSEFG",
                                    "NEV": "Gyuris József",
                                    "EMAIL": "józsef.gyuris@mail.hu",
                                    "SZAML_CIM": "2660 Balassagyarmat Petőfi utca 1/2.",
                                    "SZUL_DAT": "1975-05-26",
                                    "Ügyfél neve": "Gyuris József",
                                    "Előző három foglalás átlaga": "NULL"
                                },
                                {
                                    "FOGLALAS_PK": "1461",
                                    "UGYFEL_FK": "JOZSEFG",
                                    "SZOBA_FK": "77",
                                    "METTOL": "2017-01-22",
                                    "MEDDIG": "2017-01-26",
                                    "FELNOTT_SZAM": "1",
                                    "GYERMEK_SZAM": "0",
                                    "USERNEV": "JOZSEFG",
                                    "NEV": "Gyuris József",
                                    "EMAIL": "józsef.gyuris@mail.hu",
                                    "SZAML_CIM": "2660 Balassagyarmat Petőfi utca 1/2.",
                                    "SZUL_DAT": "1975-05-26",
                                    "Ügyfél neve": "Gyuris József",
                                    "Előző három foglalás átlaga": "1"
                                },
                                {
                                    "FOGLALAS_PK": "1379",
                                    "UGYFEL_FK": "JUDITH",
                                    "SZOBA_FK": "83",
                                    "METTOL": "2016-12-19",
                                    "MEDDIG": "2016-12-26",
                                    "FELNOTT_SZAM": "1",
                                    "GYERMEK_SZAM": "0",
                                    "USERNEV": "JUDITH",
                                    "NEV": "Hídasi Judit",
                                    "EMAIL": "JUDITH@gmail.com",
                                    "SZAML_CIM": "2100 Gödöllő Fő út 169.",
                                    "SZUL_DAT": "1997-07-12",
                                    "Ügyfél neve": "Hídasi Judit",
                                    "Előző három foglalás átlaga": "NULL"
                                },
                                {
                                    "FOGLALAS_PK": "638",
                                    "UGYFEL_FK": "julia",
                                    "SZOBA_FK": "67",
                                    "METTOL": "2016-05-12",
                                    "MEDDIG": "2016-05-17",
                                    "FELNOTT_SZAM": "1",
                                    "GYERMEK_SZAM": "0",
                                    "USERNEV": "julia",
                                    "NEV": "Tóth Júlia",
                                    "EMAIL": "julia@gmail.com",
                                    "SZAML_CIM": "5310 Kisújszállás Árpád utca 4.",
                                    "SZUL_DAT": "1993-03-02",
                                    "Ügyfél neve": "Tóth Júlia",
                                    "Előző három foglalás átlaga": "NULL"
                                },
                                {
                                    "FOGLALAS_PK": "1258",
                                    "UGYFEL_FK": "julia4",
                                    "SZOBA_FK": "52",
                                    "METTOL": "2016-11-07",
                                    "MEDDIG": "2016-11-12",
                                    "FELNOTT_SZAM": "1",
                                    "GYERMEK_SZAM": "0",
                                    "USERNEV": "julia4",
                                    "NEV": "Nagy Júlia",
                                    "EMAIL": "julia4@gmail.com",
                                    "SZAML_CIM": "7000 Sárbogárd Jászai tér 21.",
                                    "SZUL_DAT": "1985-08-11",
                                    "Ügyfél neve": "Nagy Júlia",
                                    "Előző három foglalás átlaga": "NULL"
                                },
                                {
                                    "FOGLALAS_PK": "601",
                                    "UGYFEL_FK": "kata",
                                    "SZOBA_FK": "39",
                                    "METTOL": "2016-04-25",
                                    "MEDDIG": "2016-05-01",
                                    "FELNOTT_SZAM": "1",
                                    "GYERMEK_SZAM": "0",
                                    "USERNEV": "kata",
                                    "NEV": "Gondos Katalin",
                                    "EMAIL": "katalin.gondos@mail.hu",
                                    "SZAML_CIM": "8237 Tihany Kossuth Lajos utca 6.",
                                    "SZUL_DAT": "1968-06-22",
                                    "Ügyfél neve": "Gondos Katalin",
                                    "Előző három foglalás átlaga": "NULL"
                                },
                                {
                                    "FOGLALAS_PK": "1006",
                                    "UGYFEL_FK": "kata",
                                    "SZOBA_FK": "70",
                                    "METTOL": "2016-07-03",
                                    "MEDDIG": "2016-07-06",
                                    "FELNOTT_SZAM": "1",
                                    "GYERMEK_SZAM": "0",
                                    "USERNEV": "kata",
                                    "NEV": "Gondos Katalin",
                                    "EMAIL": "katalin.gondos@mail.hu",
                                    "SZAML_CIM": "8237 Tihany Kossuth Lajos utca 6.",
                                    "SZUL_DAT": "1968-06-22",
                                    "Ügyfél neve": "Gondos Katalin",
                                    "Előző három foglalás átlaga": "1"
                                },
                                {
                                    "FOGLALAS_PK": "661",
                                    "UGYFEL_FK": "katalin",
                                    "SZOBA_FK": "136",
                                    "METTOL": "2016-05-21",
                                    "MEDDIG": "2016-05-26",
                                    "FELNOTT_SZAM": "1",
                                    "GYERMEK_SZAM": "0",
                                    "USERNEV": "katalin",
                                    "NEV": "Horváth Katalin",
                                    "EMAIL": "katalin.horváth@mail.hu",
                                    "SZAML_CIM": "2424 Előszállás Rákóczi út 200.",
                                    "SZUL_DAT": "1968-01-01",
                                    "Ügyfél neve": "Horváth Katalin",
                                    "Előző három foglalás átlaga": "NULL"
                                },
                                {
                                    "FOGLALAS_PK": "733",
                                    "UGYFEL_FK": "katalin",
                                    "SZOBA_FK": "140",
                                    "METTOL": "2016-07-28",
                                    "MEDDIG": "2016-07-29",
                                    "FELNOTT_SZAM": "1",
                                    "GYERMEK_SZAM": "0",
                                    "USERNEV": "katalin",
                                    "NEV": "Horváth Katalin",
                                    "EMAIL": "katalin.horváth@mail.hu",
                                    "SZAML_CIM": "2424 Előszállás Rákóczi út 200.",
                                    "SZUL_DAT": "1968-01-01",
                                    "Ügyfél neve": "Horváth Katalin",
                                    "Előző három foglalás átlaga": "1"
                                },
                                {
                                    "FOGLALAS_PK": "1015",
                                    "UGYFEL_FK": "katalin",
                                    "SZOBA_FK": "174",
                                    "METTOL": "2016-07-06",
                                    "MEDDIG": "2016-07-11",
                                    "FELNOTT_SZAM": "1",
                                    "GYERMEK_SZAM": "0",
                                    "USERNEV": "katalin",
                                    "NEV": "Horváth Katalin",
                                    "EMAIL": "katalin.horváth@mail.hu",
                                    "SZAML_CIM": "2424 Előszállás Rákóczi út 200.",
                                    "SZUL_DAT": "1968-01-01",
                                    "Ügyfél neve": "Horváth Katalin",
                                    "Előző három foglalás átlaga": "1"
                                },
                                {
                                    "FOGLALAS_PK": "1372",
                                    "UGYFEL_FK": "katalin",
                                    "SZOBA_FK": "106",
                                    "METTOL": "2016-12-17",
                                    "MEDDIG": "2016-12-24",
                                    "FELNOTT_SZAM": "1",
                                    "GYERMEK_SZAM": "0",
                                    "USERNEV": "katalin",
                                    "NEV": "Horváth Katalin",
                                    "EMAIL": "katalin.horváth@mail.hu",
                                    "SZAML_CIM": "2424 Előszállás Rákóczi út 200.",
                                    "SZUL_DAT": "1968-01-01",
                                    "Ügyfél neve": "Horváth Katalin",
                                    "Előző három foglalás átlaga": "1"
                                },
                                {
                                    "FOGLALAS_PK": "997",
                                    "UGYFEL_FK": "katalin4",
                                    "SZOBA_FK": "82",
                                    "METTOL": "2016-07-01",
                                    "MEDDIG": "2016-07-07",
                                    "FELNOTT_SZAM": "1",
                                    "GYERMEK_SZAM": "0",
                                    "USERNEV": "katalin4",
                                    "NEV": "Kertész Katalin",
                                    "EMAIL": "katalin4@gmail.com",
                                    "SZAML_CIM": "2800 Tatabánya Búvár utca 4.",
                                    "SZUL_DAT": "1986-04-13",
                                    "Ügyfél neve": "Kertész Katalin",
                                    "Előző három foglalás átlaga": "NULL"
                                },
                                {
                                    "FOGLALAS_PK": "954",
                                    "UGYFEL_FK": "katka",
                                    "SZOBA_FK": "84",
                                    "METTOL": "2016-06-13",
                                    "MEDDIG": "2016-06-18",
                                    "FELNOTT_SZAM": "1",
                                    "GYERMEK_SZAM": "0",
                                    "USERNEV": "katka",
                                    "NEV": "Kovács Katalin",
                                    "EMAIL": "katalin.kovács@mail.hu",
                                    "SZAML_CIM": "8254 Kővágóörs Petőfi utca 22.",
                                    "SZUL_DAT": "1975-03-31",
                                    "Ügyfél neve": "Kovács Katalin",
                                    "Előző három foglalás átlaga": "NULL"
                                },
                                {
                                    "FOGLALAS_PK": "787",
                                    "UGYFEL_FK": "krisztian4",
                                    "SZOBA_FK": "50",
                                    "METTOL": "2016-08-16",
                                    "MEDDIG": "2016-08-19",
                                    "FELNOTT_SZAM": "1",
                                    "GYERMEK_SZAM": "0",
                                    "USERNEV": "krisztian4",
                                    "NEV": "Czérna Krisztián",
                                    "EMAIL": "krisztián.czérna@mail.hu",
                                    "SZAML_CIM": "1107 Budapest Dózsa György utca 37.",
                                    "SZUL_DAT": "1970-08-01",
                                    "Ügyfél neve": "Czérna Krisztián",
                                    "Előző három foglalás átlaga": "NULL"
                                },
                                {
                                    "FOGLALAS_PK": "834",
                                    "UGYFEL_FK": "krisztian4",
                                    "SZOBA_FK": "149",
                                    "METTOL": "2016-08-29",
                                    "MEDDIG": "2016-09-03",
                                    "FELNOTT_SZAM": "1",
                                    "GYERMEK_SZAM": "0",
                                    "USERNEV": "krisztian4",
                                    "NEV": "Czérna Krisztián",
                                    "EMAIL": "krisztián.czérna@mail.hu",
                                    "SZAML_CIM": "1107 Budapest Dózsa György utca 37.",
                                    "SZUL_DAT": "1970-08-01",
                                    "Ügyfél neve": "Czérna Krisztián",
                                    "Előző három foglalás átlaga": "1"
                                },
                                {
                                    "FOGLALAS_PK": "1422",
                                    "UGYFEL_FK": "krisztian4",
                                    "SZOBA_FK": "182",
                                    "METTOL": "2017-01-06",
                                    "MEDDIG": "2017-01-09",
                                    "FELNOTT_SZAM": "1",
                                    "GYERMEK_SZAM": "0",
                                    "USERNEV": "krisztian4",
                                    "NEV": "Czérna Krisztián",
                                    "EMAIL": "krisztián.czérna@mail.hu",
                                    "SZAML_CIM": "1107 Budapest Dózsa György utca 37.",
                                    "SZUL_DAT": "1970-08-01",
                                    "Ügyfél neve": "Czérna Krisztián",
                                    "Előző három foglalás átlaga": "1"
                                },
                                {
                                    "FOGLALAS_PK": "1443",
                                    "UGYFEL_FK": "KRISZTIANM",
                                    "SZOBA_FK": "81",
                                    "METTOL": "2017-01-16",
                                    "MEDDIG": "2017-01-23",
                                    "FELNOTT_SZAM": "1",
                                    "GYERMEK_SZAM": "0",
                                    "USERNEV": "KRISZTIANM",
                                    "NEV": "Mogyródi Krisztián",
                                    "EMAIL": "KRISZTIANM@gmail.com",
                                    "SZAML_CIM": "9155 Lébény Jászai tér 21.",
                                    "SZUL_DAT": "1968-05-27",
                                    "Ügyfél neve": "Mogyródi Krisztián",
                                    "Előző három foglalás átlaga": "NULL"
                                },
                                {
                                    "FOGLALAS_PK": "1048",
                                    "UGYFEL_FK": "krisztina",
                                    "SZOBA_FK": "95",
                                    "METTOL": "2016-09-13",
                                    "MEDDIG": "2016-09-16",
                                    "FELNOTT_SZAM": "1",
                                    "GYERMEK_SZAM": "0",
                                    "USERNEV": "krisztina",
                                    "NEV": "Szedlár Krisztina",
                                    "EMAIL": "krisztina@gmail.com",
                                    "SZAML_CIM": "6646 Tömörkény Arany János utca 1.",
                                    "SZUL_DAT": "1979-05-10",
                                    "Ügyfél neve": "Szedlár Krisztina",
                                    "Előző három foglalás átlaga": "NULL"
                                },
                                {
                                    "FOGLALAS_PK": "1306",
                                    "UGYFEL_FK": "krisztina",
                                    "SZOBA_FK": "133",
                                    "METTOL": "2016-11-22",
                                    "MEDDIG": "2016-11-25",
                                    "FELNOTT_SZAM": "1",
                                    "GYERMEK_SZAM": "0",
                                    "USERNEV": "krisztina",
                                    "NEV": "Szedlár Krisztina",
                                    "EMAIL": "krisztina@gmail.com",
                                    "SZAML_CIM": "6646 Tömörkény Arany János utca 1.",
                                    "SZUL_DAT": "1979-05-10",
                                    "Ügyfél neve": "Szedlár Krisztina",
                                    "Előző három foglalás átlaga": "1"
                                },
                                {
                                    "FOGLALAS_PK": "648",
                                    "UGYFEL_FK": "krisztina1",
                                    "SZOBA_FK": "157",
                                    "METTOL": "2016-05-16",
                                    "MEDDIG": "2016-05-20",
                                    "FELNOTT_SZAM": "1",
                                    "GYERMEK_SZAM": "0",
                                    "USERNEV": "krisztina1",
                                    "NEV": "Bori Krisztina",
                                    "EMAIL": "krisztina.bori@mail.hu",
                                    "SZAML_CIM": "2115 Vácszentlászló Fő utca 47.",
                                    "SZUL_DAT": "1969-10-13",
                                    "Ügyfél neve": "Bori Krisztina",
                                    "Előző három foglalás átlaga": "NULL"
                                },
                                {
                                    "FOGLALAS_PK": "854",
                                    "UGYFEL_FK": "KRISZTINAG",
                                    "SZOBA_FK": "167",
                                    "METTOL": "2016-05-24",
                                    "MEDDIG": "2016-05-31",
                                    "FELNOTT_SZAM": "1",
                                    "GYERMEK_SZAM": "0",
                                    "USERNEV": "KRISZTINAG",
                                    "NEV": "Gyárfás Krisztina",
                                    "EMAIL": "KRISZTINAG@gmail.com",
                                    "SZAML_CIM": "6762 Sándorfalva Arany János utca 1.",
                                    "SZUL_DAT": "1987-09-19",
                                    "Ügyfél neve": "Gyárfás Krisztina",
                                    "Előző három foglalás átlaga": "NULL"
                                },
                                {
                                    "FOGLALAS_PK": "935",
                                    "UGYFEL_FK": "KRISZTINAG",
                                    "SZOBA_FK": "56",
                                    "METTOL": "2016-06-08",
                                    "MEDDIG": "2016-06-12",
                                    "FELNOTT_SZAM": "1",
                                    "GYERMEK_SZAM": "0",
                                    "USERNEV": "KRISZTINAG",
                                    "NEV": "Gyárfás Krisztina",
                                    "EMAIL": "KRISZTINAG@gmail.com",
                                    "SZAML_CIM": "6762 Sándorfalva Arany János utca 1.",
                                    "SZUL_DAT": "1987-09-19",
                                    "Ügyfél neve": "Gyárfás Krisztina",
                                    "Előző három foglalás átlaga": "1"
                                },
                                {
                                    "FOGLALAS_PK": "1523",
                                    "UGYFEL_FK": "lajos",
                                    "SZOBA_FK": "11",
                                    "METTOL": "2017-02-12",
                                    "MEDDIG": "2017-02-13",
                                    "FELNOTT_SZAM": "1",
                                    "GYERMEK_SZAM": "0",
                                    "USERNEV": "lajos",
                                    "NEV": "Kiss Lajos",
                                    "EMAIL": "lajos.kiss@mail.hu",
                                    "SZAML_CIM": "1077 Budapest Dob utca 1",
                                    "SZUL_DAT": "1978-10-31",
                                    "Ügyfél neve": "Kiss Lajos",
                                    "Előző három foglalás átlaga": "NULL"
                                },
                                {
                                    "FOGLALAS_PK": "923",
                                    "UGYFEL_FK": "LASZLOA",
                                    "SZOBA_FK": "123",
                                    "METTOL": "2016-06-07",
                                    "MEDDIG": "2016-06-11",
                                    "FELNOTT_SZAM": "1",
                                    "GYERMEK_SZAM": "0",
                                    "USERNEV": "LASZLOA",
                                    "NEV": "Antal László",
                                    "EMAIL": "lászló.antal@mail.hu",
                                    "SZAML_CIM": "2484 Agárd Bécsi utca 82.",
                                    "SZUL_DAT": "1969-06-29",
                                    "Ügyfél neve": "Antal László",
                                    "Előző három foglalás átlaga": "NULL"
                                },
                                {
                                    "FOGLALAS_PK": "892",
                                    "UGYFEL_FK": "LASZLON",
                                    "SZOBA_FK": "165",
                                    "METTOL": "2016-06-03",
                                    "MEDDIG": "2016-06-06",
                                    "FELNOTT_SZAM": "1",
                                    "GYERMEK_SZAM": "0",
                                    "USERNEV": "LASZLON",
                                    "NEV": "Nagy László",
                                    "EMAIL": "lászló.nagy@mail.hu",
                                    "SZAML_CIM": "1173 Budapest Jászai tér 21.",
                                    "SZUL_DAT": "1969-04-12",
                                    "Ügyfél neve": "Nagy László",
                                    "Előző három foglalás átlaga": "NULL"
                                },
                                {
                                    "FOGLALAS_PK": "1136",
                                    "UGYFEL_FK": "LASZLON",
                                    "SZOBA_FK": "30",
                                    "METTOL": "2016-10-09",
                                    "MEDDIG": "2016-10-14",
                                    "FELNOTT_SZAM": "1",
                                    "GYERMEK_SZAM": "0",
                                    "USERNEV": "LASZLON",
                                    "NEV": "Nagy László",
                                    "EMAIL": "lászló.nagy@mail.hu",
                                    "SZAML_CIM": "1173 Budapest Jászai tér 21.",
                                    "SZUL_DAT": "1969-04-12",
                                    "Ügyfél neve": "Nagy László",
                                    "Előző három foglalás átlaga": "1"
                                },
                                {
                                    "FOGLALAS_PK": "1329",
                                    "UGYFEL_FK": "LASZLON",
                                    "SZOBA_FK": "171",
                                    "METTOL": "2016-11-29",
                                    "MEDDIG": "2016-12-04",
                                    "FELNOTT_SZAM": "1",
                                    "GYERMEK_SZAM": "0",
                                    "USERNEV": "LASZLON",
                                    "NEV": "Nagy László",
                                    "EMAIL": "lászló.nagy@mail.hu",
                                    "SZAML_CIM": "1173 Budapest Jászai tér 21.",
                                    "SZUL_DAT": "1969-04-12",
                                    "Ügyfél neve": "Nagy László",
                                    "Előző három foglalás átlaga": "1"
                                },
                                {
                                    "FOGLALAS_PK": "652",
                                    "UGYFEL_FK": "maria1",
                                    "SZOBA_FK": "149",
                                    "METTOL": "2016-05-18",
                                    "MEDDIG": "2016-05-19",
                                    "FELNOTT_SZAM": "1",
                                    "GYERMEK_SZAM": "0",
                                    "USERNEV": "maria1",
                                    "NEV": "Baráth Mária",
                                    "EMAIL": "mária.baráth@mail.hu",
                                    "SZAML_CIM": "1047 Budapest Posta köz 2.",
                                    "SZUL_DAT": "1995-11-19",
                                    "Ügyfél neve": "Baráth Mária",
                                    "Előző három foglalás átlaga": "NULL"
                                },
                                {
                                    "FOGLALAS_PK": "846",
                                    "UGYFEL_FK": "maria1",
                                    "SZOBA_FK": "45",
                                    "METTOL": "2016-09-02",
                                    "MEDDIG": "2016-09-05",
                                    "FELNOTT_SZAM": "1",
                                    "GYERMEK_SZAM": "0",
                                    "USERNEV": "maria1",
                                    "NEV": "Baráth Mária",
                                    "EMAIL": "mária.baráth@mail.hu",
                                    "SZAML_CIM": "1047 Budapest Posta köz 2.",
                                    "SZUL_DAT": "1995-11-19",
                                    "Ügyfél neve": "Baráth Mária",
                                    "Előző három foglalás átlaga": "1"
                                },
                                {
                                    "FOGLALAS_PK": "981",
                                    "UGYFEL_FK": "maria1",
                                    "SZOBA_FK": "171",
                                    "METTOL": "2016-06-23",
                                    "MEDDIG": "2016-06-27",
                                    "FELNOTT_SZAM": "1",
                                    "GYERMEK_SZAM": "0",
                                    "USERNEV": "maria1",
                                    "NEV": "Baráth Mária",
                                    "EMAIL": "mária.baráth@mail.hu",
                                    "SZAML_CIM": "1047 Budapest Posta köz 2.",
                                    "SZUL_DAT": "1995-11-19",
                                    "Ügyfél neve": "Baráth Mária",
                                    "Előző három foglalás átlaga": "1"
                                },
                                {
                                    "FOGLALAS_PK": "1172",
                                    "UGYFEL_FK": "mark",
                                    "SZOBA_FK": "197",
                                    "METTOL": "2016-10-20",
                                    "MEDDIG": "2016-10-27",
                                    "FELNOTT_SZAM": "1",
                                    "GYERMEK_SZAM": "0",
                                    "USERNEV": "mark",
                                    "NEV": "Kispál Márk",
                                    "EMAIL": "márk.kispál@mail.hu",
                                    "SZAML_CIM": "1086 Budapest Juhászföldi út 1.",
                                    "SZUL_DAT": "1996-01-23",
                                    "Ügyfél neve": "Kispál Márk",
                                    "Előző három foglalás átlaga": "NULL"
                                },
                                {
                                    "FOGLALAS_PK": "620",
                                    "UGYFEL_FK": "marton",
                                    "SZOBA_FK": "1",
                                    "METTOL": "2016-05-05",
                                    "MEDDIG": "2016-05-10",
                                    "FELNOTT_SZAM": "1",
                                    "GYERMEK_SZAM": "0",
                                    "USERNEV": "marton",
                                    "NEV": "Kalacsi Márton",
                                    "EMAIL": "marton@gmail.com",
                                    "SZAML_CIM": "5137 Jászkisér Fő út 169.",
                                    "SZUL_DAT": "1989-06-24",
                                    "Ügyfél neve": "Kalacsi Márton",
                                    "Előző három foglalás átlaga": "NULL"
                                },
                                {
                                    "FOGLALAS_PK": "891",
                                    "UGYFEL_FK": "MATYASS",
                                    "SZOBA_FK": "63",
                                    "METTOL": "2016-06-02",
                                    "MEDDIG": "2016-06-08",
                                    "FELNOTT_SZAM": "1",
                                    "GYERMEK_SZAM": "0",
                                    "USERNEV": "MATYASS",
                                    "NEV": "Szilágyi Mátyás",
                                    "EMAIL": "mátyás.szilágyi@mail.hu",
                                    "SZAML_CIM": "9023 Győr Kossuth Lajos utca 6.",
                                    "SZUL_DAT": "1975-03-22",
                                    "Ügyfél neve": "Szilágyi Mátyás",
                                    "Előző három foglalás átlaga": "NULL"
                                },
                                {
                                    "FOGLALAS_PK": "1190",
                                    "UGYFEL_FK": "MATYASS",
                                    "SZOBA_FK": "161",
                                    "METTOL": "2016-10-24",
                                    "MEDDIG": "2016-10-31",
                                    "FELNOTT_SZAM": "1",
                                    "GYERMEK_SZAM": "0",
                                    "USERNEV": "MATYASS",
                                    "NEV": "Szilágyi Mátyás",
                                    "EMAIL": "mátyás.szilágyi@mail.hu",
                                    "SZAML_CIM": "9023 Győr Kossuth Lajos utca 6.",
                                    "SZUL_DAT": "1975-03-22",
                                    "Ügyfél neve": "Szilágyi Mátyás",
                                    "Előző három foglalás átlaga": "1"
                                },
                                {
                                    "FOGLALAS_PK": "839",
                                    "UGYFEL_FK": "MIHALYJ",
                                    "SZOBA_FK": "172",
                                    "METTOL": "2016-08-29",
                                    "MEDDIG": "2016-09-03",
                                    "FELNOTT_SZAM": "1",
                                    "GYERMEK_SZAM": "0",
                                    "USERNEV": "MIHALYJ",
                                    "NEV": "Juhász Mihály",
                                    "EMAIL": "mihály.juhász@mail.hu",
                                    "SZAML_CIM": "6786 Ruzsa Rákóczi utca 1.",
                                    "SZUL_DAT": "1979-10-12",
                                    "Ügyfél neve": "Juhász Mihály",
                                    "Előző három foglalás átlaga": "NULL"
                                },
                                {
                                    "FOGLALAS_PK": "990",
                                    "UGYFEL_FK": "MIHALYJ",
                                    "SZOBA_FK": "6",
                                    "METTOL": "2016-06-27",
                                    "MEDDIG": "2016-07-01",
                                    "FELNOTT_SZAM": "1",
                                    "GYERMEK_SZAM": "0",
                                    "USERNEV": "MIHALYJ",
                                    "NEV": "Juhász Mihály",
                                    "EMAIL": "mihály.juhász@mail.hu",
                                    "SZAML_CIM": "6786 Ruzsa Rákóczi utca 1.",
                                    "SZUL_DAT": "1979-10-12",
                                    "Ügyfél neve": "Juhász Mihály",
                                    "Előző három foglalás átlaga": "1"
                                },
                                {
                                    "FOGLALAS_PK": "1134",
                                    "UGYFEL_FK": "miklos2",
                                    "SZOBA_FK": "126",
                                    "METTOL": "2016-10-08",
                                    "MEDDIG": "2016-10-09",
                                    "FELNOTT_SZAM": "1",
                                    "GYERMEK_SZAM": "0",
                                    "USERNEV": "miklos2",
                                    "NEV": "Gondos Miklós",
                                    "EMAIL": "miklos2@gmail.com",
                                    "SZAML_CIM": "2100 Gödöllő Árpád utca 23.",
                                    "SZUL_DAT": "1995-10-07",
                                    "Ügyfél neve": "Gondos Miklós",
                                    "Előző három foglalás átlaga": "NULL"
                                },
                                {
                                    "FOGLALAS_PK": "708",
                                    "UGYFEL_FK": "MONIKAM",
                                    "SZOBA_FK": "106",
                                    "METTOL": "2016-07-23",
                                    "MEDDIG": "2016-07-30",
                                    "FELNOTT_SZAM": "1",
                                    "GYERMEK_SZAM": "0",
                                    "USERNEV": "MONIKAM",
                                    "NEV": "Mohos Mónika",
                                    "EMAIL": "mónika.mohos@mail.hu",
                                    "SZAML_CIM": "2241 Sülysáp Baracsi László utca 14.",
                                    "SZUL_DAT": "1974-10-01",
                                    "Ügyfél neve": "Mohos Mónika",
                                    "Előző három foglalás átlaga": "NULL"
                                },
                                {
                                    "FOGLALAS_PK": "1450",
                                    "UGYFEL_FK": "MONIKAM",
                                    "SZOBA_FK": "139",
                                    "METTOL": "2017-01-17",
                                    "MEDDIG": "2017-01-24",
                                    "FELNOTT_SZAM": "1",
                                    "GYERMEK_SZAM": "0",
                                    "USERNEV": "MONIKAM",
                                    "NEV": "Mohos Mónika",
                                    "EMAIL": "mónika.mohos@mail.hu",
                                    "SZAML_CIM": "2241 Sülysáp Baracsi László utca 14.",
                                    "SZUL_DAT": "1974-10-01",
                                    "Ügyfél neve": "Mohos Mónika",
                                    "Előző három foglalás átlaga": "1"
                                },
                                {
                                    "FOGLALAS_PK": "897",
                                    "UGYFEL_FK": "nikolett3",
                                    "SZOBA_FK": "165",
                                    "METTOL": "2016-06-03",
                                    "MEDDIG": "2016-06-09",
                                    "FELNOTT_SZAM": "1",
                                    "GYERMEK_SZAM": "0",
                                    "USERNEV": "nikolett3",
                                    "NEV": "Horváth Nikolett",
                                    "EMAIL": "nikolett3@gmail.com",
                                    "SZAML_CIM": "1072 Budapest Arany János utca 1.",
                                    "SZUL_DAT": "1981-09-29",
                                    "Ügyfél neve": "Horváth Nikolett",
                                    "Előző három foglalás átlaga": "NULL"
                                },
                                {
                                    "FOGLALAS_PK": "976",
                                    "UGYFEL_FK": "nikolett3",
                                    "SZOBA_FK": "76",
                                    "METTOL": "2016-06-22",
                                    "MEDDIG": "2016-06-24",
                                    "FELNOTT_SZAM": "1",
                                    "GYERMEK_SZAM": "0",
                                    "USERNEV": "nikolett3",
                                    "NEV": "Horváth Nikolett",
                                    "EMAIL": "nikolett3@gmail.com",
                                    "SZAML_CIM": "1072 Budapest Arany János utca 1.",
                                    "SZUL_DAT": "1981-09-29",
                                    "Ügyfél neve": "Horváth Nikolett",
                                    "Előző három foglalás átlaga": "1"
                                },
                                {
                                    "FOGLALAS_PK": "1018",
                                    "UGYFEL_FK": "norbert",
                                    "SZOBA_FK": "40",
                                    "METTOL": "2016-07-08",
                                    "MEDDIG": "2016-07-13",
                                    "FELNOTT_SZAM": "1",
                                    "GYERMEK_SZAM": "0",
                                    "USERNEV": "norbert",
                                    "NEV": "Szűcs Norbert",
                                    "EMAIL": "norbert@gmail.com",
                                    "SZAML_CIM": "5071 Besenyszög Győri utca 12.",
                                    "SZUL_DAT": "1969-07-17",
                                    "Ügyfél neve": "Szűcs Norbert",
                                    "Előző három foglalás átlaga": "NULL"
                                },
                                {
                                    "FOGLALAS_PK": "1576",
                                    "UGYFEL_FK": "norbert",
                                    "SZOBA_FK": "189",
                                    "METTOL": "2017-02-26",
                                    "MEDDIG": "2017-03-01",
                                    "FELNOTT_SZAM": "1",
                                    "GYERMEK_SZAM": "0",
                                    "USERNEV": "norbert",
                                    "NEV": "Szűcs Norbert",
                                    "EMAIL": "norbert@gmail.com",
                                    "SZAML_CIM": "5071 Besenyszög Győri utca 12.",
                                    "SZUL_DAT": "1969-07-17",
                                    "Ügyfél neve": "Szűcs Norbert",
                                    "Előző három foglalás átlaga": "1"
                                },
                                {
                                    "FOGLALAS_PK": "587",
                                    "UGYFEL_FK": "norbert2",
                                    "SZOBA_FK": "123",
                                    "METTOL": "2016-04-19",
                                    "MEDDIG": "2016-04-26",
                                    "FELNOTT_SZAM": "1",
                                    "GYERMEK_SZAM": "0",
                                    "USERNEV": "norbert2",
                                    "NEV": "Hegedűs Norbert",
                                    "EMAIL": "norbert.hegedűs@mail.hu",
                                    "SZAML_CIM": "2081 Piliscsaba Rendeki utca 21.",
                                    "SZUL_DAT": "1991-07-17",
                                    "Ügyfél neve": "Hegedűs Norbert",
                                    "Előző három foglalás átlaga": "NULL"
                                },
                                {
                                    "FOGLALAS_PK": "782",
                                    "UGYFEL_FK": "norbert2",
                                    "SZOBA_FK": "163",
                                    "METTOL": "2016-08-16",
                                    "MEDDIG": "2016-08-19",
                                    "FELNOTT_SZAM": "1",
                                    "GYERMEK_SZAM": "0",
                                    "USERNEV": "norbert2",
                                    "NEV": "Hegedűs Norbert",
                                    "EMAIL": "norbert.hegedűs@mail.hu",
                                    "SZAML_CIM": "2081 Piliscsaba Rendeki utca 21.",
                                    "SZUL_DAT": "1991-07-17",
                                    "Ügyfél neve": "Hegedűs Norbert",
                                    "Előző három foglalás átlaga": "1"
                                },
                                {
                                    "FOGLALAS_PK": "1541",
                                    "UGYFEL_FK": "norbert4",
                                    "SZOBA_FK": "155",
                                    "METTOL": "2017-02-16",
                                    "MEDDIG": "2017-02-17",
                                    "FELNOTT_SZAM": "1",
                                    "GYERMEK_SZAM": "0",
                                    "USERNEV": "norbert4",
                                    "NEV": "Mile Norbert",
                                    "EMAIL": "norbert4@gmail.com",
                                    "SZAML_CIM": "3973 Cigánd Bajcsy-Zsilinszky utca 4.",
                                    "SZUL_DAT": "1983-06-15",
                                    "Ügyfél neve": "Mile Norbert",
                                    "Előző három foglalás átlaga": "NULL"
                                },
                                {
                                    "FOGLALAS_PK": "1252",
                                    "UGYFEL_FK": "norbert5",
                                    "SZOBA_FK": "7",
                                    "METTOL": "2016-11-05",
                                    "MEDDIG": "2016-11-07",
                                    "FELNOTT_SZAM": "1",
                                    "GYERMEK_SZAM": "0",
                                    "USERNEV": "norbert5",
                                    "NEV": "Béres Norbert",
                                    "EMAIL": "norbert5@gmail.com",
                                    "SZAML_CIM": "8640 Fonyód Bajcsy-Zsilinszky utca 4.",
                                    "SZUL_DAT": "1975-07-27",
                                    "Ügyfél neve": "Béres Norbert",
                                    "Előző három foglalás átlaga": "NULL"
                                },
                                {
                                    "FOGLALAS_PK": "1396",
                                    "UGYFEL_FK": "peter3",
                                    "SZOBA_FK": "72",
                                    "METTOL": "2016-12-25",
                                    "MEDDIG": "2016-12-28",
                                    "FELNOTT_SZAM": "1",
                                    "GYERMEK_SZAM": "0",
                                    "USERNEV": "peter3",
                                    "NEV": "Szalai Péter",
                                    "EMAIL": "peter3@gmail.com",
                                    "SZAML_CIM": "1155 Budapest Arany János utca 3.",
                                    "SZUL_DAT": "1983-07-18",
                                    "Ügyfél neve": "Szalai Péter",
                                    "Előző három foglalás átlaga": "NULL"
                                },
                                {
                                    "FOGLALAS_PK": "1434",
                                    "UGYFEL_FK": "peter3",
                                    "SZOBA_FK": "3",
                                    "METTOL": "2017-01-12",
                                    "MEDDIG": "2017-01-17",
                                    "FELNOTT_SZAM": "1",
                                    "GYERMEK_SZAM": "0",
                                    "USERNEV": "peter3",
                                    "NEV": "Szalai Péter",
                                    "EMAIL": "peter3@gmail.com",
                                    "SZAML_CIM": "1155 Budapest Arany János utca 3.",
                                    "SZUL_DAT": "1983-07-18",
                                    "Ügyfél neve": "Szalai Péter",
                                    "Előző három foglalás átlaga": "1"
                                },
                                {
                                    "FOGLALAS_PK": "562",
                                    "UGYFEL_FK": "PETERB",
                                    "SZOBA_FK": "7",
                                    "METTOL": "2016-04-06",
                                    "MEDDIG": "2016-04-10",
                                    "FELNOTT_SZAM": "1",
                                    "GYERMEK_SZAM": "0",
                                    "USERNEV": "PETERB",
                                    "NEV": "Berendi Péter",
                                    "EMAIL": "péter.berendi@mail.hu",
                                    "SZAML_CIM": "3980 Sátoraljaújhely Vasút utca 4/10.",
                                    "SZUL_DAT": "1969-01-01",
                                    "Ügyfél neve": "Berendi Péter",
                                    "Előző három foglalás átlaga": "NULL"
                                },
                                {
                                    "FOGLALAS_PK": "781",
                                    "UGYFEL_FK": "PETERB",
                                    "SZOBA_FK": "166",
                                    "METTOL": "2016-08-16",
                                    "MEDDIG": "2016-08-23",
                                    "FELNOTT_SZAM": "1",
                                    "GYERMEK_SZAM": "0",
                                    "USERNEV": "PETERB",
                                    "NEV": "Berendi Péter",
                                    "EMAIL": "péter.berendi@mail.hu",
                                    "SZAML_CIM": "3980 Sátoraljaújhely Vasút utca 4/10.",
                                    "SZUL_DAT": "1969-01-01",
                                    "Ügyfél neve": "Berendi Péter",
                                    "Előző három foglalás átlaga": "1"
                                },
                                {
                                    "FOGLALAS_PK": "1224",
                                    "UGYFEL_FK": "RENATAK",
                                    "SZOBA_FK": "50",
                                    "METTOL": "2016-10-30",
                                    "MEDDIG": "2016-10-31",
                                    "FELNOTT_SZAM": "1",
                                    "GYERMEK_SZAM": "0",
                                    "USERNEV": "RENATAK",
                                    "NEV": "Kardos Renáta",
                                    "EMAIL": "renáta.kardos@mail.hu",
                                    "SZAML_CIM": "7086 Ozora Bécsi utca 82.",
                                    "SZUL_DAT": "1988-05-17",
                                    "Ügyfél neve": "Kardos Renáta",
                                    "Előző három foglalás átlaga": "NULL"
                                },
                                {
                                    "FOGLALAS_PK": "1312",
                                    "UGYFEL_FK": "RENATAK",
                                    "SZOBA_FK": "94",
                                    "METTOL": "2016-11-23",
                                    "MEDDIG": "2016-11-26",
                                    "FELNOTT_SZAM": "1",
                                    "GYERMEK_SZAM": "0",
                                    "USERNEV": "RENATAK",
                                    "NEV": "Kardos Renáta",
                                    "EMAIL": "renáta.kardos@mail.hu",
                                    "SZAML_CIM": "7086 Ozora Bécsi utca 82.",
                                    "SZUL_DAT": "1988-05-17",
                                    "Ügyfél neve": "Kardos Renáta",
                                    "Előző három foglalás átlaga": "1"
                                },
                                {
                                    "FOGLALAS_PK": "1543",
                                    "UGYFEL_FK": "RENATAK",
                                    "SZOBA_FK": "95",
                                    "METTOL": "2017-02-16",
                                    "MEDDIG": "2017-02-23",
                                    "FELNOTT_SZAM": "1",
                                    "GYERMEK_SZAM": "0",
                                    "USERNEV": "RENATAK",
                                    "NEV": "Kardos Renáta",
                                    "EMAIL": "renáta.kardos@mail.hu",
                                    "SZAML_CIM": "7086 Ozora Bécsi utca 82.",
                                    "SZUL_DAT": "1988-05-17",
                                    "Ügyfél neve": "Kardos Renáta",
                                    "Előző három foglalás átlaga": "1"
                                },
                                {
                                    "FOGLALAS_PK": "1581",
                                    "UGYFEL_FK": "RENATAK",
                                    "SZOBA_FK": "48",
                                    "METTOL": "2017-03-01",
                                    "MEDDIG": "2017-03-06",
                                    "FELNOTT_SZAM": "1",
                                    "GYERMEK_SZAM": "0",
                                    "USERNEV": "RENATAK",
                                    "NEV": "Kardos Renáta",
                                    "EMAIL": "renáta.kardos@mail.hu",
                                    "SZAML_CIM": "7086 Ozora Bécsi utca 82.",
                                    "SZUL_DAT": "1988-05-17",
                                    "Ügyfél neve": "Kardos Renáta",
                                    "Előző három foglalás átlaga": "1"
                                },
                                {
                                    "FOGLALAS_PK": "1529",
                                    "UGYFEL_FK": "RENATAS",
                                    "SZOBA_FK": "35",
                                    "METTOL": "2017-02-13",
                                    "MEDDIG": "2017-02-17",
                                    "FELNOTT_SZAM": "1",
                                    "GYERMEK_SZAM": "0",
                                    "USERNEV": "RENATAS",
                                    "NEV": "Szirmai Renáta",
                                    "EMAIL": "RENATAS@gmail.com",
                                    "SZAML_CIM": "2053 Herceghalom Kossuth utca 27.",
                                    "SZUL_DAT": "1991-03-26",
                                    "Ügyfél neve": "Szirmai Renáta",
                                    "Előző három foglalás átlaga": "NULL"
                                },
                                {
                                    "FOGLALAS_PK": "1374",
                                    "UGYFEL_FK": "robert2",
                                    "SZOBA_FK": "118",
                                    "METTOL": "2016-12-17",
                                    "MEDDIG": "2016-12-22",
                                    "FELNOTT_SZAM": "1",
                                    "GYERMEK_SZAM": "0",
                                    "USERNEV": "robert2",
                                    "NEV": "Patay Róbert",
                                    "EMAIL": "robert2@gmail.com",
                                    "SZAML_CIM": "2370 Dabas Rákóczi utca 21.",
                                    "SZUL_DAT": "1977-01-08",
                                    "Ügyfél neve": "Patay Róbert",
                                    "Előző három foglalás átlaga": "NULL"
                                },
                                {
                                    "FOGLALAS_PK": "1186",
                                    "UGYFEL_FK": "ROBERTI",
                                    "SZOBA_FK": "58",
                                    "METTOL": "2016-10-23",
                                    "MEDDIG": "2016-10-29",
                                    "FELNOTT_SZAM": "1",
                                    "GYERMEK_SZAM": "0",
                                    "USERNEV": "ROBERTI",
                                    "NEV": "Iván Róbert",
                                    "EMAIL": "róbert.iván@mail.hu",
                                    "SZAML_CIM": "2377 Örkény Petőfi Sándor utca 3.",
                                    "SZUL_DAT": "1967-07-02",
                                    "Ügyfél neve": "Iván Róbert",
                                    "Előző három foglalás átlaga": "NULL"
                                },
                                {
                                    "FOGLALAS_PK": "1384",
                                    "UGYFEL_FK": "roland1",
                                    "SZOBA_FK": "84",
                                    "METTOL": "2016-12-22",
                                    "MEDDIG": "2016-12-29",
                                    "FELNOTT_SZAM": "1",
                                    "GYERMEK_SZAM": "0",
                                    "USERNEV": "roland1",
                                    "NEV": "Ferencz Roland",
                                    "EMAIL": "roland.ferencz@mail.hu",
                                    "SZAML_CIM": "2424 Előszállás Fő út 169.",
                                    "SZUL_DAT": "1985-12-31",
                                    "Ügyfél neve": "Ferencz Roland",
                                    "Előző három foglalás átlaga": "NULL"
                                },
                                {
                                    "FOGLALAS_PK": "858",
                                    "UGYFEL_FK": "sandor3",
                                    "SZOBA_FK": "121",
                                    "METTOL": "2016-05-25",
                                    "MEDDIG": "2016-05-30",
                                    "FELNOTT_SZAM": "1",
                                    "GYERMEK_SZAM": "0",
                                    "USERNEV": "sandor3",
                                    "NEV": "Farkas Sándor",
                                    "EMAIL": "sándor.farkas@mail.hu",
                                    "SZAML_CIM": "8640 Fonyód Tanácsköztársaság tér 1.",
                                    "SZUL_DAT": "1989-01-27",
                                    "Ügyfél neve": "Farkas Sándor",
                                    "Előző három foglalás átlaga": "NULL"
                                },
                                {
                                    "FOGLALAS_PK": "1156",
                                    "UGYFEL_FK": "sandor4",
                                    "SZOBA_FK": "140",
                                    "METTOL": "2016-10-15",
                                    "MEDDIG": "2016-10-18",
                                    "FELNOTT_SZAM": "1",
                                    "GYERMEK_SZAM": "0",
                                    "USERNEV": "sandor4",
                                    "NEV": "Nagy Sándor",
                                    "EMAIL": "sandor4@gmail.com",
                                    "SZAML_CIM": "4600 Kisvárda Fő utca 47.",
                                    "SZUL_DAT": "1997-06-11",
                                    "Ügyfél neve": "Nagy Sándor",
                                    "Előző három foglalás átlaga": "NULL"
                                },
                                {
                                    "FOGLALAS_PK": "1339",
                                    "UGYFEL_FK": "sandor4",
                                    "SZOBA_FK": "120",
                                    "METTOL": "2016-12-03",
                                    "MEDDIG": "2016-12-09",
                                    "FELNOTT_SZAM": "1",
                                    "GYERMEK_SZAM": "0",
                                    "USERNEV": "sandor4",
                                    "NEV": "Nagy Sándor",
                                    "EMAIL": "sandor4@gmail.com",
                                    "SZAML_CIM": "4600 Kisvárda Fő utca 47.",
                                    "SZUL_DAT": "1997-06-11",
                                    "Ügyfél neve": "Nagy Sándor",
                                    "Előző három foglalás átlaga": "1"
                                },
                                {
                                    "FOGLALAS_PK": "1351",
                                    "UGYFEL_FK": "sara",
                                    "SZOBA_FK": "38",
                                    "METTOL": "2016-12-06",
                                    "MEDDIG": "2016-12-10",
                                    "FELNOTT_SZAM": "1",
                                    "GYERMEK_SZAM": "0",
                                    "USERNEV": "sara",
                                    "NEV": "Farkas Sára",
                                    "EMAIL": "sára.farkas@mail.hu",
                                    "SZAML_CIM": "5940 Tótkomlós Felszabadulás utca 32.",
                                    "SZUL_DAT": "1973-04-05",
                                    "Ügyfél neve": "Farkas Sára",
                                    "Előző három foglalás átlaga": "NULL"
                                },
                                {
                                    "FOGLALAS_PK": "1508",
                                    "UGYFEL_FK": "SZILARDS",
                                    "SZOBA_FK": "191",
                                    "METTOL": "2017-02-08",
                                    "MEDDIG": "2017-02-15",
                                    "FELNOTT_SZAM": "1",
                                    "GYERMEK_SZAM": "0",
                                    "USERNEV": "SZILARDS",
                                    "NEV": "Szalai Szilárd",
                                    "EMAIL": "szilárd.szalai@mail.hu",
                                    "SZAML_CIM": "1077 Budapest Fő út 18.",
                                    "SZUL_DAT": "1967-09-28",
                                    "Ügyfél neve": "Szalai Szilárd",
                                    "Előző három foglalás átlaga": "NULL"
                                },
                                {
                                    "FOGLALAS_PK": "1338",
                                    "UGYFEL_FK": "TAMASF",
                                    "SZOBA_FK": "145",
                                    "METTOL": "2016-12-02",
                                    "MEDDIG": "2016-12-04",
                                    "FELNOTT_SZAM": "1",
                                    "GYERMEK_SZAM": "0",
                                    "USERNEV": "TAMASF",
                                    "NEV": "Fényes Tamás",
                                    "EMAIL": "TAMASF@gmail.com",
                                    "SZAML_CIM": "9023 Győr Arany János utca 1.",
                                    "SZUL_DAT": "1997-11-06",
                                    "Ügyfél neve": "Fényes Tamás",
                                    "Előző három foglalás átlaga": "NULL"
                                },
                                {
                                    "FOGLALAS_PK": "1251",
                                    "UGYFEL_FK": "tibor",
                                    "SZOBA_FK": "184",
                                    "METTOL": "2016-11-05",
                                    "MEDDIG": "2016-11-09",
                                    "FELNOTT_SZAM": "1",
                                    "GYERMEK_SZAM": "0",
                                    "USERNEV": "tibor",
                                    "NEV": "Gombos Tibor",
                                    "EMAIL": "tibor.gombos@mail.hu",
                                    "SZAML_CIM": "7100 Szekszárd Kossuth utca 77.",
                                    "SZUL_DAT": "1993-11-28",
                                    "Ügyfél neve": "Gombos Tibor",
                                    "Előző három foglalás átlaga": "NULL"
                                },
                                {
                                    "FOGLALAS_PK": "881",
                                    "UGYFEL_FK": "tihamer",
                                    "SZOBA_FK": "131",
                                    "METTOL": "2016-05-30",
                                    "MEDDIG": "2016-06-05",
                                    "FELNOTT_SZAM": "1",
                                    "GYERMEK_SZAM": "0",
                                    "USERNEV": "tihamer",
                                    "NEV": "Kazy Tihamér",
                                    "EMAIL": "tihamér.kazy@mail.hu",
                                    "SZAML_CIM": "2370 Dabas Fő utca 60.",
                                    "SZUL_DAT": "1991-07-05",
                                    "Ügyfél neve": "Kazy Tihamér",
                                    "Előző három foglalás átlaga": "NULL"
                                },
                                {
                                    "FOGLALAS_PK": "669",
                                    "UGYFEL_FK": "tunde",
                                    "SZOBA_FK": "173",
                                    "METTOL": "2016-07-14",
                                    "MEDDIG": "2016-07-21",
                                    "FELNOTT_SZAM": "1",
                                    "GYERMEK_SZAM": "0",
                                    "USERNEV": "tunde",
                                    "NEV": "Turcsik Tünde",
                                    "EMAIL": "tunde@gmail.com",
                                    "SZAML_CIM": "7130 Tolna Fő út 122.",
                                    "SZUL_DAT": "1974-02-12",
                                    "Ügyfél neve": "Turcsik Tünde",
                                    "Előző három foglalás átlaga": "NULL"
                                },
                                {
                                    "FOGLALAS_PK": "709",
                                    "UGYFEL_FK": "valentin",
                                    "SZOBA_FK": "172",
                                    "METTOL": "2016-07-24",
                                    "MEDDIG": "2016-07-29",
                                    "FELNOTT_SZAM": "1",
                                    "GYERMEK_SZAM": "0",
                                    "USERNEV": "valentin",
                                    "NEV": "Feró Valentin",
                                    "EMAIL": "valentin.feró@mail.hu",
                                    "SZAML_CIM": "3895 Gönc Búvár utca 4.",
                                    "SZUL_DAT": "1986-01-09",
                                    "Ügyfél neve": "Feró Valentin",
                                    "Előző három foglalás átlaga": "NULL"
                                },
                                {
                                    "FOGLALAS_PK": "790",
                                    "UGYFEL_FK": "veronika4",
                                    "SZOBA_FK": "10",
                                    "METTOL": "2016-08-16",
                                    "MEDDIG": "2016-08-21",
                                    "FELNOTT_SZAM": "1",
                                    "GYERMEK_SZAM": "0",
                                    "USERNEV": "veronika4",
                                    "NEV": "Tankó Veronika",
                                    "EMAIL": "veronika4@gmail.com",
                                    "SZAML_CIM": "6412 Balotaszállás Rendeki utca 21.",
                                    "SZUL_DAT": "1983-08-28",
                                    "Ügyfél neve": "Tankó Veronika",
                                    "Előző három foglalás átlaga": "NULL"
                                },
                                {
                                    "FOGLALAS_PK": "610",
                                    "UGYFEL_FK": "VIKTORIAU",
                                    "SZOBA_FK": "106",
                                    "METTOL": "2016-04-30",
                                    "MEDDIG": "2016-05-03",
                                    "FELNOTT_SZAM": "1",
                                    "GYERMEK_SZAM": "0",
                                    "USERNEV": "VIKTORIAU",
                                    "NEV": "Urbán Viktoria",
                                    "EMAIL": "viktoria.urbán@mail.hu",
                                    "SZAML_CIM": "3860 Encs Népboltsor  2.",
                                    "SZUL_DAT": "1996-05-03",
                                    "Ügyfél neve": "Urbán Viktoria",
                                    "Előző három foglalás átlaga": "NULL"
                                },
                                {
                                    "FOGLALAS_PK": "1103",
                                    "UGYFEL_FK": "vivien3",
                                    "SZOBA_FK": "87",
                                    "METTOL": "2016-10-01",
                                    "MEDDIG": "2016-10-04",
                                    "FELNOTT_SZAM": "1",
                                    "GYERMEK_SZAM": "0",
                                    "USERNEV": "vivien3",
                                    "NEV": "Boros Vivien",
                                    "EMAIL": "vivien3@gmail.com",
                                    "SZAML_CIM": "2117 Isaszeg Fő út 122.",
                                    "SZUL_DAT": "1991-07-01",
                                    "Ügyfél neve": "Boros Vivien",
                                    "Előző három foglalás átlaga": "NULL"
                                },
                                {
                                    "FOGLALAS_PK": "779",
                                    "UGYFEL_FK": "zoltan4",
                                    "SZOBA_FK": "130",
                                    "METTOL": "2016-08-15",
                                    "MEDDIG": "2016-08-21",
                                    "FELNOTT_SZAM": "1",
                                    "GYERMEK_SZAM": "0",
                                    "USERNEV": "zoltan4",
                                    "NEV": "Barna Zoltán",
                                    "EMAIL": "zoltan4@gmail.com",
                                    "SZAML_CIM": "8313 Balatongyörök Jászai tér 21.",
                                    "SZUL_DAT": "1986-05-20",
                                    "Ügyfél neve": "Barna Zoltán",
                                    "Előző három foglalás átlaga": "NULL"
                                },
                                {
                                    "FOGLALAS_PK": "893",
                                    "UGYFEL_FK": "zoltan4",
                                    "SZOBA_FK": "151",
                                    "METTOL": "2016-06-03",
                                    "MEDDIG": "2016-06-06",
                                    "FELNOTT_SZAM": "1",
                                    "GYERMEK_SZAM": "0",
                                    "USERNEV": "zoltan4",
                                    "NEV": "Barna Zoltán",
                                    "EMAIL": "zoltan4@gmail.com",
                                    "SZAML_CIM": "8313 Balatongyörök Jászai tér 21.",
                                    "SZUL_DAT": "1986-05-20",
                                    "Ügyfél neve": "Barna Zoltán",
                                    "Előző három foglalás átlaga": "1"
                                },
                                {
                                    "FOGLALAS_PK": "1230",
                                    "UGYFEL_FK": "zoltan4",
                                    "SZOBA_FK": "182",
                                    "METTOL": "2016-10-30",
                                    "MEDDIG": "2016-11-06",
                                    "FELNOTT_SZAM": "1",
                                    "GYERMEK_SZAM": "0",
                                    "USERNEV": "zoltan4",
                                    "NEV": "Barna Zoltán",
                                    "EMAIL": "zoltan4@gmail.com",
                                    "SZAML_CIM": "8313 Balatongyörök Jászai tér 21.",
                                    "SZUL_DAT": "1986-05-20",
                                    "Ügyfél neve": "Barna Zoltán",
                                    "Előző három foglalás átlaga": "1"
                                },
                                {
                                    "FOGLALAS_PK": "1403",
                                    "UGYFEL_FK": "zoltan4",
                                    "SZOBA_FK": "124",
                                    "METTOL": "2016-12-29",
                                    "MEDDIG": "2017-01-04",
                                    "FELNOTT_SZAM": "1",
                                    "GYERMEK_SZAM": "0",
                                    "USERNEV": "zoltan4",
                                    "NEV": "Barna Zoltán",
                                    "EMAIL": "zoltan4@gmail.com",
                                    "SZAML_CIM": "8313 Balatongyörök Jászai tér 21.",
                                    "SZUL_DAT": "1986-05-20",
                                    "Ügyfél neve": "Barna Zoltán",
                                    "Előző három foglalás átlaga": "1"
                                },
                                {
                                    "FOGLALAS_PK": "867",
                                    "UGYFEL_FK": "ZSOLTJ",
                                    "SZOBA_FK": "175",
                                    "METTOL": "2016-05-28",
                                    "MEDDIG": "2016-06-03",
                                    "FELNOTT_SZAM": "1",
                                    "GYERMEK_SZAM": "0",
                                    "USERNEV": "ZSOLTJ",
                                    "NEV": "Józsa Zsolt",
                                    "EMAIL": "ZSOLTJ@gmail.com",
                                    "SZAML_CIM": "8315 Gyenesdiás Bajcsy-Zsilinszky utca 4.",
                                    "SZUL_DAT": "1983-09-29",
                                    "Ügyfél neve": "Józsa Zsolt",
                                    "Előző három foglalás átlaga": "NULL"
                                },
                                {
                                    "FOGLALAS_PK": "1428",
                                    "UGYFEL_FK": "zsuzsanna",
                                    "SZOBA_FK": "126",
                                    "METTOL": "2017-01-09",
                                    "MEDDIG": "2017-01-16",
                                    "FELNOTT_SZAM": "1",
                                    "GYERMEK_SZAM": "0",
                                    "USERNEV": "zsuzsanna",
                                    "NEV": "Barta Zsuzsanna",
                                    "EMAIL": "zsuzsanna.barta@mail.hu",
                                    "SZAML_CIM": "4172 Biharnagybajom Dózsa György utca 37.",
                                    "SZUL_DAT": "1994-10-07",
                                    "Ügyfél neve": "Barta Zsuzsanna",
                                    "Előző három foglalás átlaga": "NULL"
                                },
                                {
                                    "FOGLALAS_PK": "1202",
                                    "UGYFEL_FK": "ZSUZSAV",
                                    "SZOBA_FK": "52",
                                    "METTOL": "2016-10-26",
                                    "MEDDIG": "2016-10-28",
                                    "FELNOTT_SZAM": "1",
                                    "GYERMEK_SZAM": "0",
                                    "USERNEV": "ZSUZSAV",
                                    "NEV": "Vajda Zsuzsa",
                                    "EMAIL": "zsuzsa.vajda@mail.hu",
                                    "SZAML_CIM": "6786 Ruzsa Kossuth utca 77.",
                                    "SZUL_DAT": "1976-12-11",
                                    "Ügyfél neve": "Vajda Zsuzsa",
                                    "Előző három foglalás átlaga": "NULL"
                                }
                            ]
                        },
                        "text/html": [
                            "<table>",
                            "<tr><th>FOGLALAS_PK</th><th>UGYFEL_FK</th><th>SZOBA_FK</th><th>METTOL</th><th>MEDDIG</th><th>FELNOTT_SZAM</th><th>GYERMEK_SZAM</th><th>USERNEV</th><th>NEV</th><th>EMAIL</th><th>SZAML_CIM</th><th>SZUL_DAT</th><th>Ügyfél neve</th><th>Előző három foglalás átlaga</th></tr>",
                            "<tr><td>803</td><td>adam1</td><td>1</td><td>2016-08-20</td><td>2016-08-24</td><td>1</td><td>0</td><td>adam1</td><td>Kiss Ádám</td><td>ádám.kiss@mail.hu</td><td>5630 Békés Szolnoki út 8.</td><td>1991-12-28</td><td>Kiss Ádám</td><td>NULL</td></tr>",
                            "<tr><td>1504</td><td>adam3</td><td>57</td><td>2017-02-06</td><td>2017-02-10</td><td>1</td><td>0</td><td>adam3</td><td>Barkóci Ádám</td><td>adam3@gmail.com</td><td>3910 Tokaj Dózsa György utca 37.</td><td>1970-06-07</td><td>Barkóci Ádám</td><td>NULL</td></tr>",
                            "<tr><td>857</td><td>agnes</td><td>165</td><td>2016-05-25</td><td>2016-05-30</td><td>1</td><td>0</td><td>agnes</td><td>Lengyel Ágnes</td><td>agnes@gmail.com</td><td>5200 Törökszentmiklós Deák Ferenc út 5.</td><td>1979-12-10</td><td>Lengyel Ágnes</td><td>NULL</td></tr>",
                            "<tr><td>755</td><td>agnes3</td><td>20</td><td>2016-08-04</td><td>2016-08-10</td><td>1</td><td>0</td><td>agnes3</td><td>Hartyánszky Ágnes</td><td>agnes3@gmail.com</td><td>6430 Bácsalmás Posta köz 2.</td><td>1967-04-11</td><td>Hartyánszky Ágnes</td><td>NULL</td></tr>",
                            "<tr><td>980</td><td>AGNESH</td><td>143</td><td>2016-06-23</td><td>2016-06-26</td><td>1</td><td>0</td><td>AGNESH</td><td>Horváth Ágnes</td><td>AGNESH@gmail.com</td><td>8200 Veszprém Rákóczi utca 21.</td><td>1981-12-24</td><td>Horváth Ágnes</td><td>NULL</td></tr>",
                            "<tr><td>1225</td><td>AGNESH</td><td>69</td><td>2016-10-30</td><td>2016-11-04</td><td>1</td><td>0</td><td>AGNESH</td><td>Horváth Ágnes</td><td>AGNESH@gmail.com</td><td>8200 Veszprém Rákóczi utca 21.</td><td>1981-12-24</td><td>Horváth Ágnes</td><td>1</td></tr>",
                            "<tr><td>705</td><td>akos</td><td>37</td><td>2016-07-22</td><td>2016-07-26</td><td>1</td><td>0</td><td>akos</td><td>Bíró Ákos</td><td>ákos.bíró@mail.hu</td><td>9023 Győr Kossuth Lajos utca 47/b.</td><td>1982-04-24</td><td>Bíró Ákos</td><td>NULL</td></tr>",
                            "<tr><td>1034</td><td>akos</td><td>127</td><td>2016-09-06</td><td>2016-09-12</td><td>1</td><td>0</td><td>akos</td><td>Bíró Ákos</td><td>ákos.bíró@mail.hu</td><td>9023 Győr Kossuth Lajos utca 47/b.</td><td>1982-04-24</td><td>Bíró Ákos</td><td>1</td></tr>",
                            "<tr><td>651</td><td>aladar</td><td>4</td><td>2016-05-17</td><td>2016-05-24</td><td>1</td><td>0</td><td>aladar</td><td>Dunai Aladár</td><td>aladár.dunai@mail.hu</td><td>5931 Nagyszénás Árpád utca 23.</td><td>1980-11-01</td><td>Dunai Aladár</td><td>NULL</td></tr>",
                            "<tr><td>1079</td><td>aladar</td><td>86</td><td>2016-09-24</td><td>2016-09-28</td><td>1</td><td>0</td><td>aladar</td><td>Dunai Aladár</td><td>aladár.dunai@mail.hu</td><td>5931 Nagyszénás Árpád utca 23.</td><td>1980-11-01</td><td>Dunai Aladár</td><td>1</td></tr>",
                            "<tr><td>1436</td><td>alexandra</td><td>35</td><td>2017-01-13</td><td>2017-01-14</td><td>1</td><td>0</td><td>alexandra</td><td>Bagóczki Alexandra</td><td>alexandra.bagóczki@mail.hu</td><td>2381 Táborfalva Petőfi utca 1/2.</td><td>1992-03-25</td><td>Bagóczki Alexandra</td><td>NULL</td></tr>",
                            "<tr><td>955</td><td>andi</td><td>47</td><td>2016-06-13</td><td>2016-06-14</td><td>1</td><td>0</td><td>andi</td><td>Maródi Andrea</td><td>andrea.maródi@mail.hu</td><td>5465 Cserkeszőlő Árpád utca 4.</td><td>1968-05-07</td><td>Maródi Andrea</td><td>NULL</td></tr>",
                            "<tr><td>884</td><td>andras2</td><td>98</td><td>2016-05-30</td><td>2016-06-04</td><td>1</td><td>0</td><td>andras2</td><td>Tóth András</td><td>andrás.tóth@mail.hu</td><td>4071 Egyek Petőfi utca 30.</td><td>1997-10-31</td><td>Tóth András</td><td>NULL</td></tr>",
                            "<tr><td>697</td><td>andras21</td><td>12</td><td>2016-07-20</td><td>2016-07-22</td><td>1</td><td>0</td><td>andras21</td><td>Molnár András</td><td>andrás.molnár@mail.hu</td><td>7900 Szigetvár Rákóczi utca 67.</td><td>1977-11-16</td><td>Molnár András</td><td>NULL</td></tr>",
                            "<tr><td>880</td><td>andras3</td><td>184</td><td>2016-05-30</td><td>2016-06-03</td><td>1</td><td>0</td><td>andras3</td><td>Vígh András</td><td>andrás.vígh@mail.hu</td><td>1118 Budapest Arany János utca 1.</td><td>1971-04-02</td><td>Vígh András</td><td>NULL</td></tr>",
                            "<tr><td>949</td><td>andras3</td><td>1</td><td>2016-06-10</td><td>2016-06-11</td><td>1</td><td>0</td><td>andras3</td><td>Vígh András</td><td>andrás.vígh@mail.hu</td><td>1118 Budapest Arany János utca 1.</td><td>1971-04-02</td><td>Vígh András</td><td>1</td></tr>",
                            "<tr><td>799</td><td>andras41</td><td>175</td><td>2016-08-19</td><td>2016-08-23</td><td>1</td><td>0</td><td>andras41</td><td>Komjáti András</td><td>andras41@gmail.com</td><td>5065 Nagykörű Kossuth út 24.</td><td>1997-10-25</td><td>Komjáti András</td><td>NULL</td></tr>",
                            "<tr><td>1074</td><td>andras41</td><td>195</td><td>2016-09-22</td><td>2016-09-29</td><td>1</td><td>0</td><td>andras41</td><td>Komjáti András</td><td>andras41@gmail.com</td><td>5065 Nagykörű Kossuth út 24.</td><td>1997-10-25</td><td>Komjáti András</td><td>1</td></tr>",
                            "<tr><td>1308</td><td>andras41</td><td>182</td><td>2016-11-23</td><td>2016-11-24</td><td>1</td><td>0</td><td>andras41</td><td>Komjáti András</td><td>andras41@gmail.com</td><td>5065 Nagykörű Kossuth út 24.</td><td>1997-10-25</td><td>Komjáti András</td><td>1</td></tr>",
                            "<tr><td>600</td><td>ANDRASE</td><td>190</td><td>2016-04-24</td><td>2016-05-01</td><td>1</td><td>0</td><td>ANDRASE</td><td>Erdei András</td><td>ANDRASE@gmail.com</td><td>5071 Besenyszög Szolnoki út 8.</td><td>1997-05-29</td><td>Erdei András</td><td>NULL</td></tr>",
                            "<tr><td>860</td><td>andrea4</td><td>70</td><td>2016-05-27</td><td>2016-05-29</td><td>1</td><td>0</td><td>andrea4</td><td>Neizer Andrea</td><td>andrea4@gmail.com</td><td>1124 Budapest Kiss u. 8.</td><td>1981-05-17</td><td>Neizer Andrea</td><td>NULL</td></tr>",
                            "<tr><td>567</td><td>anett3</td><td>170</td><td>2016-04-10</td><td>2016-04-17</td><td>1</td><td>0</td><td>anett3</td><td>Pivarcsi Anett</td><td>anett.pivarcsi@mail.hu</td><td>1149 Budapest Fő út 60.</td><td>1967-01-03</td><td>Pivarcsi Anett</td><td>NULL</td></tr>",
                            "<tr><td>1159</td><td>anett3</td><td>73</td><td>2016-10-16</td><td>2016-10-21</td><td>1</td><td>0</td><td>anett3</td><td>Pivarcsi Anett</td><td>anett.pivarcsi@mail.hu</td><td>1149 Budapest Fő út 60.</td><td>1967-01-03</td><td>Pivarcsi Anett</td><td>1</td></tr>",
                            "<tr><td>1001</td><td>aniko4</td><td>4</td><td>2016-07-02</td><td>2016-07-09</td><td>1</td><td>0</td><td>aniko4</td><td>Böröcz Anikó</td><td>aniko4@gmail.com</td><td>2484 Agárd Petőfi Sándor tér 1.</td><td>1978-03-26</td><td>Böröcz Anikó</td><td>NULL</td></tr>",
                            "<tr><td>965</td><td>ANIKOS</td><td>5</td><td>2016-06-16</td><td>2016-06-23</td><td>1</td><td>0</td><td>ANIKOS</td><td>Simon Anikó</td><td>ANIKOS@gmail.com</td><td>5137 Jászkisér Bécsi utca 82.</td><td>1988-12-14</td><td>Simon Anikó</td><td>NULL</td></tr>",
                            "<tr><td>684</td><td>ANNAMARIAR</td><td>184</td><td>2016-07-18</td><td>2016-07-21</td><td>1</td><td>0</td><td>ANNAMARIAR</td><td>Regős Annamária</td><td>ANNAMARIAR@gmail.com</td><td>8283 Káptalantóti Petőfi Sándor tér 1.</td><td>1977-09-26</td><td>Regős Annamária</td><td>NULL</td></tr>",
                            "<tr><td>1056</td><td>ARPADH</td><td>47</td><td>2016-09-16</td><td>2016-09-23</td><td>1</td><td>0</td><td>ARPADH</td><td>Horváth Árpád</td><td>árpád.horváth@mail.hu</td><td>7349 Szászvár Dózsa György u. 1.</td><td>1990-05-18</td><td>Horváth Árpád</td><td>NULL</td></tr>",
                            "<tr><td>1066</td><td>ARPADH</td><td>49</td><td>2016-09-18</td><td>2016-09-25</td><td>1</td><td>0</td><td>ARPADH</td><td>Horváth Árpád</td><td>árpád.horváth@mail.hu</td><td>7349 Szászvár Dózsa György u. 1.</td><td>1990-05-18</td><td>Horváth Árpád</td><td>1</td></tr>",
                            "<tr><td>1342</td><td>ARPADH</td><td>170</td><td>2016-12-04</td><td>2016-12-10</td><td>1</td><td>0</td><td>ARPADH</td><td>Horváth Árpád</td><td>árpád.horváth@mail.hu</td><td>7349 Szászvár Dózsa György u. 1.</td><td>1990-05-18</td><td>Horváth Árpád</td><td>1</td></tr>",
                            "<tr><td>1420</td><td>ARPADM</td><td>198</td><td>2017-01-05</td><td>2017-01-10</td><td>1</td><td>0</td><td>ARPADM</td><td>Móricz Árpád</td><td>árpád.móricz@mail.hu</td><td>3910 Tokaj Rákóczi utca 67.</td><td>1986-04-20</td><td>Móricz Árpád</td><td>NULL</td></tr>",
                            "<tr><td>1154</td><td>attila</td><td>115</td><td>2016-10-15</td><td>2016-10-19</td><td>1</td><td>0</td><td>attila</td><td>Csóti Attila</td><td>attila@gmail.com</td><td>3000 Hatvan Bajcsy-Zsilinszky utca 4.</td><td>1979-12-25</td><td>Csóti Attila</td><td>NULL</td></tr>",
                            "<tr><td>657</td><td>attila1</td><td>137</td><td>2016-05-20</td><td>2016-05-26</td><td>1</td><td>0</td><td>attila1</td><td>Gulyás Attila</td><td>attila.gulyás@mail.hu</td><td>3881 Abaújszántó Szolnoki út 8.</td><td>1982-08-16</td><td>Gulyás Attila</td><td>NULL</td></tr>",
                            "<tr><td>1578</td><td>balazs2</td><td>148</td><td>2017-02-27</td><td>2017-03-06</td><td>1</td><td>0</td><td>balazs2</td><td>Szűcs Balázs</td><td>balázs.szűcs@mail.hu</td><td>3170 Szécsény Szabadság utca 95.</td><td>1984-10-31</td><td>Szűcs Balázs</td><td>NULL</td></tr>",
                            "<tr><td>948</td><td>balint1</td><td>19</td><td>2016-06-10</td><td>2016-06-12</td><td>1</td><td>0</td><td>balint1</td><td>Molnár Bálint</td><td>balint1@gmail.com</td><td>9181 Kimle Fő út 169.</td><td>1989-08-24</td><td>Molnár Bálint</td><td>NULL</td></tr>",
                            "<tr><td>1057</td><td>balint1</td><td>86</td><td>2016-09-16</td><td>2016-09-21</td><td>1</td><td>0</td><td>balint1</td><td>Molnár Bálint</td><td>balint1@gmail.com</td><td>9181 Kimle Fő út 169.</td><td>1989-08-24</td><td>Molnár Bálint</td><td>1</td></tr>",
                            "<tr><td>702</td><td>balint2</td><td>62</td><td>2016-07-21</td><td>2016-07-26</td><td>1</td><td>0</td><td>balint2</td><td>Vukasinovity Bálint</td><td>balint2@gmail.com</td><td>2330 Dunaharaszti Béke utca 7.</td><td>1997-09-03</td><td>Vukasinovity Bálint</td><td>NULL</td></tr>",
                            "<tr><td>1005</td><td>beata4</td><td>22</td><td>2016-07-03</td><td>2016-07-06</td><td>1</td><td>0</td><td>beata4</td><td>Bagi Beáta</td><td>beáta.bagi@mail.hu</td><td>8477 Tüskevár Felszabadulás utca 32.</td><td>1994-03-19</td><td>Bagi Beáta</td><td>NULL</td></tr>",
                            "<tr><td>1112</td><td>beata4</td><td>155</td><td>2016-10-01</td><td>2016-10-05</td><td>1</td><td>0</td><td>beata4</td><td>Bagi Beáta</td><td>beáta.bagi@mail.hu</td><td>8477 Tüskevár Felszabadulás utca 32.</td><td>1994-03-19</td><td>Bagi Beáta</td><td>1</td></tr>",
                            "<tr><td>586</td><td>BEATRIXS</td><td>107</td><td>2016-04-18</td><td>2016-04-24</td><td>1</td><td>0</td><td>BEATRIXS</td><td>Szekendi Beatrix</td><td>beatrix.szekendi@mail.hu</td><td>4060 Balmazújváros Jászai tér 21.</td><td>1981-04-06</td><td>Szekendi Beatrix</td><td>NULL</td></tr>",
                            "<tr><td>1350</td><td>BELAF</td><td>173</td><td>2016-12-06</td><td>2016-12-09</td><td>1</td><td>0</td><td>BELAF</td><td>Farkas Béla</td><td>BELAF@gmail.com</td><td>5530 Vésztő Petőfi Sándor utca 3.</td><td>1995-02-24</td><td>Farkas Béla</td><td>NULL</td></tr>",
                            "<tr><td>872</td><td>bence</td><td>28</td><td>2016-05-29</td><td>2016-06-03</td><td>1</td><td>0</td><td>bence</td><td>Győrffy Bence</td><td>bence@gmail.com</td><td>6900 Makó Árpád utca 23.</td><td>1987-07-09</td><td>Győrffy Bence</td><td>NULL</td></tr>",
                            "<tr><td>1568</td><td>bernadett1</td><td>29</td><td>2017-02-24</td><td>2017-03-03</td><td>1</td><td>0</td><td>bernadett1</td><td>Simon Bernadett</td><td>bernadett1@gmail.com</td><td>2300 Ráckeve Fő utca 108.</td><td>1984-10-13</td><td>Simon Bernadett</td><td>NULL</td></tr>",
                            "<tr><td>1367</td><td>bernadett2</td><td>80</td><td>2016-12-17</td><td>2016-12-20</td><td>1</td><td>0</td><td>bernadett2</td><td>Kovács Bernadett</td><td>bernadett.kovács@mail.hu</td><td>4200 Hajdúszoboszló Fő út 122.</td><td>1996-08-20</td><td>Kovács Bernadett</td><td>NULL</td></tr>",
                            "<tr><td>974</td><td>bertalan</td><td>169</td><td>2016-06-20</td><td>2016-06-21</td><td>1</td><td>0</td><td>bertalan</td><td>Csiger Bertalan</td><td>bertalan@gmail.com</td><td>1192 Budapest Fő út 169.</td><td>1977-10-15</td><td>Csiger Bertalan</td><td>NULL</td></tr>",
                            "<tr><td>1469</td><td>brigitta</td><td>13</td><td>2017-01-23</td><td>2017-01-25</td><td>1</td><td>0</td><td>brigitta</td><td>Székely Brigitta</td><td>brigitta.székely@mail.hu</td><td>2462 Martonvásár Fő utca 47.</td><td>1978-09-13</td><td>Székely Brigitta</td><td>NULL</td></tr>",
                            "<tr><td>1102</td><td>dani</td><td>108</td><td>2016-10-01</td><td>2016-10-02</td><td>1</td><td>0</td><td>dani</td><td>Vörös Dániel</td><td>daniel@gmail.com</td><td>7150 Bonyhád Dózsa György u. 1.</td><td>1986-10-14</td><td>Vörös Dániel</td><td>NULL</td></tr>",
                            "<tr><td>1466</td><td>dani</td><td>57</td><td>2017-01-22</td><td>2017-01-29</td><td>1</td><td>0</td><td>dani</td><td>Vörös Dániel</td><td>daniel@gmail.com</td><td>7150 Bonyhád Dózsa György u. 1.</td><td>1986-10-14</td><td>Vörös Dániel</td><td>1</td></tr>",
                            "<tr><td>1430</td><td>daniel</td><td>12</td><td>2017-01-09</td><td>2017-01-11</td><td>1</td><td>0</td><td>daniel</td><td>Rácz Dániel</td><td>dániel.rácz@mail.hu</td><td>9181 Kimle Szabadság tér 9.</td><td>1978-11-28</td><td>Rácz Dániel</td><td>NULL</td></tr>",
                            "<tr><td>757</td><td>david</td><td>88</td><td>2016-08-05</td><td>2016-08-12</td><td>1</td><td>0</td><td>david</td><td>Ambrus Dávid</td><td>david@gmail.com</td><td>1149 Budapest Fő út 18.</td><td>1974-02-11</td><td>Ambrus Dávid</td><td>NULL</td></tr>",
                            "<tr><td>1250</td><td>emese</td><td>107</td><td>2016-11-05</td><td>2016-11-09</td><td>1</td><td>0</td><td>emese</td><td>Kuruc Emese</td><td>emese.kuruc@mail.hu</td><td>6700 Szeged Rákóczi utca 67.</td><td>1989-08-10</td><td>Kuruc Emese</td><td>NULL</td></tr>",
                            "<tr><td>1017</td><td>eszter2</td><td>190</td><td>2016-07-08</td><td>2016-07-09</td><td>1</td><td>0</td><td>eszter2</td><td>Balogh Eszter</td><td>eszter.balogh@mail.hu</td><td>6760 Kistelek Kossuth utca 11.</td><td>1998-01-31</td><td>Balogh Eszter</td><td>NULL</td></tr>",
                            "<tr><td>1109</td><td>eszter2</td><td>110</td><td>2016-10-01</td><td>2016-10-06</td><td>1</td><td>0</td><td>eszter2</td><td>Balogh Eszter</td><td>eszter.balogh@mail.hu</td><td>6760 Kistelek Kossuth utca 11.</td><td>1998-01-31</td><td>Balogh Eszter</td><td>1</td></tr>",
                            "<tr><td>1171</td><td>eszter2</td><td>172</td><td>2016-10-20</td><td>2016-10-25</td><td>1</td><td>0</td><td>eszter2</td><td>Balogh Eszter</td><td>eszter.balogh@mail.hu</td><td>6760 Kistelek Kossuth utca 11.</td><td>1998-01-31</td><td>Balogh Eszter</td><td>1</td></tr>",
                            "<tr><td>1187</td><td>eszter2</td><td>46</td><td>2016-10-23</td><td>2016-10-30</td><td>1</td><td>0</td><td>eszter2</td><td>Balogh Eszter</td><td>eszter.balogh@mail.hu</td><td>6760 Kistelek Kossuth utca 11.</td><td>1998-01-31</td><td>Balogh Eszter</td><td>1</td></tr>",
                            "<tr><td>1336</td><td>eszter2</td><td>172</td><td>2016-12-02</td><td>2016-12-07</td><td>1</td><td>0</td><td>eszter2</td><td>Balogh Eszter</td><td>eszter.balogh@mail.hu</td><td>6760 Kistelek Kossuth utca 11.</td><td>1998-01-31</td><td>Balogh Eszter</td><td>1</td></tr>",
                            "<tr><td>1480</td><td>eszter2</td><td>35</td><td>2016-12-29</td><td>2017-02-04</td><td>1</td><td>0</td><td>eszter2</td><td>Balogh Eszter</td><td>eszter.balogh@mail.hu</td><td>6760 Kistelek Kossuth utca 11.</td><td>1998-01-31</td><td>Balogh Eszter</td><td>1</td></tr>",
                            "<tr><td>845</td><td>eva2</td><td>63</td><td>2016-09-02</td><td>2016-09-03</td><td>1</td><td>0</td><td>eva2</td><td>Perlinger Éva</td><td>eva2@gmail.com</td><td>9653 Répcelak Bécsi utca 82.</td><td>1971-08-19</td><td>Perlinger Éva</td><td>NULL</td></tr>",
                            "<tr><td>1366</td><td>fruzsina4</td><td>81</td><td>2016-12-16</td><td>2016-12-21</td><td>1</td><td>0</td><td>fruzsina4</td><td>Frank Fruzsina</td><td>fruzsina4@gmail.com</td><td>9700 Szombathely Szabadság utca 95.</td><td>1996-08-16</td><td>Frank Fruzsina</td><td>NULL</td></tr>",
                            "<tr><td>1026</td><td>gabor1</td><td>119</td><td>2016-07-12</td><td>2016-07-15</td><td>1</td><td>0</td><td>gabor1</td><td>Köves Gábor</td><td>gabor1@gmail.com</td><td>6762 Sándorfalva Árpád utca 23.</td><td>1973-07-15</td><td>Köves Gábor</td><td>NULL</td></tr>",
                            "<tr><td>1169</td><td>gabor1</td><td>93</td><td>2016-10-20</td><td>2016-10-24</td><td>1</td><td>0</td><td>gabor1</td><td>Köves Gábor</td><td>gabor1@gmail.com</td><td>6762 Sándorfalva Árpád utca 23.</td><td>1973-07-15</td><td>Köves Gábor</td><td>1</td></tr>",
                            "<tr><td>878</td><td>gabor4</td><td>83</td><td>2016-05-30</td><td>2016-06-05</td><td>1</td><td>0</td><td>gabor4</td><td>Telek Gábor</td><td>gábor.telek@mail.hu</td><td>9071 Görbeháza Fő út 169.</td><td>1987-03-15</td><td>Telek Gábor</td><td>NULL</td></tr>",
                            "<tr><td>945</td><td>GYONGYIK</td><td>23</td><td>2016-06-10</td><td>2016-06-17</td><td>1</td><td>0</td><td>GYONGYIK</td><td>Kornseé Gyöngyi</td><td>gyöngyi.kornseé@mail.hu</td><td>8800 Nagykanizsa Fő út 60.</td><td>1974-06-07</td><td>Kornseé Gyöngyi</td><td>NULL</td></tr>",
                            "<tr><td>1213</td><td>GYORGYO</td><td>91</td><td>2016-10-28</td><td>2016-10-31</td><td>1</td><td>0</td><td>GYORGYO</td><td>Oroszi György</td><td>GYORGYO@gmail.com</td><td>7220 Sarkad Dózsa György u. 1.</td><td>1980-03-23</td><td>Oroszi György</td><td>NULL</td></tr>",
                            "<tr><td>818</td><td>henrik3</td><td>8</td><td>2016-08-24</td><td>2016-08-28</td><td>1</td><td>0</td><td>henrik3</td><td>Nádudvari Henrik</td><td>henrik.nádudvari@mail.hu</td><td>1077 Budapest Tanácsköztársaság tér 1.</td><td>1986-12-05</td><td>Nádudvari Henrik</td><td>NULL</td></tr>",
                            "<tr><td>689</td><td>istvan1</td><td>102</td><td>2016-07-19</td><td>2016-07-24</td><td>1</td><td>0</td><td>istvan1</td><td>Vizi István</td><td>istván.vizi@mail.hu</td><td>7086 Ozora Rákóczi utca 1.</td><td>1997-12-01</td><td>Vizi István</td><td>NULL</td></tr>",
                            "<tr><td>904</td><td>janos3</td><td>34</td><td>2016-06-04</td><td>2016-06-06</td><td>1</td><td>0</td><td>janos3</td><td>Harangozó János</td><td>janos3@gmail.com</td><td>8700 Marcali Petőfi Sándor tér 1.</td><td>1967-11-02</td><td>Harangozó János</td><td>NULL</td></tr>",
                            "<tr><td>1177</td><td>janos3</td><td>150</td><td>2016-10-22</td><td>2016-10-23</td><td>1</td><td>0</td><td>janos3</td><td>Harangozó János</td><td>janos3@gmail.com</td><td>8700 Marcali Petőfi Sándor tér 1.</td><td>1967-11-02</td><td>Harangozó János</td><td>1</td></tr>",
                            "<tr><td>631</td><td>JANOSG</td><td>98</td><td>2016-05-09</td><td>2016-05-15</td><td>1</td><td>0</td><td>JANOSG</td><td>Giliga János</td><td>JANOSG@gmail.com</td><td>3300 Eger Deák Ferenc út 5.</td><td>1975-01-03</td><td>Giliga János</td><td>NULL</td></tr>",
                            "<tr><td>852</td><td>JOZSEFG</td><td>24</td><td>2016-05-23</td><td>2016-05-25</td><td>1</td><td>0</td><td>JOZSEFG</td><td>Gyuris József</td><td>józsef.gyuris@mail.hu</td><td>2660 Balassagyarmat Petőfi utca 1/2.</td><td>1975-05-26</td><td>Gyuris József</td><td>NULL</td></tr>",
                            "<tr><td>1461</td><td>JOZSEFG</td><td>77</td><td>2017-01-22</td><td>2017-01-26</td><td>1</td><td>0</td><td>JOZSEFG</td><td>Gyuris József</td><td>józsef.gyuris@mail.hu</td><td>2660 Balassagyarmat Petőfi utca 1/2.</td><td>1975-05-26</td><td>Gyuris József</td><td>1</td></tr>",
                            "<tr><td>1379</td><td>JUDITH</td><td>83</td><td>2016-12-19</td><td>2016-12-26</td><td>1</td><td>0</td><td>JUDITH</td><td>Hídasi Judit</td><td>JUDITH@gmail.com</td><td>2100 Gödöllő Fő út 169.</td><td>1997-07-12</td><td>Hídasi Judit</td><td>NULL</td></tr>",
                            "<tr><td>638</td><td>julia</td><td>67</td><td>2016-05-12</td><td>2016-05-17</td><td>1</td><td>0</td><td>julia</td><td>Tóth Júlia</td><td>julia@gmail.com</td><td>5310 Kisújszállás Árpád utca 4.</td><td>1993-03-02</td><td>Tóth Júlia</td><td>NULL</td></tr>",
                            "<tr><td>1258</td><td>julia4</td><td>52</td><td>2016-11-07</td><td>2016-11-12</td><td>1</td><td>0</td><td>julia4</td><td>Nagy Júlia</td><td>julia4@gmail.com</td><td>7000 Sárbogárd Jászai tér 21.</td><td>1985-08-11</td><td>Nagy Júlia</td><td>NULL</td></tr>",
                            "<tr><td>601</td><td>kata</td><td>39</td><td>2016-04-25</td><td>2016-05-01</td><td>1</td><td>0</td><td>kata</td><td>Gondos Katalin</td><td>katalin.gondos@mail.hu</td><td>8237 Tihany Kossuth Lajos utca 6.</td><td>1968-06-22</td><td>Gondos Katalin</td><td>NULL</td></tr>",
                            "<tr><td>1006</td><td>kata</td><td>70</td><td>2016-07-03</td><td>2016-07-06</td><td>1</td><td>0</td><td>kata</td><td>Gondos Katalin</td><td>katalin.gondos@mail.hu</td><td>8237 Tihany Kossuth Lajos utca 6.</td><td>1968-06-22</td><td>Gondos Katalin</td><td>1</td></tr>",
                            "<tr><td>661</td><td>katalin</td><td>136</td><td>2016-05-21</td><td>2016-05-26</td><td>1</td><td>0</td><td>katalin</td><td>Horváth Katalin</td><td>katalin.horváth@mail.hu</td><td>2424 Előszállás Rákóczi út 200.</td><td>1968-01-01</td><td>Horváth Katalin</td><td>NULL</td></tr>",
                            "<tr><td>733</td><td>katalin</td><td>140</td><td>2016-07-28</td><td>2016-07-29</td><td>1</td><td>0</td><td>katalin</td><td>Horváth Katalin</td><td>katalin.horváth@mail.hu</td><td>2424 Előszállás Rákóczi út 200.</td><td>1968-01-01</td><td>Horváth Katalin</td><td>1</td></tr>",
                            "<tr><td>1015</td><td>katalin</td><td>174</td><td>2016-07-06</td><td>2016-07-11</td><td>1</td><td>0</td><td>katalin</td><td>Horváth Katalin</td><td>katalin.horváth@mail.hu</td><td>2424 Előszállás Rákóczi út 200.</td><td>1968-01-01</td><td>Horváth Katalin</td><td>1</td></tr>",
                            "<tr><td>1372</td><td>katalin</td><td>106</td><td>2016-12-17</td><td>2016-12-24</td><td>1</td><td>0</td><td>katalin</td><td>Horváth Katalin</td><td>katalin.horváth@mail.hu</td><td>2424 Előszállás Rákóczi út 200.</td><td>1968-01-01</td><td>Horváth Katalin</td><td>1</td></tr>",
                            "<tr><td>997</td><td>katalin4</td><td>82</td><td>2016-07-01</td><td>2016-07-07</td><td>1</td><td>0</td><td>katalin4</td><td>Kertész Katalin</td><td>katalin4@gmail.com</td><td>2800 Tatabánya Búvár utca 4.</td><td>1986-04-13</td><td>Kertész Katalin</td><td>NULL</td></tr>",
                            "<tr><td>954</td><td>katka</td><td>84</td><td>2016-06-13</td><td>2016-06-18</td><td>1</td><td>0</td><td>katka</td><td>Kovács Katalin</td><td>katalin.kovács@mail.hu</td><td>8254 Kővágóörs Petőfi utca 22.</td><td>1975-03-31</td><td>Kovács Katalin</td><td>NULL</td></tr>",
                            "<tr><td>787</td><td>krisztian4</td><td>50</td><td>2016-08-16</td><td>2016-08-19</td><td>1</td><td>0</td><td>krisztian4</td><td>Czérna Krisztián</td><td>krisztián.czérna@mail.hu</td><td>1107 Budapest Dózsa György utca 37.</td><td>1970-08-01</td><td>Czérna Krisztián</td><td>NULL</td></tr>",
                            "<tr><td>834</td><td>krisztian4</td><td>149</td><td>2016-08-29</td><td>2016-09-03</td><td>1</td><td>0</td><td>krisztian4</td><td>Czérna Krisztián</td><td>krisztián.czérna@mail.hu</td><td>1107 Budapest Dózsa György utca 37.</td><td>1970-08-01</td><td>Czérna Krisztián</td><td>1</td></tr>",
                            "<tr><td>1422</td><td>krisztian4</td><td>182</td><td>2017-01-06</td><td>2017-01-09</td><td>1</td><td>0</td><td>krisztian4</td><td>Czérna Krisztián</td><td>krisztián.czérna@mail.hu</td><td>1107 Budapest Dózsa György utca 37.</td><td>1970-08-01</td><td>Czérna Krisztián</td><td>1</td></tr>",
                            "<tr><td>1443</td><td>KRISZTIANM</td><td>81</td><td>2017-01-16</td><td>2017-01-23</td><td>1</td><td>0</td><td>KRISZTIANM</td><td>Mogyródi Krisztián</td><td>KRISZTIANM@gmail.com</td><td>9155 Lébény Jászai tér 21.</td><td>1968-05-27</td><td>Mogyródi Krisztián</td><td>NULL</td></tr>",
                            "<tr><td>1048</td><td>krisztina</td><td>95</td><td>2016-09-13</td><td>2016-09-16</td><td>1</td><td>0</td><td>krisztina</td><td>Szedlár Krisztina</td><td>krisztina@gmail.com</td><td>6646 Tömörkény Arany János utca 1.</td><td>1979-05-10</td><td>Szedlár Krisztina</td><td>NULL</td></tr>",
                            "<tr><td>1306</td><td>krisztina</td><td>133</td><td>2016-11-22</td><td>2016-11-25</td><td>1</td><td>0</td><td>krisztina</td><td>Szedlár Krisztina</td><td>krisztina@gmail.com</td><td>6646 Tömörkény Arany János utca 1.</td><td>1979-05-10</td><td>Szedlár Krisztina</td><td>1</td></tr>",
                            "<tr><td>648</td><td>krisztina1</td><td>157</td><td>2016-05-16</td><td>2016-05-20</td><td>1</td><td>0</td><td>krisztina1</td><td>Bori Krisztina</td><td>krisztina.bori@mail.hu</td><td>2115 Vácszentlászló Fő utca 47.</td><td>1969-10-13</td><td>Bori Krisztina</td><td>NULL</td></tr>",
                            "<tr><td>854</td><td>KRISZTINAG</td><td>167</td><td>2016-05-24</td><td>2016-05-31</td><td>1</td><td>0</td><td>KRISZTINAG</td><td>Gyárfás Krisztina</td><td>KRISZTINAG@gmail.com</td><td>6762 Sándorfalva Arany János utca 1.</td><td>1987-09-19</td><td>Gyárfás Krisztina</td><td>NULL</td></tr>",
                            "<tr><td>935</td><td>KRISZTINAG</td><td>56</td><td>2016-06-08</td><td>2016-06-12</td><td>1</td><td>0</td><td>KRISZTINAG</td><td>Gyárfás Krisztina</td><td>KRISZTINAG@gmail.com</td><td>6762 Sándorfalva Arany János utca 1.</td><td>1987-09-19</td><td>Gyárfás Krisztina</td><td>1</td></tr>",
                            "<tr><td>1523</td><td>lajos</td><td>11</td><td>2017-02-12</td><td>2017-02-13</td><td>1</td><td>0</td><td>lajos</td><td>Kiss Lajos</td><td>lajos.kiss@mail.hu</td><td>1077 Budapest Dob utca 1</td><td>1978-10-31</td><td>Kiss Lajos</td><td>NULL</td></tr>",
                            "<tr><td>923</td><td>LASZLOA</td><td>123</td><td>2016-06-07</td><td>2016-06-11</td><td>1</td><td>0</td><td>LASZLOA</td><td>Antal László</td><td>lászló.antal@mail.hu</td><td>2484 Agárd Bécsi utca 82.</td><td>1969-06-29</td><td>Antal László</td><td>NULL</td></tr>",
                            "<tr><td>892</td><td>LASZLON</td><td>165</td><td>2016-06-03</td><td>2016-06-06</td><td>1</td><td>0</td><td>LASZLON</td><td>Nagy László</td><td>lászló.nagy@mail.hu</td><td>1173 Budapest Jászai tér 21.</td><td>1969-04-12</td><td>Nagy László</td><td>NULL</td></tr>",
                            "<tr><td>1136</td><td>LASZLON</td><td>30</td><td>2016-10-09</td><td>2016-10-14</td><td>1</td><td>0</td><td>LASZLON</td><td>Nagy László</td><td>lászló.nagy@mail.hu</td><td>1173 Budapest Jászai tér 21.</td><td>1969-04-12</td><td>Nagy László</td><td>1</td></tr>",
                            "<tr><td>1329</td><td>LASZLON</td><td>171</td><td>2016-11-29</td><td>2016-12-04</td><td>1</td><td>0</td><td>LASZLON</td><td>Nagy László</td><td>lászló.nagy@mail.hu</td><td>1173 Budapest Jászai tér 21.</td><td>1969-04-12</td><td>Nagy László</td><td>1</td></tr>",
                            "<tr><td>652</td><td>maria1</td><td>149</td><td>2016-05-18</td><td>2016-05-19</td><td>1</td><td>0</td><td>maria1</td><td>Baráth Mária</td><td>mária.baráth@mail.hu</td><td>1047 Budapest Posta köz 2.</td><td>1995-11-19</td><td>Baráth Mária</td><td>NULL</td></tr>",
                            "<tr><td>846</td><td>maria1</td><td>45</td><td>2016-09-02</td><td>2016-09-05</td><td>1</td><td>0</td><td>maria1</td><td>Baráth Mária</td><td>mária.baráth@mail.hu</td><td>1047 Budapest Posta köz 2.</td><td>1995-11-19</td><td>Baráth Mária</td><td>1</td></tr>",
                            "<tr><td>981</td><td>maria1</td><td>171</td><td>2016-06-23</td><td>2016-06-27</td><td>1</td><td>0</td><td>maria1</td><td>Baráth Mária</td><td>mária.baráth@mail.hu</td><td>1047 Budapest Posta köz 2.</td><td>1995-11-19</td><td>Baráth Mária</td><td>1</td></tr>",
                            "<tr><td>1172</td><td>mark</td><td>197</td><td>2016-10-20</td><td>2016-10-27</td><td>1</td><td>0</td><td>mark</td><td>Kispál Márk</td><td>márk.kispál@mail.hu</td><td>1086 Budapest Juhászföldi út 1.</td><td>1996-01-23</td><td>Kispál Márk</td><td>NULL</td></tr>",
                            "<tr><td>620</td><td>marton</td><td>1</td><td>2016-05-05</td><td>2016-05-10</td><td>1</td><td>0</td><td>marton</td><td>Kalacsi Márton</td><td>marton@gmail.com</td><td>5137 Jászkisér Fő út 169.</td><td>1989-06-24</td><td>Kalacsi Márton</td><td>NULL</td></tr>",
                            "<tr><td>891</td><td>MATYASS</td><td>63</td><td>2016-06-02</td><td>2016-06-08</td><td>1</td><td>0</td><td>MATYASS</td><td>Szilágyi Mátyás</td><td>mátyás.szilágyi@mail.hu</td><td>9023 Győr Kossuth Lajos utca 6.</td><td>1975-03-22</td><td>Szilágyi Mátyás</td><td>NULL</td></tr>",
                            "<tr><td>1190</td><td>MATYASS</td><td>161</td><td>2016-10-24</td><td>2016-10-31</td><td>1</td><td>0</td><td>MATYASS</td><td>Szilágyi Mátyás</td><td>mátyás.szilágyi@mail.hu</td><td>9023 Győr Kossuth Lajos utca 6.</td><td>1975-03-22</td><td>Szilágyi Mátyás</td><td>1</td></tr>",
                            "<tr><td>839</td><td>MIHALYJ</td><td>172</td><td>2016-08-29</td><td>2016-09-03</td><td>1</td><td>0</td><td>MIHALYJ</td><td>Juhász Mihály</td><td>mihály.juhász@mail.hu</td><td>6786 Ruzsa Rákóczi utca 1.</td><td>1979-10-12</td><td>Juhász Mihály</td><td>NULL</td></tr>",
                            "<tr><td>990</td><td>MIHALYJ</td><td>6</td><td>2016-06-27</td><td>2016-07-01</td><td>1</td><td>0</td><td>MIHALYJ</td><td>Juhász Mihály</td><td>mihály.juhász@mail.hu</td><td>6786 Ruzsa Rákóczi utca 1.</td><td>1979-10-12</td><td>Juhász Mihály</td><td>1</td></tr>",
                            "<tr><td>1134</td><td>miklos2</td><td>126</td><td>2016-10-08</td><td>2016-10-09</td><td>1</td><td>0</td><td>miklos2</td><td>Gondos Miklós</td><td>miklos2@gmail.com</td><td>2100 Gödöllő Árpád utca 23.</td><td>1995-10-07</td><td>Gondos Miklós</td><td>NULL</td></tr>",
                            "<tr><td>708</td><td>MONIKAM</td><td>106</td><td>2016-07-23</td><td>2016-07-30</td><td>1</td><td>0</td><td>MONIKAM</td><td>Mohos Mónika</td><td>mónika.mohos@mail.hu</td><td>2241 Sülysáp Baracsi László utca 14.</td><td>1974-10-01</td><td>Mohos Mónika</td><td>NULL</td></tr>",
                            "<tr><td>1450</td><td>MONIKAM</td><td>139</td><td>2017-01-17</td><td>2017-01-24</td><td>1</td><td>0</td><td>MONIKAM</td><td>Mohos Mónika</td><td>mónika.mohos@mail.hu</td><td>2241 Sülysáp Baracsi László utca 14.</td><td>1974-10-01</td><td>Mohos Mónika</td><td>1</td></tr>",
                            "<tr><td>897</td><td>nikolett3</td><td>165</td><td>2016-06-03</td><td>2016-06-09</td><td>1</td><td>0</td><td>nikolett3</td><td>Horváth Nikolett</td><td>nikolett3@gmail.com</td><td>1072 Budapest Arany János utca 1.</td><td>1981-09-29</td><td>Horváth Nikolett</td><td>NULL</td></tr>",
                            "<tr><td>976</td><td>nikolett3</td><td>76</td><td>2016-06-22</td><td>2016-06-24</td><td>1</td><td>0</td><td>nikolett3</td><td>Horváth Nikolett</td><td>nikolett3@gmail.com</td><td>1072 Budapest Arany János utca 1.</td><td>1981-09-29</td><td>Horváth Nikolett</td><td>1</td></tr>",
                            "<tr><td>1018</td><td>norbert</td><td>40</td><td>2016-07-08</td><td>2016-07-13</td><td>1</td><td>0</td><td>norbert</td><td>Szűcs Norbert</td><td>norbert@gmail.com</td><td>5071 Besenyszög Győri utca 12.</td><td>1969-07-17</td><td>Szűcs Norbert</td><td>NULL</td></tr>",
                            "<tr><td>1576</td><td>norbert</td><td>189</td><td>2017-02-26</td><td>2017-03-01</td><td>1</td><td>0</td><td>norbert</td><td>Szűcs Norbert</td><td>norbert@gmail.com</td><td>5071 Besenyszög Győri utca 12.</td><td>1969-07-17</td><td>Szűcs Norbert</td><td>1</td></tr>",
                            "<tr><td>587</td><td>norbert2</td><td>123</td><td>2016-04-19</td><td>2016-04-26</td><td>1</td><td>0</td><td>norbert2</td><td>Hegedűs Norbert</td><td>norbert.hegedűs@mail.hu</td><td>2081 Piliscsaba Rendeki utca 21.</td><td>1991-07-17</td><td>Hegedűs Norbert</td><td>NULL</td></tr>",
                            "<tr><td>782</td><td>norbert2</td><td>163</td><td>2016-08-16</td><td>2016-08-19</td><td>1</td><td>0</td><td>norbert2</td><td>Hegedűs Norbert</td><td>norbert.hegedűs@mail.hu</td><td>2081 Piliscsaba Rendeki utca 21.</td><td>1991-07-17</td><td>Hegedűs Norbert</td><td>1</td></tr>",
                            "<tr><td>1541</td><td>norbert4</td><td>155</td><td>2017-02-16</td><td>2017-02-17</td><td>1</td><td>0</td><td>norbert4</td><td>Mile Norbert</td><td>norbert4@gmail.com</td><td>3973 Cigánd Bajcsy-Zsilinszky utca 4.</td><td>1983-06-15</td><td>Mile Norbert</td><td>NULL</td></tr>",
                            "<tr><td>1252</td><td>norbert5</td><td>7</td><td>2016-11-05</td><td>2016-11-07</td><td>1</td><td>0</td><td>norbert5</td><td>Béres Norbert</td><td>norbert5@gmail.com</td><td>8640 Fonyód Bajcsy-Zsilinszky utca 4.</td><td>1975-07-27</td><td>Béres Norbert</td><td>NULL</td></tr>",
                            "<tr><td>1396</td><td>peter3</td><td>72</td><td>2016-12-25</td><td>2016-12-28</td><td>1</td><td>0</td><td>peter3</td><td>Szalai Péter</td><td>peter3@gmail.com</td><td>1155 Budapest Arany János utca 3.</td><td>1983-07-18</td><td>Szalai Péter</td><td>NULL</td></tr>",
                            "<tr><td>1434</td><td>peter3</td><td>3</td><td>2017-01-12</td><td>2017-01-17</td><td>1</td><td>0</td><td>peter3</td><td>Szalai Péter</td><td>peter3@gmail.com</td><td>1155 Budapest Arany János utca 3.</td><td>1983-07-18</td><td>Szalai Péter</td><td>1</td></tr>",
                            "<tr><td>562</td><td>PETERB</td><td>7</td><td>2016-04-06</td><td>2016-04-10</td><td>1</td><td>0</td><td>PETERB</td><td>Berendi Péter</td><td>péter.berendi@mail.hu</td><td>3980 Sátoraljaújhely Vasút utca 4/10.</td><td>1969-01-01</td><td>Berendi Péter</td><td>NULL</td></tr>",
                            "<tr><td>781</td><td>PETERB</td><td>166</td><td>2016-08-16</td><td>2016-08-23</td><td>1</td><td>0</td><td>PETERB</td><td>Berendi Péter</td><td>péter.berendi@mail.hu</td><td>3980 Sátoraljaújhely Vasút utca 4/10.</td><td>1969-01-01</td><td>Berendi Péter</td><td>1</td></tr>",
                            "<tr><td>1224</td><td>RENATAK</td><td>50</td><td>2016-10-30</td><td>2016-10-31</td><td>1</td><td>0</td><td>RENATAK</td><td>Kardos Renáta</td><td>renáta.kardos@mail.hu</td><td>7086 Ozora Bécsi utca 82.</td><td>1988-05-17</td><td>Kardos Renáta</td><td>NULL</td></tr>",
                            "<tr><td>1312</td><td>RENATAK</td><td>94</td><td>2016-11-23</td><td>2016-11-26</td><td>1</td><td>0</td><td>RENATAK</td><td>Kardos Renáta</td><td>renáta.kardos@mail.hu</td><td>7086 Ozora Bécsi utca 82.</td><td>1988-05-17</td><td>Kardos Renáta</td><td>1</td></tr>",
                            "<tr><td>1543</td><td>RENATAK</td><td>95</td><td>2017-02-16</td><td>2017-02-23</td><td>1</td><td>0</td><td>RENATAK</td><td>Kardos Renáta</td><td>renáta.kardos@mail.hu</td><td>7086 Ozora Bécsi utca 82.</td><td>1988-05-17</td><td>Kardos Renáta</td><td>1</td></tr>",
                            "<tr><td>1581</td><td>RENATAK</td><td>48</td><td>2017-03-01</td><td>2017-03-06</td><td>1</td><td>0</td><td>RENATAK</td><td>Kardos Renáta</td><td>renáta.kardos@mail.hu</td><td>7086 Ozora Bécsi utca 82.</td><td>1988-05-17</td><td>Kardos Renáta</td><td>1</td></tr>",
                            "<tr><td>1529</td><td>RENATAS</td><td>35</td><td>2017-02-13</td><td>2017-02-17</td><td>1</td><td>0</td><td>RENATAS</td><td>Szirmai Renáta</td><td>RENATAS@gmail.com</td><td>2053 Herceghalom Kossuth utca 27.</td><td>1991-03-26</td><td>Szirmai Renáta</td><td>NULL</td></tr>",
                            "<tr><td>1374</td><td>robert2</td><td>118</td><td>2016-12-17</td><td>2016-12-22</td><td>1</td><td>0</td><td>robert2</td><td>Patay Róbert</td><td>robert2@gmail.com</td><td>2370 Dabas Rákóczi utca 21.</td><td>1977-01-08</td><td>Patay Róbert</td><td>NULL</td></tr>",
                            "<tr><td>1186</td><td>ROBERTI</td><td>58</td><td>2016-10-23</td><td>2016-10-29</td><td>1</td><td>0</td><td>ROBERTI</td><td>Iván Róbert</td><td>róbert.iván@mail.hu</td><td>2377 Örkény Petőfi Sándor utca 3.</td><td>1967-07-02</td><td>Iván Róbert</td><td>NULL</td></tr>",
                            "<tr><td>1384</td><td>roland1</td><td>84</td><td>2016-12-22</td><td>2016-12-29</td><td>1</td><td>0</td><td>roland1</td><td>Ferencz Roland</td><td>roland.ferencz@mail.hu</td><td>2424 Előszállás Fő út 169.</td><td>1985-12-31</td><td>Ferencz Roland</td><td>NULL</td></tr>",
                            "<tr><td>858</td><td>sandor3</td><td>121</td><td>2016-05-25</td><td>2016-05-30</td><td>1</td><td>0</td><td>sandor3</td><td>Farkas Sándor</td><td>sándor.farkas@mail.hu</td><td>8640 Fonyód Tanácsköztársaság tér 1.</td><td>1989-01-27</td><td>Farkas Sándor</td><td>NULL</td></tr>",
                            "<tr><td>1156</td><td>sandor4</td><td>140</td><td>2016-10-15</td><td>2016-10-18</td><td>1</td><td>0</td><td>sandor4</td><td>Nagy Sándor</td><td>sandor4@gmail.com</td><td>4600 Kisvárda Fő utca 47.</td><td>1997-06-11</td><td>Nagy Sándor</td><td>NULL</td></tr>",
                            "<tr><td>1339</td><td>sandor4</td><td>120</td><td>2016-12-03</td><td>2016-12-09</td><td>1</td><td>0</td><td>sandor4</td><td>Nagy Sándor</td><td>sandor4@gmail.com</td><td>4600 Kisvárda Fő utca 47.</td><td>1997-06-11</td><td>Nagy Sándor</td><td>1</td></tr>",
                            "<tr><td>1351</td><td>sara</td><td>38</td><td>2016-12-06</td><td>2016-12-10</td><td>1</td><td>0</td><td>sara</td><td>Farkas Sára</td><td>sára.farkas@mail.hu</td><td>5940 Tótkomlós Felszabadulás utca 32.</td><td>1973-04-05</td><td>Farkas Sára</td><td>NULL</td></tr>",
                            "<tr><td>1508</td><td>SZILARDS</td><td>191</td><td>2017-02-08</td><td>2017-02-15</td><td>1</td><td>0</td><td>SZILARDS</td><td>Szalai Szilárd</td><td>szilárd.szalai@mail.hu</td><td>1077 Budapest Fő út 18.</td><td>1967-09-28</td><td>Szalai Szilárd</td><td>NULL</td></tr>",
                            "<tr><td>1338</td><td>TAMASF</td><td>145</td><td>2016-12-02</td><td>2016-12-04</td><td>1</td><td>0</td><td>TAMASF</td><td>Fényes Tamás</td><td>TAMASF@gmail.com</td><td>9023 Győr Arany János utca 1.</td><td>1997-11-06</td><td>Fényes Tamás</td><td>NULL</td></tr>",
                            "<tr><td>1251</td><td>tibor</td><td>184</td><td>2016-11-05</td><td>2016-11-09</td><td>1</td><td>0</td><td>tibor</td><td>Gombos Tibor</td><td>tibor.gombos@mail.hu</td><td>7100 Szekszárd Kossuth utca 77.</td><td>1993-11-28</td><td>Gombos Tibor</td><td>NULL</td></tr>",
                            "<tr><td>881</td><td>tihamer</td><td>131</td><td>2016-05-30</td><td>2016-06-05</td><td>1</td><td>0</td><td>tihamer</td><td>Kazy Tihamér</td><td>tihamér.kazy@mail.hu</td><td>2370 Dabas Fő utca 60.</td><td>1991-07-05</td><td>Kazy Tihamér</td><td>NULL</td></tr>",
                            "<tr><td>669</td><td>tunde</td><td>173</td><td>2016-07-14</td><td>2016-07-21</td><td>1</td><td>0</td><td>tunde</td><td>Turcsik Tünde</td><td>tunde@gmail.com</td><td>7130 Tolna Fő út 122.</td><td>1974-02-12</td><td>Turcsik Tünde</td><td>NULL</td></tr>",
                            "<tr><td>709</td><td>valentin</td><td>172</td><td>2016-07-24</td><td>2016-07-29</td><td>1</td><td>0</td><td>valentin</td><td>Feró Valentin</td><td>valentin.feró@mail.hu</td><td>3895 Gönc Búvár utca 4.</td><td>1986-01-09</td><td>Feró Valentin</td><td>NULL</td></tr>",
                            "<tr><td>790</td><td>veronika4</td><td>10</td><td>2016-08-16</td><td>2016-08-21</td><td>1</td><td>0</td><td>veronika4</td><td>Tankó Veronika</td><td>veronika4@gmail.com</td><td>6412 Balotaszállás Rendeki utca 21.</td><td>1983-08-28</td><td>Tankó Veronika</td><td>NULL</td></tr>",
                            "<tr><td>610</td><td>VIKTORIAU</td><td>106</td><td>2016-04-30</td><td>2016-05-03</td><td>1</td><td>0</td><td>VIKTORIAU</td><td>Urbán Viktoria</td><td>viktoria.urbán@mail.hu</td><td>3860 Encs Népboltsor  2.</td><td>1996-05-03</td><td>Urbán Viktoria</td><td>NULL</td></tr>",
                            "<tr><td>1103</td><td>vivien3</td><td>87</td><td>2016-10-01</td><td>2016-10-04</td><td>1</td><td>0</td><td>vivien3</td><td>Boros Vivien</td><td>vivien3@gmail.com</td><td>2117 Isaszeg Fő út 122.</td><td>1991-07-01</td><td>Boros Vivien</td><td>NULL</td></tr>",
                            "<tr><td>779</td><td>zoltan4</td><td>130</td><td>2016-08-15</td><td>2016-08-21</td><td>1</td><td>0</td><td>zoltan4</td><td>Barna Zoltán</td><td>zoltan4@gmail.com</td><td>8313 Balatongyörök Jászai tér 21.</td><td>1986-05-20</td><td>Barna Zoltán</td><td>NULL</td></tr>",
                            "<tr><td>893</td><td>zoltan4</td><td>151</td><td>2016-06-03</td><td>2016-06-06</td><td>1</td><td>0</td><td>zoltan4</td><td>Barna Zoltán</td><td>zoltan4@gmail.com</td><td>8313 Balatongyörök Jászai tér 21.</td><td>1986-05-20</td><td>Barna Zoltán</td><td>1</td></tr>",
                            "<tr><td>1230</td><td>zoltan4</td><td>182</td><td>2016-10-30</td><td>2016-11-06</td><td>1</td><td>0</td><td>zoltan4</td><td>Barna Zoltán</td><td>zoltan4@gmail.com</td><td>8313 Balatongyörök Jászai tér 21.</td><td>1986-05-20</td><td>Barna Zoltán</td><td>1</td></tr>",
                            "<tr><td>1403</td><td>zoltan4</td><td>124</td><td>2016-12-29</td><td>2017-01-04</td><td>1</td><td>0</td><td>zoltan4</td><td>Barna Zoltán</td><td>zoltan4@gmail.com</td><td>8313 Balatongyörök Jászai tér 21.</td><td>1986-05-20</td><td>Barna Zoltán</td><td>1</td></tr>",
                            "<tr><td>867</td><td>ZSOLTJ</td><td>175</td><td>2016-05-28</td><td>2016-06-03</td><td>1</td><td>0</td><td>ZSOLTJ</td><td>Józsa Zsolt</td><td>ZSOLTJ@gmail.com</td><td>8315 Gyenesdiás Bajcsy-Zsilinszky utca 4.</td><td>1983-09-29</td><td>Józsa Zsolt</td><td>NULL</td></tr>",
                            "<tr><td>1428</td><td>zsuzsanna</td><td>126</td><td>2017-01-09</td><td>2017-01-16</td><td>1</td><td>0</td><td>zsuzsanna</td><td>Barta Zsuzsanna</td><td>zsuzsanna.barta@mail.hu</td><td>4172 Biharnagybajom Dózsa György utca 37.</td><td>1994-10-07</td><td>Barta Zsuzsanna</td><td>NULL</td></tr>",
                            "<tr><td>1202</td><td>ZSUZSAV</td><td>52</td><td>2016-10-26</td><td>2016-10-28</td><td>1</td><td>0</td><td>ZSUZSAV</td><td>Vajda Zsuzsa</td><td>zsuzsa.vajda@mail.hu</td><td>6786 Ruzsa Kossuth utca 77.</td><td>1976-12-11</td><td>Vajda Zsuzsa</td><td>NULL</td></tr>",
                            "</table>"
                        ]
                    }
                }
            ],
            "execution_count": 6
        }
    ]
}